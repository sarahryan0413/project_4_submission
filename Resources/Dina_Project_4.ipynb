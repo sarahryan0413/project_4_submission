{
  "nbformat": 4,
  "nbformat_minor": 0,
  "metadata": {
    "colab": {
      "provenance": [],
      "authorship_tag": "ABX9TyOd1lpt3Lk+70Cl1Sykwc/U",
      "include_colab_link": true
    },
    "kernelspec": {
      "name": "python3",
      "display_name": "Python 3"
    },
    "language_info": {
      "name": "python"
    }
  },
  "cells": [
    {
      "cell_type": "markdown",
      "metadata": {
        "id": "view-in-github",
        "colab_type": "text"
      },
      "source": [
        "<a href=\"https://colab.research.google.com/github/kimarlee/Tic-Tac-Toe/blob/main/Dina_Project_4.ipynb\" target=\"_parent\"><img src=\"https://colab.research.google.com/assets/colab-badge.svg\" alt=\"Open In Colab\"/></a>"
      ]
    },
    {
      "cell_type": "code",
      "execution_count": null,
      "metadata": {
        "colab": {
          "base_uri": "https://localhost:8080/"
        },
        "id": "fH0AEv544U3P",
        "outputId": "a353b1e9-5a35-4a89-d15c-0a9f892b3127"
      },
      "outputs": [
        {
          "output_type": "stream",
          "name": "stdout",
          "text": [
            "\r0% [Working]\r            \rHit:1 https://developer.download.nvidia.com/compute/cuda/repos/ubuntu2204/x86_64  InRelease\n",
            "Hit:2 https://cloud.r-project.org/bin/linux/ubuntu jammy-cran40/ InRelease\n",
            "Hit:3 http://security.ubuntu.com/ubuntu jammy-security InRelease\n",
            "Hit:4 http://archive.ubuntu.com/ubuntu jammy InRelease\n",
            "Hit:5 http://archive.ubuntu.com/ubuntu jammy-updates InRelease\n",
            "Hit:6 https://r2u.stat.illinois.edu/ubuntu jammy InRelease\n",
            "Hit:7 http://archive.ubuntu.com/ubuntu jammy-backports InRelease\n",
            "Hit:8 https://ppa.launchpadcontent.net/deadsnakes/ppa/ubuntu jammy InRelease\n",
            "Hit:9 https://ppa.launchpadcontent.net/graphics-drivers/ppa/ubuntu jammy InRelease\n",
            "Hit:10 https://ppa.launchpadcontent.net/ubuntugis/ppa/ubuntu jammy InRelease\n",
            "Reading package lists... Done\n",
            "W: Skipping acquire of configured file 'main/source/Sources' as repository 'https://r2u.stat.illinois.edu/ubuntu jammy InRelease' does not seem to provide it (sources.list entry misspelt?)\n"
          ]
        }
      ],
      "source": [
        "import os\n",
        "# Find the latest version of spark 3.x  from http://www.apache.org/dist/spark/ and enter as the spark version\n",
        "# For example:\n",
        "# spark_version = 'spark-3.5.6'\n",
        "spark_version = 'spark-3.5.6'\n",
        "os.environ['SPARK_VERSION']=spark_version\n",
        "\n",
        "# Install Spark and Java\n",
        "!apt-get update\n",
        "!apt-get install openjdk-11-jdk-headless -qq > /dev/null\n",
        "!wget -q https://downloads.apache.org/spark/$SPARK_VERSION/$SPARK_VERSION-bin-hadoop3.tgz\n",
        "!tar xf $SPARK_VERSION-bin-hadoop3.tgz\n",
        "!pip install -q findspark\n",
        "\n",
        "# Set Environment Variables\n",
        "os.environ[\"JAVA_HOME\"] = \"/usr/lib/jvm/java-11-openjdk-amd64\"\n",
        "os.environ[\"SPARK_HOME\"] = f\"/content/{spark_version}-bin-hadoop3\"\n",
        "\n",
        "# Start a SparkSession\n",
        "import findspark\n",
        "findspark.init()"
      ]
    },
    {
      "cell_type": "code",
      "source": [
        "# Import packages\n",
        "from pyspark.sql import SparkSession  # entry point to using Spark with DataFrames and SQL\n",
        "import time                           # time module so we can time our queries.\n",
        "\n",
        "# Create a SparkSession\n",
        "spark = SparkSession.builder.appName(\"SparkSQL\").getOrCreate()"
      ],
      "metadata": {
        "id": "DCUtjZLO4WT6"
      },
      "execution_count": null,
      "outputs": []
    },
    {
      "cell_type": "code",
      "source": [
        "# 1. Read the tic_tac_toe_data.csv into a PySpark DataFrame.\n",
        "from pyspark import SparkFiles   # entry point to using Spark with DataFrames and SQL\n",
        "url = \"https://raw.githubusercontent.com/kimarlee/Tic-Tac-Toe/refs/heads/main/tic_tac_toe_data.csv\"\n",
        "\n",
        "# Downloads the file - this step makes the file accessible locally within your Spark session — even though it came from a remote URL.\n",
        "spark.sparkContext.addFile(url)\n",
        "\n",
        "# Read the data into the dataframe\n",
        "df = spark.read.csv(SparkFiles.get(\"tic_tac_toe_data.csv\"), sep=\",\", inferSchema=True, header=True)\n",
        "df.show()"
      ],
      "metadata": {
        "colab": {
          "base_uri": "https://localhost:8080/"
        },
        "id": "z_iuUC0J7GhO",
        "outputId": "6de3e91a-b303-4b36-ccc6-0b5aeb49499d"
      },
      "execution_count": null,
      "outputs": [
        {
          "output_type": "stream",
          "name": "stdout",
          "text": [
            "+------+------------------+------------------+------------------+------------------+------------------+------------------+------------------+------------------+------------------+\n",
            "|Winner|Move 1-X (Row-Col)|Move 2-O (Row-Col)|Move 3-X (Row-Col)|Move 4-O (Row-Col)|Move 5-X (Row-Col)|Move 6-O (Row-Col)|Move 7-X (Row-Col)|Move 8-O (Row-Col)|Move 9-X (Row-Col)|\n",
            "+------+------------------+------------------+------------------+------------------+------------------+------------------+------------------+------------------+------------------+\n",
            "|     X|               0-0|               0-1|               1-0|               0-2|               2-0|               ---|               ---|               ---|               ---|\n",
            "|     X|               0-0|               0-1|               1-0|               1-1|               2-0|               ---|               ---|               ---|               ---|\n",
            "|     X|               0-0|               0-1|               1-0|               1-2|               2-0|               ---|               ---|               ---|               ---|\n",
            "|     X|               0-0|               0-1|               1-0|               2-1|               2-0|               ---|               ---|               ---|               ---|\n",
            "|     X|               0-0|               0-1|               1-0|               2-2|               2-0|               ---|               ---|               ---|               ---|\n",
            "|     X|               0-0|               0-1|               1-1|               0-2|               2-2|               ---|               ---|               ---|               ---|\n",
            "|     X|               0-0|               0-1|               1-1|               1-0|               2-2|               ---|               ---|               ---|               ---|\n",
            "|     X|               0-0|               0-1|               1-1|               1-2|               2-2|               ---|               ---|               ---|               ---|\n",
            "|     X|               0-0|               0-1|               1-1|               2-0|               2-2|               ---|               ---|               ---|               ---|\n",
            "|     X|               0-0|               0-1|               1-1|               2-1|               2-2|               ---|               ---|               ---|               ---|\n",
            "|     X|               0-0|               0-1|               2-0|               0-2|               1-0|               ---|               ---|               ---|               ---|\n",
            "|     X|               0-0|               0-1|               2-0|               1-1|               1-0|               ---|               ---|               ---|               ---|\n",
            "|     X|               0-0|               0-1|               2-0|               1-2|               1-0|               ---|               ---|               ---|               ---|\n",
            "|     X|               0-0|               0-1|               2-0|               2-1|               1-0|               ---|               ---|               ---|               ---|\n",
            "|     X|               0-0|               0-1|               2-0|               2-2|               1-0|               ---|               ---|               ---|               ---|\n",
            "|     X|               0-0|               0-1|               2-2|               0-2|               1-1|               ---|               ---|               ---|               ---|\n",
            "|     X|               0-0|               0-1|               2-2|               1-0|               1-1|               ---|               ---|               ---|               ---|\n",
            "|     X|               0-0|               0-1|               2-2|               1-2|               1-1|               ---|               ---|               ---|               ---|\n",
            "|     X|               0-0|               0-1|               2-2|               2-0|               1-1|               ---|               ---|               ---|               ---|\n",
            "|     X|               0-0|               0-1|               2-2|               2-1|               1-1|               ---|               ---|               ---|               ---|\n",
            "+------+------------------+------------------+------------------+------------------+------------------+------------------+------------------+------------------+------------------+\n",
            "only showing top 20 rows\n",
            "\n"
          ]
        }
      ]
    },
    {
      "cell_type": "code",
      "source": [
        "df.createOrReplaceTempView(\"tictactoe_games\")"
      ],
      "metadata": {
        "id": "iQ-PQ-C__XFX"
      },
      "execution_count": null,
      "outputs": []
    },
    {
      "cell_type": "code",
      "source": [
        "# It comes out as Strings\n",
        "\n",
        "from pyspark.sql.functions import col, when\n",
        "\n",
        "# Get the list of move columns\n",
        "move_columns = [c for c in df.columns if c.startswith('Move')]\n",
        "\n",
        "# Replace NULL values with 9 for all move columns\n",
        "for column_name in move_columns:\n",
        "    df = df.withColumn(\n",
        "        column_name,\n",
        "        when(col(column_name).isNull(), 9).otherwise(col(column_name))\n",
        "    )\n",
        "\n",
        "# Select only the 'Winner' column and the move columns\n",
        "df = df.select('Winner', *move_columns)\n",
        "\n",
        "# Show the result\n",
        "df.show(truncate=False)\n",
        "\n",
        "# Print the schema to confirm the data types\n",
        "df.printSchema()\n"
      ],
      "metadata": {
        "colab": {
          "base_uri": "https://localhost:8080/"
        },
        "id": "MYKoM794gfWA",
        "outputId": "a5cd26f8-7306-4620-a49b-6c6daad47519"
      },
      "execution_count": null,
      "outputs": [
        {
          "output_type": "stream",
          "name": "stdout",
          "text": [
            "+------+------------------+------------------+------------------+------------------+------------------+------------------+------------------+------------------+------------------+\n",
            "|Winner|Move 1-X (Row-Col)|Move 2-O (Row-Col)|Move 3-X (Row-Col)|Move 4-O (Row-Col)|Move 5-X (Row-Col)|Move 6-O (Row-Col)|Move 7-X (Row-Col)|Move 8-O (Row-Col)|Move 9-X (Row-Col)|\n",
            "+------+------------------+------------------+------------------+------------------+------------------+------------------+------------------+------------------+------------------+\n",
            "|X     |0-0               |0-1               |1-0               |0-2               |2-0               |---               |---               |---               |---               |\n",
            "|X     |0-0               |0-1               |1-0               |1-1               |2-0               |---               |---               |---               |---               |\n",
            "|X     |0-0               |0-1               |1-0               |1-2               |2-0               |---               |---               |---               |---               |\n",
            "|X     |0-0               |0-1               |1-0               |2-1               |2-0               |---               |---               |---               |---               |\n",
            "|X     |0-0               |0-1               |1-0               |2-2               |2-0               |---               |---               |---               |---               |\n",
            "|X     |0-0               |0-1               |1-1               |0-2               |2-2               |---               |---               |---               |---               |\n",
            "|X     |0-0               |0-1               |1-1               |1-0               |2-2               |---               |---               |---               |---               |\n",
            "|X     |0-0               |0-1               |1-1               |1-2               |2-2               |---               |---               |---               |---               |\n",
            "|X     |0-0               |0-1               |1-1               |2-0               |2-2               |---               |---               |---               |---               |\n",
            "|X     |0-0               |0-1               |1-1               |2-1               |2-2               |---               |---               |---               |---               |\n",
            "|X     |0-0               |0-1               |2-0               |0-2               |1-0               |---               |---               |---               |---               |\n",
            "|X     |0-0               |0-1               |2-0               |1-1               |1-0               |---               |---               |---               |---               |\n",
            "|X     |0-0               |0-1               |2-0               |1-2               |1-0               |---               |---               |---               |---               |\n",
            "|X     |0-0               |0-1               |2-0               |2-1               |1-0               |---               |---               |---               |---               |\n",
            "|X     |0-0               |0-1               |2-0               |2-2               |1-0               |---               |---               |---               |---               |\n",
            "|X     |0-0               |0-1               |2-2               |0-2               |1-1               |---               |---               |---               |---               |\n",
            "|X     |0-0               |0-1               |2-2               |1-0               |1-1               |---               |---               |---               |---               |\n",
            "|X     |0-0               |0-1               |2-2               |1-2               |1-1               |---               |---               |---               |---               |\n",
            "|X     |0-0               |0-1               |2-2               |2-0               |1-1               |---               |---               |---               |---               |\n",
            "|X     |0-0               |0-1               |2-2               |2-1               |1-1               |---               |---               |---               |---               |\n",
            "+------+------------------+------------------+------------------+------------------+------------------+------------------+------------------+------------------+------------------+\n",
            "only showing top 20 rows\n",
            "\n",
            "root\n",
            " |-- Winner: string (nullable = true)\n",
            " |-- Move 1-X (Row-Col): string (nullable = true)\n",
            " |-- Move 2-O (Row-Col): string (nullable = true)\n",
            " |-- Move 3-X (Row-Col): string (nullable = true)\n",
            " |-- Move 4-O (Row-Col): string (nullable = true)\n",
            " |-- Move 5-X (Row-Col): string (nullable = true)\n",
            " |-- Move 6-O (Row-Col): string (nullable = true)\n",
            " |-- Move 7-X (Row-Col): string (nullable = true)\n",
            " |-- Move 8-O (Row-Col): string (nullable = true)\n",
            " |-- Move 9-X (Row-Col): string (nullable = true)\n",
            "\n"
          ]
        }
      ]
    },
    {
      "cell_type": "code",
      "source": [
        "# First Attempt\n",
        "\n",
        "from pyspark.ml.feature import VectorAssembler, StringIndexer, OneHotEncoder\n",
        "from pyspark.ml.classification import RandomForestClassifier\n",
        "from pyspark.ml.evaluation import MulticlassClassificationEvaluator\n",
        "from pyspark.ml import Pipeline\n",
        "from pyspark.sql.functions import col, when\n",
        "\n",
        "# Prepare the data\n",
        "move_columns = [col for col in df.columns if col.startswith('Move')]\n",
        "\n",
        "# Replace null values with 'Empty' for all move columns\n",
        "for column in move_columns:\n",
        "    df = df.withColumn(column, when(col(column).isNull(), \"Empty\").otherwise(col(column)))\n",
        "\n",
        "# Create stages for the pipeline\n",
        "stages = []\n",
        "\n",
        "# Convert Winner to numeric\n",
        "labelIndexer = StringIndexer(inputCol=\"Winner\", outputCol=\"label\")\n",
        "stages.append(labelIndexer)\n",
        "\n",
        "# Create StringIndexer and OneHotEncoder for each move column\n",
        "encoded_move_columns = []\n",
        "for move_col in move_columns:\n",
        "    # StringIndexer\n",
        "    indexer = StringIndexer(inputCol=move_col, outputCol=f\"{move_col}_indexed\", handleInvalid=\"keep\")\n",
        "    stages.append(indexer)\n",
        "\n",
        "    # OneHotEncoder\n",
        "    encoder = OneHotEncoder(inputCol=f\"{move_col}_indexed\", outputCol=f\"{move_col}_encoded\", handleInvalid=\"keep\")\n",
        "    stages.append(encoder)\n",
        "    encoded_move_columns.append(f\"{move_col}_encoded\")\n",
        "\n",
        "# Assemble features\n",
        "assembler = VectorAssembler(inputCols=encoded_move_columns, outputCol=\"features\")\n",
        "stages.append(assembler)\n",
        "\n",
        "# Create and train the model\n",
        "rf = RandomForestClassifier(featuresCol=\"features\", labelCol=\"label\", numTrees=100)\n",
        "stages.append(rf)\n",
        "\n",
        "# Create the pipeline\n",
        "pipeline = Pipeline(stages=stages)\n",
        "\n",
        "# Split the data into training and test sets\n",
        "(trainingData, testData) = df.randomSplit([0.7, 0.3], seed=42)\n",
        "\n",
        "# Train model\n",
        "model = pipeline.fit(trainingData)\n",
        "\n",
        "# Make predictions\n",
        "predictions = model.transform(testData)\n",
        "\n",
        "# Evaluate the model\n",
        "evaluator = MulticlassClassificationEvaluator(\n",
        "    labelCol=\"label\", predictionCol=\"prediction\", metricName=\"accuracy\")\n",
        "accuracy = evaluator.evaluate(predictions)\n",
        "print(f\"Accuracy: {accuracy}\")\n",
        "\n",
        "# Get the label mapping\n",
        "label_mapping = {float(idx): category for idx, category in enumerate(model.stages[0].labels)}\n",
        "print(\"Label Mapping:\", label_mapping)\n",
        "\n",
        "# Print confusion matrix\n",
        "from pyspark.mllib.evaluation import MulticlassMetrics\n",
        "predictionAndLabels = predictions.select(\"prediction\", \"label\").rdd\n",
        "metrics = MulticlassMetrics(predictionAndLabels)\n",
        "print(\"Confusion Matrix:\")\n",
        "print(metrics.confusionMatrix())\n",
        "\n",
        "# Print classification report\n",
        "for label in sorted(label_mapping.keys()):\n",
        "    print(f\"\\nClass {label_mapping[label]}:\")\n",
        "    print(f\"Precision = {metrics.precision(label)}\")\n",
        "    print(f\"Recall = {metrics.recall(label)}\")\n",
        "    print(f\"F1 Score = {metrics.fMeasure(label)}\")"
      ],
      "metadata": {
        "colab": {
          "base_uri": "https://localhost:8080/"
        },
        "id": "fvl318lmHley",
        "outputId": "bc9b12b9-39ca-4f20-8b1d-bf487edb6ed6"
      },
      "execution_count": null,
      "outputs": [
        {
          "output_type": "stream",
          "name": "stdout",
          "text": [
            "Accuracy: 0.8023208708492872\n",
            "Label Mapping: {0.0: 'X', 1.0: 'O', 2.0: '-'}\n",
            "Confusion Matrix:\n",
            "DenseMatrix([[39369.,     0.,     0.],\n",
            "             [ 1459., 22027.,     0.],\n",
            "             [13668.,     0.,     0.]])\n",
            "\n",
            "Class X:\n",
            "Precision = 0.7224199941280094\n",
            "Recall = 1.0\n",
            "F1 Score = 0.8388430192297448\n",
            "\n",
            "Class O:\n",
            "Precision = 1.0\n",
            "Recall = 0.9378778846972664\n",
            "F1 Score = 0.9679432250126337\n",
            "\n",
            "Class -:\n",
            "Precision = 0.0\n",
            "Recall = 0.0\n",
            "F1 Score = 0.0\n"
          ]
        }
      ]
    },
    {
      "cell_type": "code",
      "source": [
        "# Change to Numbers in light of Second Attempt - SKIP!\n",
        "\n",
        "# from pyspark.sql.functions import col, when\n",
        "# from pyspark.sql.types import StringType\n",
        "\n",
        "# Get the list of move columns\n",
        "# move_columns = [c for c in df.columns if c.startswith('Move')]\n",
        "\n",
        "# Function to convert \"---\" to \"9\"\n",
        "# def convert_move(col_name):\n",
        "#     return when(col(col_name) == \"---\", \"9\").otherwise(col(col_name))\n",
        "\n",
        "# Apply the conversion to all move columns\n",
        "# for column_name in move_columns:\n",
        "#     df = df.withColumn(column_name, convert_move(column_name))\n",
        "\n",
        "# Select only the 'Winner' column and the move columns\n",
        "# df = df.select('Winner', *move_columns)\n",
        "\n",
        "# Show the result\n",
        "# print(\"Transformed Data:\")\n",
        "# df.show(truncate=False)\n",
        "\n",
        "# Print the schema to confirm the data types\n",
        "# print(\"\\nUpdated DataFrame Schema:\")\n",
        "# df.printSchema()"
      ],
      "metadata": {
        "id": "UuhzQNynBuok"
      },
      "execution_count": null,
      "outputs": []
    },
    {
      "cell_type": "code",
      "source": [
        "# Corrected version to Integers\n",
        "from pyspark.sql.functions import col, when, split\n",
        "from pyspark.sql.types import IntegerType\n",
        "\n",
        "# Get the list of move columns\n",
        "move_columns = [c for c in df.columns if c.startswith('Move')]\n",
        "\n",
        "# Function to convert move notation to a single integer\n",
        "def convert_move(col_name):\n",
        "    return when(col(col_name) == \"---\", 9)\\\n",
        "           .otherwise(\n",
        "               (split(col(col_name), \"-\")[0].cast(\"int\") * 3 +\n",
        "                split(col(col_name), \"-\")[1].cast(\"int\"))\n",
        "           )\n",
        "\n",
        "# Apply the conversion to all move columns\n",
        "for column_name in move_columns:\n",
        "    df = df.withColumn(\n",
        "        column_name,\n",
        "        convert_move(column_name).cast(IntegerType())\n",
        "    )\n",
        "\n",
        "# Select only the 'Winner' column and the move columns\n",
        "df = df.select('Winner', *move_columns)\n",
        "\n",
        "# Show the result\n",
        "print(\"Transformed Data:\")\n",
        "df.show(truncate=False)\n",
        "\n",
        "# Print the schema to confirm the data types\n",
        "print(\"\\nUpdated DataFrame Schema:\")\n",
        "df.printSchema()"
      ],
      "metadata": {
        "colab": {
          "base_uri": "https://localhost:8080/"
        },
        "id": "bZGGAn5F4QN8",
        "outputId": "bce77640-78d3-405e-a6e1-e24116670bc5"
      },
      "execution_count": null,
      "outputs": [
        {
          "output_type": "stream",
          "name": "stdout",
          "text": [
            "Transformed Data:\n",
            "+------+------------------+------------------+------------------+------------------+------------------+------------------+------------------+------------------+------------------+\n",
            "|Winner|Move 1-X (Row-Col)|Move 2-O (Row-Col)|Move 3-X (Row-Col)|Move 4-O (Row-Col)|Move 5-X (Row-Col)|Move 6-O (Row-Col)|Move 7-X (Row-Col)|Move 8-O (Row-Col)|Move 9-X (Row-Col)|\n",
            "+------+------------------+------------------+------------------+------------------+------------------+------------------+------------------+------------------+------------------+\n",
            "|X     |0                 |1                 |3                 |2                 |6                 |9                 |9                 |9                 |9                 |\n",
            "|X     |0                 |1                 |3                 |4                 |6                 |9                 |9                 |9                 |9                 |\n",
            "|X     |0                 |1                 |3                 |5                 |6                 |9                 |9                 |9                 |9                 |\n",
            "|X     |0                 |1                 |3                 |7                 |6                 |9                 |9                 |9                 |9                 |\n",
            "|X     |0                 |1                 |3                 |8                 |6                 |9                 |9                 |9                 |9                 |\n",
            "|X     |0                 |1                 |4                 |2                 |8                 |9                 |9                 |9                 |9                 |\n",
            "|X     |0                 |1                 |4                 |3                 |8                 |9                 |9                 |9                 |9                 |\n",
            "|X     |0                 |1                 |4                 |5                 |8                 |9                 |9                 |9                 |9                 |\n",
            "|X     |0                 |1                 |4                 |6                 |8                 |9                 |9                 |9                 |9                 |\n",
            "|X     |0                 |1                 |4                 |7                 |8                 |9                 |9                 |9                 |9                 |\n",
            "|X     |0                 |1                 |6                 |2                 |3                 |9                 |9                 |9                 |9                 |\n",
            "|X     |0                 |1                 |6                 |4                 |3                 |9                 |9                 |9                 |9                 |\n",
            "|X     |0                 |1                 |6                 |5                 |3                 |9                 |9                 |9                 |9                 |\n",
            "|X     |0                 |1                 |6                 |7                 |3                 |9                 |9                 |9                 |9                 |\n",
            "|X     |0                 |1                 |6                 |8                 |3                 |9                 |9                 |9                 |9                 |\n",
            "|X     |0                 |1                 |8                 |2                 |4                 |9                 |9                 |9                 |9                 |\n",
            "|X     |0                 |1                 |8                 |3                 |4                 |9                 |9                 |9                 |9                 |\n",
            "|X     |0                 |1                 |8                 |5                 |4                 |9                 |9                 |9                 |9                 |\n",
            "|X     |0                 |1                 |8                 |6                 |4                 |9                 |9                 |9                 |9                 |\n",
            "|X     |0                 |1                 |8                 |7                 |4                 |9                 |9                 |9                 |9                 |\n",
            "+------+------------------+------------------+------------------+------------------+------------------+------------------+------------------+------------------+------------------+\n",
            "only showing top 20 rows\n",
            "\n",
            "\n",
            "Updated DataFrame Schema:\n",
            "root\n",
            " |-- Winner: string (nullable = true)\n",
            " |-- Move 1-X (Row-Col): integer (nullable = true)\n",
            " |-- Move 2-O (Row-Col): integer (nullable = true)\n",
            " |-- Move 3-X (Row-Col): integer (nullable = true)\n",
            " |-- Move 4-O (Row-Col): integer (nullable = true)\n",
            " |-- Move 5-X (Row-Col): integer (nullable = true)\n",
            " |-- Move 6-O (Row-Col): integer (nullable = true)\n",
            " |-- Move 7-X (Row-Col): integer (nullable = true)\n",
            " |-- Move 8-O (Row-Col): integer (nullable = true)\n",
            " |-- Move 9-X (Row-Col): integer (nullable = true)\n",
            "\n"
          ]
        }
      ]
    },
    {
      "cell_type": "code",
      "source": [
        "# Second Attempt\n",
        "from pyspark.ml.feature import VectorAssembler, StringIndexer\n",
        "from pyspark.ml.classification import RandomForestClassifier\n",
        "from pyspark.ml.evaluation import MulticlassClassificationEvaluator\n",
        "from pyspark.ml import Pipeline\n",
        "from pyspark.mllib.evaluation import MulticlassMetrics\n",
        "\n",
        "# Get the list of move columns\n",
        "move_columns = [col for col in df.columns if col.startswith('Move')]\n",
        "\n",
        "# Create stages for the pipeline\n",
        "stages = []\n",
        "\n",
        "# Convert Winner to numeric\n",
        "labelIndexer = StringIndexer(inputCol=\"Winner\", outputCol=\"label\")\n",
        "stages.append(labelIndexer)\n",
        "\n",
        "# Assemble features\n",
        "assembler = VectorAssembler(inputCols=move_columns, outputCol=\"features\")\n",
        "stages.append(assembler)\n",
        "\n",
        "# Create and train the model\n",
        "rf = RandomForestClassifier(featuresCol=\"features\", labelCol=\"label\", numTrees=100)\n",
        "stages.append(rf)\n",
        "\n",
        "# Create the pipeline\n",
        "pipeline = Pipeline(stages=stages)\n",
        "\n",
        "# Split the data into training and test sets\n",
        "(trainingData, testData) = df.randomSplit([0.7, 0.3], seed=42)\n",
        "\n",
        "# Train model\n",
        "model = pipeline.fit(trainingData)\n",
        "\n",
        "# Make predictions\n",
        "predictions = model.transform(testData)\n",
        "\n",
        "# Evaluate the model\n",
        "evaluator = MulticlassClassificationEvaluator(\n",
        "    labelCol=\"label\", predictionCol=\"prediction\", metricName=\"accuracy\")\n",
        "accuracy = evaluator.evaluate(predictions)\n",
        "print(f\"Accuracy: {accuracy}\")\n",
        "\n",
        "# Get the label mapping\n",
        "label_mapping = {float(idx): category for idx, category in enumerate(model.stages[0].labels)}\n",
        "print(\"Label Mapping:\", label_mapping)\n",
        "\n",
        "# Print confusion matrix\n",
        "predictionAndLabels = predictions.select(\"prediction\", \"label\").rdd\n",
        "metrics = MulticlassMetrics(predictionAndLabels)\n",
        "print(\"Confusion Matrix:\")\n",
        "print(metrics.confusionMatrix())\n",
        "\n",
        "# Print classification report\n",
        "for label in sorted(label_mapping.keys()):\n",
        "    print(f\"\\nClass {label_mapping[label]}:\")\n",
        "    print(f\"Precision = {metrics.precision(label)}\")\n",
        "    print(f\"Recall = {metrics.recall(label)}\")\n",
        "    print(f\"F1 Score = {metrics.fMeasure(label)}\")"
      ],
      "metadata": {
        "colab": {
          "base_uri": "https://localhost:8080/"
        },
        "id": "ZCPQo93m3k72",
        "outputId": "b3b15dfa-8fba-4056-d3c9-c1d9cee323a8"
      },
      "execution_count": null,
      "outputs": [
        {
          "output_type": "stream",
          "name": "stdout",
          "text": [
            "Accuracy: 0.8213870339636449\n",
            "Label Mapping: {0.0: 'X', 1.0: 'O', 2.0: '-'}\n",
            "Confusion Matrix:\n",
            "DenseMatrix([[39369.,     0.,     0.],\n",
            "             [    0., 23486.,     0.],\n",
            "             [13668.,     0.,     0.]])\n",
            "\n",
            "Class X:\n",
            "Precision = 0.7422931161264777\n",
            "Recall = 1.0\n",
            "F1 Score = 0.852087526783975\n",
            "\n",
            "Class O:\n",
            "Precision = 1.0\n",
            "Recall = 1.0\n",
            "F1 Score = 1.0\n",
            "\n",
            "Class -:\n",
            "Precision = 0.0\n",
            "Recall = 0.0\n",
            "F1 Score = 0.0\n"
          ]
        }
      ]
    },
    {
      "cell_type": "markdown",
      "source": [
        "# Better but still having trouble with ties. Trying DecisionTree instead."
      ],
      "metadata": {
        "id": "Ssl8lVoH5v_h"
      }
    },
    {
      "cell_type": "code",
      "source": [
        "# Third Attempt\n",
        "from pyspark.ml.feature import VectorAssembler, StringIndexer\n",
        "from pyspark.ml.classification import DecisionTreeClassifier\n",
        "from pyspark.ml.evaluation import MulticlassClassificationEvaluator\n",
        "from pyspark.ml import Pipeline\n",
        "from pyspark.mllib.evaluation import MulticlassMetrics\n",
        "\n",
        "# Get the list of move columns\n",
        "move_columns = [col for col in df.columns if col.startswith('Move')]\n",
        "\n",
        "# Create stages for the pipeline\n",
        "stages = []\n",
        "\n",
        "# Convert Winner to numeric\n",
        "labelIndexer = StringIndexer(inputCol=\"Winner\", outputCol=\"label\")\n",
        "stages.append(labelIndexer)\n",
        "\n",
        "# Assemble features\n",
        "assembler = VectorAssembler(inputCols=move_columns, outputCol=\"features\")\n",
        "stages.append(assembler)\n",
        "\n",
        "# Create and train the model\n",
        "dt = DecisionTreeClassifier(featuresCol=\"features\", labelCol=\"label\", maxDepth=10)\n",
        "stages.append(dt)\n",
        "\n",
        "# Create the pipeline\n",
        "pipeline = Pipeline(stages=stages)\n",
        "\n",
        "# Split the data into training and test sets\n",
        "(trainingData, testData) = df.randomSplit([0.7, 0.3], seed=42)\n",
        "\n",
        "# Train model\n",
        "model = pipeline.fit(trainingData)\n",
        "\n",
        "# Make predictions\n",
        "predictions = model.transform(testData)\n",
        "\n",
        "# Evaluate the model\n",
        "evaluator = MulticlassClassificationEvaluator(\n",
        "    labelCol=\"label\", predictionCol=\"prediction\", metricName=\"accuracy\")\n",
        "accuracy = evaluator.evaluate(predictions)\n",
        "print(f\"Accuracy: {accuracy}\")\n",
        "\n",
        "# Get the label mapping\n",
        "label_mapping = {float(idx): category for idx, category in enumerate(model.stages[0].labels)}\n",
        "print(\"Label Mapping:\", label_mapping)\n",
        "\n",
        "# Print confusion matrix\n",
        "predictionAndLabels = predictions.select(\"prediction\", \"label\").rdd\n",
        "metrics = MulticlassMetrics(predictionAndLabels)\n",
        "print(\"Confusion Matrix:\")\n",
        "print(metrics.confusionMatrix())\n",
        "\n",
        "# Print classification report\n",
        "for label in sorted(label_mapping.keys()):\n",
        "    print(f\"\\nClass {label_mapping[label]}:\")\n",
        "    print(f\"Precision = {metrics.precision(label)}\")\n",
        "    print(f\"Recall = {metrics.recall(label)}\")\n",
        "    print(f\"F1 Score = {metrics.fMeasure(label)}\")\n",
        "\n",
        "# Print feature importances\n",
        "dt_model = model.stages[-1]\n",
        "print(\"\\nFeature Importances:\")\n",
        "for feature, importance in zip(move_columns, dt_model.featureImportances):\n",
        "    print(f\"{feature}: {importance}\")"
      ],
      "metadata": {
        "colab": {
          "base_uri": "https://localhost:8080/"
        },
        "id": "2hKv0zse5moB",
        "outputId": "314e2c01-7a6d-496a-d931-9621ddc21df6"
      },
      "execution_count": null,
      "outputs": [
        {
          "output_type": "stream",
          "name": "stdout",
          "text": [
            "Accuracy: 0.880362766749866\n",
            "Label Mapping: {0.0: 'X', 1.0: 'O', 2.0: '-'}\n",
            "Confusion Matrix:\n",
            "DenseMatrix([[35339.,     0.,  4030.],\n",
            "             [    0., 23486.,     0.],\n",
            "             [ 5125.,     0.,  8543.]])\n",
            "\n",
            "Class X:\n",
            "Precision = 0.8733442071965204\n",
            "Recall = 0.8976351952043486\n",
            "F1 Score = 0.8853231119962922\n",
            "\n",
            "Class O:\n",
            "Precision = 1.0\n",
            "Recall = 1.0\n",
            "F1 Score = 1.0\n",
            "\n",
            "Class -:\n",
            "Precision = 0.6794718841962937\n",
            "Recall = 0.6250365817968979\n",
            "F1 Score = 0.6511184787165123\n",
            "\n",
            "Feature Importances:\n",
            "Move 1-X (Row-Col): 0.01382707668664977\n",
            "Move 2-O (Row-Col): 0.016495663824717694\n",
            "Move 3-X (Row-Col): 0.014594043536041459\n",
            "Move 4-O (Row-Col): 0.008625303580357332\n",
            "Move 5-X (Row-Col): 0.011254574258243395\n",
            "Move 6-O (Row-Col): 0.04539013296737967\n",
            "Move 7-X (Row-Col): 0.07180314877789555\n",
            "Move 8-O (Row-Col): 0.47585735223813824\n",
            "Move 9-X (Row-Col): 0.34215270413057697\n"
          ]
        }
      ]
    },
    {
      "cell_type": "markdown",
      "source": [
        "# Much, much better."
      ],
      "metadata": {
        "id": "gvd8O7XN56TS"
      }
    },
    {
      "cell_type": "code",
      "source": [
        "# Fourth Attempt - Optimize by Incresing depth to 20.\n",
        "\n",
        "from pyspark.ml.feature import VectorAssembler, StringIndexer\n",
        "from pyspark.ml.classification import DecisionTreeClassifier\n",
        "from pyspark.ml.evaluation import MulticlassClassificationEvaluator\n",
        "from pyspark.ml import Pipeline\n",
        "from pyspark.mllib.evaluation import MulticlassMetrics\n",
        "\n",
        "# Get the list of move columns\n",
        "move_columns = [col for col in df.columns if col.startswith('Move')]\n",
        "\n",
        "# Create stages for the pipeline\n",
        "stages = []\n",
        "\n",
        "# Convert Winner to numeric\n",
        "labelIndexer = StringIndexer(inputCol=\"Winner\", outputCol=\"label\")\n",
        "stages.append(labelIndexer)\n",
        "\n",
        "# Assemble features\n",
        "assembler = VectorAssembler(inputCols=move_columns, outputCol=\"features\")\n",
        "stages.append(assembler)\n",
        "\n",
        "# Create and train the model\n",
        "dt = DecisionTreeClassifier(featuresCol=\"features\", labelCol=\"label\", maxDepth=20)\n",
        "stages.append(dt)\n",
        "\n",
        "# Create the pipeline\n",
        "pipeline = Pipeline(stages=stages)\n",
        "\n",
        "# Split the data into training and test sets\n",
        "(trainingData, testData) = df.randomSplit([0.7, 0.3], seed=42)\n",
        "\n",
        "# Train model\n",
        "model = pipeline.fit(trainingData)\n",
        "\n",
        "# Make predictions\n",
        "predictions = model.transform(testData)\n",
        "\n",
        "# Evaluate the model\n",
        "evaluator = MulticlassClassificationEvaluator(\n",
        "    labelCol=\"label\", predictionCol=\"prediction\", metricName=\"accuracy\")\n",
        "accuracy = evaluator.evaluate(predictions)\n",
        "print(f\"Accuracy: {accuracy}\")\n",
        "\n",
        "# Get the label mapping\n",
        "label_mapping = {float(idx): category for idx, category in enumerate(model.stages[0].labels)}\n",
        "print(\"Label Mapping:\", label_mapping)\n",
        "\n",
        "# Print confusion matrix\n",
        "predictionAndLabels = predictions.select(\"prediction\", \"label\").rdd\n",
        "metrics = MulticlassMetrics(predictionAndLabels)\n",
        "print(\"Confusion Matrix:\")\n",
        "print(metrics.confusionMatrix())\n",
        "\n",
        "# Print classification report\n",
        "for label in sorted(label_mapping.keys()):\n",
        "    print(f\"\\nClass {label_mapping[label]}:\")\n",
        "    print(f\"Precision = {metrics.precision(label)}\")\n",
        "    print(f\"Recall = {metrics.recall(label)}\")\n",
        "    print(f\"F1 Score = {metrics.fMeasure(label)}\")\n",
        "\n",
        "# Print feature importances\n",
        "dt_model = model.stages[-1]\n",
        "print(\"\\nFeature Importances:\")\n",
        "for feature, importance in zip(move_columns, dt_model.featureImportances):\n",
        "    print(f\"{feature}: {importance}\")"
      ],
      "metadata": {
        "colab": {
          "base_uri": "https://localhost:8080/"
        },
        "id": "yOFNvczX54yW",
        "outputId": "f51a4668-9a53-4ed1-d1f9-34b53d477ded"
      },
      "execution_count": null,
      "outputs": [
        {
          "output_type": "stream",
          "name": "stdout",
          "text": [
            "Accuracy: 0.9926427348640278\n",
            "Label Mapping: {0.0: 'X', 1.0: 'O', 2.0: '-'}\n",
            "Confusion Matrix:\n",
            "DenseMatrix([[39137.,     0.,   232.],\n",
            "             [    0., 23486.,     0.],\n",
            "             [  331.,     0., 13337.]])\n",
            "\n",
            "Class X:\n",
            "Precision = 0.9916134590047634\n",
            "Recall = 0.9941070385328558\n",
            "F1 Score = 0.9928586831056483\n",
            "\n",
            "Class O:\n",
            "Precision = 1.0\n",
            "Recall = 1.0\n",
            "F1 Score = 1.0\n",
            "\n",
            "Class -:\n",
            "Precision = 0.9829022035522146\n",
            "Recall = 0.9757828504536142\n",
            "F1 Score = 0.9793295884275067\n",
            "\n",
            "Feature Importances:\n",
            "Move 1-X (Row-Col): 0.03932368747394982\n",
            "Move 2-O (Row-Col): 0.05249921449997855\n",
            "Move 3-X (Row-Col): 0.03130835596740921\n",
            "Move 4-O (Row-Col): 0.04202429717300386\n",
            "Move 5-X (Row-Col): 0.03697436458475791\n",
            "Move 6-O (Row-Col): 0.06765544704979858\n",
            "Move 7-X (Row-Col): 0.07763065507386602\n",
            "Move 8-O (Row-Col): 0.39117996682469797\n",
            "Move 9-X (Row-Col): 0.2614040113525382\n"
          ]
        }
      ]
    },
    {
      "cell_type": "code",
      "source": [
        "# Fifth Attempt - Optimize by changing depth to 15 just to see the impact.\n",
        "\n",
        "from pyspark.ml.feature import VectorAssembler, StringIndexer\n",
        "from pyspark.ml.classification import DecisionTreeClassifier\n",
        "from pyspark.ml.evaluation import MulticlassClassificationEvaluator\n",
        "from pyspark.ml import Pipeline\n",
        "from pyspark.mllib.evaluation import MulticlassMetrics\n",
        "\n",
        "# Get the list of move columns\n",
        "move_columns = [col for col in df.columns if col.startswith('Move')]\n",
        "\n",
        "# Create stages for the pipeline\n",
        "stages = []\n",
        "\n",
        "# Convert Winner to numeric\n",
        "labelIndexer = StringIndexer(inputCol=\"Winner\", outputCol=\"label\")\n",
        "stages.append(labelIndexer)\n",
        "\n",
        "# Assemble features\n",
        "assembler = VectorAssembler(inputCols=move_columns, outputCol=\"features\")\n",
        "stages.append(assembler)\n",
        "\n",
        "# Create and train the model\n",
        "dt = DecisionTreeClassifier(featuresCol=\"features\", labelCol=\"label\", maxDepth=15)\n",
        "stages.append(dt)\n",
        "\n",
        "# Create the pipeline\n",
        "pipeline = Pipeline(stages=stages)\n",
        "\n",
        "# Split the data into training and test sets\n",
        "(trainingData, testData) = df.randomSplit([0.7, 0.3], seed=42)\n",
        "\n",
        "# Train model\n",
        "model = pipeline.fit(trainingData)\n",
        "\n",
        "# Make predictions\n",
        "predictions = model.transform(testData)\n",
        "\n",
        "# Evaluate the model\n",
        "evaluator = MulticlassClassificationEvaluator(\n",
        "    labelCol=\"label\", predictionCol=\"prediction\", metricName=\"accuracy\")\n",
        "accuracy = evaluator.evaluate(predictions)\n",
        "print(f\"Accuracy: {accuracy}\")\n",
        "\n",
        "# Get the label mapping\n",
        "label_mapping = {float(idx): category for idx, category in enumerate(model.stages[0].labels)}\n",
        "print(\"Label Mapping:\", label_mapping)\n",
        "\n",
        "# Print confusion matrix\n",
        "predictionAndLabels = predictions.select(\"prediction\", \"label\").rdd\n",
        "metrics = MulticlassMetrics(predictionAndLabels)\n",
        "print(\"Confusion Matrix:\")\n",
        "print(metrics.confusionMatrix())\n",
        "\n",
        "# Print classification report\n",
        "for label in sorted(label_mapping.keys()):\n",
        "    print(f\"\\nClass {label_mapping[label]}:\")\n",
        "    print(f\"Precision = {metrics.precision(label)}\")\n",
        "    print(f\"Recall = {metrics.recall(label)}\")\n",
        "    print(f\"F1 Score = {metrics.fMeasure(label)}\")\n",
        "\n",
        "# Print feature importances\n",
        "dt_model = model.stages[-1]\n",
        "print(\"\\nFeature Importances:\")\n",
        "for feature, importance in zip(move_columns, dt_model.featureImportances):\n",
        "    print(f\"{feature}: {importance}\")"
      ],
      "metadata": {
        "colab": {
          "base_uri": "https://localhost:8080/"
        },
        "id": "4qGGw-qYFRsq",
        "outputId": "49282f52-9295-470a-96a3-406a326ebc52"
      },
      "execution_count": null,
      "outputs": [
        {
          "output_type": "stream",
          "name": "stdout",
          "text": [
            "Accuracy: 0.9538178064111443\n",
            "Label Mapping: {0.0: 'X', 1.0: 'O', 2.0: '-'}\n",
            "Confusion Matrix:\n",
            "DenseMatrix([[37616.,     0.,  1753.],\n",
            "             [    0., 23486.,     0.],\n",
            "             [ 1781.,     0., 11887.]])\n",
            "\n",
            "Class X:\n",
            "Precision = 0.9547935121963601\n",
            "Recall = 0.9554725799486906\n",
            "F1 Score = 0.9551329253738923\n",
            "\n",
            "Class O:\n",
            "Precision = 1.0\n",
            "Recall = 1.0\n",
            "F1 Score = 1.0\n",
            "\n",
            "Class -:\n",
            "Precision = 0.8714809384164223\n",
            "Recall = 0.8696956394498098\n",
            "F1 Score = 0.8705873736633953\n",
            "\n",
            "Feature Importances:\n",
            "Move 1-X (Row-Col): 0.035655199481789135\n",
            "Move 2-O (Row-Col): 0.041613825482074644\n",
            "Move 3-X (Row-Col): 0.028080680562945708\n",
            "Move 4-O (Row-Col): 0.028517903961890082\n",
            "Move 5-X (Row-Col): 0.032685331157026154\n",
            "Move 6-O (Row-Col): 0.062367682539362285\n",
            "Move 7-X (Row-Col): 0.07630361349362776\n",
            "Move 8-O (Row-Col): 0.4113231649336098\n",
            "Move 9-X (Row-Col): 0.28345259838767456\n"
          ]
        }
      ]
    },
    {
      "cell_type": "markdown",
      "source": [
        "# It does lose accuracy by going to 15."
      ],
      "metadata": {
        "id": "-oQ0rA7-FiQa"
      }
    },
    {
      "cell_type": "markdown",
      "source": [
        "\n",
        "\n",
        "---\n",
        "\n"
      ],
      "metadata": {
        "id": "llhFgXx_7JlQ"
      }
    },
    {
      "cell_type": "code",
      "source": [],
      "metadata": {
        "id": "rQkrMpOK8MQU"
      },
      "execution_count": null,
      "outputs": []
    },
    {
      "cell_type": "code",
      "source": [],
      "metadata": {
        "id": "odvaVyVkxwCs"
      },
      "execution_count": null,
      "outputs": []
    },
    {
      "cell_type": "markdown",
      "source": [
        "# SQL"
      ],
      "metadata": {
        "id": "nZaTsIu0wzT9"
      }
    },
    {
      "cell_type": "markdown",
      "source": [
        "# Overall View"
      ],
      "metadata": {
        "id": "TujthfDHa8FO"
      }
    },
    {
      "cell_type": "code",
      "source": [
        "# Full Table\n",
        "spark.sql(\"\"\"\n",
        "    SELECT *\n",
        "    FROM tictactoe_games\n",
        "    Where Winner = 'O'\n",
        "\"\"\").show()"
      ],
      "metadata": {
        "id": "cn79BaUh0c_O",
        "colab": {
          "base_uri": "https://localhost:8080/"
        },
        "outputId": "c7afb4ab-d574-451d-d1ea-1ccd565ed961"
      },
      "execution_count": null,
      "outputs": [
        {
          "output_type": "stream",
          "name": "stdout",
          "text": [
            "+------+------------------+------------------+------------------+------------------+------------------+------------------+------------------+------------------+------------------+\n",
            "|Winner|Move 1-X (Row-Col)|Move 2-O (Row-Col)|Move 3-X (Row-Col)|Move 4-O (Row-Col)|Move 5-X (Row-Col)|Move 6-O (Row-Col)|Move 7-X (Row-Col)|Move 8-O (Row-Col)|Move 9-X (Row-Col)|\n",
            "+------+------------------+------------------+------------------+------------------+------------------+------------------+------------------+------------------+------------------+\n",
            "|     O|               0-0|               0-1|               0-2|               1-1|               1-0|               2-1|               ---|               ---|               ---|\n",
            "|     O|               0-0|               0-1|               0-2|               1-1|               1-2|               2-1|               ---|               ---|               ---|\n",
            "|     O|               0-0|               0-1|               0-2|               1-1|               2-0|               2-1|               ---|               ---|               ---|\n",
            "|     O|               0-0|               0-1|               0-2|               1-1|               2-2|               2-1|               ---|               ---|               ---|\n",
            "|     O|               0-0|               0-1|               0-2|               2-1|               1-0|               1-1|               ---|               ---|               ---|\n",
            "|     O|               0-0|               0-1|               0-2|               2-1|               1-2|               1-1|               ---|               ---|               ---|\n",
            "|     O|               0-0|               0-1|               0-2|               2-1|               2-0|               1-1|               ---|               ---|               ---|\n",
            "|     O|               0-0|               0-1|               0-2|               2-1|               2-2|               1-1|               ---|               ---|               ---|\n",
            "|     O|               0-0|               0-1|               1-0|               1-1|               0-2|               2-1|               ---|               ---|               ---|\n",
            "|     O|               0-0|               0-1|               1-0|               1-1|               1-2|               2-1|               ---|               ---|               ---|\n",
            "|     O|               0-0|               0-1|               1-0|               1-1|               2-2|               2-1|               ---|               ---|               ---|\n",
            "|     O|               0-0|               0-1|               1-0|               2-1|               0-2|               1-1|               ---|               ---|               ---|\n",
            "|     O|               0-0|               0-1|               1-0|               2-1|               1-2|               1-1|               ---|               ---|               ---|\n",
            "|     O|               0-0|               0-1|               1-0|               2-1|               2-2|               1-1|               ---|               ---|               ---|\n",
            "|     O|               0-0|               0-1|               1-2|               1-1|               0-2|               2-1|               ---|               ---|               ---|\n",
            "|     O|               0-0|               0-1|               1-2|               1-1|               1-0|               2-1|               ---|               ---|               ---|\n",
            "|     O|               0-0|               0-1|               1-2|               1-1|               2-0|               2-1|               ---|               ---|               ---|\n",
            "|     O|               0-0|               0-1|               1-2|               1-1|               2-2|               2-1|               ---|               ---|               ---|\n",
            "|     O|               0-0|               0-1|               1-2|               2-1|               0-2|               1-1|               ---|               ---|               ---|\n",
            "|     O|               0-0|               0-1|               1-2|               2-1|               1-0|               1-1|               ---|               ---|               ---|\n",
            "+------+------------------+------------------+------------------+------------------+------------------+------------------+------------------+------------------+------------------+\n",
            "only showing top 20 rows\n",
            "\n"
          ]
        }
      ]
    },
    {
      "cell_type": "code",
      "source": [
        "spark.sql(\"\"\"\n",
        "    SELECT\n",
        "        Winner\n",
        "    FROM tictactoe_games\n",
        "    Group by Winner\n",
        "\"\"\").show(20)"
      ],
      "metadata": {
        "colab": {
          "base_uri": "https://localhost:8080/"
        },
        "id": "TMZ8c-aQNv2h",
        "outputId": "bbd0988b-f306-4f5c-ccef-26f7aa38facd"
      },
      "execution_count": null,
      "outputs": [
        {
          "output_type": "stream",
          "name": "stdout",
          "text": [
            "+------+\n",
            "|Winner|\n",
            "+------+\n",
            "|     O|\n",
            "|     -|\n",
            "|     X|\n",
            "+------+\n",
            "\n"
          ]
        }
      ]
    },
    {
      "cell_type": "code",
      "source": [
        "# Games won by each\n",
        "spark.sql(\"\"\"\n",
        "    SELECT\n",
        "        Winner,\n",
        "        CASE\n",
        "            WHEN `Move 2-O (Row-Col)` = '---' THEN 1\n",
        "            WHEN `Move 3-X (Row-Col)` = '---' THEN 2\n",
        "            WHEN `Move 4-O (Row-Col)` = '---' THEN 3\n",
        "            WHEN `Move 5-X (Row-Col)` = '---' THEN 4\n",
        "            WHEN `Move 6-O (Row-Col)` = '---' THEN 5\n",
        "            WHEN `Move 7-X (Row-Col)` = '---' THEN 6\n",
        "            WHEN `Move 8-O (Row-Col)` = '---' THEN 7\n",
        "            WHEN `Move 9-X (Row-Col)` = '---' THEN 8\n",
        "            ELSE 9\n",
        "        END AS number_of_moves,\n",
        "        COUNT(*) as games_count\n",
        "    FROM tictactoe_games\n",
        "    GROUP BY Winner, number_of_moves\n",
        "    ORDER BY Winner, number_of_moves\n",
        "\"\"\").show(20)"
      ],
      "metadata": {
        "id": "R7kXVEtgAMel",
        "colab": {
          "base_uri": "https://localhost:8080/"
        },
        "outputId": "52cef10f-25e9-4aee-80fd-219e49a0422c"
      },
      "execution_count": null,
      "outputs": [
        {
          "output_type": "stream",
          "name": "stdout",
          "text": [
            "+------+---------------+-----------+\n",
            "|Winner|number_of_moves|games_count|\n",
            "+------+---------------+-----------+\n",
            "|     -|              9|      46080|\n",
            "|     O|              6|       5328|\n",
            "|     O|              8|      72576|\n",
            "|     X|              5|       1440|\n",
            "|     X|              7|      47952|\n",
            "|     X|              9|      81792|\n",
            "+------+---------------+-----------+\n",
            "\n"
          ]
        }
      ]
    },
    {
      "cell_type": "markdown",
      "source": [
        "# X Win Data"
      ],
      "metadata": {
        "id": "JT2dcCYAa4VE"
      }
    },
    {
      "cell_type": "code",
      "source": [
        "# Number of games X won\n",
        "spark.sql(\"\"\"\n",
        "    SELECT COUNT(*) as X_wins\n",
        "    FROM tictactoe_games\n",
        "    WHERE Winner = 'X'\n",
        "\"\"\").show()"
      ],
      "metadata": {
        "id": "wQzXxDw87LLb",
        "colab": {
          "base_uri": "https://localhost:8080/"
        },
        "outputId": "8611e8e3-c3c8-4c38-ec05-e8b0d90aadcc"
      },
      "execution_count": null,
      "outputs": [
        {
          "output_type": "stream",
          "name": "stdout",
          "text": [
            "+------+\n",
            "|X_wins|\n",
            "+------+\n",
            "|131184|\n",
            "+------+\n",
            "\n"
          ]
        }
      ]
    },
    {
      "cell_type": "code",
      "source": [
        "# Most common first move\n",
        "\n",
        "spark.sql(\"\"\"\n",
        "    SELECT `Move 1-X (Row-Col)`, COUNT(*) as count\n",
        "    FROM tictactoe_games\n",
        "    WHERE Winner = 'X'\n",
        "    GROUP BY `Move 1-X (Row-Col)`\n",
        "    ORDER BY count DESC\n",
        "    LIMIT 1\n",
        "\"\"\").show()"
      ],
      "metadata": {
        "id": "JTklvuDh_Ldf",
        "colab": {
          "base_uri": "https://localhost:8080/"
        },
        "outputId": "d2c2231e-0647-4403-b4cb-b7488f5d2bc9"
      },
      "execution_count": null,
      "outputs": [
        {
          "output_type": "stream",
          "name": "stdout",
          "text": [
            "+------------------+-----+\n",
            "|Move 1-X (Row-Col)|count|\n",
            "+------------------+-----+\n",
            "|               1-1|15648|\n",
            "+------------------+-----+\n",
            "\n"
          ]
        }
      ]
    },
    {
      "cell_type": "code",
      "source": [
        "# X won in 3 moves (5 moves Overall)\n",
        "\n",
        "spark.sql(\"\"\"\n",
        "    SELECT *\n",
        "    FROM tictactoe_games\n",
        "    WHERE Winner = 'X' AND `Move 6-O (Row-Col)` = '---'\n",
        "\"\"\").show()"
      ],
      "metadata": {
        "id": "smpVsFpW_f0y",
        "colab": {
          "base_uri": "https://localhost:8080/"
        },
        "outputId": "c462b16a-74ab-4974-b12f-c2ff49ed0bdf"
      },
      "execution_count": null,
      "outputs": [
        {
          "output_type": "stream",
          "name": "stdout",
          "text": [
            "+------+------------------+------------------+------------------+------------------+------------------+------------------+------------------+------------------+------------------+\n",
            "|Winner|Move 1-X (Row-Col)|Move 2-O (Row-Col)|Move 3-X (Row-Col)|Move 4-O (Row-Col)|Move 5-X (Row-Col)|Move 6-O (Row-Col)|Move 7-X (Row-Col)|Move 8-O (Row-Col)|Move 9-X (Row-Col)|\n",
            "+------+------------------+------------------+------------------+------------------+------------------+------------------+------------------+------------------+------------------+\n",
            "|     X|               0-0|               0-1|               1-0|               0-2|               2-0|               ---|               ---|               ---|               ---|\n",
            "|     X|               0-0|               0-1|               1-0|               1-1|               2-0|               ---|               ---|               ---|               ---|\n",
            "|     X|               0-0|               0-1|               1-0|               1-2|               2-0|               ---|               ---|               ---|               ---|\n",
            "|     X|               0-0|               0-1|               1-0|               2-1|               2-0|               ---|               ---|               ---|               ---|\n",
            "|     X|               0-0|               0-1|               1-0|               2-2|               2-0|               ---|               ---|               ---|               ---|\n",
            "|     X|               0-0|               0-1|               1-1|               0-2|               2-2|               ---|               ---|               ---|               ---|\n",
            "|     X|               0-0|               0-1|               1-1|               1-0|               2-2|               ---|               ---|               ---|               ---|\n",
            "|     X|               0-0|               0-1|               1-1|               1-2|               2-2|               ---|               ---|               ---|               ---|\n",
            "|     X|               0-0|               0-1|               1-1|               2-0|               2-2|               ---|               ---|               ---|               ---|\n",
            "|     X|               0-0|               0-1|               1-1|               2-1|               2-2|               ---|               ---|               ---|               ---|\n",
            "|     X|               0-0|               0-1|               2-0|               0-2|               1-0|               ---|               ---|               ---|               ---|\n",
            "|     X|               0-0|               0-1|               2-0|               1-1|               1-0|               ---|               ---|               ---|               ---|\n",
            "|     X|               0-0|               0-1|               2-0|               1-2|               1-0|               ---|               ---|               ---|               ---|\n",
            "|     X|               0-0|               0-1|               2-0|               2-1|               1-0|               ---|               ---|               ---|               ---|\n",
            "|     X|               0-0|               0-1|               2-0|               2-2|               1-0|               ---|               ---|               ---|               ---|\n",
            "|     X|               0-0|               0-1|               2-2|               0-2|               1-1|               ---|               ---|               ---|               ---|\n",
            "|     X|               0-0|               0-1|               2-2|               1-0|               1-1|               ---|               ---|               ---|               ---|\n",
            "|     X|               0-0|               0-1|               2-2|               1-2|               1-1|               ---|               ---|               ---|               ---|\n",
            "|     X|               0-0|               0-1|               2-2|               2-0|               1-1|               ---|               ---|               ---|               ---|\n",
            "|     X|               0-0|               0-1|               2-2|               2-1|               1-1|               ---|               ---|               ---|               ---|\n",
            "+------+------------------+------------------+------------------+------------------+------------------+------------------+------------------+------------------+------------------+\n",
            "only showing top 20 rows\n",
            "\n"
          ]
        }
      ]
    },
    {
      "cell_type": "code",
      "source": [
        "# X won in 3 moves (5 moves Overall) count\n",
        "\n",
        "spark.sql(\"\"\"\n",
        "    SELECT COUNT(*) as X_wins\n",
        "    FROM tictactoe_games\n",
        "    WHERE Winner = 'X' AND `Move 6-O (Row-Col)` = '---'\n",
        "\"\"\").show()"
      ],
      "metadata": {
        "colab": {
          "base_uri": "https://localhost:8080/"
        },
        "id": "moqD-4Ij1yJJ",
        "outputId": "5f9d7054-a7a6-4b90-ad90-e5ed564b8b68"
      },
      "execution_count": null,
      "outputs": [
        {
          "output_type": "stream",
          "name": "stdout",
          "text": [
            "+------+\n",
            "|X_wins|\n",
            "+------+\n",
            "|  1440|\n",
            "+------+\n",
            "\n"
          ]
        }
      ]
    },
    {
      "cell_type": "code",
      "source": [
        "# X won in 4 moves (7 moves Overall)\n",
        "\n",
        "spark.sql(\"\"\"\n",
        "    SELECT *\n",
        "    FROM tictactoe_games\n",
        "    WHERE Winner = 'X' AND `Move 6-O (Row-Col)` != '---' AND `Move 8-O (Row-Col)` = '---'\n",
        "\"\"\").show()"
      ],
      "metadata": {
        "colab": {
          "base_uri": "https://localhost:8080/"
        },
        "id": "cACs7m2Z0abm",
        "outputId": "b305bb4a-bf31-43b6-acba-4f536cc86de4"
      },
      "execution_count": null,
      "outputs": [
        {
          "output_type": "stream",
          "name": "stdout",
          "text": [
            "+------+------------------+------------------+------------------+------------------+------------------+------------------+------------------+------------------+------------------+\n",
            "|Winner|Move 1-X (Row-Col)|Move 2-O (Row-Col)|Move 3-X (Row-Col)|Move 4-O (Row-Col)|Move 5-X (Row-Col)|Move 6-O (Row-Col)|Move 7-X (Row-Col)|Move 8-O (Row-Col)|Move 9-X (Row-Col)|\n",
            "+------+------------------+------------------+------------------+------------------+------------------+------------------+------------------+------------------+------------------+\n",
            "|     X|               0-0|               0-1|               0-2|               1-0|               1-1|               1-2|               2-0|               ---|               ---|\n",
            "|     X|               0-0|               0-1|               0-2|               1-0|               1-1|               1-2|               2-2|               ---|               ---|\n",
            "|     X|               0-0|               0-1|               0-2|               1-0|               1-1|               2-0|               2-2|               ---|               ---|\n",
            "|     X|               0-0|               0-1|               0-2|               1-0|               1-1|               2-1|               2-0|               ---|               ---|\n",
            "|     X|               0-0|               0-1|               0-2|               1-0|               1-1|               2-1|               2-2|               ---|               ---|\n",
            "|     X|               0-0|               0-1|               0-2|               1-0|               1-1|               2-2|               2-0|               ---|               ---|\n",
            "|     X|               0-0|               0-1|               0-2|               1-0|               1-2|               1-1|               2-2|               ---|               ---|\n",
            "|     X|               0-0|               0-1|               0-2|               1-0|               1-2|               2-0|               2-2|               ---|               ---|\n",
            "|     X|               0-0|               0-1|               0-2|               1-0|               1-2|               2-1|               2-2|               ---|               ---|\n",
            "|     X|               0-0|               0-1|               0-2|               1-0|               2-0|               1-2|               1-1|               ---|               ---|\n",
            "|     X|               0-0|               0-1|               0-2|               1-0|               2-0|               2-1|               1-1|               ---|               ---|\n",
            "|     X|               0-0|               0-1|               0-2|               1-0|               2-0|               2-2|               1-1|               ---|               ---|\n",
            "|     X|               0-0|               0-1|               0-2|               1-0|               2-2|               1-1|               1-2|               ---|               ---|\n",
            "|     X|               0-0|               0-1|               0-2|               1-0|               2-2|               1-2|               1-1|               ---|               ---|\n",
            "|     X|               0-0|               0-1|               0-2|               1-0|               2-2|               2-0|               1-1|               ---|               ---|\n",
            "|     X|               0-0|               0-1|               0-2|               1-0|               2-2|               2-0|               1-2|               ---|               ---|\n",
            "|     X|               0-0|               0-1|               0-2|               1-0|               2-2|               2-1|               1-1|               ---|               ---|\n",
            "|     X|               0-0|               0-1|               0-2|               1-0|               2-2|               2-1|               1-2|               ---|               ---|\n",
            "|     X|               0-0|               0-1|               0-2|               1-1|               1-0|               1-2|               2-0|               ---|               ---|\n",
            "|     X|               0-0|               0-1|               0-2|               1-1|               1-0|               2-2|               2-0|               ---|               ---|\n",
            "+------+------------------+------------------+------------------+------------------+------------------+------------------+------------------+------------------+------------------+\n",
            "only showing top 20 rows\n",
            "\n"
          ]
        }
      ]
    },
    {
      "cell_type": "code",
      "source": [
        "# X won in 4 moves (7 moves Overall)\n",
        "\n",
        "spark.sql(\"\"\"\n",
        "SELECT COUNT(*) as X_wins\n",
        "    FROM tictactoe_games\n",
        "    WHERE Winner = 'X' AND `Move 6-O (Row-Col)` != '---' AND `Move 8-O (Row-Col)` = '---'\n",
        "\"\"\").show()"
      ],
      "metadata": {
        "colab": {
          "base_uri": "https://localhost:8080/"
        },
        "id": "GVOxYVDo2BRc",
        "outputId": "2a70414b-c269-44bd-dfaa-8abd02b7c8b5"
      },
      "execution_count": null,
      "outputs": [
        {
          "output_type": "stream",
          "name": "stdout",
          "text": [
            "+------+\n",
            "|X_wins|\n",
            "+------+\n",
            "| 47952|\n",
            "+------+\n",
            "\n"
          ]
        }
      ]
    },
    {
      "cell_type": "code",
      "source": [
        "# X won in 5 moves (9 moves Overall)\n",
        "\n",
        "spark.sql(\"\"\"\n",
        "    SELECT *\n",
        "    FROM tictactoe_games\n",
        "    WHERE Winner = 'X' AND `Move 9-X (Row-Col)` != '---'\n",
        "\"\"\").show()"
      ],
      "metadata": {
        "colab": {
          "base_uri": "https://localhost:8080/"
        },
        "id": "A95bLnZd391x",
        "outputId": "efb54f31-424c-4c37-b1b3-1892339a2080"
      },
      "execution_count": null,
      "outputs": [
        {
          "output_type": "stream",
          "name": "stdout",
          "text": [
            "+------+------------------+------------------+------------------+------------------+------------------+------------------+------------------+------------------+------------------+\n",
            "|Winner|Move 1-X (Row-Col)|Move 2-O (Row-Col)|Move 3-X (Row-Col)|Move 4-O (Row-Col)|Move 5-X (Row-Col)|Move 6-O (Row-Col)|Move 7-X (Row-Col)|Move 8-O (Row-Col)|Move 9-X (Row-Col)|\n",
            "+------+------------------+------------------+------------------+------------------+------------------+------------------+------------------+------------------+------------------+\n",
            "|     X|               0-0|               0-1|               0-2|               1-0|               1-1|               1-2|               2-1|               2-0|               2-2|\n",
            "|     X|               0-0|               0-1|               0-2|               1-0|               1-1|               1-2|               2-1|               2-2|               2-0|\n",
            "|     X|               0-0|               0-1|               0-2|               1-0|               1-1|               2-0|               1-2|               2-1|               2-2|\n",
            "|     X|               0-0|               0-1|               0-2|               1-0|               1-1|               2-0|               2-1|               1-2|               2-2|\n",
            "|     X|               0-0|               0-1|               0-2|               1-0|               1-1|               2-1|               1-2|               2-0|               2-2|\n",
            "|     X|               0-0|               0-1|               0-2|               1-0|               1-1|               2-1|               1-2|               2-2|               2-0|\n",
            "|     X|               0-0|               0-1|               0-2|               1-0|               1-1|               2-2|               1-2|               2-1|               2-0|\n",
            "|     X|               0-0|               0-1|               0-2|               1-0|               1-1|               2-2|               2-1|               1-2|               2-0|\n",
            "|     X|               0-0|               0-1|               0-2|               1-0|               1-2|               1-1|               2-1|               2-0|               2-2|\n",
            "|     X|               0-0|               0-1|               0-2|               1-0|               1-2|               2-0|               1-1|               2-1|               2-2|\n",
            "|     X|               0-0|               0-1|               0-2|               1-0|               1-2|               2-0|               2-1|               1-1|               2-2|\n",
            "|     X|               0-0|               0-1|               0-2|               1-0|               1-2|               2-1|               1-1|               2-0|               2-2|\n",
            "|     X|               0-0|               0-1|               0-2|               1-0|               1-2|               2-1|               1-1|               2-2|               2-0|\n",
            "|     X|               0-0|               0-1|               0-2|               1-0|               1-2|               2-1|               2-0|               2-2|               1-1|\n",
            "|     X|               0-0|               0-1|               0-2|               1-0|               1-2|               2-2|               1-1|               2-1|               2-0|\n",
            "|     X|               0-0|               0-1|               0-2|               1-0|               1-2|               2-2|               2-0|               2-1|               1-1|\n",
            "|     X|               0-0|               0-1|               0-2|               1-0|               2-0|               1-2|               2-1|               2-2|               1-1|\n",
            "|     X|               0-0|               0-1|               0-2|               1-0|               2-0|               1-2|               2-2|               2-1|               1-1|\n",
            "|     X|               0-0|               0-1|               0-2|               1-0|               2-0|               2-1|               1-2|               2-2|               1-1|\n",
            "|     X|               0-0|               0-1|               0-2|               1-0|               2-0|               2-1|               2-2|               1-2|               1-1|\n",
            "+------+------------------+------------------+------------------+------------------+------------------+------------------+------------------+------------------+------------------+\n",
            "only showing top 20 rows\n",
            "\n"
          ]
        }
      ]
    },
    {
      "cell_type": "code",
      "source": [
        "# X won in 5 moves count (9 moves Overall)\n",
        "\n",
        "spark.sql(\"\"\"\n",
        "SELECT COUNT(*) as X_wins\n",
        "    FROM tictactoe_games\n",
        "    WHERE Winner = 'X' AND `Move 9-X (Row-Col)` != '---'\n",
        "\"\"\").show()"
      ],
      "metadata": {
        "colab": {
          "base_uri": "https://localhost:8080/"
        },
        "id": "USYPHTn74Iwy",
        "outputId": "7fdb6766-cbbe-4574-b418-4087e3196913"
      },
      "execution_count": null,
      "outputs": [
        {
          "output_type": "stream",
          "name": "stdout",
          "text": [
            "+------+\n",
            "|X_wins|\n",
            "+------+\n",
            "| 81792|\n",
            "+------+\n",
            "\n"
          ]
        }
      ]
    },
    {
      "cell_type": "code",
      "source": [
        "spark.sql(\"\"\"\n",
        "    SELECT\n",
        "        COUNT(*) as games_count,\n",
        "        COLLECT_LIST(\n",
        "            CONCAT(\n",
        "                `Move 1-X (Row-Col)`, ', ',\n",
        "                `Move 2-O (Row-Col)`, ', ',\n",
        "                `Move 3-X (Row-Col)`, ', ',\n",
        "                `Move 4-O (Row-Col)`, ', ',\n",
        "                `Move 5-X (Row-Col)`\n",
        "            )\n",
        "        ) as winning_sequences\n",
        "    FROM tictactoe_games\n",
        "    WHERE Winner = 'X' AND `Move 6-O (Row-Col)` = '---'\n",
        "\"\"\").show(truncate=False)"
      ],
      "metadata": {
        "id": "zXMqPEFJ_ryR",
        "colab": {
          "base_uri": "https://localhost:8080/"
        },
        "outputId": "b3a6b904-8aad-47a8-e44f-850b043d1eca"
      },
      "execution_count": null,
      "outputs": [
        {
          "output_type": "stream",
          "name": "stdout",
          "text": [
            "+-----------+------------------------------------------------------------------------------------------------------------------------------------------------------------------------------------------------------------------------------------------------------------------------------------------------------------------------------------------------------------------------------------------------------------------------------------------------------------------------------------------------------------------------------------------------------------------------------------------------------------------------------------------------------------------------------------------------------------------------------------------------------------------------------------------------------------------------------------------------------------------------------------------------------------------------------------------------------------------------------------------------------------------------------------------------------------------------------------------------------------------------------------------------------------------------------------------------------------------------------------------------------------------------------------------------------------------------------------------------------------------------------------------------------------------------------------------------------------------------------------------------------------------------------------------------------------------------------------------------------------------------------------------------------------------------------------------------------------------------------------------------------------------------------------------------------------------------------------------------------------------------------------------------------------------------------------------------------------------------------------------------------------------------------------------------------------------------------------------------------------------------------------------------------------------------------------------------------------------------------------------------------------------------------------------------------------------------------------------------------------------------------------------------------------------------------------------------------------------------------------------------------------------------------------------------------------------------------------------------------------------------------------------------------------------------------------------------------------------------------------------------------------------------------------------------------------------------------------------------------------------------------------------------------------------------------------------------------------------------------------------------------------------------------------------------------------------------------------------------------------------------------------------------------------------------------------------------------------------------------------------------------------------------------------------------------------------------------------------------------------------------------------------------------------------------------------------------------------------------------------------------------------------------------------------------------------------------------------------------------------------------------------------------------------------------------------------------------------------------------------------------------------------------------------------------------------------------------------------------------------------------------------------------------------------------------------------------------------------------------------------------------------------------------------------------------------------------------------------------------------------------------------------------------------------------------------------------------------------------------------------------------------------------------------------------------------------------------------------------------------------------------------------------------------------------------------------------------------------------------------------------------------------------------------------------------------------------------------------------------------------------------------------------------------------------------------------------------------------------------------------------------------------------------------------------------------------------------------------------------------------------------------------------------------------------------------------------------------------------------------------------------------------------------------------------------------------------------------------------------------------------------------------------------------------------------------------------------------------------------------------------------------------------------------------------------------------------------------------------------------------------------------------------------------------------------------------------------------------------------------------------------------------------------------------------------------------------------------------------------------------------------------------------------------------------------------------------------------------------------------------------------------------------------------------------------------------------------------------------------------------------------------------------------------------------------------------------------------------------------------------------------------------------------------------------------------------------------------------------------------------------------------------------------------------------------------------------------------------------------------------------------------------------------------------------------------------------------------------------------------------------------------------------------------------------------------------------------------------------------------------------------------------------------------------------------------------------------------------------------------------------------------------------------------------------------------------------------------------------------------------------------------------------------------------------------------------------------------------------------------------------------------------------------------------------------------------------------------------------------------------------------------------------------------------------------------------------------------------------------------------------------------------------------------------------------------------------------------------------------------------------------------------------------------------------------------------------------------------------------------------------------------------------------------------------------------------------------------------------------------------------------------------------------------------------------------------------------------------------------------------------------------------------------------------------------------------------------------------------------------------------------------------------------------------------------------------------------------------------------------------------------------------------------------------------------------------------------------------------------------------------------------------------------------------------------------------------------------------------------------------------------------------------------------------------------------------------------------------------------------------------------------------------------------------------------------------------------------------------------------------------------------------------------------------------------------------------------------------------------------------------------------------------------------------------------------------------------------------------------------------------------------------------------------------------------------------------------------------------------------------------------------------------------------------------------------------------------------------------------------------------------------------------------------------------------------------------------------------------------------------------------------------------------------------------------------------------------------------------------------------------------------------------------------------------------------------------------------------------------------------------------------------------------------------------------------------------------------------------------------------------------------------------------------------------------------------------------------------------------------------------------------------------------------------------------------------------------------------------------------------------------------------------------------------------------------------------------------------------------------------------------------------------------------------------------------------------------------------------------------------------------------------------------------------------------------------------------------------------------------------------------------------------------------------------------------------------------------------------------------------------------------------------------------------------------------------------------------------------------------------------------------------------------------------------------------------------------------------------------------------------------------------------------------------------------------------------------------------------------------------------------------------------------------------------------------------------------------------------------------------------------------------------------------------------------------------------------------------------------------------------------------------------------------------------------------------------------------------------------------------------------------------------------------------------------------------------------------------------------------------------------------------------------------------------------------------------------------------------------------------------------------------------------------------------------------------------------------------------------------------------------------------------------------------------------------------------------------------------------------------------------------------------------------------------------------------------------------------------------------------------------------------------------------------------------------------------------------------------------------------------------------------------------------------------------------------------------------------------------------------------------------------------------------------------------------------------------------------------------------------------------------------------------------------------------------------------------------------------------------------------------------------------------------------------------------------------------------------------------------------------------------------------------------------------------------------------------------------------------------------------------------------------------------------------------------------------------------------------------------------------------------------------------------------------------------------------------------------------------------------------------------------------------------------------------------------------------------------------------------------------------------------------------------------------------------------------------------------------------------------------------------------------------------------------------------------------------------------------------------------------------------------------------------------------------------------------------------------------------------------------------------------------------------------------------------------------------------------------------------------------------------------------------------------------------------------------------------------------------------------------------------------------------------------------------------------------------------------------------------------------------------------------------------------------------------------------------------------------------------------------------------------------------------------------------------------------------------------------------------------------------------------------------------------------------------------------------------------------------------------------------------------------------------------------------------------------------------------------------------------------------------------------------------------------------------------------------------------------------------------------------------------------------------------------------------------------------------------------------------------------------------------------------------------------------------------------------------------------------------------------------------------------------------------------------------------------------------------------------------------------------------------------------------------------------------------------------------------------------------------------------------------------------------------------------------------------------------------------------------------------------------------------------------------------------------------------------------------------------------------------------------------------------------------------------------------------------------------------------------------------------------------------------------------------------------------------------------------------------------------------------------------------------------------------------------------------------------------------------------------------------------------------------------------------------------------------------------------------------------------------------------------------------------------------------------------------------------------------------------------------------------------------------------------------------------------------------------------------------------------------------------------------------------------------------------------------------------------------------------------------------------------------------------------------------------------------------------------------------------------------------------------------------------------------------------------------------------------------------------------------------------------------------------------------------------------------------------------------------------------------------------------------------------------------------------------------------------------------------------------------------------------------------------------------------------------------------------------------------------------------------------------------------------------------------------------------------------------------------------------------------------------------------------------------------------------------------------------------------------------------------------------------------------------------------------------------------------------------------------------------------------------------------------------------------------------------------------------------------------------------------------------------------------------------------------------------------------------------------------------------------------------------------------------------------------------------------------------------------------------------------------------------------------------------------------------------------------------------------------------------------------------------------------------------------------------------------------------------------------------------------------------------------------------------------------------------------------------------------------------------------------------------------------------------------------------------------------------------------------------------------------------------------------------------------------------------------------------------------------------------------------------------------------------------------------------------------------------------------------------------------------------------------------------------------------------------------------------------------------------------------------------------------------------------------------------------------------------------------------------------------------------------------------------------------------------------------------------------------------------------------------------------------------------------------------------------------------------------------------------------------------------------------------------------------------------------------------------------------------------------------------------------------------------------------------------------------------------------------------------------------------------------------------------------------------------------------------------------------------------------------------------------------------------------------------------------------------------------------------------------------------------------------------------------------------------------------------------------------------------------------------------------------------------------------------------------------------------------------------------------------------------------------------------------------------------------------------------------------------------------------------------------------------------------------------------------------------------------------------------------------------------------------------------------------------------------------------------------------------------------------------------------------------------------------------------------------------------------------------------------------------------------------------------------------------------------------------------------------------------------------------------------------------------------------------------------------------------------------------------------------------------------------------------------------------------------------------------------------------------------------------------------------------------------------------------------------------------------------------------------------------------------------------------------------------------------------------------------------------------------------------------------------------------------------------------------------------------------------------------------------------------------------------------------------------------------------------------------------------------------------------------------------------------------------------------------------------------------------------------------------------------------------------------------------------------------------------------------------------------------------------------------------------------------------------------------------------------------------------------------------------------------------------------------------------------------------------------------------------------------------------------------------------------------------------------------------------------------------------------------------------------------------------------------------------------------------------------------------------------------------------------------------------------------------------------------------------------------------------------------------------------------------------------------------------------------------------------------------------------------------------------------------------------------------------------------------------------------------------------------------------------------------------------------------------------------------------------------------------------------------------------------------------------------------------------------------------------------------------------------------------------------------------------------------------------------------------------------------------------------------------------------------------------------------------------------------------------------------------------------------------------------------------------------------------------------------------------------------------------------------------------------------------------------------------------------------------------------------------------------------------------------------------------------------------------------------------------------------------------------------------------------------------------------------------------------------------------------------------------------------------------------------------------------------------------------------------------------------------------------------------------------------------------------------------------------------------------------------------------------------------------------------------------------------------------------------------------------------------------------------------------------------------------------------------------------------------------------------------------------------------------------------------------------------------------------------------------------------------------------------------------------------------------------------------------------------------------------------------------------------------------------------------------------------------------------------------------------------------------------------------------------------------------------------------------------------------------------------------------------------------------------------------------------------------------------------------------------------------------------------------------------------------------------------------------------------------------------------------------------------------------------------------------------------------------------------------------------------------------------------------------------------------------------------------------------------------------------------------------------------------------------------------------------------------------------------------------------------------------------------------------------------------------------------------------------------------------------------------------------------------------------------------------------------------------------------------------------------------------------------------------------------------------------------------------------------------------------------------------------------------------------------------------------------------------------------------------------------------------------------------------------------------------------------------------------------------------------------------------------------------------------------------------------------------------------------------------------------------------------------------------------------------------------------------------------------------------------------------------------------------------------------------------------------------------------------------------------------------------------------------------------------------------------------------------------------------------------------------------------------------------------------------------------------------------------------------------------------------------------------------------------------------------------------------------------------------------------------------------------------------------------------------------------------------------------------------------------------------------------------------------------------------------------------------------------------------------------------------------------------------------------------------------------------------------------------------------------------------------------------------------------------------------------------------------------------------------------------------------------------------------------------------------------------------------------------------------------------------------------------------------------------------------------------------------------------------------------------------------------------------------------------------------------------------------------------------------------------------------------------------------------------------------------------------------------------------------------------------------------------------------------------------------------------------------------------------------------------------------------------------------------------------------------------------------------------------------------------------------------------------------------------------------------------------------------------------------------------------------------------------------------------------------------------------------------------------------------------------------------------------------------------------------------------------------------------------------------------------------------------------------------------------------------------------------------------------------------------------------------------------------------------------------------------------------------------------------------------------------------------------------------------------------------------------------------------------------------------------------------------------------------------------------------------------------------------------------------------------------------------------------------------------------------------------------------------------------------------------------------------------------------------------------------------------------------------------------------------------------------------------------------------------------------------------------------------------------------------------------------------------------------------------------------------------------------------------------------------------------------------------------------------------------------------------------------------------------------------------------------------------------------------------------------------------------------------------------------------------------------------------------------------------------------------------------------------------------------------------------------------------------------------------------------------------------------------------------------------------------------------------------------------------------------------------------------------------------------------------------------------------------------------------------------------------------------------------------------------------------------------------------------------------------------------------------------------------------------------------------------------------------------------------------------------------------------------------------------------------------------------------------------------------------------------------------------------------------------------------------------------------------------------------------------------------------------------------------------------------------------------------------------------------------------------------------------------------------------------------------------------------------------------------------------------------------------------------------------------------------------------------------------------------------------------------------------------------------------------------------------------------------------------------------------------------------------------------------------------------------------------------------------------------------------------------------------------------------------------------------------------------------------------------------------------------------------------------------------------------------------------------------------------------------------------------------------------------------------------------------------------------------------------------------------------------------------------------------------------------------------------------------------------------------------------------------------------------------------------------------------------------------------------------------------------------------------------------------------------------------------------------------------------------------------------------------------------------------------------------------------------------------------------------------------------------------------------------------------------------------------------------------------------------------------------------------------------------------------------------------------------------------------------------------------------------------------------------------------------------------------------------------------------------------------------------------------------------------------------------------------------------------------------------------------------------------------------------------------------------------------------------------------------------------------------------------------------------------------------------------------------------------------------------------------------------------------------------------------------------------------------------------------------------------------------------------------------------------------------------------------------------------------------------------------------------------------------------------------------------------------------------------------------------------------------------------------------------------------------------------------------------------------------------------------------------------------------------------------------------------------------------------------------------------------------------------------------------------------------------------------------------------------------------------------------------------------------------------------------------------------------------------------------------------------------------------------------------------------------------------------------------------------------------------------------------------------------------------------------------------------------------------------------------------------------------------------------------------------------------------------------------------------------------------------------------------------------------------------------------------------------------------------------------------------------------------------------------------------------------------------------------------------------------------------------------------------------------------------------------------------------------------------------------------------------------------------------------------------------------------------------------------------------------------------------------------------------------------------------------------------------------------------------------------------------------------------------------------------------------------------------------------------------------------------------------------------------------------------------------------------------------------------------------------------------------------------------------------------------------------------------------------------------------------------------------------------------------------------------------------------------------------------------------------------------------------------------------------------------------------------------------------------------------------------------------------------------------------------------------------------------------------------------------------------------------------------------------------------------------------------------------------------------------------------------------------------------------------------------------------------------------------------------------------------------------------------------------------------------------------------------------------------------------------------------------------------------------------------------------------------------------------------------------------------------------------------------------------------------------------------------------------------------------------------------------------------------------------------------------------------------------------------------------------------------------------------------------------------------------------------------------------------------------------------------------------------------------------------------------------------------------------------------------------------------------------------------------------------------------------------------------------------------------------------------------------------------------------------------------------------------------------------------------------------------------------------------------------------------------------------------------------------------------------------------------------------------------------------------------------------------------------------------------------------------------------------------------------------------------------------------------------------------------------------------------------------------------------------------------------------------------------------------------------------------------------------------------------------------------------------------------------------------------------------------------------------------------------------------------------------------------------------------------------------------------------------------------------------------------------------------------------------------------------------------------------------------------------------------------------------------------------------------------------------------------------------------------------------------------------------------------------------------------------------------------------------------------------------------------------------------------------------------------------------------------------------------------------------------------------------------------------------------------------------------------------------------------------------------------------------------------------------------------------------------------------------------------------------------------------------------------------------------------------------------------------------------------------------------------------------------------------------------------------------------------------------------------------------------------------------------------------------------------------------------------------------------------------------------------------------------------------------------------------------------------------------------------------------------------------------+\n",
            "|games_count|winning_sequences                                                                                                                                                                                                                                                                                                                                                                                                                                                                                                                                                                                                                                                                                                                                                                                                                                                                                                                                                                                                                                                                                                                                                                                                                                                                                                                                                                                                                                                                                                                                                                                                                                                                                                                                                                                                                                                                                                                                                                                                                                                                                                                                                                                                                                                                                                                                                                                                                                                                                                                                                                                                                                                                                                                                                                                                                                                                                                                                                                                                                                                                                                                                                                                                                                                                                                                                                                                                                                                                                                                                                                                                                                                                                                                                                                                                                                                                                                                                                                                                                                                                                                                                                                                                                                                                                                                                                                                                                                                                                                                                                                                                                                                                                                                                                                                                                                                                                                                                                                                                                                                                                                                                                                                                                                                                                                                                                                                                                                                                                                                                                                                                                                                                                                                                                                                                                                                                                                                                                                                                                                                                                                                                                                                                                                                                                                                                                                                                                                                                                                                                                                                                                                                                                                                                                                                                                                                                                                                                                                                                                                                                                                                                                                                                                                                                                                                                                                                                                                                                                                                                                                                                                                                                                                                                                                                                                                                                                                                                                                                                                                                                                                                                                                                                                                                                                                                                                                                                                                                                                                                                                                                                                                                                                                                                                                                                                                                                                                                                                                                                                                                                                                                                                                                                                                                                                                                                                                                                                                                                                                                                                                                                                                                                                                                                                                                                                                                                                                                                                                                                                                                                                                                                                                                                                                                                                                                                                                                                                                                                                                                                                                                                                                                                                                                                                                                                                                                                                                                                                                                                                                                                                                                                                                                                                                                                                                                                                                                                                                                                                                                                                                                                                                                                                                                                                                                                                                                                                                                                                                                                                                                                                                                                                                                                                                                                                                                                                                                                                                                                                                                                                                                                                                                                                                                                                                                                                                                                                                                                                                                                                                                                                                                                                                                                                                                                                                                                                                                                                                                                                                                                                                                                                                                                                                                                                                                                                                                                                                                                                                                                                                                                                                                                                                                                                                                                                                                                                                                                                                                                                                                                                                                                                                                                                                                                                                                                                                                                                                                                                                                                                                                                                                                                                                                                                                                                                                                                                                                                                                                                                                                                                                                                                                                                                                                                                                                                                                                                                                                                                                                                                                                                                                                                                                                                                                                                                                                                                                                                                                                                                                                                                                                                                                                                                                                                                                                                                                                                                                                                                                                                                                                                                                                                                                                                                                                                                                                                                                                                                                                                                                                                                                                                                                                                                                                                                                                                                                                                                                                                                                                                                                                                                                                                                                                                                                                                                                                                                                                                                                                                                                                                                                                                                                                                                                                                                                                                                                                                                                                                                                                                                                                                                                                                                                                                                                                                                                                                                                                                                                                                                                                                                                                                                                                                                                                                                                                                                                                                                                                                                                                                                                                                                                                                                                                                                                                                                                                                                                                                                                                                                                                                                                                                                                                                                                                                                                                                                                                                                                                                                                                                                                                                                                                                                                                                                                                                                                                                                                                                                                                                                                                                                                                                                                                                                                                                                                                                                                                                                                                                                                                                                                                                                                                                                                                                                                                                                                                                                                                                                                                                                                                                                                                                                                                                                                                                                                                                                                                                                                                                                                                                                                                                                                                                                                                                                                                                                                                                                                                                                                                                                                                                                                                                                                                                                                                                                                                                                                                                                                                                                                                                                                                                                                                                                                                                                                                                                                                                                                                                                                                                                                                                                                                                                                                                                                                                                                                                                                                                                                                                                                                                                                                                                                                                                                                                                                                                                                                                                                                                                                                                                                                                                                                                                                                                                                                                                                                                                                                                                                                                                                                                                                                                                                                                                                                                                                                                                                                                                                                                                                                                                                                                                                                                                                                                                                                                                                                                                                                                                                                                                                                                                                                                                                                                                                                                                                                                                                                                                                                                                                                                                                                                                                                                                                                                                                                                                                                                                                                                                                                                                                                                                                                                                                                                                                                                                                                                                                                                                                                                                                                                                                                                                                                                                                                                                                                                                                                                                                                                                                                                                                                                                                                                                                                                                                                                                                                                                                                                                                                                                                                                                                                                                                                                                                                                                                                                                                                                                                                                                                                                                                                                                                                                                                                                                                                                                                                                                                                                                                                                                                                                                                                                                                                                                                                                                                                                                                                                                                                                                                                                                                                                                                                                                                                                                                                                                                                                                                                                                                                                                                                                                                                                                                                                                                                                                                                                                                                                                                                                                                                                                                                                                                                                                                                                                                                                                                                                                                                                                                                                                                                                                                                                                                                                                                                                                                                                                                                                                                                                                                                                                                                                                                                                                                                                                                                                                                                                                                                                                                                                                                                                                                                                                                                                                                                                                                                                                                                                                                                                                                                                                                                                                                                                                                                                                                                                                                                                                                                                                                                                                                                                                                                                                                                                                                                                                                                                                                                                                                                                                                                                                                                                                                                                                                                                                                                                                                                                                                                                                                                                                                                                                                                                                                                                                                                                                                                                                                                                                                                                                                                                                                                                                                                                                                                                                                                                                                                                                                                                                                                                                                                                                                                                                                                                                                                                                                                                                                                                                                                                                                                                                                                                                                                                                                                                                                                                                                                                                                                                                                                                                                                                               |\n",
            "+-----------+------------------------------------------------------------------------------------------------------------------------------------------------------------------------------------------------------------------------------------------------------------------------------------------------------------------------------------------------------------------------------------------------------------------------------------------------------------------------------------------------------------------------------------------------------------------------------------------------------------------------------------------------------------------------------------------------------------------------------------------------------------------------------------------------------------------------------------------------------------------------------------------------------------------------------------------------------------------------------------------------------------------------------------------------------------------------------------------------------------------------------------------------------------------------------------------------------------------------------------------------------------------------------------------------------------------------------------------------------------------------------------------------------------------------------------------------------------------------------------------------------------------------------------------------------------------------------------------------------------------------------------------------------------------------------------------------------------------------------------------------------------------------------------------------------------------------------------------------------------------------------------------------------------------------------------------------------------------------------------------------------------------------------------------------------------------------------------------------------------------------------------------------------------------------------------------------------------------------------------------------------------------------------------------------------------------------------------------------------------------------------------------------------------------------------------------------------------------------------------------------------------------------------------------------------------------------------------------------------------------------------------------------------------------------------------------------------------------------------------------------------------------------------------------------------------------------------------------------------------------------------------------------------------------------------------------------------------------------------------------------------------------------------------------------------------------------------------------------------------------------------------------------------------------------------------------------------------------------------------------------------------------------------------------------------------------------------------------------------------------------------------------------------------------------------------------------------------------------------------------------------------------------------------------------------------------------------------------------------------------------------------------------------------------------------------------------------------------------------------------------------------------------------------------------------------------------------------------------------------------------------------------------------------------------------------------------------------------------------------------------------------------------------------------------------------------------------------------------------------------------------------------------------------------------------------------------------------------------------------------------------------------------------------------------------------------------------------------------------------------------------------------------------------------------------------------------------------------------------------------------------------------------------------------------------------------------------------------------------------------------------------------------------------------------------------------------------------------------------------------------------------------------------------------------------------------------------------------------------------------------------------------------------------------------------------------------------------------------------------------------------------------------------------------------------------------------------------------------------------------------------------------------------------------------------------------------------------------------------------------------------------------------------------------------------------------------------------------------------------------------------------------------------------------------------------------------------------------------------------------------------------------------------------------------------------------------------------------------------------------------------------------------------------------------------------------------------------------------------------------------------------------------------------------------------------------------------------------------------------------------------------------------------------------------------------------------------------------------------------------------------------------------------------------------------------------------------------------------------------------------------------------------------------------------------------------------------------------------------------------------------------------------------------------------------------------------------------------------------------------------------------------------------------------------------------------------------------------------------------------------------------------------------------------------------------------------------------------------------------------------------------------------------------------------------------------------------------------------------------------------------------------------------------------------------------------------------------------------------------------------------------------------------------------------------------------------------------------------------------------------------------------------------------------------------------------------------------------------------------------------------------------------------------------------------------------------------------------------------------------------------------------------------------------------------------------------------------------------------------------------------------------------------------------------------------------------------------------------------------------------------------------------------------------------------------------------------------------------------------------------------------------------------------------------------------------------------------------------------------------------------------------------------------------------------------------------------------------------------------------------------------------------------------------------------------------------------------------------------------------------------------------------------------------------------------------------------------------------------------------------------------------------------------------------------------------------------------------------------------------------------------------------------------------------------------------------------------------------------------------------------------------------------------------------------------------------------------------------------------------------------------------------------------------------------------------------------------------------------------------------------------------------------------------------------------------------------------------------------------------------------------------------------------------------------------------------------------------------------------------------------------------------------------------------------------------------------------------------------------------------------------------------------------------------------------------------------------------------------------------------------------------------------------------------------------------------------------------------------------------------------------------------------------------------------------------------------------------------------------------------------------------------------------------------------------------------------------------------------------------------------------------------------------------------------------------------------------------------------------------------------------------------------------------------------------------------------------------------------------------------------------------------------------------------------------------------------------------------------------------------------------------------------------------------------------------------------------------------------------------------------------------------------------------------------------------------------------------------------------------------------------------------------------------------------------------------------------------------------------------------------------------------------------------------------------------------------------------------------------------------------------------------------------------------------------------------------------------------------------------------------------------------------------------------------------------------------------------------------------------------------------------------------------------------------------------------------------------------------------------------------------------------------------------------------------------------------------------------------------------------------------------------------------------------------------------------------------------------------------------------------------------------------------------------------------------------------------------------------------------------------------------------------------------------------------------------------------------------------------------------------------------------------------------------------------------------------------------------------------------------------------------------------------------------------------------------------------------------------------------------------------------------------------------------------------------------------------------------------------------------------------------------------------------------------------------------------------------------------------------------------------------------------------------------------------------------------------------------------------------------------------------------------------------------------------------------------------------------------------------------------------------------------------------------------------------------------------------------------------------------------------------------------------------------------------------------------------------------------------------------------------------------------------------------------------------------------------------------------------------------------------------------------------------------------------------------------------------------------------------------------------------------------------------------------------------------------------------------------------------------------------------------------------------------------------------------------------------------------------------------------------------------------------------------------------------------------------------------------------------------------------------------------------------------------------------------------------------------------------------------------------------------------------------------------------------------------------------------------------------------------------------------------------------------------------------------------------------------------------------------------------------------------------------------------------------------------------------------------------------------------------------------------------------------------------------------------------------------------------------------------------------------------------------------------------------------------------------------------------------------------------------------------------------------------------------------------------------------------------------------------------------------------------------------------------------------------------------------------------------------------------------------------------------------------------------------------------------------------------------------------------------------------------------------------------------------------------------------------------------------------------------------------------------------------------------------------------------------------------------------------------------------------------------------------------------------------------------------------------------------------------------------------------------------------------------------------------------------------------------------------------------------------------------------------------------------------------------------------------------------------------------------------------------------------------------------------------------------------------------------------------------------------------------------------------------------------------------------------------------------------------------------------------------------------------------------------------------------------------------------------------------------------------------------------------------------------------------------------------------------------------------------------------------------------------------------------------------------------------------------------------------------------------------------------------------------------------------------------------------------------------------------------------------------------------------------------------------------------------------------------------------------------------------------------------------------------------------------------------------------------------------------------------------------------------------------------------------------------------------------------------------------------------------------------------------------------------------------------------------------------------------------------------------------------------------------------------------------------------------------------------------------------------------------------------------------------------------------------------------------------------------------------------------------------------------------------------------------------------------------------------------------------------------------------------------------------------------------------------------------------------------------------------------------------------------------------------------------------------------------------------------------------------------------------------------------------------------------------------------------------------------------------------------------------------------------------------------------------------------------------------------------------------------------------------------------------------------------------------------------------------------------------------------------------------------------------------------------------------------------------------------------------------------------------------------------------------------------------------------------------------------------------------------------------------------------------------------------------------------------------------------------------------------------------------------------------------------------------------------------------------------------------------------------------------------------------------------------------------------------------------------------------------------------------------------------------------------------------------------------------------------------------------------------------------------------------------------------------------------------------------------------------------------------------------------------------------------------------------------------------------------------------------------------------------------------------------------------------------------------------------------------------------------------------------------------------------------------------------------------------------------------------------------------------------------------------------------------------------------------------------------------------------------------------------------------------------------------------------------------------------------------------------------------------------------------------------------------------------------------------------------------------------------------------------------------------------------------------------------------------------------------------------------------------------------------------------------------------------------------------------------------------------------------------------------------------------------------------------------------------------------------------------------------------------------------------------------------------------------------------------------------------------------------------------------------------------------------------------------------------------------------------------------------------------------------------------------------------------------------------------------------------------------------------------------------------------------------------------------------------------------------------------------------------------------------------------------------------------------------------------------------------------------------------------------------------------------------------------------------------------------------------------------------------------------------------------------------------------------------------------------------------------------------------------------------------------------------------------------------------------------------------------------------------------------------------------------------------------------------------------------------------------------------------------------------------------------------------------------------------------------------------------------------------------------------------------------------------------------------------------------------------------------------------------------------------------------------------------------------------------------------------------------------------------------------------------------------------------------------------------------------------------------------------------------------------------------------------------------------------------------------------------------------------------------------------------------------------------------------------------------------------------------------------------------------------------------------------------------------------------------------------------------------------------------------------------------------------------------------------------------------------------------------------------------------------------------------------------------------------------------------------------------------------------------------------------------------------------------------------------------------------------------------------------------------------------------------------------------------------------------------------------------------------------------------------------------------------------------------------------------------------------------------------------------------------------------------------------------------------------------------------------------------------------------------------------------------------------------------------------------------------------------------------------------------------------------------------------------------------------------------------------------------------------------------------------------------------------------------------------------------------------------------------------------------------------------------------------------------------------------------------------------------------------------------------------------------------------------------------------------------------------------------------------------------------------------------------------------------------------------------------------------------------------------------------------------------------------------------------------------------------------------------------------------------------------------------------------------------------------------------------------------------------------------------------------------------------------------------------------------------------------------------------------------------------------------------------------------------------------------------------------------------------------------------------------------------------------------------------------------------------------------------------------------------------------------------------------------------------------------------------------------------------------------------------------------------------------------------------------------------------------------------------------------------------------------------------------------------------------------------------------------------------------------------------------------------------------------------------------------------------------------------------------------------------------------------------------------------------------------------------------------------------------------------------------------------------------------------------------------------------------------------------------------------------------------------------------------------------------------------------------------------------------------------------------------------------------------------------------------------------------------------------------------------------------------------------------------------------------------------------------------------------------------------------------------------------------------------------------------------------------------------------------------------------------------------------------------------------------------------------------------------------------------------------------------------------------------------------------------------------------------------------------------------------------------------------------------------------------------------------------------------------------------------------------------------------------------------------------------------------------------------------------------------------------------------------------------------------------------------------------------------------------------------------------------------------------------------------------------------------------------------------------------------------------------------------------------------------------------------------------------------------------------------------------------------------------------------------------------------------------------------------------------------------------------------------------------------------------------------------------------------------------------------------------------------------------------------------------------------------------------------------------------------------------------------------------------------------------------------------------------------------------------------------------------------------------------------------------------------------------------------------------------------------------------------------------------------------------------------------------------------------------------------------------------------------------------------------------------------------------------------------------------------------------------------------------------------------------------------------------------------------------------------------------------------------------------------------------------------------------------------------------------------------------------------------------------------------------------------------------------------------------------------------------------------------------------------------------------------------------------------------------------------------------------------------------------------------------------------------------------------------------------------------------------------------------------------------------------------------------------------------------------------------------------------------------------------------------------------------------------------------------------------------------------------------------------------------------------------------------------------------------------------------------------------------------------------------------------------------------------------------------------------------------------------------------------------------------------------------------------------------------------------------------------------------------------------------------------------------------------------------------------------------------------------------------------------------------------------------------------------------------------------------------------------------------------------------------------------------------------------------------------------------------------------------------------------------------------------------------------------------------------------------------------------------------------------------------------------------------------------------------------------------------------------------------------------------------------------------------------------------------------------------------------------------------------------------------------------------------------------------------------------------------------------------------------------------------------------------------------------------------------------------------------------------------------------------------------------------------------------------------------------------------------------------------------------------------------------------------------------------------------------------------------------------------------------------------------------------------------------------------------------------------------------------------------------------------------------------------------------------------------------------------------------------------------------------------------------------------------------------------------------------------------------------------------------------------------------------------------------------------------------------------------------------------------------------------------------------------------------------------------------------------------------------------------------------------------------------------------------------------------------------------------------------------------------------------------------------------------------------------------------------------------------------------------------------------------------------------------------------------------------------------------------------------------------------------------------------------------------------------------------------------------------------------------------------------------------------------------------------------------------------------------------------------------------------------------------------------------------------------------------------------------------------------------------------------------------------------------------------------------------------------------------------------------------------------------------------------------------------------------------------------------------------------------------------------------------------------------------------------------------------------------------------------------------------------------------------------------------------------------------------------------------------------------------------------------------------------------------------------------------------------------------------------------------------------------------------------------------------------------------------------------------------------------------------------------------------------------------------------------------------------------------------------------------------------------------------------------------------------------------------------------------------------------------------------------------------------------------------------------------------------------------------------------------------------------------------------------------------------------------------------------------------------------------------------------------------------------------------------------------------------------------------------------------------------------------------------------------------------------------------------------------------------------------------------------------------------------------------------------------------------------------------------------------------------------------------------------------------------------------------------------------------------------------------------------------------------------------------------------------------------------------------------------------------------------------------------------------------------------------------------------------------------------------------------------------------------------------------------------------------------------------------------------------------------------------------------------------------------------------------------------------------------------------------------------------------------------------------------------------------------------------------------------------------------------------------------------------------------------------------------------------------------------------------------------------------------------------------------------------------------------------------------------------------------------------------------------------------------------------------------------------------------------------------------------------------------------------------------------------------------------------------------------------------------------------------------------------------------------------------------------------------------------------------------------------------------------------------------------------------------------------------------------------------------------------------------------------------------------------------------------------------------------------------------------------------------------------------------------------------------------------------------------------------------------------------------------------------------------------------------------------------------------------------------------------------------------------------------------------------------------------------------------------------------------------------------------------------------------------------------------------------------------------------------------------------------------------------------------------------------------------------------------------------------------------------------------------------------------------------------------------------------------------------------------------------------------------------------------------------------------------------------------------------------------------------------------------------------------------------------------------------------------------------------------------------------------------------------------------------------------------------------------------------------------------------------------------------------------------------------------------------------------------------------------------------------------------------------------------------------------------------------------------------------------------------------------------------------------------------------------------------------------------------------------------------------------------------------------------------------------------------------------------------------------------------------------------------------------------------------------------------------------------------------------------------------------------------------------------------------------------------------------------------------------------------------------------------------------------------------------------------------------------------------------------------------------------------------------------------------------------------------------------------------------------------------------------------------------------------------------------------------------------------------------------------------------------------------------------------------------------------------------------------------------------------------------------------------------------------------------------------------------------------------------------------------------------------------------------------------------------------------------------------------------------------------------------------------------------------------------------------------------------------------------------------------------------------------------------------------------------------------------------------------------------------------------------------------------------------------------------------------------------------------------------------------------------------------------------------------------------------------------------------------------------------------------------------------------------------------------------------------------------------------------------------------------------------------------------------------------------------------------------------------------------------------------------------------------------------------------------------------------------------------------------------------------------------------------------------------------------------------------------------------------------------------------------------------------------------------------------------------------------------------------------------------------------------------------------------------------------------------------------------------------------------------------------------------------------------------------------------------------------------------------------------------------------------------------------------------------------------------------------------------------------------------------------------------------------------------------------------------------------+\n",
            "|1440       |[0-0, 0-1, 1-0, 0-2, 2-0, 0-0, 0-1, 1-0, 1-1, 2-0, 0-0, 0-1, 1-0, 1-2, 2-0, 0-0, 0-1, 1-0, 2-1, 2-0, 0-0, 0-1, 1-0, 2-2, 2-0, 0-0, 0-1, 1-1, 0-2, 2-2, 0-0, 0-1, 1-1, 1-0, 2-2, 0-0, 0-1, 1-1, 1-2, 2-2, 0-0, 0-1, 1-1, 2-0, 2-2, 0-0, 0-1, 1-1, 2-1, 2-2, 0-0, 0-1, 2-0, 0-2, 1-0, 0-0, 0-1, 2-0, 1-1, 1-0, 0-0, 0-1, 2-0, 1-2, 1-0, 0-0, 0-1, 2-0, 2-1, 1-0, 0-0, 0-1, 2-0, 2-2, 1-0, 0-0, 0-1, 2-2, 0-2, 1-1, 0-0, 0-1, 2-2, 1-0, 1-1, 0-0, 0-1, 2-2, 1-2, 1-1, 0-0, 0-1, 2-2, 2-0, 1-1, 0-0, 0-1, 2-2, 2-1, 1-1, 0-0, 0-2, 1-0, 0-1, 2-0, 0-0, 0-2, 1-0, 1-1, 2-0, 0-0, 0-2, 1-0, 1-2, 2-0, 0-0, 0-2, 1-0, 2-1, 2-0, 0-0, 0-2, 1-0, 2-2, 2-0, 0-0, 0-2, 1-1, 0-1, 2-2, 0-0, 0-2, 1-1, 1-0, 2-2, 0-0, 0-2, 1-1, 1-2, 2-2, 0-0, 0-2, 1-1, 2-0, 2-2, 0-0, 0-2, 1-1, 2-1, 2-2, 0-0, 0-2, 2-0, 0-1, 1-0, 0-0, 0-2, 2-0, 1-1, 1-0, 0-0, 0-2, 2-0, 1-2, 1-0, 0-0, 0-2, 2-0, 2-1, 1-0, 0-0, 0-2, 2-0, 2-2, 1-0, 0-0, 0-2, 2-2, 0-1, 1-1, 0-0, 0-2, 2-2, 1-0, 1-1, 0-0, 0-2, 2-2, 1-2, 1-1, 0-0, 0-2, 2-2, 2-0, 1-1, 0-0, 0-2, 2-2, 2-1, 1-1, 0-0, 1-0, 0-1, 1-1, 0-2, 0-0, 1-0, 0-1, 1-2, 0-2, 0-0, 1-0, 0-1, 2-0, 0-2, 0-0, 1-0, 0-1, 2-1, 0-2, 0-0, 1-0, 0-1, 2-2, 0-2, 0-0, 1-0, 0-2, 1-1, 0-1, 0-0, 1-0, 0-2, 1-2, 0-1, 0-0, 1-0, 0-2, 2-0, 0-1, 0-0, 1-0, 0-2, 2-1, 0-1, 0-0, 1-0, 0-2, 2-2, 0-1, 0-0, 1-0, 1-1, 0-1, 2-2, 0-0, 1-0, 1-1, 0-2, 2-2, 0-0, 1-0, 1-1, 1-2, 2-2, 0-0, 1-0, 1-1, 2-0, 2-2, 0-0, 1-0, 1-1, 2-1, 2-2, 0-0, 1-0, 2-2, 0-1, 1-1, 0-0, 1-0, 2-2, 0-2, 1-1, 0-0, 1-0, 2-2, 1-2, 1-1, 0-0, 1-0, 2-2, 2-0, 1-1, 0-0, 1-0, 2-2, 2-1, 1-1, 0-0, 1-1, 0-1, 1-0, 0-2, 0-0, 1-1, 0-1, 1-2, 0-2, 0-0, 1-1, 0-1, 2-0, 0-2, 0-0, 1-1, 0-1, 2-1, 0-2, 0-0, 1-1, 0-1, 2-2, 0-2, 0-0, 1-1, 0-2, 1-0, 0-1, 0-0, 1-1, 0-2, 1-2, 0-1, 0-0, 1-1, 0-2, 2-0, 0-1, 0-0, 1-1, 0-2, 2-1, 0-1, 0-0, 1-1, 0-2, 2-2, 0-1, 0-0, 1-1, 1-0, 0-1, 2-0, 0-0, 1-1, 1-0, 0-2, 2-0, 0-0, 1-1, 1-0, 1-2, 2-0, 0-0, 1-1, 1-0, 2-1, 2-0, 0-0, 1-1, 1-0, 2-2, 2-0, 0-0, 1-1, 2-0, 0-1, 1-0, 0-0, 1-1, 2-0, 0-2, 1-0, 0-0, 1-1, 2-0, 1-2, 1-0, 0-0, 1-1, 2-0, 2-1, 1-0, 0-0, 1-1, 2-0, 2-2, 1-0, 0-0, 1-2, 0-1, 1-0, 0-2, 0-0, 1-2, 0-1, 1-1, 0-2, 0-0, 1-2, 0-1, 2-0, 0-2, 0-0, 1-2, 0-1, 2-1, 0-2, 0-0, 1-2, 0-1, 2-2, 0-2, 0-0, 1-2, 0-2, 1-0, 0-1, 0-0, 1-2, 0-2, 1-1, 0-1, 0-0, 1-2, 0-2, 2-0, 0-1, 0-0, 1-2, 0-2, 2-1, 0-1, 0-0, 1-2, 0-2, 2-2, 0-1, 0-0, 1-2, 1-0, 0-1, 2-0, 0-0, 1-2, 1-0, 0-2, 2-0, 0-0, 1-2, 1-0, 1-1, 2-0, 0-0, 1-2, 1-0, 2-1, 2-0, 0-0, 1-2, 1-0, 2-2, 2-0, 0-0, 1-2, 1-1, 0-1, 2-2, 0-0, 1-2, 1-1, 0-2, 2-2, 0-0, 1-2, 1-1, 1-0, 2-2, 0-0, 1-2, 1-1, 2-0, 2-2, 0-0, 1-2, 1-1, 2-1, 2-2, 0-0, 1-2, 2-0, 0-1, 1-0, 0-0, 1-2, 2-0, 0-2, 1-0, 0-0, 1-2, 2-0, 1-1, 1-0, 0-0, 1-2, 2-0, 2-1, 1-0, 0-0, 1-2, 2-0, 2-2, 1-0, 0-0, 1-2, 2-2, 0-1, 1-1, 0-0, 1-2, 2-2, 0-2, 1-1, 0-0, 1-2, 2-2, 1-0, 1-1, 0-0, 1-2, 2-2, 2-0, 1-1, 0-0, 1-2, 2-2, 2-1, 1-1, 0-0, 2-0, 0-1, 1-0, 0-2, 0-0, 2-0, 0-1, 1-1, 0-2, 0-0, 2-0, 0-1, 1-2, 0-2, 0-0, 2-0, 0-1, 2-1, 0-2, 0-0, 2-0, 0-1, 2-2, 0-2, 0-0, 2-0, 0-2, 1-0, 0-1, 0-0, 2-0, 0-2, 1-1, 0-1, 0-0, 2-0, 0-2, 1-2, 0-1, 0-0, 2-0, 0-2, 2-1, 0-1, 0-0, 2-0, 0-2, 2-2, 0-1, 0-0, 2-0, 1-1, 0-1, 2-2, 0-0, 2-0, 1-1, 0-2, 2-2, 0-0, 2-0, 1-1, 1-0, 2-2, 0-0, 2-0, 1-1, 1-2, 2-2, 0-0, 2-0, 1-1, 2-1, 2-2, 0-0, 2-0, 2-2, 0-1, 1-1, 0-0, 2-0, 2-2, 0-2, 1-1, 0-0, 2-0, 2-2, 1-0, 1-1, 0-0, 2-0, 2-2, 1-2, 1-1, 0-0, 2-0, 2-2, 2-1, 1-1, 0-0, 2-1, 0-1, 1-0, 0-2, 0-0, 2-1, 0-1, 1-1, 0-2, 0-0, 2-1, 0-1, 1-2, 0-2, 0-0, 2-1, 0-1, 2-0, 0-2, 0-0, 2-1, 0-1, 2-2, 0-2, 0-0, 2-1, 0-2, 1-0, 0-1, 0-0, 2-1, 0-2, 1-1, 0-1, 0-0, 2-1, 0-2, 1-2, 0-1, 0-0, 2-1, 0-2, 2-0, 0-1, 0-0, 2-1, 0-2, 2-2, 0-1, 0-0, 2-1, 1-0, 0-1, 2-0, 0-0, 2-1, 1-0, 0-2, 2-0, 0-0, 2-1, 1-0, 1-1, 2-0, 0-0, 2-1, 1-0, 1-2, 2-0, 0-0, 2-1, 1-0, 2-2, 2-0, 0-0, 2-1, 1-1, 0-1, 2-2, 0-0, 2-1, 1-1, 0-2, 2-2, 0-0, 2-1, 1-1, 1-0, 2-2, 0-0, 2-1, 1-1, 1-2, 2-2, 0-0, 2-1, 1-1, 2-0, 2-2, 0-0, 2-1, 2-0, 0-1, 1-0, 0-0, 2-1, 2-0, 0-2, 1-0, 0-0, 2-1, 2-0, 1-1, 1-0, 0-0, 2-1, 2-0, 1-2, 1-0, 0-0, 2-1, 2-0, 2-2, 1-0, 0-0, 2-1, 2-2, 0-1, 1-1, 0-0, 2-1, 2-2, 0-2, 1-1, 0-0, 2-1, 2-2, 1-0, 1-1, 0-0, 2-1, 2-2, 1-2, 1-1, 0-0, 2-1, 2-2, 2-0, 1-1, 0-0, 2-2, 0-1, 1-0, 0-2, 0-0, 2-2, 0-1, 1-1, 0-2, 0-0, 2-2, 0-1, 1-2, 0-2, 0-0, 2-2, 0-1, 2-0, 0-2, 0-0, 2-2, 0-1, 2-1, 0-2, 0-0, 2-2, 0-2, 1-0, 0-1, 0-0, 2-2, 0-2, 1-1, 0-1, 0-0, 2-2, 0-2, 1-2, 0-1, 0-0, 2-2, 0-2, 2-0, 0-1, 0-0, 2-2, 0-2, 2-1, 0-1, 0-0, 2-2, 1-0, 0-1, 2-0, 0-0, 2-2, 1-0, 0-2, 2-0, 0-0, 2-2, 1-0, 1-1, 2-0, 0-0, 2-2, 1-0, 1-2, 2-0, 0-0, 2-2, 1-0, 2-1, 2-0, 0-0, 2-2, 2-0, 0-1, 1-0, 0-0, 2-2, 2-0, 0-2, 1-0, 0-0, 2-2, 2-0, 1-1, 1-0, 0-0, 2-2, 2-0, 1-2, 1-0, 0-0, 2-2, 2-0, 2-1, 1-0, 0-1, 0-0, 1-1, 0-2, 2-1, 0-1, 0-0, 1-1, 1-0, 2-1, 0-1, 0-0, 1-1, 1-2, 2-1, 0-1, 0-0, 1-1, 2-0, 2-1, 0-1, 0-0, 1-1, 2-2, 2-1, 0-1, 0-0, 2-1, 0-2, 1-1, 0-1, 0-0, 2-1, 1-0, 1-1, 0-1, 0-0, 2-1, 1-2, 1-1, 0-1, 0-0, 2-1, 2-0, 1-1, 0-1, 0-0, 2-1, 2-2, 1-1, 0-1, 0-2, 1-1, 0-0, 2-1, 0-1, 0-2, 1-1, 1-0, 2-1, 0-1, 0-2, 1-1, 1-2, 2-1, 0-1, 0-2, 1-1, 2-0, 2-1, 0-1, 0-2, 1-1, 2-2, 2-1, 0-1, 0-2, 2-1, 0-0, 1-1, 0-1, 0-2, 2-1, 1-0, 1-1, 0-1, 0-2, 2-1, 1-2, 1-1, 0-1, 0-2, 2-1, 2-0, 1-1, 0-1, 0-2, 2-1, 2-2, 1-1, 0-1, 1-0, 0-0, 1-1, 0-2, 0-1, 1-0, 0-0, 1-2, 0-2, 0-1, 1-0, 0-0, 2-0, 0-2, 0-1, 1-0, 0-0, 2-1, 0-2, 0-1, 1-0, 0-0, 2-2, 0-2, 0-1, 1-0, 0-2, 1-1, 0-0, 0-1, 1-0, 0-2, 1-2, 0-0, 0-1, 1-0, 0-2, 2-0, 0-0, 0-1, 1-0, 0-2, 2-1, 0-0, 0-1, 1-0, 0-2, 2-2, 0-0, 0-1, 1-0, 1-1, 0-0, 2-1, 0-1, 1-0, 1-1, 0-2, 2-1, 0-1, 1-0, 1-1, 1-2, 2-1, 0-1, 1-0, 1-1, 2-0, 2-1, 0-1, 1-0, 1-1, 2-2, 2-1, 0-1, 1-0, 2-1, 0-0, 1-1, 0-1, 1-0, 2-1, 0-2, 1-1, 0-1, 1-0, 2-1, 1-2, 1-1, 0-1, 1-0, 2-1, 2-0, 1-1, 0-1, 1-0, 2-1, 2-2, 1-1, 0-1, 1-1, 0-0, 1-0, 0-2, 0-1, 1-1, 0-0, 1-2, 0-2, 0-1, 1-1, 0-0, 2-0, 0-2, 0-1, 1-1, 0-0, 2-1, 0-2, 0-1, 1-1, 0-0, 2-2, 0-2, 0-1, 1-1, 0-2, 1-0, 0-0, 0-1, 1-1, 0-2, 1-2, 0-0, 0-1, 1-1, 0-2, 2-0, 0-0, 0-1, 1-1, 0-2, 2-1, 0-0, 0-1, 1-1, 0-2, 2-2, 0-0, 0-1, 1-2, 0-0, 1-0, 0-2, 0-1, 1-2, 0-0, 1-1, 0-2, 0-1, 1-2, 0-0, 2-0, 0-2, 0-1, 1-2, 0-0, 2-1, 0-2, 0-1, 1-2, 0-0, 2-2, 0-2, 0-1, 1-2, 0-2, 1-0, 0-0, 0-1, 1-2, 0-2, 1-1, 0-0, 0-1, 1-2, 0-2, 2-0, 0-0, 0-1, 1-2, 0-2, 2-1, 0-0, 0-1, 1-2, 0-2, 2-2, 0-0, 0-1, 1-2, 1-1, 0-0, 2-1, 0-1, 1-2, 1-1, 0-2, 2-1, 0-1, 1-2, 1-1, 1-0, 2-1, 0-1, 1-2, 1-1, 2-0, 2-1, 0-1, 1-2, 1-1, 2-2, 2-1, 0-1, 1-2, 2-1, 0-0, 1-1, 0-1, 1-2, 2-1, 0-2, 1-1, 0-1, 1-2, 2-1, 1-0, 1-1, 0-1, 1-2, 2-1, 2-0, 1-1, 0-1, 1-2, 2-1, 2-2, 1-1, 0-1, 2-0, 0-0, 1-0, 0-2, 0-1, 2-0, 0-0, 1-1, 0-2, 0-1, 2-0, 0-0, 1-2, 0-2, 0-1, 2-0, 0-0, 2-1, 0-2, 0-1, 2-0, 0-0, 2-2, 0-2, 0-1, 2-0, 0-2, 1-0, 0-0, 0-1, 2-0, 0-2, 1-1, 0-0, 0-1, 2-0, 0-2, 1-2, 0-0, 0-1, 2-0, 0-2, 2-1, 0-0, 0-1, 2-0, 0-2, 2-2, 0-0, 0-1, 2-0, 1-1, 0-0, 2-1, 0-1, 2-0, 1-1, 0-2, 2-1, 0-1, 2-0, 1-1, 1-0, 2-1, 0-1, 2-0, 1-1, 1-2, 2-1, 0-1, 2-0, 1-1, 2-2, 2-1, 0-1, 2-0, 2-1, 0-0, 1-1, 0-1, 2-0, 2-1, 0-2, 1-1, 0-1, 2-0, 2-1, 1-0, 1-1, 0-1, 2-0, 2-1, 1-2, 1-1, 0-1, 2-0, 2-1, 2-2, 1-1, 0-1, 2-1, 0-0, 1-0, 0-2, 0-1, 2-1, 0-0, 1-1, 0-2, 0-1, 2-1, 0-0, 1-2, 0-2, 0-1, 2-1, 0-0, 2-0, 0-2, 0-1, 2-1, 0-0, 2-2, 0-2, 0-1, 2-1, 0-2, 1-0, 0-0, 0-1, 2-1, 0-2, 1-1, 0-0, 0-1, 2-1, 0-2, 1-2, 0-0, 0-1, 2-1, 0-2, 2-0, 0-0, 0-1, 2-1, 0-2, 2-2, 0-0, 0-1, 2-2, 0-0, 1-0, 0-2, 0-1, 2-2, 0-0, 1-1, 0-2, 0-1, 2-2, 0-0, 1-2, 0-2, 0-1, 2-2, 0-0, 2-0, 0-2, 0-1, 2-2, 0-0, 2-1, 0-2, 0-1, 2-2, 0-2, 1-0, 0-0, 0-1, 2-2, 0-2, 1-1, 0-0, 0-1, 2-2, 0-2, 1-2, 0-0, 0-1, 2-2, 0-2, 2-0, 0-0, 0-1, 2-2, 0-2, 2-1, 0-0, 0-1, 2-2, 1-1, 0-0, 2-1, 0-1, 2-2, 1-1, 0-2, 2-1, 0-1, 2-2, 1-1, 1-0, 2-1, 0-1, 2-2, 1-1, 1-2, 2-1, 0-1, 2-2, 1-1, 2-0, 2-1, 0-1, 2-2, 2-1, 0-0, 1-1, 0-1, 2-2, 2-1, 0-2, 1-1, 0-1, 2-2, 2-1, 1-0, 1-1, 0-1, 2-2, 2-1, 1-2, 1-1, 0-1, 2-2, 2-1, 2-0, 1-1, 0-2, 0-0, 1-1, 0-1, 2-0, 0-2, 0-0, 1-1, 1-0, 2-0, 0-2, 0-0, 1-1, 1-2, 2-0, 0-2, 0-0, 1-1, 2-1, 2-0, 0-2, 0-0, 1-1, 2-2, 2-0, 0-2, 0-0, 1-2, 0-1, 2-2, 0-2, 0-0, 1-2, 1-0, 2-2, 0-2, 0-0, 1-2, 1-1, 2-2, 0-2, 0-0, 1-2, 2-0, 2-2, 0-2, 0-0, 1-2, 2-1, 2-2, 0-2, 0-0, 2-0, 0-1, 1-1, 0-2, 0-0, 2-0, 1-0, 1-1, 0-2, 0-0, 2-0, 1-2, 1-1, 0-2, 0-0, 2-0, 2-1, 1-1, 0-2, 0-0, 2-0, 2-2, 1-1, 0-2, 0-0, 2-2, 0-1, 1-2, 0-2, 0-0, 2-2, 1-0, 1-2, 0-2, 0-0, 2-2, 1-1, 1-2, 0-2, 0-0, 2-2, 2-0, 1-2, 0-2, 0-0, 2-2, 2-1, 1-2, 0-2, 0-1, 1-1, 0-0, 2-0, 0-2, 0-1, 1-1, 1-0, 2-0, 0-2, 0-1, 1-1, 1-2, 2-0, 0-2, 0-1, 1-1, 2-1, 2-0, 0-2, 0-1, 1-1, 2-2, 2-0, 0-2, 0-1, 1-2, 0-0, 2-2, 0-2, 0-1, 1-2, 1-0, 2-2, 0-2, 0-1, 1-2, 1-1, 2-2, 0-2, 0-1, 1-2, 2-0, 2-2, 0-2, 0-1, 1-2, 2-1, 2-2, 0-2, 0-1, 2-0, 0-0, 1-1, 0-2, 0-1, 2-0, 1-0, 1-1, 0-2, 0-1, 2-0, 1-2, 1-1, 0-2, 0-1, 2-0, 2-1, 1-1, 0-2, 0-1, 2-0, 2-2, 1-1, 0-2, 0-1, 2-2, 0-0, 1-2, 0-2, 0-1, 2-2, 1-0, 1-2, 0-2, 0-1, 2-2, 1-1, 1-2, 0-2, 0-1, 2-2, 2-0, 1-2, 0-2, 0-1, 2-2, 2-1, 1-2, 0-2, 1-0, 0-0, 1-1, 0-1, 0-2, 1-0, 0-0, 1-2, 0-1, 0-2, 1-0, 0-0, 2-0, 0-1, 0-2, 1-0, 0-0, 2-1, 0-1, 0-2, 1-0, 0-0, 2-2, 0-1, 0-2, 1-0, 0-1, 1-1, 0-0, 0-2, 1-0, 0-1, 1-2, 0-0, 0-2, 1-0, 0-1, 2-0, 0-0, 0-2, 1-0, 0-1, 2-1, 0-0, 0-2, 1-0, 0-1, 2-2, 0-0, 0-2, 1-0, 1-1, 0-0, 2-0, 0-2, 1-0, 1-1, 0-1, 2-0, 0-2, 1-0, 1-1, 1-2, 2-0, 0-2, 1-0, 1-1, 2-1, 2-0, 0-2, 1-0, 1-1, 2-2, 2-0, 0-2, 1-0, 1-2, 0-0, 2-2, 0-2, 1-0, 1-2, 0-1, 2-2, 0-2, 1-0, 1-2, 1-1, 2-2, 0-2, 1-0, 1-2, 2-0, 2-2, 0-2, 1-0, 1-2, 2-1, 2-2, 0-2, 1-0, 2-0, 0-0, 1-1, 0-2, 1-0, 2-0, 0-1, 1-1, 0-2, 1-0, 2-0, 1-2, 1-1, 0-2, 1-0, 2-0, 2-1, 1-1, 0-2, 1-0, 2-0, 2-2, 1-1, 0-2, 1-0, 2-2, 0-0, 1-2, 0-2, 1-0, 2-2, 0-1, 1-2, 0-2, 1-0, 2-2, 1-1, 1-2, 0-2, 1-0, 2-2, 2-0, 1-2, 0-2, 1-0, 2-2, 2-1, 1-2, 0-2, 1-1, 0-0, 1-0, 0-1, 0-2, 1-1, 0-0, 1-2, 0-1, 0-2, 1-1, 0-0, 2-0, 0-1, 0-2, 1-1, 0-0, 2-1, 0-1, 0-2, 1-1, 0-0, 2-2, 0-1, 0-2, 1-1, 0-1, 1-0, 0-0, 0-2, 1-1, 0-1, 1-2, 0-0, 0-2, 1-1, 0-1, 2-0, 0-0, 0-2, 1-1, 0-1, 2-1, 0-0, 0-2, 1-1, 0-1, 2-2, 0-0, 0-2, 1-1, 1-2, 0-0, 2-2, 0-2, 1-1, 1-2, 0-1, 2-2, 0-2, 1-1, 1-2, 1-0, 2-2, 0-2, 1-1, 1-2, 2-0, 2-2, 0-2, 1-1, 1-2, 2-1, 2-2, 0-2, 1-1, 2-2, 0-0, 1-2, 0-2, 1-1, 2-2, 0-1, 1-2, 0-2, 1-1, 2-2, 1-0, 1-2, 0-2, 1-1, 2-2, 2-0, 1-2, 0-2, 1-1, 2-2, 2-1, 1-2, 0-2, 1-2, 0-0, 1-0, 0-1, 0-2, 1-2, 0-0, 1-1, 0-1, 0-2, 1-2, 0-0, 2-0, 0-1, 0-2, 1-2, 0-0, 2-1, 0-1, 0-2, 1-2, 0-0, 2-2, 0-1, 0-2, 1-2, 0-1, 1-0, 0-0, 0-2, 1-2, 0-1, 1-1, 0-0, 0-2, 1-2, 0-1, 2-0, 0-0, 0-2, 1-2, 0-1, 2-1, 0-0, 0-2, 1-2, 0-1, 2-2, 0-0, 0-2, 1-2, 1-1, 0-0, 2-0, 0-2, 1-2, 1-1, 0-1, 2-0, 0-2, 1-2, 1-1, 1-0, 2-0, 0-2, 1-2, 1-1, 2-1, 2-0, 0-2, 1-2, 1-1, 2-2, 2-0, 0-2, 1-2, 2-0, 0-0, 1-1, 0-2, 1-2, 2-0, 0-1, 1-1, 0-2, 1-2, 2-0, 1-0, 1-1, 0-2, 1-2, 2-0, 2-1, 1-1, 0-2, 1-2, 2-0, 2-2, 1-1, 0-2, 2-0, 0-0, 1-0, 0-1, 0-2, 2-0, 0-0, 1-1, 0-1, 0-2, 2-0, 0-0, 1-2, 0-1, 0-2, 2-0, 0-0, 2-1, 0-1, 0-2, 2-0, 0-0, 2-2, 0-1, 0-2, 2-0, 0-1, 1-0, 0-0, 0-2, 2-0, 0-1, 1-1, 0-0, 0-2, 2-0, 0-1, 1-2, 0-0, 0-2, 2-0, 0-1, 2-1, 0-0, 0-2, 2-0, 0-1, 2-2, 0-0, 0-2, 2-0, 1-2, 0-0, 2-2, 0-2, 2-0, 1-2, 0-1, 2-2, 0-2, 2-0, 1-2, 1-0, 2-2, 0-2, 2-0, 1-2, 1-1, 2-2, 0-2, 2-0, 1-2, 2-1, 2-2, 0-2, 2-0, 2-2, 0-0, 1-2, 0-2, 2-0, 2-2, 0-1, 1-2, 0-2, 2-0, 2-2, 1-0, 1-2, 0-2, 2-0, 2-2, 1-1, 1-2, 0-2, 2-0, 2-2, 2-1, 1-2, 0-2, 2-1, 0-0, 1-0, 0-1, 0-2, 2-1, 0-0, 1-1, 0-1, 0-2, 2-1, 0-0, 1-2, 0-1, 0-2, 2-1, 0-0, 2-0, 0-1, 0-2, 2-1, 0-0, 2-2, 0-1, 0-2, 2-1, 0-1, 1-0, 0-0, 0-2, 2-1, 0-1, 1-1, 0-0, 0-2, 2-1, 0-1, 1-2, 0-0, 0-2, 2-1, 0-1, 2-0, 0-0, 0-2, 2-1, 0-1, 2-2, 0-0, 0-2, 2-1, 1-1, 0-0, 2-0, 0-2, 2-1, 1-1, 0-1, 2-0, 0-2, 2-1, 1-1, 1-0, 2-0, 0-2, 2-1, 1-1, 1-2, 2-0, 0-2, 2-1, 1-1, 2-2, 2-0, 0-2, 2-1, 1-2, 0-0, 2-2, 0-2, 2-1, 1-2, 0-1, 2-2, 0-2, 2-1, 1-2, 1-0, 2-2, 0-2, 2-1, 1-2, 1-1, 2-2, 0-2, 2-1, 1-2, 2-0, 2-2, 0-2, 2-1, 2-0, 0-0, 1-1, 0-2, 2-1, 2-0, 0-1, 1-1, 0-2, 2-1, 2-0, 1-0, 1-1, 0-2, 2-1, 2-0, 1-2, 1-1, 0-2, 2-1, 2-0, 2-2, 1-1, 0-2, 2-1, 2-2, 0-0, 1-2, 0-2, 2-1, 2-2, 0-1, 1-2, 0-2, 2-1, 2-2, 1-0, 1-2, 0-2, 2-1, 2-2, 1-1, 1-2, 0-2, 2-1, 2-2, 2-0, 1-2, 0-2, 2-2, 0-0, 1-0, 0-1, 0-2, 2-2, 0-0, 1-1, 0-1, 0-2, 2-2, 0-0, 1-2, 0-1, 0-2, 2-2, 0-0, 2-0, 0-1, 0-2, 2-2, 0-0, 2-1, 0-1, 0-2, 2-2, 0-1, 1-0, 0-0, 0-2, 2-2, 0-1, 1-1, 0-0, 0-2, 2-2, 0-1, 1-2, 0-0, 0-2, 2-2, 0-1, 2-0, 0-0, 0-2, 2-2, 0-1, 2-1, 0-0, 0-2, 2-2, 1-1, 0-0, 2-0, 0-2, 2-2, 1-1, 0-1, 2-0, 0-2, 2-2, 1-1, 1-0, 2-0, 0-2, 2-2, 1-1, 1-2, 2-0, 0-2, 2-2, 1-1, 2-1, 2-0, 0-2, 2-2, 2-0, 0-0, 1-1, 0-2, 2-2, 2-0, 0-1, 1-1, 0-2, 2-2, 2-0, 1-0, 1-1, 0-2, 2-2, 2-0, 1-2, 1-1, 0-2, 2-2, 2-0, 2-1, 1-1, 1-0, 0-0, 1-1, 0-1, 1-2, 1-0, 0-0, 1-1, 0-2, 1-2, 1-0, 0-0, 1-1, 2-0, 1-2, 1-0, 0-0, 1-1, 2-1, 1-2, 1-0, 0-0, 1-1, 2-2, 1-2, 1-0, 0-0, 1-2, 0-1, 1-1, 1-0, 0-0, 1-2, 0-2, 1-1, 1-0, 0-0, 1-2, 2-0, 1-1, 1-0, 0-0, 1-2, 2-1, 1-1, 1-0, 0-0, 1-2, 2-2, 1-1, 1-0, 0-1, 0-0, 0-2, 2-0, 1-0, 0-1, 0-0, 1-1, 2-0, 1-0, 0-1, 0-0, 1-2, 2-0, 1-0, 0-1, 0-0, 2-1, 2-0, 1-0, 0-1, 0-0, 2-2, 2-0, 1-0, 0-1, 1-1, 0-0, 1-2, 1-0, 0-1, 1-1, 0-2, 1-2, 1-0, 0-1, 1-1, 2-0, 1-2, 1-0, 0-1, 1-1, 2-1, 1-2, 1-0, 0-1, 1-1, 2-2, 1-2, 1-0, 0-1, 1-2, 0-0, 1-1, 1-0, 0-1, 1-2, 0-2, 1-1, 1-0, 0-1, 1-2, 2-0, 1-1, 1-0, 0-1, 1-2, 2-1, 1-1, 1-0, 0-1, 1-2, 2-2, 1-1, 1-0, 0-1, 2-0, 0-2, 0-0, 1-0, 0-1, 2-0, 1-1, 0-0, 1-0, 0-1, 2-0, 1-2, 0-0, 1-0, 0-1, 2-0, 2-1, 0-0, 1-0, 0-1, 2-0, 2-2, 0-0, 1-0, 0-2, 0-0, 0-1, 2-0, 1-0, 0-2, 0-0, 1-1, 2-0, 1-0, 0-2, 0-0, 1-2, 2-0, 1-0, 0-2, 0-0, 2-1, 2-0, 1-0, 0-2, 0-0, 2-2, 2-0, 1-0, 0-2, 1-1, 0-0, 1-2, 1-0, 0-2, 1-1, 0-1, 1-2, 1-0, 0-2, 1-1, 2-0, 1-2, 1-0, 0-2, 1-1, 2-1, 1-2, 1-0, 0-2, 1-1, 2-2, 1-2, 1-0, 0-2, 1-2, 0-0, 1-1, 1-0, 0-2, 1-2, 0-1, 1-1, 1-0, 0-2, 1-2, 2-0, 1-1, 1-0, 0-2, 1-2, 2-1, 1-1, 1-0, 0-2, 1-2, 2-2, 1-1, 1-0, 0-2, 2-0, 0-1, 0-0, 1-0, 0-2, 2-0, 1-1, 0-0, 1-0, 0-2, 2-0, 1-2, 0-0, 1-0, 0-2, 2-0, 2-1, 0-0, 1-0, 0-2, 2-0, 2-2, 0-0, 1-0, 1-1, 0-0, 0-1, 2-0, 1-0, 1-1, 0-0, 0-2, 2-0, 1-0, 1-1, 0-0, 1-2, 2-0, 1-0, 1-1, 0-0, 2-1, 2-0, 1-0, 1-1, 0-0, 2-2, 2-0, 1-0, 1-1, 2-0, 0-1, 0-0, 1-0, 1-1, 2-0, 0-2, 0-0, 1-0, 1-1, 2-0, 1-2, 0-0, 1-0, 1-1, 2-0, 2-1, 0-0, 1-0, 1-1, 2-0, 2-2, 0-0, 1-0, 1-2, 0-0, 0-1, 2-0, 1-0, 1-2, 0-0, 0-2, 2-0, 1-0, 1-2, 0-0, 1-1, 2-0, 1-0, 1-2, 0-0, 2-1, 2-0, 1-0, 1-2, 0-0, 2-2, 2-0, 1-0, 1-2, 2-0, 0-1, 0-0, 1-0, 1-2, 2-0, 0-2, 0-0, 1-0, 1-2, 2-0, 1-1, 0-0, 1-0, 1-2, 2-0, 2-1, 0-0, 1-0, 1-2, 2-0, 2-2, 0-0, 1-0, 2-0, 1-1, 0-0, 1-2, 1-0, 2-0, 1-1, 0-1, 1-2, 1-0, 2-0, 1-1, 0-2, 1-2, 1-0, 2-0, 1-1, 2-1, 1-2, 1-0, 2-0, 1-1, 2-2, 1-2, 1-0, 2-0, 1-2, 0-0, 1-1, 1-0, 2-0, 1-2, 0-1, 1-1, 1-0, 2-0, 1-2, 0-2, 1-1, 1-0, 2-0, 1-2, 2-1, 1-1, 1-0, 2-0, 1-2, 2-2, 1-1, 1-0, 2-1, 0-0, 0-1, 2-0, 1-0, 2-1, 0-0, 0-2, 2-0, 1-0, 2-1, 0-0, 1-1, 2-0, 1-0, 2-1, 0-0, 1-2, 2-0, 1-0, 2-1, 0-0, 2-2, 2-0, 1-0, 2-1, 1-1, 0-0, 1-2, 1-0, 2-1, 1-1, 0-1, 1-2, 1-0, 2-1, 1-1, 0-2, 1-2, 1-0, 2-1, 1-1, 2-0, 1-2, 1-0, 2-1, 1-1, 2-2, 1-2, 1-0, 2-1, 1-2, 0-0, 1-1, 1-0, 2-1, 1-2, 0-1, 1-1, 1-0, 2-1, 1-2, 0-2, 1-1, 1-0, 2-1, 1-2, 2-0, 1-1, 1-0, 2-1, 1-2, 2-2, 1-1, 1-0, 2-1, 2-0, 0-1, 0-0, 1-0, 2-1, 2-0, 0-2, 0-0, 1-0, 2-1, 2-0, 1-1, 0-0, 1-0, 2-1, 2-0, 1-2, 0-0, 1-0, 2-1, 2-0, 2-2, 0-0, 1-0, 2-2, 0-0, 0-1, 2-0, 1-0, 2-2, 0-0, 0-2, 2-0, 1-0, 2-2, 0-0, 1-1, 2-0, 1-0, 2-2, 0-0, 1-2, 2-0, 1-0, 2-2, 0-0, 2-1, 2-0, 1-0, 2-2, 1-1, 0-0, 1-2, 1-0, 2-2, 1-1, 0-1, 1-2, 1-0, 2-2, 1-1, 0-2, 1-2, 1-0, 2-2, 1-1, 2-0, 1-2, 1-0, 2-2, 1-1, 2-1, 1-2, 1-0, 2-2, 1-2, 0-0, 1-1, 1-0, 2-2, 1-2, 0-1, 1-1, 1-0, 2-2, 1-2, 0-2, 1-1, 1-0, 2-2, 1-2, 2-0, 1-1, 1-0, 2-2, 1-2, 2-1, 1-1, 1-0, 2-2, 2-0, 0-1, 0-0, 1-0, 2-2, 2-0, 0-2, 0-0, 1-0, 2-2, 2-0, 1-1, 0-0, 1-0, 2-2, 2-0, 1-2, 0-0, 1-0, 2-2, 2-0, 2-1, 0-0, 1-1, 0-0, 0-1, 0-2, 2-1, 1-1, 0-0, 0-1, 1-0, 2-1, 1-1, 0-0, 0-1, 1-2, 2-1, 1-1, 0-0, 0-1, 2-0, 2-1, 1-1, 0-0, 0-1, 2-2, 2-1, 1-1, 0-0, 0-2, 0-1, 2-0, 1-1, 0-0, 0-2, 1-0, 2-0, 1-1, 0-0, 0-2, 1-2, 2-0, 1-1, 0-0, 0-2, 2-1, 2-0, 1-1, 0-0, 0-2, 2-2, 2-0, 1-1, 0-0, 1-0, 0-1, 1-2, 1-1, 0-0, 1-0, 0-2, 1-2, 1-1, 0-0, 1-0, 2-0, 1-2, 1-1, 0-0, 1-0, 2-1, 1-2, 1-1, 0-0, 1-0, 2-2, 1-2, 1-1, 0-0, 1-2, 0-1, 1-0, 1-1, 0-0, 1-2, 0-2, 1-0, 1-1, 0-0, 1-2, 2-0, 1-0, 1-1, 0-0, 1-2, 2-1, 1-0, 1-1, 0-0, 1-2, 2-2, 1-0, 1-1, 0-0, 2-0, 0-1, 0-2, 1-1, 0-0, 2-0, 1-0, 0-2, 1-1, 0-0, 2-0, 1-2, 0-2, 1-1, 0-0, 2-0, 2-1, 0-2, 1-1, 0-0, 2-0, 2-2, 0-2, 1-1, 0-0, 2-1, 0-2, 0-1, 1-1, 0-0, 2-1, 1-0, 0-1, 1-1, 0-0, 2-1, 1-2, 0-1, 1-1, 0-0, 2-1, 2-0, 0-1, 1-1, 0-0, 2-1, 2-2, 0-1, 1-1, 0-1, 0-0, 0-2, 2-2, 1-1, 0-1, 0-0, 1-0, 2-2, 1-1, 0-1, 0-0, 1-2, 2-2, 1-1, 0-1, 0-0, 2-0, 2-2, 1-1, 0-1, 0-0, 2-1, 2-2, 1-1, 0-1, 0-2, 0-0, 2-0, 1-1, 0-1, 0-2, 1-0, 2-0, 1-1, 0-1, 0-2, 1-2, 2-0, 1-1, 0-1, 0-2, 2-1, 2-0, 1-1, 0-1, 0-2, 2-2, 2-0, 1-1, 0-1, 1-0, 0-0, 1-2, 1-1, 0-1, 1-0, 0-2, 1-2, 1-1, 0-1, 1-0, 2-0, 1-2, 1-1, 0-1, 1-0, 2-1, 1-2, 1-1, 0-1, 1-0, 2-2, 1-2, 1-1, 0-1, 1-2, 0-0, 1-0, 1-1, 0-1, 1-2, 0-2, 1-0, 1-1, 0-1, 1-2, 2-0, 1-0, 1-1, 0-1, 1-2, 2-1, 1-0, 1-1, 0-1, 1-2, 2-2, 1-0, 1-1, 0-1, 2-0, 0-0, 0-2, 1-1, 0-1, 2-0, 1-0, 0-2, 1-1, 0-1, 2-0, 1-2, 0-2, 1-1, 0-1, 2-0, 2-1, 0-2, 1-1, 0-1, 2-0, 2-2, 0-2, 1-1, 0-1, 2-2, 0-2, 0-0, 1-1, 0-1, 2-2, 1-0, 0-0, 1-1, 0-1, 2-2, 1-2, 0-0, 1-1, 0-1, 2-2, 2-0, 0-0, 1-1, 0-1, 2-2, 2-1, 0-0, 1-1, 0-2, 0-0, 0-1, 2-2, 1-1, 0-2, 0-0, 1-0, 2-2, 1-1, 0-2, 0-0, 1-2, 2-2, 1-1, 0-2, 0-0, 2-0, 2-2, 1-1, 0-2, 0-0, 2-1, 2-2, 1-1, 0-2, 0-1, 0-0, 2-1, 1-1, 0-2, 0-1, 1-0, 2-1, 1-1, 0-2, 0-1, 1-2, 2-1, 1-1, 0-2, 0-1, 2-0, 2-1, 1-1, 0-2, 0-1, 2-2, 2-1, 1-1, 0-2, 1-0, 0-0, 1-2, 1-1, 0-2, 1-0, 0-1, 1-2, 1-1, 0-2, 1-0, 2-0, 1-2, 1-1, 0-2, 1-0, 2-1, 1-2, 1-1, 0-2, 1-0, 2-2, 1-2, 1-1, 0-2, 1-2, 0-0, 1-0, 1-1, 0-2, 1-2, 0-1, 1-0, 1-1, 0-2, 1-2, 2-0, 1-0, 1-1, 0-2, 1-2, 2-1, 1-0, 1-1, 0-2, 1-2, 2-2, 1-0, 1-1, 0-2, 2-1, 0-0, 0-1, 1-1, 0-2, 2-1, 1-0, 0-1, 1-1, 0-2, 2-1, 1-2, 0-1, 1-1, 0-2, 2-1, 2-0, 0-1, 1-1, 0-2, 2-1, 2-2, 0-1, 1-1, 0-2, 2-2, 0-1, 0-0, 1-1, 0-2, 2-2, 1-0, 0-0, 1-1, 0-2, 2-2, 1-2, 0-0, 1-1, 0-2, 2-2, 2-0, 0-0, 1-1, 0-2, 2-2, 2-1, 0-0, 1-1, 1-0, 0-0, 0-1, 2-2, 1-1, 1-0, 0-0, 0-2, 2-2, 1-1, 1-0, 0-0, 1-2, 2-2, 1-1, 1-0, 0-0, 2-0, 2-2, 1-1, 1-0, 0-0, 2-1, 2-2, 1-1, 1-0, 0-1, 0-0, 2-1, 1-1, 1-0, 0-1, 0-2, 2-1, 1-1, 1-0, 0-1, 1-2, 2-1, 1-1, 1-0, 0-1, 2-0, 2-1, 1-1, 1-0, 0-1, 2-2, 2-1, 1-1, 1-0, 0-2, 0-0, 2-0, 1-1, 1-0, 0-2, 0-1, 2-0, 1-1, 1-0, 0-2, 1-2, 2-0, 1-1, 1-0, 0-2, 2-1, 2-0, 1-1, 1-0, 0-2, 2-2, 2-0, 1-1, 1-0, 2-0, 0-0, 0-2, 1-1, 1-0, 2-0, 0-1, 0-2, 1-1, 1-0, 2-0, 1-2, 0-2, 1-1, 1-0, 2-0, 2-1, 0-2, 1-1, 1-0, 2-0, 2-2, 0-2, 1-1, 1-0, 2-1, 0-0, 0-1, 1-1, 1-0, 2-1, 0-2, 0-1, 1-1, 1-0, 2-1, 1-2, 0-1, 1-1, 1-0, 2-1, 2-0, 0-1, 1-1, 1-0, 2-1, 2-2, 0-1, 1-1, 1-0, 2-2, 0-1, 0-0, 1-1, 1-0, 2-2, 0-2, 0-0, 1-1, 1-0, 2-2, 1-2, 0-0, 1-1, 1-0, 2-2, 2-0, 0-0, 1-1, 1-0, 2-2, 2-1, 0-0, 1-1, 1-2, 0-0, 0-1, 2-2, 1-1, 1-2, 0-0, 0-2, 2-2, 1-1, 1-2, 0-0, 1-0, 2-2, 1-1, 1-2, 0-0, 2-0, 2-2, 1-1, 1-2, 0-0, 2-1, 2-2, 1-1, 1-2, 0-1, 0-0, 2-1, 1-1, 1-2, 0-1, 0-2, 2-1, 1-1, 1-2, 0-1, 1-0, 2-1, 1-1, 1-2, 0-1, 2-0, 2-1, 1-1, 1-2, 0-1, 2-2, 2-1, 1-1, 1-2, 0-2, 0-0, 2-0, 1-1, 1-2, 0-2, 0-1, 2-0, 1-1, 1-2, 0-2, 1-0, 2-0, 1-1, 1-2, 0-2, 2-1, 2-0, 1-1, 1-2, 0-2, 2-2, 2-0, 1-1, 1-2, 2-0, 0-0, 0-2, 1-1, 1-2, 2-0, 0-1, 0-2, 1-1, 1-2, 2-0, 1-0, 0-2, 1-1, 1-2, 2-0, 2-1, 0-2, 1-1, 1-2, 2-0, 2-2, 0-2, 1-1, 1-2, 2-1, 0-0, 0-1, 1-1, 1-2, 2-1, 0-2, 0-1, 1-1, 1-2, 2-1, 1-0, 0-1, 1-1, 1-2, 2-1, 2-0, 0-1, 1-1, 1-2, 2-1, 2-2, 0-1, 1-1, 1-2, 2-2, 0-1, 0-0, 1-1, 1-2, 2-2, 0-2, 0-0, 1-1, 1-2, 2-2, 1-0, 0-0, 1-1, 1-2, 2-2, 2-0, 0-0, 1-1, 1-2, 2-2, 2-1, 0-0, 1-1, 2-0, 0-0, 0-1, 2-2, 1-1, 2-0, 0-0, 0-2, 2-2, 1-1, 2-0, 0-0, 1-0, 2-2, 1-1, 2-0, 0-0, 1-2, 2-2, 1-1, 2-0, 0-0, 2-1, 2-2, 1-1, 2-0, 0-1, 0-0, 2-1, 1-1, 2-0, 0-1, 0-2, 2-1, 1-1, 2-0, 0-1, 1-0, 2-1, 1-1, 2-0, 0-1, 1-2, 2-1, 1-1, 2-0, 0-1, 2-2, 2-1, 1-1, 2-0, 1-0, 0-0, 1-2, 1-1, 2-0, 1-0, 0-1, 1-2, 1-1, 2-0, 1-0, 0-2, 1-2, 1-1, 2-0, 1-0, 2-1, 1-2, 1-1, 2-0, 1-0, 2-2, 1-2, 1-1, 2-0, 1-2, 0-0, 1-0, 1-1, 2-0, 1-2, 0-1, 1-0, 1-1, 2-0, 1-2, 0-2, 1-0, 1-1, 2-0, 1-2, 2-1, 1-0, 1-1, 2-0, 1-2, 2-2, 1-0, 1-1, 2-0, 2-1, 0-0, 0-1, 1-1, 2-0, 2-1, 0-2, 0-1, 1-1, 2-0, 2-1, 1-0, 0-1, 1-1, 2-0, 2-1, 1-2, 0-1, 1-1, 2-0, 2-1, 2-2, 0-1, 1-1, 2-0, 2-2, 0-1, 0-0, 1-1, 2-0, 2-2, 0-2, 0-0, 1-1, 2-0, 2-2, 1-0, 0-0, 1-1, 2-0, 2-2, 1-2, 0-0, 1-1, 2-0, 2-2, 2-1, 0-0, 1-1, 2-1, 0-0, 0-1, 2-2, 1-1, 2-1, 0-0, 0-2, 2-2, 1-1, 2-1, 0-0, 1-0, 2-2, 1-1, 2-1, 0-0, 1-2, 2-2, 1-1, 2-1, 0-0, 2-0, 2-2, 1-1, 2-1, 0-2, 0-0, 2-0, 1-1, 2-1, 0-2, 0-1, 2-0, 1-1, 2-1, 0-2, 1-0, 2-0, 1-1, 2-1, 0-2, 1-2, 2-0, 1-1, 2-1, 0-2, 2-2, 2-0, 1-1, 2-1, 1-0, 0-0, 1-2, 1-1, 2-1, 1-0, 0-1, 1-2, 1-1, 2-1, 1-0, 0-2, 1-2, 1-1, 2-1, 1-0, 2-0, 1-2, 1-1, 2-1, 1-0, 2-2, 1-2, 1-1, 2-1, 1-2, 0-0, 1-0, 1-1, 2-1, 1-2, 0-1, 1-0, 1-1, 2-1, 1-2, 0-2, 1-0, 1-1, 2-1, 1-2, 2-0, 1-0, 1-1, 2-1, 1-2, 2-2, 1-0, 1-1, 2-1, 2-0, 0-0, 0-2, 1-1, 2-1, 2-0, 0-1, 0-2, 1-1, 2-1, 2-0, 1-0, 0-2, 1-1, 2-1, 2-0, 1-2, 0-2, 1-1, 2-1, 2-0, 2-2, 0-2, 1-1, 2-1, 2-2, 0-1, 0-0, 1-1, 2-1, 2-2, 0-2, 0-0, 1-1, 2-1, 2-2, 1-0, 0-0, 1-1, 2-1, 2-2, 1-2, 0-0, 1-1, 2-1, 2-2, 2-0, 0-0, 1-1, 2-2, 0-1, 0-0, 2-1, 1-1, 2-2, 0-1, 0-2, 2-1, 1-1, 2-2, 0-1, 1-0, 2-1, 1-1, 2-2, 0-1, 1-2, 2-1, 1-1, 2-2, 0-1, 2-0, 2-1, 1-1, 2-2, 0-2, 0-0, 2-0, 1-1, 2-2, 0-2, 0-1, 2-0, 1-1, 2-2, 0-2, 1-0, 2-0, 1-1, 2-2, 0-2, 1-2, 2-0, 1-1, 2-2, 0-2, 2-1, 2-0, 1-1, 2-2, 1-0, 0-0, 1-2, 1-1, 2-2, 1-0, 0-1, 1-2, 1-1, 2-2, 1-0, 0-2, 1-2, 1-1, 2-2, 1-0, 2-0, 1-2, 1-1, 2-2, 1-0, 2-1, 1-2, 1-1, 2-2, 1-2, 0-0, 1-0, 1-1, 2-2, 1-2, 0-1, 1-0, 1-1, 2-2, 1-2, 0-2, 1-0, 1-1, 2-2, 1-2, 2-0, 1-0, 1-1, 2-2, 1-2, 2-1, 1-0, 1-1, 2-2, 2-0, 0-0, 0-2, 1-1, 2-2, 2-0, 0-1, 0-2, 1-1, 2-2, 2-0, 1-0, 0-2, 1-1, 2-2, 2-0, 1-2, 0-2, 1-1, 2-2, 2-0, 2-1, 0-2, 1-1, 2-2, 2-1, 0-0, 0-1, 1-1, 2-2, 2-1, 0-2, 0-1, 1-1, 2-2, 2-1, 1-0, 0-1, 1-1, 2-2, 2-1, 1-2, 0-1, 1-1, 2-2, 2-1, 2-0, 0-1, 1-2, 0-0, 0-2, 0-1, 2-2, 1-2, 0-0, 0-2, 1-0, 2-2, 1-2, 0-0, 0-2, 1-1, 2-2, 1-2, 0-0, 0-2, 2-0, 2-2, 1-2, 0-0, 0-2, 2-1, 2-2, 1-2, 0-0, 1-0, 0-1, 1-1, 1-2, 0-0, 1-0, 0-2, 1-1, 1-2, 0-0, 1-0, 2-0, 1-1, 1-2, 0-0, 1-0, 2-1, 1-1, 1-2, 0-0, 1-0, 2-2, 1-1, 1-2, 0-0, 1-1, 0-1, 1-0, 1-2, 0-0, 1-1, 0-2, 1-0, 1-2, 0-0, 1-1, 2-0, 1-0, 1-2, 0-0, 1-1, 2-1, 1-0, 1-2, 0-0, 1-1, 2-2, 1-0, 1-2, 0-0, 2-2, 0-1, 0-2, 1-2, 0-0, 2-2, 1-0, 0-2, 1-2, 0-0, 2-2, 1-1, 0-2, 1-2, 0-0, 2-2, 2-0, 0-2, 1-2, 0-0, 2-2, 2-1, 0-2, 1-2, 0-1, 0-2, 0-0, 2-2, 1-2, 0-1, 0-2, 1-0, 2-2, 1-2, 0-1, 0-2, 1-1, 2-2, 1-2, 0-1, 0-2, 2-0, 2-2, 1-2, 0-1, 0-2, 2-1, 2-2, 1-2, 0-1, 1-0, 0-0, 1-1, 1-2, 0-1, 1-0, 0-2, 1-1, 1-2, 0-1, 1-0, 2-0, 1-1, 1-2, 0-1, 1-0, 2-1, 1-1, 1-2, 0-1, 1-0, 2-2, 1-1, 1-2, 0-1, 1-1, 0-0, 1-0, 1-2, 0-1, 1-1, 0-2, 1-0, 1-2, 0-1, 1-1, 2-0, 1-0, 1-2, 0-1, 1-1, 2-1, 1-0, 1-2, 0-1, 1-1, 2-2, 1-0, 1-2, 0-1, 2-2, 0-0, 0-2, 1-2, 0-1, 2-2, 1-0, 0-2, 1-2, 0-1, 2-2, 1-1, 0-2, 1-2, 0-1, 2-2, 2-0, 0-2, 1-2, 0-1, 2-2, 2-1, 0-2, 1-2, 0-2, 1-0, 0-0, 1-1, 1-2, 0-2, 1-0, 0-1, 1-1, 1-2, 0-2, 1-0, 2-0, 1-1, 1-2, 0-2, 1-0, 2-1, 1-1, 1-2, 0-2, 1-0, 2-2, 1-1, 1-2, 0-2, 1-1, 0-0, 1-0, 1-2, 0-2, 1-1, 0-1, 1-0, 1-2, 0-2, 1-1, 2-0, 1-0, 1-2, 0-2, 1-1, 2-1, 1-0, 1-2, 0-2, 1-1, 2-2, 1-0, 1-2, 1-0, 0-2, 0-0, 2-2, 1-2, 1-0, 0-2, 0-1, 2-2, 1-2, 1-0, 0-2, 1-1, 2-2, 1-2, 1-0, 0-2, 2-0, 2-2, 1-2, 1-0, 0-2, 2-1, 2-2, 1-2, 1-0, 2-2, 0-0, 0-2, 1-2, 1-0, 2-2, 0-1, 0-2, 1-2, 1-0, 2-2, 1-1, 0-2, 1-2, 1-0, 2-2, 2-0, 0-2, 1-2, 1-0, 2-2, 2-1, 0-2, 1-2, 1-1, 0-2, 0-0, 2-2, 1-2, 1-1, 0-2, 0-1, 2-2, 1-2, 1-1, 0-2, 1-0, 2-2, 1-2, 1-1, 0-2, 2-0, 2-2, 1-2, 1-1, 0-2, 2-1, 2-2, 1-2, 1-1, 2-2, 0-0, 0-2, 1-2, 1-1, 2-2, 0-1, 0-2, 1-2, 1-1, 2-2, 1-0, 0-2, 1-2, 1-1, 2-2, 2-0, 0-2, 1-2, 1-1, 2-2, 2-1, 0-2, 1-2, 2-0, 0-2, 0-0, 2-2, 1-2, 2-0, 0-2, 0-1, 2-2, 1-2, 2-0, 0-2, 1-0, 2-2, 1-2, 2-0, 0-2, 1-1, 2-2, 1-2, 2-0, 0-2, 2-1, 2-2, 1-2, 2-0, 1-0, 0-0, 1-1, 1-2, 2-0, 1-0, 0-1, 1-1, 1-2, 2-0, 1-0, 0-2, 1-1, 1-2, 2-0, 1-0, 2-1, 1-1, 1-2, 2-0, 1-0, 2-2, 1-1, 1-2, 2-0, 1-1, 0-0, 1-0, 1-2, 2-0, 1-1, 0-1, 1-0, 1-2, 2-0, 1-1, 0-2, 1-0, 1-2, 2-0, 1-1, 2-1, 1-0, 1-2, 2-0, 1-1, 2-2, 1-0, 1-2, 2-0, 2-2, 0-0, 0-2, 1-2, 2-0, 2-2, 0-1, 0-2, 1-2, 2-0, 2-2, 1-0, 0-2, 1-2, 2-0, 2-2, 1-1, 0-2, 1-2, 2-0, 2-2, 2-1, 0-2, 1-2, 2-1, 0-2, 0-0, 2-2, 1-2, 2-1, 0-2, 0-1, 2-2, 1-2, 2-1, 0-2, 1-0, 2-2, 1-2, 2-1, 0-2, 1-1, 2-2, 1-2, 2-1, 0-2, 2-0, 2-2, 1-2, 2-1, 1-0, 0-0, 1-1, 1-2, 2-1, 1-0, 0-1, 1-1, 1-2, 2-1, 1-0, 0-2, 1-1, 1-2, 2-1, 1-0, 2-0, 1-1, 1-2, 2-1, 1-0, 2-2, 1-1, 1-2, 2-1, 1-1, 0-0, 1-0, 1-2, 2-1, 1-1, 0-1, 1-0, 1-2, 2-1, 1-1, 0-2, 1-0, 1-2, 2-1, 1-1, 2-0, 1-0, 1-2, 2-1, 1-1, 2-2, 1-0, 1-2, 2-1, 2-2, 0-0, 0-2, 1-2, 2-1, 2-2, 0-1, 0-2, 1-2, 2-1, 2-2, 1-0, 0-2, 1-2, 2-1, 2-2, 1-1, 0-2, 1-2, 2-1, 2-2, 2-0, 0-2, 1-2, 2-2, 1-0, 0-0, 1-1, 1-2, 2-2, 1-0, 0-1, 1-1, 1-2, 2-2, 1-0, 0-2, 1-1, 1-2, 2-2, 1-0, 2-0, 1-1, 1-2, 2-2, 1-0, 2-1, 1-1, 1-2, 2-2, 1-1, 0-0, 1-0, 1-2, 2-2, 1-1, 0-1, 1-0, 1-2, 2-2, 1-1, 0-2, 1-0, 1-2, 2-2, 1-1, 2-0, 1-0, 1-2, 2-2, 1-1, 2-1, 1-0, 2-0, 0-0, 0-2, 0-1, 1-1, 2-0, 0-0, 0-2, 1-0, 1-1, 2-0, 0-0, 0-2, 1-2, 1-1, 2-0, 0-0, 0-2, 2-1, 1-1, 2-0, 0-0, 0-2, 2-2, 1-1, 2-0, 0-0, 1-1, 0-1, 0-2, 2-0, 0-0, 1-1, 1-0, 0-2, 2-0, 0-0, 1-1, 1-2, 0-2, 2-0, 0-0, 1-1, 2-1, 0-2, 2-0, 0-0, 1-1, 2-2, 0-2, 2-0, 0-0, 2-1, 0-1, 2-2, 2-0, 0-0, 2-1, 0-2, 2-2, 2-0, 0-0, 2-1, 1-0, 2-2, 2-0, 0-0, 2-1, 1-1, 2-2, 2-0, 0-0, 2-1, 1-2, 2-2, 2-0, 0-0, 2-2, 0-1, 2-1, 2-0, 0-0, 2-2, 0-2, 2-1, 2-0, 0-0, 2-2, 1-0, 2-1, 2-0, 0-0, 2-2, 1-1, 2-1, 2-0, 0-0, 2-2, 1-2, 2-1, 2-0, 0-1, 0-0, 0-2, 1-0, 2-0, 0-1, 0-0, 1-1, 1-0, 2-0, 0-1, 0-0, 1-2, 1-0, 2-0, 0-1, 0-0, 2-1, 1-0, 2-0, 0-1, 0-0, 2-2, 1-0, 2-0, 0-1, 0-2, 0-0, 1-1, 2-0, 0-1, 0-2, 1-0, 1-1, 2-0, 0-1, 0-2, 1-2, 1-1, 2-0, 0-1, 0-2, 2-1, 1-1, 2-0, 0-1, 0-2, 2-2, 1-1, 2-0, 0-1, 1-0, 0-2, 0-0, 2-0, 0-1, 1-0, 1-1, 0-0, 2-0, 0-1, 1-0, 1-2, 0-0, 2-0, 0-1, 1-0, 2-1, 0-0, 2-0, 0-1, 1-0, 2-2, 0-0, 2-0, 0-1, 1-1, 0-0, 0-2, 2-0, 0-1, 1-1, 1-0, 0-2, 2-0, 0-1, 1-1, 1-2, 0-2, 2-0, 0-1, 1-1, 2-1, 0-2, 2-0, 0-1, 1-1, 2-2, 0-2, 2-0, 0-1, 2-1, 0-0, 2-2, 2-0, 0-1, 2-1, 0-2, 2-2, 2-0, 0-1, 2-1, 1-0, 2-2, 2-0, 0-1, 2-1, 1-1, 2-2, 2-0, 0-1, 2-1, 1-2, 2-2, 2-0, 0-1, 2-2, 0-0, 2-1, 2-0, 0-1, 2-2, 0-2, 2-1, 2-0, 0-1, 2-2, 1-0, 2-1, 2-0, 0-1, 2-2, 1-1, 2-1, 2-0, 0-1, 2-2, 1-2, 2-1, 2-0, 0-2, 0-0, 0-1, 1-0, 2-0, 0-2, 0-0, 1-1, 1-0, 2-0, 0-2, 0-0, 1-2, 1-0, 2-0, 0-2, 0-0, 2-1, 1-0, 2-0, 0-2, 0-0, 2-2, 1-0, 2-0, 0-2, 1-0, 0-1, 0-0, 2-0, 0-2, 1-0, 1-1, 0-0, 2-0, 0-2, 1-0, 1-2, 0-0, 2-0, 0-2, 1-0, 2-1, 0-0, 2-0, 0-2, 1-0, 2-2, 0-0, 2-0, 0-2, 2-1, 0-0, 2-2, 2-0, 0-2, 2-1, 0-1, 2-2, 2-0, 0-2, 2-1, 1-0, 2-2, 2-0, 0-2, 2-1, 1-1, 2-2, 2-0, 0-2, 2-1, 1-2, 2-2, 2-0, 0-2, 2-2, 0-0, 2-1, 2-0, 0-2, 2-2, 0-1, 2-1, 2-0, 0-2, 2-2, 1-0, 2-1, 2-0, 0-2, 2-2, 1-1, 2-1, 2-0, 0-2, 2-2, 1-2, 2-1, 2-0, 1-0, 0-2, 0-0, 1-1, 2-0, 1-0, 0-2, 0-1, 1-1, 2-0, 1-0, 0-2, 1-2, 1-1, 2-0, 1-0, 0-2, 2-1, 1-1, 2-0, 1-0, 0-2, 2-2, 1-1, 2-0, 1-0, 1-1, 0-0, 0-2, 2-0, 1-0, 1-1, 0-1, 0-2, 2-0, 1-0, 1-1, 1-2, 0-2, 2-0, 1-0, 1-1, 2-1, 0-2, 2-0, 1-0, 1-1, 2-2, 0-2, 2-0, 1-0, 2-1, 0-0, 2-2, 2-0, 1-0, 2-1, 0-1, 2-2, 2-0, 1-0, 2-1, 0-2, 2-2, 2-0, 1-0, 2-1, 1-1, 2-2, 2-0, 1-0, 2-1, 1-2, 2-2, 2-0, 1-0, 2-2, 0-0, 2-1, 2-0, 1-0, 2-2, 0-1, 2-1, 2-0, 1-0, 2-2, 0-2, 2-1, 2-0, 1-0, 2-2, 1-1, 2-1, 2-0, 1-0, 2-2, 1-2, 2-1, 2-0, 1-1, 0-0, 0-1, 1-0, 2-0, 1-1, 0-0, 0-2, 1-0, 2-0, 1-1, 0-0, 1-2, 1-0, 2-0, 1-1, 0-0, 2-1, 1-0, 2-0, 1-1, 0-0, 2-2, 1-0, 2-0, 1-1, 1-0, 0-1, 0-0, 2-0, 1-1, 1-0, 0-2, 0-0, 2-0, 1-1, 1-0, 1-2, 0-0, 2-0, 1-1, 1-0, 2-1, 0-0, 2-0, 1-1, 1-0, 2-2, 0-0, 2-0, 1-1, 2-1, 0-0, 2-2, 2-0, 1-1, 2-1, 0-1, 2-2, 2-0, 1-1, 2-1, 0-2, 2-2, 2-0, 1-1, 2-1, 1-0, 2-2, 2-0, 1-1, 2-1, 1-2, 2-2, 2-0, 1-1, 2-2, 0-0, 2-1, 2-0, 1-1, 2-2, 0-1, 2-1, 2-0, 1-1, 2-2, 0-2, 2-1, 2-0, 1-1, 2-2, 1-0, 2-1, 2-0, 1-1, 2-2, 1-2, 2-1, 2-0, 1-2, 0-0, 0-1, 1-0, 2-0, 1-2, 0-0, 0-2, 1-0, 2-0, 1-2, 0-0, 1-1, 1-0, 2-0, 1-2, 0-0, 2-1, 1-0, 2-0, 1-2, 0-0, 2-2, 1-0, 2-0, 1-2, 0-2, 0-0, 1-1, 2-0, 1-2, 0-2, 0-1, 1-1, 2-0, 1-2, 0-2, 1-0, 1-1, 2-0, 1-2, 0-2, 2-1, 1-1, 2-0, 1-2, 0-2, 2-2, 1-1, 2-0, 1-2, 1-0, 0-1, 0-0, 2-0, 1-2, 1-0, 0-2, 0-0, 2-0, 1-2, 1-0, 1-1, 0-0, 2-0, 1-2, 1-0, 2-1, 0-0, 2-0, 1-2, 1-0, 2-2, 0-0, 2-0, 1-2, 1-1, 0-0, 0-2, 2-0, 1-2, 1-1, 0-1, 0-2, 2-0, 1-2, 1-1, 1-0, 0-2, 2-0, 1-2, 1-1, 2-1, 0-2, 2-0, 1-2, 1-1, 2-2, 0-2, 2-0, 1-2, 2-1, 0-0, 2-2, 2-0, 1-2, 2-1, 0-1, 2-2, 2-0, 1-2, 2-1, 0-2, 2-2, 2-0, 1-2, 2-1, 1-0, 2-2, 2-0, 1-2, 2-1, 1-1, 2-2, 2-0, 1-2, 2-2, 0-0, 2-1, 2-0, 1-2, 2-2, 0-1, 2-1, 2-0, 1-2, 2-2, 0-2, 2-1, 2-0, 1-2, 2-2, 1-0, 2-1, 2-0, 1-2, 2-2, 1-1, 2-1, 2-0, 2-1, 0-0, 0-1, 1-0, 2-0, 2-1, 0-0, 0-2, 1-0, 2-0, 2-1, 0-0, 1-1, 1-0, 2-0, 2-1, 0-0, 1-2, 1-0, 2-0, 2-1, 0-0, 2-2, 1-0, 2-0, 2-1, 0-2, 0-0, 1-1, 2-0, 2-1, 0-2, 0-1, 1-1, 2-0, 2-1, 0-2, 1-0, 1-1, 2-0, 2-1, 0-2, 1-2, 1-1, 2-0, 2-1, 0-2, 2-2, 1-1, 2-0, 2-1, 1-0, 0-1, 0-0, 2-0, 2-1, 1-0, 0-2, 0-0, 2-0, 2-1, 1-0, 1-1, 0-0, 2-0, 2-1, 1-0, 1-2, 0-0, 2-0, 2-1, 1-0, 2-2, 0-0, 2-0, 2-1, 1-1, 0-0, 0-2, 2-0, 2-1, 1-1, 0-1, 0-2, 2-0, 2-1, 1-1, 1-0, 0-2, 2-0, 2-1, 1-1, 1-2, 0-2, 2-0, 2-1, 1-1, 2-2, 0-2, 2-0, 2-2, 0-0, 0-1, 1-0, 2-0, 2-2, 0-0, 0-2, 1-0, 2-0, 2-2, 0-0, 1-1, 1-0, 2-0, 2-2, 0-0, 1-2, 1-0, 2-0, 2-2, 0-0, 2-1, 1-0, 2-0, 2-2, 0-2, 0-0, 1-1, 2-0, 2-2, 0-2, 0-1, 1-1, 2-0, 2-2, 0-2, 1-0, 1-1, 2-0, 2-2, 0-2, 1-2, 1-1, 2-0, 2-2, 0-2, 2-1, 1-1, 2-0, 2-2, 1-0, 0-1, 0-0, 2-0, 2-2, 1-0, 0-2, 0-0, 2-0, 2-2, 1-0, 1-1, 0-0, 2-0, 2-2, 1-0, 1-2, 0-0, 2-0, 2-2, 1-0, 2-1, 0-0, 2-0, 2-2, 1-1, 0-0, 0-2, 2-0, 2-2, 1-1, 0-1, 0-2, 2-0, 2-2, 1-1, 1-0, 0-2, 2-0, 2-2, 1-1, 1-2, 0-2, 2-0, 2-2, 1-1, 2-1, 0-2, 2-1, 0-0, 0-1, 0-2, 1-1, 2-1, 0-0, 0-1, 1-0, 1-1, 2-1, 0-0, 0-1, 1-2, 1-1, 2-1, 0-0, 0-1, 2-0, 1-1, 2-1, 0-0, 0-1, 2-2, 1-1, 2-1, 0-0, 1-1, 0-2, 0-1, 2-1, 0-0, 1-1, 1-0, 0-1, 2-1, 0-0, 1-1, 1-2, 0-1, 2-1, 0-0, 1-1, 2-0, 0-1, 2-1, 0-0, 1-1, 2-2, 0-1, 2-1, 0-0, 2-0, 0-1, 2-2, 2-1, 0-0, 2-0, 0-2, 2-2, 2-1, 0-0, 2-0, 1-0, 2-2, 2-1, 0-0, 2-0, 1-1, 2-2, 2-1, 0-0, 2-0, 1-2, 2-2, 2-1, 0-0, 2-2, 0-1, 2-0, 2-1, 0-0, 2-2, 0-2, 2-0, 2-1, 0-0, 2-2, 1-0, 2-0, 2-1, 0-0, 2-2, 1-1, 2-0, 2-1, 0-0, 2-2, 1-2, 2-0, 2-1, 0-1, 2-0, 0-0, 2-2, 2-1, 0-1, 2-0, 0-2, 2-2, 2-1, 0-1, 2-0, 1-0, 2-2, 2-1, 0-1, 2-0, 1-1, 2-2, 2-1, 0-1, 2-0, 1-2, 2-2, 2-1, 0-1, 2-2, 0-0, 2-0, 2-1, 0-1, 2-2, 0-2, 2-0, 2-1, 0-1, 2-2, 1-0, 2-0, 2-1, 0-1, 2-2, 1-1, 2-0, 2-1, 0-1, 2-2, 1-2, 2-0, 2-1, 0-2, 0-1, 0-0, 1-1, 2-1, 0-2, 0-1, 1-0, 1-1, 2-1, 0-2, 0-1, 1-2, 1-1, 2-1, 0-2, 0-1, 2-0, 1-1, 2-1, 0-2, 0-1, 2-2, 1-1, 2-1, 0-2, 1-1, 0-0, 0-1, 2-1, 0-2, 1-1, 1-0, 0-1, 2-1, 0-2, 1-1, 1-2, 0-1, 2-1, 0-2, 1-1, 2-0, 0-1, 2-1, 0-2, 1-1, 2-2, 0-1, 2-1, 0-2, 2-0, 0-0, 2-2, 2-1, 0-2, 2-0, 0-1, 2-2, 2-1, 0-2, 2-0, 1-0, 2-2, 2-1, 0-2, 2-0, 1-1, 2-2, 2-1, 0-2, 2-0, 1-2, 2-2, 2-1, 0-2, 2-2, 0-0, 2-0, 2-1, 0-2, 2-2, 0-1, 2-0, 2-1, 0-2, 2-2, 1-0, 2-0, 2-1, 0-2, 2-2, 1-1, 2-0, 2-1, 0-2, 2-2, 1-2, 2-0, 2-1, 1-0, 0-1, 0-0, 1-1, 2-1, 1-0, 0-1, 0-2, 1-1, 2-1, 1-0, 0-1, 1-2, 1-1, 2-1, 1-0, 0-1, 2-0, 1-1, 2-1, 1-0, 0-1, 2-2, 1-1, 2-1, 1-0, 1-1, 0-0, 0-1, 2-1, 1-0, 1-1, 0-2, 0-1, 2-1, 1-0, 1-1, 1-2, 0-1, 2-1, 1-0, 1-1, 2-0, 0-1, 2-1, 1-0, 1-1, 2-2, 0-1, 2-1, 1-0, 2-0, 0-0, 2-2, 2-1, 1-0, 2-0, 0-1, 2-2, 2-1, 1-0, 2-0, 0-2, 2-2, 2-1, 1-0, 2-0, 1-1, 2-2, 2-1, 1-0, 2-0, 1-2, 2-2, 2-1, 1-0, 2-2, 0-0, 2-0, 2-1, 1-0, 2-2, 0-1, 2-0, 2-1, 1-0, 2-2, 0-2, 2-0, 2-1, 1-0, 2-2, 1-1, 2-0, 2-1, 1-0, 2-2, 1-2, 2-0, 2-1, 1-1, 2-0, 0-0, 2-2, 2-1, 1-1, 2-0, 0-1, 2-2, 2-1, 1-1, 2-0, 0-2, 2-2, 2-1, 1-1, 2-0, 1-0, 2-2, 2-1, 1-1, 2-0, 1-2, 2-2, 2-1, 1-1, 2-2, 0-0, 2-0, 2-1, 1-1, 2-2, 0-1, 2-0, 2-1, 1-1, 2-2, 0-2, 2-0, 2-1, 1-1, 2-2, 1-0, 2-0, 2-1, 1-1, 2-2, 1-2, 2-0, 2-1, 1-2, 0-1, 0-0, 1-1, 2-1, 1-2, 0-1, 0-2, 1-1, 2-1, 1-2, 0-1, 1-0, 1-1, 2-1, 1-2, 0-1, 2-0, 1-1, 2-1, 1-2, 0-1, 2-2, 1-1, 2-1, 1-2, 1-1, 0-0, 0-1, 2-1, 1-2, 1-1, 0-2, 0-1, 2-1, 1-2, 1-1, 1-0, 0-1, 2-1, 1-2, 1-1, 2-0, 0-1, 2-1, 1-2, 1-1, 2-2, 0-1, 2-1, 1-2, 2-0, 0-0, 2-2, 2-1, 1-2, 2-0, 0-1, 2-2, 2-1, 1-2, 2-0, 0-2, 2-2, 2-1, 1-2, 2-0, 1-0, 2-2, 2-1, 1-2, 2-0, 1-1, 2-2, 2-1, 1-2, 2-2, 0-0, 2-0, 2-1, 1-2, 2-2, 0-1, 2-0, 2-1, 1-2, 2-2, 0-2, 2-0, 2-1, 1-2, 2-2, 1-0, 2-0, 2-1, 1-2, 2-2, 1-1, 2-0, 2-1, 2-0, 0-1, 0-0, 1-1, 2-1, 2-0, 0-1, 0-2, 1-1, 2-1, 2-0, 0-1, 1-0, 1-1, 2-1, 2-0, 0-1, 1-2, 1-1, 2-1, 2-0, 0-1, 2-2, 1-1, 2-1, 2-0, 1-1, 0-0, 0-1, 2-1, 2-0, 1-1, 0-2, 0-1, 2-1, 2-0, 1-1, 1-0, 0-1, 2-1, 2-0, 1-1, 1-2, 0-1, 2-1, 2-0, 1-1, 2-2, 0-1, 2-1, 2-2, 0-1, 0-0, 1-1, 2-1, 2-2, 0-1, 0-2, 1-1, 2-1, 2-2, 0-1, 1-0, 1-1, 2-1, 2-2, 0-1, 1-2, 1-1, 2-1, 2-2, 0-1, 2-0, 1-1, 2-1, 2-2, 1-1, 0-0, 0-1, 2-1, 2-2, 1-1, 0-2, 0-1, 2-1, 2-2, 1-1, 1-0, 0-1, 2-1, 2-2, 1-1, 1-2, 0-1, 2-1, 2-2, 1-1, 2-0, 0-1, 2-2, 0-0, 0-2, 0-1, 1-2, 2-2, 0-0, 0-2, 1-0, 1-2, 2-2, 0-0, 0-2, 1-1, 1-2, 2-2, 0-0, 0-2, 2-0, 1-2, 2-2, 0-0, 0-2, 2-1, 1-2, 2-2, 0-0, 1-2, 0-1, 0-2, 2-2, 0-0, 1-2, 1-0, 0-2, 2-2, 0-0, 1-2, 1-1, 0-2, 2-2, 0-0, 1-2, 2-0, 0-2, 2-2, 0-0, 1-2, 2-1, 0-2, 2-2, 0-0, 2-0, 0-1, 2-1, 2-2, 0-0, 2-0, 0-2, 2-1, 2-2, 0-0, 2-0, 1-0, 2-1, 2-2, 0-0, 2-0, 1-1, 2-1, 2-2, 0-0, 2-0, 1-2, 2-1, 2-2, 0-0, 2-1, 0-1, 2-0, 2-2, 0-0, 2-1, 0-2, 2-0, 2-2, 0-0, 2-1, 1-0, 2-0, 2-2, 0-0, 2-1, 1-1, 2-0, 2-2, 0-0, 2-1, 1-2, 2-0, 2-2, 0-1, 0-0, 0-2, 1-1, 2-2, 0-1, 0-0, 1-0, 1-1, 2-2, 0-1, 0-0, 1-2, 1-1, 2-2, 0-1, 0-0, 2-0, 1-1, 2-2, 0-1, 0-0, 2-1, 1-1, 2-2, 0-1, 0-2, 0-0, 1-2, 2-2, 0-1, 0-2, 1-0, 1-2, 2-2, 0-1, 0-2, 1-1, 1-2, 2-2, 0-1, 0-2, 2-0, 1-2, 2-2, 0-1, 0-2, 2-1, 1-2, 2-2, 0-1, 1-1, 0-2, 0-0, 2-2, 0-1, 1-1, 1-0, 0-0, 2-2, 0-1, 1-1, 1-2, 0-0, 2-2, 0-1, 1-1, 2-0, 0-0, 2-2, 0-1, 1-1, 2-1, 0-0, 2-2, 0-1, 1-2, 0-0, 0-2, 2-2, 0-1, 1-2, 1-0, 0-2, 2-2, 0-1, 1-2, 1-1, 0-2, 2-2, 0-1, 1-2, 2-0, 0-2, 2-2, 0-1, 1-2, 2-1, 0-2, 2-2, 0-1, 2-0, 0-0, 2-1, 2-2, 0-1, 2-0, 0-2, 2-1, 2-2, 0-1, 2-0, 1-0, 2-1, 2-2, 0-1, 2-0, 1-1, 2-1, 2-2, 0-1, 2-0, 1-2, 2-1, 2-2, 0-1, 2-1, 0-0, 2-0, 2-2, 0-1, 2-1, 0-2, 2-0, 2-2, 0-1, 2-1, 1-0, 2-0, 2-2, 0-1, 2-1, 1-1, 2-0, 2-2, 0-1, 2-1, 1-2, 2-0, 2-2, 0-2, 0-0, 0-1, 1-1, 2-2, 0-2, 0-0, 1-0, 1-1, 2-2, 0-2, 0-0, 1-2, 1-1, 2-2, 0-2, 0-0, 2-0, 1-1, 2-2, 0-2, 0-0, 2-1, 1-1, 2-2, 0-2, 1-1, 0-1, 0-0, 2-2, 0-2, 1-1, 1-0, 0-0, 2-2, 0-2, 1-1, 1-2, 0-0, 2-2, 0-2, 1-1, 2-0, 0-0, 2-2, 0-2, 1-1, 2-1, 0-0, 2-2, 0-2, 2-0, 0-0, 2-1, 2-2, 0-2, 2-0, 0-1, 2-1, 2-2, 0-2, 2-0, 1-0, 2-1, 2-2, 0-2, 2-0, 1-1, 2-1, 2-2, 0-2, 2-0, 1-2, 2-1, 2-2, 0-2, 2-1, 0-0, 2-0, 2-2, 0-2, 2-1, 0-1, 2-0, 2-2, 0-2, 2-1, 1-0, 2-0, 2-2, 0-2, 2-1, 1-1, 2-0, 2-2, 0-2, 2-1, 1-2, 2-0, 2-2, 1-0, 0-0, 0-1, 1-1, 2-2, 1-0, 0-0, 0-2, 1-1, 2-2, 1-0, 0-0, 1-2, 1-1, 2-2, 1-0, 0-0, 2-0, 1-1, 2-2, 1-0, 0-0, 2-1, 1-1, 2-2, 1-0, 0-2, 0-0, 1-2, 2-2, 1-0, 0-2, 0-1, 1-2, 2-2, 1-0, 0-2, 1-1, 1-2, 2-2, 1-0, 0-2, 2-0, 1-2, 2-2, 1-0, 0-2, 2-1, 1-2, 2-2, 1-0, 1-1, 0-1, 0-0, 2-2, 1-0, 1-1, 0-2, 0-0, 2-2, 1-0, 1-1, 1-2, 0-0, 2-2, 1-0, 1-1, 2-0, 0-0, 2-2, 1-0, 1-1, 2-1, 0-0, 2-2, 1-0, 1-2, 0-0, 0-2, 2-2, 1-0, 1-2, 0-1, 0-2, 2-2, 1-0, 1-2, 1-1, 0-2, 2-2, 1-0, 1-2, 2-0, 0-2, 2-2, 1-0, 1-2, 2-1, 0-2, 2-2, 1-0, 2-0, 0-0, 2-1, 2-2, 1-0, 2-0, 0-1, 2-1, 2-2, 1-0, 2-0, 0-2, 2-1, 2-2, 1-0, 2-0, 1-1, 2-1, 2-2, 1-0, 2-0, 1-2, 2-1, 2-2, 1-0, 2-1, 0-0, 2-0, 2-2, 1-0, 2-1, 0-1, 2-0, 2-2, 1-0, 2-1, 0-2, 2-0, 2-2, 1-0, 2-1, 1-1, 2-0, 2-2, 1-0, 2-1, 1-2, 2-0, 2-2, 1-1, 0-2, 0-0, 1-2, 2-2, 1-1, 0-2, 0-1, 1-2, 2-2, 1-1, 0-2, 1-0, 1-2, 2-2, 1-1, 0-2, 2-0, 1-2, 2-2, 1-1, 0-2, 2-1, 1-2, 2-2, 1-1, 1-2, 0-0, 0-2, 2-2, 1-1, 1-2, 0-1, 0-2, 2-2, 1-1, 1-2, 1-0, 0-2, 2-2, 1-1, 1-2, 2-0, 0-2, 2-2, 1-1, 1-2, 2-1, 0-2, 2-2, 1-1, 2-0, 0-0, 2-1, 2-2, 1-1, 2-0, 0-1, 2-1, 2-2, 1-1, 2-0, 0-2, 2-1, 2-2, 1-1, 2-0, 1-0, 2-1, 2-2, 1-1, 2-0, 1-2, 2-1, 2-2, 1-1, 2-1, 0-0, 2-0, 2-2, 1-1, 2-1, 0-1, 2-0, 2-2, 1-1, 2-1, 0-2, 2-0, 2-2, 1-1, 2-1, 1-0, 2-0, 2-2, 1-1, 2-1, 1-2, 2-0, 2-2, 1-2, 0-0, 0-1, 1-1, 2-2, 1-2, 0-0, 0-2, 1-1, 2-2, 1-2, 0-0, 1-0, 1-1, 2-2, 1-2, 0-0, 2-0, 1-1, 2-2, 1-2, 0-0, 2-1, 1-1, 2-2, 1-2, 1-1, 0-1, 0-0, 2-2, 1-2, 1-1, 0-2, 0-0, 2-2, 1-2, 1-1, 1-0, 0-0, 2-2, 1-2, 1-1, 2-0, 0-0, 2-2, 1-2, 1-1, 2-1, 0-0, 2-2, 1-2, 2-0, 0-0, 2-1, 2-2, 1-2, 2-0, 0-1, 2-1, 2-2, 1-2, 2-0, 0-2, 2-1, 2-2, 1-2, 2-0, 1-0, 2-1, 2-2, 1-2, 2-0, 1-1, 2-1, 2-2, 1-2, 2-1, 0-0, 2-0, 2-2, 1-2, 2-1, 0-1, 2-0, 2-2, 1-2, 2-1, 0-2, 2-0, 2-2, 1-2, 2-1, 1-0, 2-0, 2-2, 1-2, 2-1, 1-1, 2-0, 2-2, 2-0, 0-0, 0-1, 1-1, 2-2, 2-0, 0-0, 0-2, 1-1, 2-2, 2-0, 0-0, 1-0, 1-1, 2-2, 2-0, 0-0, 1-2, 1-1, 2-2, 2-0, 0-0, 2-1, 1-1, 2-2, 2-0, 0-2, 0-0, 1-2, 2-2, 2-0, 0-2, 0-1, 1-2, 2-2, 2-0, 0-2, 1-0, 1-2, 2-2, 2-0, 0-2, 1-1, 1-2, 2-2, 2-0, 0-2, 2-1, 1-2, 2-2, 2-0, 1-1, 0-1, 0-0, 2-2, 2-0, 1-1, 0-2, 0-0, 2-2, 2-0, 1-1, 1-0, 0-0, 2-2, 2-0, 1-1, 1-2, 0-0, 2-2, 2-0, 1-1, 2-1, 0-0, 2-2, 2-0, 1-2, 0-0, 0-2, 2-2, 2-0, 1-2, 0-1, 0-2, 2-2, 2-0, 1-2, 1-0, 0-2, 2-2, 2-0, 1-2, 1-1, 0-2, 2-2, 2-0, 1-2, 2-1, 0-2, 2-2, 2-1, 0-0, 0-1, 1-1, 2-2, 2-1, 0-0, 0-2, 1-1, 2-2, 2-1, 0-0, 1-0, 1-1, 2-2, 2-1, 0-0, 1-2, 1-1, 2-2, 2-1, 0-0, 2-0, 1-1, 2-2, 2-1, 0-2, 0-0, 1-2, 2-2, 2-1, 0-2, 0-1, 1-2, 2-2, 2-1, 0-2, 1-0, 1-2, 2-2, 2-1, 0-2, 1-1, 1-2, 2-2, 2-1, 0-2, 2-0, 1-2, 2-2, 2-1, 1-1, 0-1, 0-0, 2-2, 2-1, 1-1, 0-2, 0-0, 2-2, 2-1, 1-1, 1-0, 0-0, 2-2, 2-1, 1-1, 1-2, 0-0, 2-2, 2-1, 1-1, 2-0, 0-0, 2-2, 2-1, 1-2, 0-0, 0-2, 2-2, 2-1, 1-2, 0-1, 0-2, 2-2, 2-1, 1-2, 1-0, 0-2, 2-2, 2-1, 1-2, 1-1, 0-2, 2-2, 2-1, 1-2, 2-0, 0-2]|\n",
            "+-----------+------------------------------------------------------------------------------------------------------------------------------------------------------------------------------------------------------------------------------------------------------------------------------------------------------------------------------------------------------------------------------------------------------------------------------------------------------------------------------------------------------------------------------------------------------------------------------------------------------------------------------------------------------------------------------------------------------------------------------------------------------------------------------------------------------------------------------------------------------------------------------------------------------------------------------------------------------------------------------------------------------------------------------------------------------------------------------------------------------------------------------------------------------------------------------------------------------------------------------------------------------------------------------------------------------------------------------------------------------------------------------------------------------------------------------------------------------------------------------------------------------------------------------------------------------------------------------------------------------------------------------------------------------------------------------------------------------------------------------------------------------------------------------------------------------------------------------------------------------------------------------------------------------------------------------------------------------------------------------------------------------------------------------------------------------------------------------------------------------------------------------------------------------------------------------------------------------------------------------------------------------------------------------------------------------------------------------------------------------------------------------------------------------------------------------------------------------------------------------------------------------------------------------------------------------------------------------------------------------------------------------------------------------------------------------------------------------------------------------------------------------------------------------------------------------------------------------------------------------------------------------------------------------------------------------------------------------------------------------------------------------------------------------------------------------------------------------------------------------------------------------------------------------------------------------------------------------------------------------------------------------------------------------------------------------------------------------------------------------------------------------------------------------------------------------------------------------------------------------------------------------------------------------------------------------------------------------------------------------------------------------------------------------------------------------------------------------------------------------------------------------------------------------------------------------------------------------------------------------------------------------------------------------------------------------------------------------------------------------------------------------------------------------------------------------------------------------------------------------------------------------------------------------------------------------------------------------------------------------------------------------------------------------------------------------------------------------------------------------------------------------------------------------------------------------------------------------------------------------------------------------------------------------------------------------------------------------------------------------------------------------------------------------------------------------------------------------------------------------------------------------------------------------------------------------------------------------------------------------------------------------------------------------------------------------------------------------------------------------------------------------------------------------------------------------------------------------------------------------------------------------------------------------------------------------------------------------------------------------------------------------------------------------------------------------------------------------------------------------------------------------------------------------------------------------------------------------------------------------------------------------------------------------------------------------------------------------------------------------------------------------------------------------------------------------------------------------------------------------------------------------------------------------------------------------------------------------------------------------------------------------------------------------------------------------------------------------------------------------------------------------------------------------------------------------------------------------------------------------------------------------------------------------------------------------------------------------------------------------------------------------------------------------------------------------------------------------------------------------------------------------------------------------------------------------------------------------------------------------------------------------------------------------------------------------------------------------------------------------------------------------------------------------------------------------------------------------------------------------------------------------------------------------------------------------------------------------------------------------------------------------------------------------------------------------------------------------------------------------------------------------------------------------------------------------------------------------------------------------------------------------------------------------------------------------------------------------------------------------------------------------------------------------------------------------------------------------------------------------------------------------------------------------------------------------------------------------------------------------------------------------------------------------------------------------------------------------------------------------------------------------------------------------------------------------------------------------------------------------------------------------------------------------------------------------------------------------------------------------------------------------------------------------------------------------------------------------------------------------------------------------------------------------------------------------------------------------------------------------------------------------------------------------------------------------------------------------------------------------------------------------------------------------------------------------------------------------------------------------------------------------------------------------------------------------------------------------------------------------------------------------------------------------------------------------------------------------------------------------------------------------------------------------------------------------------------------------------------------------------------------------------------------------------------------------------------------------------------------------------------------------------------------------------------------------------------------------------------------------------------------------------------------------------------------------------------------------------------------------------------------------------------------------------------------------------------------------------------------------------------------------------------------------------------------------------------------------------------------------------------------------------------------------------------------------------------------------------------------------------------------------------------------------------------------------------------------------------------------------------------------------------------------------------------------------------------------------------------------------------------------------------------------------------------------------------------------------------------------------------------------------------------------------------------------------------------------------------------------------------------------------------------------------------------------------------------------------------------------------------------------------------------------------------------------------------------------------------------------------------------------------------------------------------------------------------------------------------------------------------------------------------------------------------------------------------------------------------------------------------------------------------------------------------------------------------------------------------------------------------------------------------------------------------------------------------------------------------------------------------------------------------------------------------------------------------------------------------------------------------------------------------------------------------------------------------------------------------------------------------------------------------------------------------------------------------------------------------------------------------------------------------------------------------------------------------------------------------------------------------------------------------------------------------------------------------------------------------------------------------------------------------------------------------------------------------------------------------------------------------------------------------------------------------------------------------------------------------------------------------------------------------------------------------------------------------------------------------------------------------------------------------------------------------------------------------------------------------------------------------------------------------------------------------------------------------------------------------------------------------------------------------------------------------------------------------------------------------------------------------------------------------------------------------------------------------------------------------------------------------------------------------------------------------------------------------------------------------------------------------------------------------------------------------------------------------------------------------------------------------------------------------------------------------------------------------------------------------------------------------------------------------------------------------------------------------------------------------------------------------------------------------------------------------------------------------------------------------------------------------------------------------------------------------------------------------------------------------------------------------------------------------------------------------------------------------------------------------------------------------------------------------------------------------------------------------------------------------------------------------------------------------------------------------------------------------------------------------------------------------------------------------------------------------------------------------------------------------------------------------------------------------------------------------------------------------------------------------------------------------------------------------------------------------------------------------------------------------------------------------------------------------------------------------------------------------------------------------------------------------------------------------------------------------------------------------------------------------------------------------------------------------------------------------------------------------------------------------------------------------------------------------------------------------------------------------------------------------------------------------------------------------------------------------------------------------------------------------------------------------------------------------------------------------------------------------------------------------------------------------------------------------------------------------------------------------------------------------------------------------------------------------------------------------------------------------------------------------------------------------------------------------------------------------------------------------------------------------------------------------------------------------------------------------------------------------------------------------------------------------------------------------------------------------------------------------------------------------------------------------------------------------------------------------------------------------------------------------------------------------------------------------------------------------------------------------------------------------------------------------------------------------------------------------------------------------------------------------------------------------------------------------------------------------------------------------------------------------------------------------------------------------------------------------------------------------------------------------------------------------------------------------------------------------------------------------------------------------------------------------------------------------------------------------------------------------------------------------------------------------------------------------------------------------------------------------------------------------------------------------------------------------------------------------------------------------------------------------------------------------------------------------------------------------------------------------------------------------------------------------------------------------------------------------------------------------------------------------------------------------------------------------------------------------------------------------------------------------------------------------------------------------------------------------------------------------------------------------------------------------------------------------------------------------------------------------------------------------------------------------------------------------------------------------------------------------------------------------------------------------------------------------------------------------------------------------------------------------------------------------------------------------------------------------------------------------------------------------------------------------------------------------------------------------------------------------------------------------------------------------------------------------------------------------------------------------------------------------------------------------------------------------------------------------------------------------------------------------------------------------------------------------------------------------------------------------------------------------------------------------------------------------------------------------------------------------------------------------------------------------------------------------------------------------------------------------------------------------------------------------------------------------------------------------------------------------------------------------------------------------------------------------------------------------------------------------------------------------------------------------------------------------------------------------------------------------------------------------------------------------------------------------------------------------------------------------------------------------------------------------------------------------------------------------------------------------------------------------------------------------------------------------------------------------------------------------------------------------------------------------------------------------------------------------------------------------------------------------------------------------------------------------------------------------------------------------------------------------------------------------------------------------------------------------------------------------------------------------------------------------------------------------------------------------------------------------------------------------------------------------------------------------------------------------------------------------------------------------------------------------------------------------------------------------------------------------------------------------------------------------------------------------------------------------------------------------------------------------------------------------------------------------------------------------------------------------------------------------------------------------------------------------------------------------------------------------------------------------------------------------------------------------------------------------------------------------------------------------------------------------------------------------------------------------------------------------------------------------------------------------------------------------------------------------------------------------------------------------------------------------------------------------------------------------------------------------------------------------------------------------------------------------------------------------------------------------------------------------------------------------------------------------------------------------------------------------------------------------------------------------------------------------------------------------------------------------------------------------------------------------------------------------------------------------------------------------------------------------------------------------------------------------------------------------------------------------------------------------------------------------------------------------------------------------------------------------------------------------------------------------------------------------------------------------------------------------------------------------------------------------------------------------------------------------------------------------------------------------------------------------------------------------------------------------------------------------------------------------------------------------------------------------------------------------------------------------------------------------------------------------------------------------------------------------------------------------------------------------------------------------------------------------------------------------------------------------------------------------------------------------------------------------------------------------------------------------------------------------------------------------------------------------------------------------------------------------------------------------------------------------------------------------------------------------------------------------------------------------------------------------------------------------------------------------------------------------------------------------------------------------------------------------------------------------------------------------------------------------------------------------------------------------------------------------------------------------------------------------------------------------------------------------------------------------------------------------------------------------------------------------------------------------------------------------------------------------------------------------------------------------------------------------------------------------------------------------------------------------------------------------------------------------------------------------------------------------------------------------------------------------------------------------------------------------------------------------------------------------------------------------------------------------------------------------------------------------------------------------------------------------------------------------------------------------------------------------------------------------------------------------------------------------------------------------------------------------------------------------------------------------------------------------------------------------------------------------------------------------------------------------------------------------------------------------------------------------------------------------------------------------------------------------------------------------------------------------------------------------------------------------------------------------------------------------------------------------------------------------------------------------------------------------------------------------------------------------------------------------------------------------------------------------------------------------------------------------------------------------------------------------------------------------------------------------------------------------------------------------------------------------------------------------------------------------------------------------------------------------------------------------------------------------------------------------------------------------------------------------------------------------------------------------------------------------------------------------------------------------------------------------------------------------------------------------------------------------------------------------------------------------------------------------------------------------------------------------------------------------------------------------------------------------------------------------------------------------------------------------------------------------------------------------------------------------------------------------------------------------------------------------------------------------------------------------------------------------------------------------------------------------------------------------------------------------------------------------------------------------------------------------------------------------------------------------------------------------------------------------------------------------------------------------------------------------------------------------------------------------------------------------------------------------------------------------------------------------------------------------------------------------------------------------------------------------------------------------------------------------------------------------------------------------------------------------------------------------------------------------------------------------------------------------------------------------------------------------------------------------------------------------------------------------------------------------------------------------------------------------------------------------------------------------------------------------------------------------------------------------------------------------------------------------------------------------------------------------------------------------------------------------------------------------------------------------------------------------------------------------------------------------------------------------------------------------------------------------------------------------------------------------------------------------------------------------------------------------------------------------------------------------------------------------------------------------------------------------------------------------------------------------------------------------------------------------------------------------------------------------------------------------------------------------------------------------------------------------------------------------------------------------------------------------------------------------------------------------------------------------------------------------------------------------------------------------------------------------------------------------------------------------------------------------------------------------------------------------------------------------------------------------------------------------------------------------------------------------------------------------------------------------------------------------------------------------------------------------------------------------------------------------------------------------------------------------------------------------------------------------------------------------------------------------------------------------------------------------------------------------------------------------------------------------------------------------------------------------------------------------------------------------------------------------------------------------------------------------------------------------------------------------------------------------------------------------------------------------------------------------------------------------------------------------------------------------------------------------------------------------------------------------------------------------------------------------------------------------------------------------------------------------------------------------------------------------------------------------------------------------------------------------------------------------------------------------------------------------------------------------------------------------------------------------------------------------------------------------------------------------------------------------------------------------------------------------------------------------------------------------------------------------------------------------------------------------------------------------------------------------------------------------------------------------------------------------------------------------------------------------------------------------------------------------------------------------------------------------------------------------------------------------------------------------------------------------------------------------------------------------------------------------------------------------------------------------------------------------------------------------------------------------------------------------------------------------------------------------------------------------------------------------------------------------------------------------------------------------------------------------------------------------------------------------------------------------------------------------------------------------------------------------------------------------------------------------------------------------------------------------------------------------------------------------------------------------------------------------------------------------------------------------------------------------------------------------------------------------------------------------------------------------------------------------------------------------------------------------------------------------------------------------------------------------------------------------------------------------------------------------------------------------------------------------------------------------------------------------------------------------------------------------------------------------------------------------------------------------------------------------------------------------------------------------------------------------------------------------------------------------------------------------------------------------------------------------------------------------------------------------------------------------------------------------------------------------------------------------------------------------------------------------------------------------------------------------------------------------------------------------------------------------------------------------------------------------------------------------------------------------------------------------------------------------------------------------------------------------------------------------------------------------------------------------------------------------------------------------------------------------------------------------------------------------------------------------------------------------------------------------------------------------------------------------------------------------------------------------------------------------------------------------------------------------------------------------------------------------------------------------------------------------------------------------------------------------------------------------------------------------------------------------------------------------------------------------------------------------------------------------------------------------------------------------------------------------------------------------------------------------------------------------------------------------------------------------------------------------------------------------------------------------------------------------------------------------------------------------------------------------------------------------------------------------------------------------------------------------------------------------------------------------------------------------------------------------------------------------------------------------------------------------------------------------------------------------------------------------------------------------------------------------------------------------------------------------------------------------------------------------------------------------------------------------------------------------------------------------------------------------------------------------------------------------------------------------------------------------------------------------------------------------------------------------------------------------------------------------------------------------------------------------------------------------------------------------------------------------------------------------------------------------------------------------------------------------------------------------------------------------------------------------------------------------------------------------------------------------------------------------------------------------------------------------------------------------------------------------------------------------------------------------------------------------------------------------------------------------------------------------------------------------------------------------------------------------------------------------------------------------------------------------------------------------------------------------------------------------------------------------------------------------------------------------------------------------------------------------------------------------------------------------------------------------------------------------------------------------------------------------------------------------------------------------------------------------------------------------------------------------------------------------------------------------------------------------------------------------------------------------------------------------------------------------------------------------------------------------------------------------------------------------------------------------------------------------------------------------------------------------------------------------------------------------------------------------------------------------------------------------------------------------------------------------------------------------------------------------------------------------------------------------------------------------------------------------------------------------------------------------------------------------------------------------------------------------------------------------------------------------------------------------------------------------------------------------------------------------------------------------------------------------------------------------------------------------------------------------------------------------------------------------------------------------------------------------------------------------------------------------------------------------------------------------------------------------------------------------------------------------------------------------------------------------------------------------------------------------------------------------------------------------------------------------------------------------------------------------------------------------------------------------------------------------------------------------------------------------------------------------------------------------------------------------------------------------------------------------------------------------------------------------------------------------------------------------------------------------------------------------------------------------------------------------------------------------------------------------------------------------------------------------------------+\n",
            "\n"
          ]
        }
      ]
    },
    {
      "cell_type": "code",
      "source": [
        "# Games won by X\n",
        "spark.sql(\"\"\"\n",
        "    SELECT\n",
        "        CASE\n",
        "            WHEN `Move 6-O (Row-Col)` = '---' THEN '3 moves'\n",
        "            WHEN `Move 8-O (Row-Col)` = '---' THEN '4 moves'\n",
        "            WHEN `Move 9-X (Row-Col)` != '---' THEN '5 moves'\n",
        "        END AS moves_to_win,\n",
        "        COUNT(*) as games_count\n",
        "    FROM tictactoe_games\n",
        "    WHERE Winner = 'X'\n",
        "    GROUP BY moves_to_win\n",
        "    ORDER BY\n",
        "        CASE moves_to_win\n",
        "            WHEN '5 moves' THEN 1\n",
        "            WHEN '7 moves' THEN 2\n",
        "            WHEN '9 moves' THEN 3\n",
        "        END\n",
        "\"\"\").show()"
      ],
      "metadata": {
        "id": "H0232fIX_9cW",
        "colab": {
          "base_uri": "https://localhost:8080/"
        },
        "outputId": "ccda477e-044c-4318-84e7-a2e374ab5505"
      },
      "execution_count": null,
      "outputs": [
        {
          "output_type": "stream",
          "name": "stdout",
          "text": [
            "+------------+-----------+\n",
            "|moves_to_win|games_count|\n",
            "+------------+-----------+\n",
            "|     3 moves|       1440|\n",
            "|     4 moves|      47952|\n",
            "|     5 moves|      81792|\n",
            "+------------+-----------+\n",
            "\n"
          ]
        }
      ]
    },
    {
      "cell_type": "markdown",
      "source": [
        "# O Win Data"
      ],
      "metadata": {
        "id": "5ymxUWVZbP8p"
      }
    },
    {
      "cell_type": "code",
      "source": [
        "# Number of games 0 won\n",
        "spark.sql(\"\"\"\n",
        "    SELECT COUNT(*) as O_wins\n",
        "    FROM tictactoe_games\n",
        "    WHERE Winner = 'O'\n",
        "\"\"\").show()"
      ],
      "metadata": {
        "colab": {
          "base_uri": "https://localhost:8080/"
        },
        "id": "NB4ETvN4zLnC",
        "outputId": "704802a9-fc38-49a5-ee79-b8e66d923622"
      },
      "execution_count": null,
      "outputs": [
        {
          "output_type": "stream",
          "name": "stdout",
          "text": [
            "+------+\n",
            "|O_wins|\n",
            "+------+\n",
            "| 77904|\n",
            "+------+\n",
            "\n"
          ]
        }
      ]
    },
    {
      "cell_type": "code",
      "source": [
        "# O won in 3 moves (6 overall moves)\n",
        "\n",
        "spark.sql(\"\"\"\n",
        "    SELECT *\n",
        "    FROM tictactoe_games\n",
        "    WHERE Winner = 'O' AND `Move 7-X (Row-Col)` = '---'\n",
        "\"\"\").show()"
      ],
      "metadata": {
        "colab": {
          "base_uri": "https://localhost:8080/"
        },
        "id": "1npVxH24zVPN",
        "outputId": "c09c4bba-e2fa-4985-e1f7-7e83fc8102d4"
      },
      "execution_count": null,
      "outputs": [
        {
          "output_type": "stream",
          "name": "stdout",
          "text": [
            "+------+------------------+------------------+------------------+------------------+------------------+------------------+------------------+------------------+------------------+\n",
            "|Winner|Move 1-X (Row-Col)|Move 2-O (Row-Col)|Move 3-X (Row-Col)|Move 4-O (Row-Col)|Move 5-X (Row-Col)|Move 6-O (Row-Col)|Move 7-X (Row-Col)|Move 8-O (Row-Col)|Move 9-X (Row-Col)|\n",
            "+------+------------------+------------------+------------------+------------------+------------------+------------------+------------------+------------------+------------------+\n",
            "|     O|               0-0|               0-1|               0-2|               1-1|               1-0|               2-1|               ---|               ---|               ---|\n",
            "|     O|               0-0|               0-1|               0-2|               1-1|               1-2|               2-1|               ---|               ---|               ---|\n",
            "|     O|               0-0|               0-1|               0-2|               1-1|               2-0|               2-1|               ---|               ---|               ---|\n",
            "|     O|               0-0|               0-1|               0-2|               1-1|               2-2|               2-1|               ---|               ---|               ---|\n",
            "|     O|               0-0|               0-1|               0-2|               2-1|               1-0|               1-1|               ---|               ---|               ---|\n",
            "|     O|               0-0|               0-1|               0-2|               2-1|               1-2|               1-1|               ---|               ---|               ---|\n",
            "|     O|               0-0|               0-1|               0-2|               2-1|               2-0|               1-1|               ---|               ---|               ---|\n",
            "|     O|               0-0|               0-1|               0-2|               2-1|               2-2|               1-1|               ---|               ---|               ---|\n",
            "|     O|               0-0|               0-1|               1-0|               1-1|               0-2|               2-1|               ---|               ---|               ---|\n",
            "|     O|               0-0|               0-1|               1-0|               1-1|               1-2|               2-1|               ---|               ---|               ---|\n",
            "|     O|               0-0|               0-1|               1-0|               1-1|               2-2|               2-1|               ---|               ---|               ---|\n",
            "|     O|               0-0|               0-1|               1-0|               2-1|               0-2|               1-1|               ---|               ---|               ---|\n",
            "|     O|               0-0|               0-1|               1-0|               2-1|               1-2|               1-1|               ---|               ---|               ---|\n",
            "|     O|               0-0|               0-1|               1-0|               2-1|               2-2|               1-1|               ---|               ---|               ---|\n",
            "|     O|               0-0|               0-1|               1-2|               1-1|               0-2|               2-1|               ---|               ---|               ---|\n",
            "|     O|               0-0|               0-1|               1-2|               1-1|               1-0|               2-1|               ---|               ---|               ---|\n",
            "|     O|               0-0|               0-1|               1-2|               1-1|               2-0|               2-1|               ---|               ---|               ---|\n",
            "|     O|               0-0|               0-1|               1-2|               1-1|               2-2|               2-1|               ---|               ---|               ---|\n",
            "|     O|               0-0|               0-1|               1-2|               2-1|               0-2|               1-1|               ---|               ---|               ---|\n",
            "|     O|               0-0|               0-1|               1-2|               2-1|               1-0|               1-1|               ---|               ---|               ---|\n",
            "+------+------------------+------------------+------------------+------------------+------------------+------------------+------------------+------------------+------------------+\n",
            "only showing top 20 rows\n",
            "\n"
          ]
        }
      ]
    },
    {
      "cell_type": "code",
      "source": [
        "# O won in 3 moves (6 overall moves) Count\n",
        "\n",
        "spark.sql(\"\"\"\n",
        "SELECT COUNT(*) as O_wins\n",
        "    FROM tictactoe_games\n",
        "    WHERE Winner = 'O' AND `Move 7-X (Row-Col)` = '---'\n",
        "\"\"\").show()"
      ],
      "metadata": {
        "colab": {
          "base_uri": "https://localhost:8080/"
        },
        "id": "hZxvKjzt2LUg",
        "outputId": "4c783e22-2caa-42a8-8d2b-ee14a5620af2"
      },
      "execution_count": null,
      "outputs": [
        {
          "output_type": "stream",
          "name": "stdout",
          "text": [
            "+------+\n",
            "|O_wins|\n",
            "+------+\n",
            "|  5328|\n",
            "+------+\n",
            "\n"
          ]
        }
      ]
    },
    {
      "cell_type": "code",
      "source": [
        "# O won in 4 moves (8 overall moves)\n",
        "\n",
        "spark.sql(\"\"\"\n",
        "    SELECT *\n",
        "    FROM tictactoe_games\n",
        "    WHERE Winner = 'O' AND `Move 7-X (Row-Col)` != '---' AND `Move 9-X (Row-Col)` = '---'\n",
        "\"\"\").show()"
      ],
      "metadata": {
        "colab": {
          "base_uri": "https://localhost:8080/"
        },
        "id": "3XF_ONyl0l0h",
        "outputId": "e1f28337-dace-4488-9974-a5c762cb3fd7"
      },
      "execution_count": null,
      "outputs": [
        {
          "output_type": "stream",
          "name": "stdout",
          "text": [
            "+------+------------------+------------------+------------------+------------------+------------------+------------------+------------------+------------------+------------------+\n",
            "|Winner|Move 1-X (Row-Col)|Move 2-O (Row-Col)|Move 3-X (Row-Col)|Move 4-O (Row-Col)|Move 5-X (Row-Col)|Move 6-O (Row-Col)|Move 7-X (Row-Col)|Move 8-O (Row-Col)|Move 9-X (Row-Col)|\n",
            "+------+------------------+------------------+------------------+------------------+------------------+------------------+------------------+------------------+------------------+\n",
            "|     O|               0-0|               0-1|               0-2|               1-0|               1-2|               1-1|               2-0|               2-1|               ---|\n",
            "|     O|               0-0|               0-1|               0-2|               1-0|               1-2|               2-1|               2-0|               1-1|               ---|\n",
            "|     O|               0-0|               0-1|               0-2|               1-0|               2-0|               1-1|               1-2|               2-1|               ---|\n",
            "|     O|               0-0|               0-1|               0-2|               1-0|               2-0|               1-1|               2-1|               1-2|               ---|\n",
            "|     O|               0-0|               0-1|               0-2|               1-0|               2-0|               1-1|               2-2|               1-2|               ---|\n",
            "|     O|               0-0|               0-1|               0-2|               1-0|               2-0|               1-1|               2-2|               2-1|               ---|\n",
            "|     O|               0-0|               0-1|               0-2|               1-0|               2-0|               1-2|               2-1|               1-1|               ---|\n",
            "|     O|               0-0|               0-1|               0-2|               1-0|               2-0|               1-2|               2-2|               1-1|               ---|\n",
            "|     O|               0-0|               0-1|               0-2|               1-0|               2-0|               2-1|               1-2|               1-1|               ---|\n",
            "|     O|               0-0|               0-1|               0-2|               1-0|               2-0|               2-1|               2-2|               1-1|               ---|\n",
            "|     O|               0-0|               0-1|               0-2|               1-0|               2-1|               1-1|               2-0|               1-2|               ---|\n",
            "|     O|               0-0|               0-1|               0-2|               1-0|               2-1|               1-1|               2-2|               1-2|               ---|\n",
            "|     O|               0-0|               0-1|               0-2|               1-0|               2-1|               1-2|               2-0|               1-1|               ---|\n",
            "|     O|               0-0|               0-1|               0-2|               1-0|               2-1|               1-2|               2-2|               1-1|               ---|\n",
            "|     O|               0-0|               0-1|               0-2|               1-0|               2-2|               1-1|               2-0|               1-2|               ---|\n",
            "|     O|               0-0|               0-1|               0-2|               1-0|               2-2|               1-1|               2-0|               2-1|               ---|\n",
            "|     O|               0-0|               0-1|               0-2|               1-0|               2-2|               1-1|               2-1|               1-2|               ---|\n",
            "|     O|               0-0|               0-1|               0-2|               1-0|               2-2|               1-2|               2-0|               1-1|               ---|\n",
            "|     O|               0-0|               0-1|               0-2|               1-0|               2-2|               1-2|               2-1|               1-1|               ---|\n",
            "|     O|               0-0|               0-1|               0-2|               1-0|               2-2|               2-1|               2-0|               1-1|               ---|\n",
            "+------+------------------+------------------+------------------+------------------+------------------+------------------+------------------+------------------+------------------+\n",
            "only showing top 20 rows\n",
            "\n"
          ]
        }
      ]
    },
    {
      "cell_type": "code",
      "source": [
        "# O won in 4 moves (8 overall moves) count\n",
        "\n",
        "spark.sql(\"\"\"\n",
        "SELECT COUNT(*) as O_wins\n",
        "    FROM tictactoe_games\n",
        "    WHERE Winner = 'O' AND `Move 7-X (Row-Col)` != '---' AND `Move 9-X (Row-Col)` = '---'\n",
        "\"\"\").show()"
      ],
      "metadata": {
        "colab": {
          "base_uri": "https://localhost:8080/"
        },
        "id": "pGVJc_h32QBX",
        "outputId": "cea0dc99-f9f0-449d-bff4-deb6661be653"
      },
      "execution_count": null,
      "outputs": [
        {
          "output_type": "stream",
          "name": "stdout",
          "text": [
            "+------+\n",
            "|O_wins|\n",
            "+------+\n",
            "| 72576|\n",
            "+------+\n",
            "\n"
          ]
        }
      ]
    },
    {
      "cell_type": "code",
      "source": [
        "# Games won by O\n",
        "spark.sql(\"\"\"\n",
        "    SELECT\n",
        "        CASE\n",
        "            WHEN `Move 7-X (Row-Col)` = '---' THEN '3 moves'\n",
        "            WHEN `Move 9-X (Row-Col)` = '---' THEN '4 moves'\n",
        "        END AS moves_to_win,\n",
        "        COUNT(*) as games_count\n",
        "    FROM tictactoe_games\n",
        "    WHERE Winner = 'O'\n",
        "    GROUP BY moves_to_win\n",
        "    ORDER BY\n",
        "        CASE moves_to_win\n",
        "            WHEN '3 moves' THEN 1\n",
        "            WHEN '4 moves' THEN 2\n",
        "        END\n",
        "\"\"\").show()"
      ],
      "metadata": {
        "colab": {
          "base_uri": "https://localhost:8080/"
        },
        "id": "1eok3e012_Mv",
        "outputId": "2c6013c2-2c71-4113-fea1-6de52d3da759"
      },
      "execution_count": null,
      "outputs": [
        {
          "output_type": "stream",
          "name": "stdout",
          "text": [
            "+------------+-----------+\n",
            "|moves_to_win|games_count|\n",
            "+------------+-----------+\n",
            "|     3 moves|       5328|\n",
            "|     4 moves|      72576|\n",
            "+------------+-----------+\n",
            "\n"
          ]
        }
      ]
    },
    {
      "cell_type": "markdown",
      "source": [
        "# Graphs"
      ],
      "metadata": {
        "id": "XOb5RF0Zj2o2"
      }
    },
    {
      "cell_type": "code",
      "source": [
        "# Get total number of games\n",
        "total_games = df.count()\n",
        "\n",
        "# Calculate probabilities for X\n",
        "x_wins = spark.sql(\"\"\"\n",
        "    SELECT\n",
        "        CASE\n",
        "            WHEN `Move 6-O (Row-Col)` = '---' THEN '3 moves'\n",
        "            WHEN `Move 8-O (Row-Col)` = '---' THEN '4 moves'\n",
        "            WHEN `Move 9-X (Row-Col)` != '---' THEN '5 moves'\n",
        "        END AS moves_to_win,\n",
        "        COUNT(*) as games_count\n",
        "    FROM tictactoe_games\n",
        "    WHERE Winner = 'X'\n",
        "    GROUP BY moves_to_win\n",
        "\"\"\").toPandas()\n",
        "\n",
        "x_wins['probability'] = x_wins['games_count'] / total_games\n",
        "\n",
        "# Calculate probabilities for O\n",
        "o_wins = spark.sql(\"\"\"\n",
        "    SELECT\n",
        "        CASE\n",
        "            WHEN `Move 7-X (Row-Col)` = '---' THEN '3 moves'\n",
        "            WHEN `Move 9-X (Row-Col)` = '---' THEN '4 moves'\n",
        "        END AS moves_to_win,\n",
        "        COUNT(*) as games_count\n",
        "    FROM tictactoe_games\n",
        "    WHERE Winner = 'O'\n",
        "    GROUP BY moves_to_win\n",
        "\"\"\").toPandas()\n",
        "\n",
        "o_wins['probability'] = o_wins['games_count'] / total_games\n",
        "\n",
        "# Calculate ties\n",
        "ties = spark.sql(\"\"\"\n",
        "    SELECT COUNT(*) as games_count\n",
        "    FROM tictactoe_games\n",
        "    WHERE Winner = '-'\n",
        "\"\"\").toPandas().iloc[0]['games_count']\n",
        "\n",
        "tie_probability = ties / total_games"
      ],
      "metadata": {
        "id": "PQMD0Ac3j1sZ"
      },
      "execution_count": null,
      "outputs": []
    },
    {
      "cell_type": "code",
      "source": [
        "import matplotlib.pyplot as plt\n",
        "import seaborn as sns\n",
        "import pandas as pd\n",
        "\n",
        "# Get total number of games\n",
        "total_games = df.count()\n",
        "\n",
        "# Calculate probabilities for X\n",
        "x_wins = spark.sql(\"\"\"\n",
        "    SELECT\n",
        "        CASE\n",
        "            WHEN `Move 6-O (Row-Col)` = '---' THEN '3 moves'\n",
        "            WHEN `Move 8-O (Row-Col)` = '---' THEN '4 moves'\n",
        "            WHEN `Move 9-X (Row-Col)` != '---' THEN '5 moves'\n",
        "        END AS moves_to_win,\n",
        "        COUNT(*) as games_count\n",
        "    FROM tictactoe_games\n",
        "    WHERE Winner = 'X'\n",
        "    GROUP BY moves_to_win\n",
        "\"\"\").toPandas()\n",
        "\n",
        "x_wins['probability'] = x_wins['games_count'] / total_games\n",
        "\n",
        "# Print the x_wins DataFrame\n",
        "print(\"X Wins Data:\")\n",
        "print(x_wins.to_string(index=False))\n",
        "\n",
        "# Calculate and print the total number of X wins\n",
        "total_x_wins = x_wins['games_count'].sum()\n",
        "print(f\"\\nTotal X Wins: {total_x_wins:,}\")\n",
        "print(f\"Total Games: {total_games:,}\")\n",
        "print(f\"Overall X Win Probability: {total_x_wins / total_games:.4f}\")"
      ],
      "metadata": {
        "colab": {
          "base_uri": "https://localhost:8080/"
        },
        "id": "njEH5jvxw2J4",
        "outputId": "6d709006-a320-4153-bd74-a992aca2ca35"
      },
      "execution_count": null,
      "outputs": [
        {
          "output_type": "stream",
          "name": "stdout",
          "text": [
            "X Wins Data:\n",
            "moves_to_win  games_count  probability\n",
            "     3 moves         1440     0.005643\n",
            "     5 moves        81792     0.320542\n",
            "     4 moves        47952     0.187923\n",
            "\n",
            "Total X Wins: 131,184\n",
            "Total Games: 255,168\n",
            "Overall X Win Probability: 0.5141\n"
          ]
        }
      ]
    },
    {
      "cell_type": "code",
      "source": [
        "# Calculate probabilities for O\n",
        "o_wins = spark.sql(\"\"\"\n",
        "    SELECT\n",
        "        CASE\n",
        "            WHEN `Move 7-X (Row-Col)` = '---' THEN '3 moves'\n",
        "            WHEN `Move 9-X (Row-Col)` = '---' THEN '4 moves'\n",
        "        END AS moves_to_win,\n",
        "        COUNT(*) as games_count\n",
        "    FROM tictactoe_games\n",
        "    WHERE Winner = 'O'\n",
        "    GROUP BY moves_to_win\n",
        "\"\"\").toPandas()\n",
        "\n",
        "o_wins['probability'] = o_wins['games_count'] / total_games\n",
        "\n",
        "# Print the o_wins DataFrame\n",
        "print(\"O Wins Data:\")\n",
        "print(o_wins.to_string(index=False))\n",
        "\n",
        "# Calculate and print the total number of O wins\n",
        "total_o_wins = o_wins['games_count'].sum()\n",
        "print(f\"\\nTotal O Wins: {total_o_wins:,}\")\n",
        "print(f\"Total Games: {total_games:,}\")\n",
        "print(f\"Overall O Win Probability: {total_o_wins / total_games:.4f}\")\n",
        "\n"
      ],
      "metadata": {
        "colab": {
          "base_uri": "https://localhost:8080/"
        },
        "id": "MRdzrkhvmZ5x",
        "outputId": "3b72a844-0cdb-471f-a74b-f0a70d10ac8d"
      },
      "execution_count": null,
      "outputs": [
        {
          "output_type": "stream",
          "name": "stdout",
          "text": [
            "O Wins Data:\n",
            "moves_to_win  games_count  probability\n",
            "     3 moves         5328     0.020880\n",
            "     4 moves        72576     0.284424\n",
            "\n",
            "Total O Wins: 77,904\n",
            "Total Games: 255,168\n",
            "Overall O Win Probability: 0.3053\n"
          ]
        }
      ]
    },
    {
      "cell_type": "code",
      "source": [
        "# Calculate ties\n",
        "ties = spark.sql(\"\"\"\n",
        "    SELECT COUNT(*) as games_count\n",
        "    FROM tictactoe_games\n",
        "    WHERE Winner = '-'\n",
        "\"\"\").toPandas().iloc[0]['games_count']\n",
        "\n",
        "tie_probability = ties / total_games\n",
        "\n",
        "# Print the tie data\n",
        "print(\"Tie Data:\")\n",
        "print(f\"Tie games count: {ties:,}\")\n",
        "print(f\"Tie probability: {tie_probability:.6f}\")\n",
        "print(f\"Total Games: {total_games:,}\")"
      ],
      "metadata": {
        "colab": {
          "base_uri": "https://localhost:8080/"
        },
        "id": "54TtDaSzmh6k",
        "outputId": "c77266e1-844a-4760-9619-5ed031059ba1"
      },
      "execution_count": null,
      "outputs": [
        {
          "output_type": "stream",
          "name": "stdout",
          "text": [
            "Tie Data:\n",
            "Tie games count: 46,080\n",
            "Tie probability: 0.180587\n",
            "Total Games: 255,168\n"
          ]
        }
      ]
    },
    {
      "cell_type": "markdown",
      "source": [
        "# Use this color scheme\n",
        "\n",
        "colors = ['lightblue', 'salmon', 'lightgreen']"
      ],
      "metadata": {
        "id": "1h8lTx2_vpAr"
      }
    },
    {
      "cell_type": "code",
      "source": [
        "# 1. Bar Chart: Probability of Winning by Player and Number of Moves per player\n",
        "# Combine the data and set the correct order\n",
        "combined_data = pd.concat([x_wins.assign(player='X'), o_wins.assign(player='O')])\n",
        "move_order = ['3 moves', '4 moves', '5 moves']\n",
        "\n",
        "# Set the color palette\n",
        "colors = ['lightblue', 'salmon']\n",
        "\n",
        "plt.figure(figsize=(12, 6))\n",
        "ax = sns.barplot(x='moves_to_win', y='probability', hue='player',\n",
        "                 data=combined_data, order=move_order, palette=colors)\n",
        "\n",
        "# Modify y-axis to show percentages\n",
        "ax.yaxis.set_major_formatter(plt.FuncFormatter(lambda y, _: '{:.0%}'.format(y)))\n",
        "plt.ylim(0, combined_data['probability'].max() * 1.1)  # Set y-axis limit with some headroom\n",
        "\n",
        "plt.title('Probability of Winning by Player and Number of Moves')\n",
        "plt.xlabel('Moves to Win')\n",
        "plt.ylabel('Probability')\n",
        "\n",
        "# Add percentage labels on top of each bar\n",
        "for container in ax.containers:\n",
        "    ax.bar_label(container, fmt='%.2f%%', label_type='edge')\n",
        "\n",
        "plt.tight_layout()\n",
        "plt.show()\n",
        "\n",
        "print(\"\\nBased on this chart, it is highly unlikely to win in 3 moves for either player. \"\n",
        "\"\\nPlayer 1 (X) can win in up to 3 opportunities to win (5 moves overall), while Player 2 (O) has 2 opportunities (4 moves overall).\"\n",
        "\"\\nTherefore, Player 1 (x) will always be more likely to win.\")"
      ],
      "metadata": {
        "colab": {
          "base_uri": "https://localhost:8080/",
          "height": 676
        },
        "id": "iO15X2_kmdkg",
        "outputId": "116df1b9-e753-40bd-eebe-eb3b88846272"
      },
      "execution_count": 115,
      "outputs": [
        {
          "output_type": "display_data",
          "data": {
            "text/plain": [
              "<Figure size 1200x600 with 1 Axes>"
            ],
            "image/png": "[encoded data removed]"
          },
          "metadata": {}
        },
        {
          "output_type": "stream",
          "name": "stdout",
          "text": [
            "\n",
            "Based on this chart, it is highly unlikely to win in 3 moves for either player. \n",
            "Player 1 (X) can win in up to 3 opportunities to win (5 moves overall), while Player 2 (O) has 2 opportunities (4 moves overall).\n",
            "Therefore, Player 1 (x) will always be more likely to win.\n"
          ]
        }
      ]
    },
    {
      "cell_type": "code",
      "source": [
        "# 2. Pie Chart: Overall Game Outcomes - Win Likelihood\n",
        "# Calculate the total number of games for each outcome\n",
        "x_total = x_wins['games_count'].sum()\n",
        "o_total = o_wins['games_count'].sum()\n",
        "tie_total = ties\n",
        "\n",
        "# Create a function to format the labels\n",
        "def make_autopct(values):\n",
        "    def my_autopct(pct):\n",
        "        total = sum(values)\n",
        "        val = int(round(pct*total/100.0))\n",
        "        return f'{val:,}, {pct:.1f}%'  # Using ',' format specifier for thousands separator\n",
        "    return my_autopct\n",
        "\n",
        "# Set the color scheme\n",
        "colors = ['lightblue', 'salmon', 'lightgreen']\n",
        "\n",
        "# Create the pie chart\n",
        "plt.figure(figsize=(10, 10))\n",
        "plt.pie([x_total, o_total, tie_total],\n",
        "        labels=['X Wins', 'O Wins', 'Ties'],\n",
        "        autopct=make_autopct([x_total, o_total, tie_total]),\n",
        "        startangle=90,\n",
        "        colors=colors)  # Add this line to set the colors\n",
        "plt.title('Overall Game Outcomes - Win Likelihood')\n",
        "plt.show()"
      ],
      "metadata": {
        "colab": {
          "base_uri": "https://localhost:8080/",
          "height": 829
        },
        "id": "fVNZ68qOmcWN",
        "outputId": "3a7a134b-ab46-47c7-8426-3fe422f413ed"
      },
      "execution_count": 116,
      "outputs": [
        {
          "output_type": "display_data",
          "data": {
            "text/plain": [
              "<Figure size 1000x1000 with 1 Axes>"
            ],
            "image/png": "[encoded data removed]"
          },
          "metadata": {}
        }
      ]
    },
    {
      "cell_type": "code",
      "source": [
        "# 3. Stacked Bar Chart: Game Progression Probabilities for X and O\n",
        "x_probs = [1, x_wins['probability'].sum(), x_wins.loc[x_wins['moves_to_win'] != '3 moves', 'probability'].sum(),\n",
        "           x_wins.loc[x_wins['moves_to_win'] == '5 moves', 'probability'].sum()]\n",
        "o_probs = [0, o_wins['probability'].sum(), o_wins.loc[o_wins['moves_to_win'] == '4 moves', 'probability'].sum(), 0]\n",
        "tie_probs = [0, 0, 0, tie_probability]\n",
        "\n",
        "# Set the color scheme\n",
        "colors = ['lightblue', 'salmon', 'lightgreen']\n",
        "\n",
        "plt.figure(figsize=(12, 6))\n",
        "plt.bar(range(4), x_probs, label='X Wins', color=colors[0])\n",
        "plt.bar(range(4), o_probs, bottom=x_probs, label='O Wins', color=colors[1])\n",
        "plt.bar(range(4), tie_probs, bottom=[sum(x) for x in zip(x_probs, o_probs)], label='Ties', color=colors[2])\n",
        "\n",
        "plt.xlabel('Move Number')\n",
        "plt.ylabel('Probability')\n",
        "plt.title('Game Progression Probabilities')\n",
        "plt.legend()\n",
        "plt.xticks(range(4), ['Start of Game', 'After 3 Moves', 'After 4 Moves', 'After 5 Moves'])\n",
        "\n",
        "# Modify y-axis to show percentages\n",
        "plt.gca().yaxis.set_major_formatter(plt.FuncFormatter(lambda y, _: '{:.0%}'.format(y)))\n",
        "plt.ylim(0, 1)  # Set y-axis limits from 0 to 100%\n",
        "\n",
        "plt.show()\n",
        "\n",
        "print(\"\\nAt the start of the game, X has all options so X is 100% likely to win \"\n",
        "\"\\nAfter 3 moves overall, Player O has a chance up until 5 moves overall\"\n",
        "\"\\nAfter 5 moves overall, it is more likely Player X will win, but the only other option is a tie. Player 0 has no chance.\")"
      ],
      "metadata": {
        "colab": {
          "base_uri": "https://localhost:8080/",
          "height": 633
        },
        "id": "QgDK-oPemJWH",
        "outputId": "942a8ed4-580d-4983-9028-4631513825dc"
      },
      "execution_count": 119,
      "outputs": [
        {
          "output_type": "display_data",
          "data": {
            "text/plain": [
              "<Figure size 1200x600 with 1 Axes>"
            ],
            "image/png": "[encoded data removed]"
          },
          "metadata": {}
        },
        {
          "output_type": "stream",
          "name": "stdout",
          "text": [
            "\n",
            "At the start of the game, X has all options so X is 100% likely to win \n",
            "After 3 moves overall, Player O has a chance up until 5 moves overall\n",
            "After 5 moves overall, it is more likely Player X will win, but the only other option is a tie. Player 0 has no chance.\n"
          ]
        }
      ]
    },
    {
      "cell_type": "code",
      "source": [],
      "metadata": {
        "id": "M4BsKDNTqcvA"
      },
      "execution_count": null,
      "outputs": []
    }
  ]
}