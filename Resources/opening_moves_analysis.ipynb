{
 "cells": [
  {
   "cell_type": "markdown",
   "id": "9e5533fb",
   "metadata": {},
   "source": [
    "# What is the best opening move?"
   ]
  },
  {
   "cell_type": "code",
   "execution_count": 1,
   "id": "deec2fe1",
   "metadata": {},
   "outputs": [
    {
     "data": {
      "text/html": [
       "<div>\n",
       "<style scoped>\n",
       "    .dataframe tbody tr th:only-of-type {\n",
       "        vertical-align: middle;\n",
       "    }\n",
       "\n",
       "    .dataframe tbody tr th {\n",
       "        vertical-align: top;\n",
       "    }\n",
       "\n",
       "    .dataframe thead th {\n",
       "        text-align: right;\n",
       "    }\n",
       "</style>\n",
       "<table border=\"1\" class=\"dataframe\">\n",
       "  <thead>\n",
       "    <tr style=\"text-align: right;\">\n",
       "      <th></th>\n",
       "      <th>Winner</th>\n",
       "      <th>Move 1-X (Row-Col)</th>\n",
       "      <th>Move 2-O (Row-Col)</th>\n",
       "      <th>Move 3-X (Row-Col)</th>\n",
       "      <th>Move 4-O (Row-Col)</th>\n",
       "      <th>Move 5-X (Row-Col)</th>\n",
       "      <th>Move 6-O (Row-Col)</th>\n",
       "      <th>Move 7-X (Row-Col)</th>\n",
       "      <th>Move 8-O (Row-Col)</th>\n",
       "      <th>Move 9-X (Row-Col)</th>\n",
       "    </tr>\n",
       "  </thead>\n",
       "  <tbody>\n",
       "    <tr>\n",
       "      <th>0</th>\n",
       "      <td>X</td>\n",
       "      <td>0-0</td>\n",
       "      <td>0-1</td>\n",
       "      <td>1-0</td>\n",
       "      <td>0-2</td>\n",
       "      <td>2-0</td>\n",
       "      <td>---</td>\n",
       "      <td>---</td>\n",
       "      <td>---</td>\n",
       "      <td>---</td>\n",
       "    </tr>\n",
       "    <tr>\n",
       "      <th>1</th>\n",
       "      <td>X</td>\n",
       "      <td>0-0</td>\n",
       "      <td>0-1</td>\n",
       "      <td>1-0</td>\n",
       "      <td>1-1</td>\n",
       "      <td>2-0</td>\n",
       "      <td>---</td>\n",
       "      <td>---</td>\n",
       "      <td>---</td>\n",
       "      <td>---</td>\n",
       "    </tr>\n",
       "    <tr>\n",
       "      <th>2</th>\n",
       "      <td>X</td>\n",
       "      <td>0-0</td>\n",
       "      <td>0-1</td>\n",
       "      <td>1-0</td>\n",
       "      <td>1-2</td>\n",
       "      <td>2-0</td>\n",
       "      <td>---</td>\n",
       "      <td>---</td>\n",
       "      <td>---</td>\n",
       "      <td>---</td>\n",
       "    </tr>\n",
       "    <tr>\n",
       "      <th>3</th>\n",
       "      <td>X</td>\n",
       "      <td>0-0</td>\n",
       "      <td>0-1</td>\n",
       "      <td>1-0</td>\n",
       "      <td>2-1</td>\n",
       "      <td>2-0</td>\n",
       "      <td>---</td>\n",
       "      <td>---</td>\n",
       "      <td>---</td>\n",
       "      <td>---</td>\n",
       "    </tr>\n",
       "    <tr>\n",
       "      <th>4</th>\n",
       "      <td>X</td>\n",
       "      <td>0-0</td>\n",
       "      <td>0-1</td>\n",
       "      <td>1-0</td>\n",
       "      <td>2-2</td>\n",
       "      <td>2-0</td>\n",
       "      <td>---</td>\n",
       "      <td>---</td>\n",
       "      <td>---</td>\n",
       "      <td>---</td>\n",
       "    </tr>\n",
       "  </tbody>\n",
       "</table>\n",
       "</div>"
      ],
      "text/plain": [
       "  Winner Move 1-X (Row-Col) Move 2-O (Row-Col) Move 3-X (Row-Col)  \\\n",
       "0      X                0-0                0-1                1-0   \n",
       "1      X                0-0                0-1                1-0   \n",
       "2      X                0-0                0-1                1-0   \n",
       "3      X                0-0                0-1                1-0   \n",
       "4      X                0-0                0-1                1-0   \n",
       "\n",
       "  Move 4-O (Row-Col) Move 5-X (Row-Col) Move 6-O (Row-Col) Move 7-X (Row-Col)  \\\n",
       "0                0-2                2-0                ---                ---   \n",
       "1                1-1                2-0                ---                ---   \n",
       "2                1-2                2-0                ---                ---   \n",
       "3                2-1                2-0                ---                ---   \n",
       "4                2-2                2-0                ---                ---   \n",
       "\n",
       "  Move 8-O (Row-Col) Move 9-X (Row-Col)  \n",
       "0                ---                ---  \n",
       "1                ---                ---  \n",
       "2                ---                ---  \n",
       "3                ---                ---  \n",
       "4                ---                ---  "
      ]
     },
     "execution_count": 1,
     "metadata": {},
     "output_type": "execute_result"
    }
   ],
   "source": [
    "# import dependencies\n",
    "import pandas as pd\n",
    "import matplotlib.pyplot as plt\n",
    "import seaborn as sns\n",
    "\n",
    "# load dataset\n",
    "df = pd.read_csv('tic_tac_toe_data.csv')\n",
    "df.head()"
   ]
  },
  {
   "cell_type": "code",
   "execution_count": 2,
   "id": "e0889998",
   "metadata": {},
   "outputs": [
    {
     "data": {
      "text/html": [
       "<div>\n",
       "<style scoped>\n",
       "    .dataframe tbody tr th:only-of-type {\n",
       "        vertical-align: middle;\n",
       "    }\n",
       "\n",
       "    .dataframe tbody tr th {\n",
       "        vertical-align: top;\n",
       "    }\n",
       "\n",
       "    .dataframe thead th {\n",
       "        text-align: right;\n",
       "    }\n",
       "</style>\n",
       "<table border=\"1\" class=\"dataframe\">\n",
       "  <thead>\n",
       "    <tr style=\"text-align: right;\">\n",
       "      <th></th>\n",
       "      <th>Winner</th>\n",
       "      <th>Move 1-X</th>\n",
       "      <th>Move 2-O</th>\n",
       "      <th>Move 3-X</th>\n",
       "      <th>Move 4-O</th>\n",
       "      <th>Move 5-X</th>\n",
       "      <th>Move 6-O</th>\n",
       "      <th>Move 7-X</th>\n",
       "      <th>Move 8-O</th>\n",
       "      <th>Move 9-X</th>\n",
       "    </tr>\n",
       "  </thead>\n",
       "  <tbody>\n",
       "    <tr>\n",
       "      <th>0</th>\n",
       "      <td>X</td>\n",
       "      <td>0-0</td>\n",
       "      <td>0-1</td>\n",
       "      <td>1-0</td>\n",
       "      <td>0-2</td>\n",
       "      <td>2-0</td>\n",
       "      <td>---</td>\n",
       "      <td>---</td>\n",
       "      <td>---</td>\n",
       "      <td>---</td>\n",
       "    </tr>\n",
       "    <tr>\n",
       "      <th>1</th>\n",
       "      <td>X</td>\n",
       "      <td>0-0</td>\n",
       "      <td>0-1</td>\n",
       "      <td>1-0</td>\n",
       "      <td>1-1</td>\n",
       "      <td>2-0</td>\n",
       "      <td>---</td>\n",
       "      <td>---</td>\n",
       "      <td>---</td>\n",
       "      <td>---</td>\n",
       "    </tr>\n",
       "    <tr>\n",
       "      <th>2</th>\n",
       "      <td>X</td>\n",
       "      <td>0-0</td>\n",
       "      <td>0-1</td>\n",
       "      <td>1-0</td>\n",
       "      <td>1-2</td>\n",
       "      <td>2-0</td>\n",
       "      <td>---</td>\n",
       "      <td>---</td>\n",
       "      <td>---</td>\n",
       "      <td>---</td>\n",
       "    </tr>\n",
       "    <tr>\n",
       "      <th>3</th>\n",
       "      <td>X</td>\n",
       "      <td>0-0</td>\n",
       "      <td>0-1</td>\n",
       "      <td>1-0</td>\n",
       "      <td>2-1</td>\n",
       "      <td>2-0</td>\n",
       "      <td>---</td>\n",
       "      <td>---</td>\n",
       "      <td>---</td>\n",
       "      <td>---</td>\n",
       "    </tr>\n",
       "    <tr>\n",
       "      <th>4</th>\n",
       "      <td>X</td>\n",
       "      <td>0-0</td>\n",
       "      <td>0-1</td>\n",
       "      <td>1-0</td>\n",
       "      <td>2-2</td>\n",
       "      <td>2-0</td>\n",
       "      <td>---</td>\n",
       "      <td>---</td>\n",
       "      <td>---</td>\n",
       "      <td>---</td>\n",
       "    </tr>\n",
       "  </tbody>\n",
       "</table>\n",
       "</div>"
      ],
      "text/plain": [
       "  Winner Move 1-X Move 2-O Move 3-X Move 4-O Move 5-X Move 6-O Move 7-X  \\\n",
       "0      X      0-0      0-1      1-0      0-2      2-0      ---      ---   \n",
       "1      X      0-0      0-1      1-0      1-1      2-0      ---      ---   \n",
       "2      X      0-0      0-1      1-0      1-2      2-0      ---      ---   \n",
       "3      X      0-0      0-1      1-0      2-1      2-0      ---      ---   \n",
       "4      X      0-0      0-1      1-0      2-2      2-0      ---      ---   \n",
       "\n",
       "  Move 8-O Move 9-X  \n",
       "0      ---      ---  \n",
       "1      ---      ---  \n",
       "2      ---      ---  \n",
       "3      ---      ---  \n",
       "4      ---      ---  "
      ]
     },
     "execution_count": 2,
     "metadata": {},
     "output_type": "execute_result"
    }
   ],
   "source": [
    "# remove '(Row-Col)' from columns that contain it\n",
    "df.columns = [col.replace(' (Row-Col)', '') if ' (Row-Col)' in col else col for col in df.columns]\n",
    "df.head()"
   ]
  },
  {
   "cell_type": "code",
   "execution_count": 3,
   "id": "2bcfbdc9",
   "metadata": {},
   "outputs": [
    {
     "name": "stdout",
     "output_type": "stream",
     "text": [
      "Total games where X won: 131,184 out of 255,168 total games.\n",
      "Percentage of games won by X: 51.41%\n"
     ]
    }
   ],
   "source": [
    "# filter to only games that X won\n",
    "x_wins = df[df['Winner'] == 'X']\n",
    "\n",
    "print(f\"Total games where X won: {len(x_wins):,} out of {len(df):,} total games.\")\n",
    "print(f\"Percentage of games won by X: {len(x_wins) / len(df) * 100:.2f}%\")"
   ]
  },
  {
   "cell_type": "code",
   "execution_count": 4,
   "id": "f725470c",
   "metadata": {},
   "outputs": [
    {
     "name": "stderr",
     "output_type": "stream",
     "text": [
      "C:\\Users\\sarah\\AppData\\Local\\Temp\\ipykernel_41844\\2152028877.py:2: SettingWithCopyWarning: \n",
      "A value is trying to be set on a copy of a slice from a DataFrame.\n",
      "Try using .loc[row_indexer,col_indexer] = value instead\n",
      "\n",
      "See the caveats in the documentation: https://pandas.pydata.org/pandas-docs/stable/user_guide/indexing.html#returning-a-view-versus-a-copy\n",
      "  x_wins[['row', 'col']] = x_wins['Move 1-X'].str.split('-', expand=True).astype(int)\n",
      "C:\\Users\\sarah\\AppData\\Local\\Temp\\ipykernel_41844\\2152028877.py:2: SettingWithCopyWarning: \n",
      "A value is trying to be set on a copy of a slice from a DataFrame.\n",
      "Try using .loc[row_indexer,col_indexer] = value instead\n",
      "\n",
      "See the caveats in the documentation: https://pandas.pydata.org/pandas-docs/stable/user_guide/indexing.html#returning-a-view-versus-a-copy\n",
      "  x_wins[['row', 'col']] = x_wins['Move 1-X'].str.split('-', expand=True).astype(int)\n"
     ]
    }
   ],
   "source": [
    "# extract the first move by Player X -- the format is like \"1-0\" → split into row and col\n",
    "x_wins[['row', 'col']] = x_wins['Move 1-X'].str.split('-', expand=True).astype(int)"
   ]
  },
  {
   "cell_type": "code",
   "execution_count": 5,
   "id": "0f05baaa",
   "metadata": {},
   "outputs": [
    {
     "data": {
      "text/html": [
       "<div>\n",
       "<style scoped>\n",
       "    .dataframe tbody tr th:only-of-type {\n",
       "        vertical-align: middle;\n",
       "    }\n",
       "\n",
       "    .dataframe tbody tr th {\n",
       "        vertical-align: top;\n",
       "    }\n",
       "\n",
       "    .dataframe thead th {\n",
       "        text-align: right;\n",
       "    }\n",
       "</style>\n",
       "<table border=\"1\" class=\"dataframe\">\n",
       "  <thead>\n",
       "    <tr style=\"text-align: right;\">\n",
       "      <th>col</th>\n",
       "      <th>0</th>\n",
       "      <th>1</th>\n",
       "      <th>2</th>\n",
       "    </tr>\n",
       "    <tr>\n",
       "      <th>row</th>\n",
       "      <th></th>\n",
       "      <th></th>\n",
       "      <th></th>\n",
       "    </tr>\n",
       "  </thead>\n",
       "  <tbody>\n",
       "    <tr>\n",
       "      <th>0</th>\n",
       "      <td>14652</td>\n",
       "      <td>14232</td>\n",
       "      <td>14652</td>\n",
       "    </tr>\n",
       "    <tr>\n",
       "      <th>1</th>\n",
       "      <td>14232</td>\n",
       "      <td>15648</td>\n",
       "      <td>14232</td>\n",
       "    </tr>\n",
       "    <tr>\n",
       "      <th>2</th>\n",
       "      <td>14652</td>\n",
       "      <td>14232</td>\n",
       "      <td>14652</td>\n",
       "    </tr>\n",
       "  </tbody>\n",
       "</table>\n",
       "</div>"
      ],
      "text/plain": [
       "col      0      1      2\n",
       "row                     \n",
       "0    14652  14232  14652\n",
       "1    14232  15648  14232\n",
       "2    14652  14232  14652"
      ]
     },
     "execution_count": 5,
     "metadata": {},
     "output_type": "execute_result"
    }
   ],
   "source": [
    "# create dataframe showing how many times Player X won when opening at each position on the board\n",
    "heatmap_data = x_wins.groupby(['row', 'col']).size().unstack(fill_value=0)\n",
    "heatmap_data"
   ]
  },
  {
   "cell_type": "code",
   "execution_count": 6,
   "id": "7bf5e7c1",
   "metadata": {},
   "outputs": [],
   "source": [
    "# get total counts for all opening moves (not just X wins)\n",
    "total_openings = df['Move 1-X'].str.split('-', expand=True).astype(int)\n",
    "\n",
    "# analyze total occurrences of each opening move, regardless of outcome\n",
    "df[['row', 'col']] = total_openings\n",
    "\n",
    "# groups all games by the first move coordinates\n",
    "total_counts = df.groupby(['row', 'col']).size().unstack(fill_value=0)"
   ]
  },
  {
   "cell_type": "code",
   "execution_count": 7,
   "id": "52fee6a2",
   "metadata": {},
   "outputs": [],
   "source": [
    "# calculate win rate heatmap\n",
    "win_rate_heatmap = heatmap_data / total_counts"
   ]
  },
  {
   "cell_type": "code",
   "execution_count": 8,
   "id": "9b187c27",
   "metadata": {},
   "outputs": [],
   "source": [
    "# Define custom colors\n",
    "from matplotlib.colors import LinearSegmentedColormap\n",
    "colors = ['lightblue', 'salmon', 'lightgreen']\n",
    "custom_cmap = LinearSegmentedColormap.from_list(\"custom_cmap\", colors)"
   ]
  },
  {
   "cell_type": "code",
   "execution_count": 9,
   "id": "8ae61972",
   "metadata": {},
   "outputs": [
    {
     "data": {
      "image/png": "[encoded data removed]",
      "text/plain": [
       "<Figure size 600x500 with 2 Axes>"
      ]
     },
     "metadata": {},
     "output_type": "display_data"
    }
   ],
   "source": [
    "# plot the heatmap\n",
    "plt.figure(figsize=(6, 5))\n",
    "sns.heatmap(win_rate_heatmap, annot=True, cmap=custom_cmap, fmt='.2f', cbar_kws={'label': 'X Win Rate'})\n",
    "plt.title(\"X's Win Rate by Opening Move\")\n",
    "plt.xlabel('Column')\n",
    "plt.ylabel('Row')\n",
    "plt.xticks([0.5,1.5,2.5], ['0', '1', '2'])\n",
    "plt.yticks([0.5,1.5,2.5], ['0', '1', '2'], rotation=0)\n",
    "plt.show()"
   ]
  },
  {
   "cell_type": "markdown",
   "id": "7e4413a1",
   "metadata": {},
   "source": []
  }
 ],
 "metadata": {
  "kernelspec": {
   "display_name": "dev",
   "language": "python",
   "name": "python3"
  },
  "language_info": {
   "codemirror_mode": {
    "name": "ipython",
    "version": 3
   },
   "file_extension": ".py",
   "mimetype": "text/x-python",
   "name": "python",
   "nbconvert_exporter": "python",
   "pygments_lexer": "ipython3",
   "version": "3.10.16"
  }
 },
 "nbformat": 4,
 "nbformat_minor": 5
}
