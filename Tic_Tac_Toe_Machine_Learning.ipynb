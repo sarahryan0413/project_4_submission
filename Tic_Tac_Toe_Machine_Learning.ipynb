{
  "nbformat": 4,
  "nbformat_minor": 0,
  "metadata": {
    "colab": {
      "provenance": [],
      "include_colab_link": true
    },
    "kernelspec": {
      "name": "python3",
      "display_name": "Python 3"
    },
    "language_info": {
      "name": "python"
    }
  },
  "cells": [
    {
      "cell_type": "markdown",
      "metadata": {
        "id": "view-in-github",
        "colab_type": "text"
      },
      "source": [
        "<a href=\"https://colab.research.google.com/github/kimarlee/Tic-Tac-Toe/blob/main/Tic_Tac_Toe_Machine_Learning.ipynb\" target=\"_parent\"><img src=\"https://colab.research.google.com/assets/colab-badge.svg\" alt=\"Open In Colab\"/></a>"
      ]
    },
    {
      "cell_type": "markdown",
      "source": [
        "# Tic-Tac-Toe Move Prediction Project"
      ],
      "metadata": {
        "id": "TIGJlz2RBE7A"
      }
    },
    {
      "cell_type": "code",
      "execution_count": null,
      "metadata": {
        "id": "66G7xMA-y11o",
        "colab": {
          "base_uri": "https://localhost:8080/"
        },
        "outputId": "e282b405-e847-4604-dbb2-1cefad8fb1ce"
      },
      "outputs": [
        {
          "output_type": "stream",
          "name": "stdout",
          "text": [
            "\r0% [Working]\r            \rHit:1 https://developer.download.nvidia.com/compute/cuda/repos/ubuntu2204/x86_64  InRelease\n",
            "\r0% [Connecting to archive.ubuntu.com (185.125.190.83)] [Connecting to security.\r                                                                               \rHit:2 https://cloud.r-project.org/bin/linux/ubuntu jammy-cran40/ InRelease\n",
            "\r0% [Waiting for headers] [Waiting for headers] [Waiting for headers] [Connectin\r                                                                               \rGet:3 http://security.ubuntu.com/ubuntu jammy-security InRelease [129 kB]\n",
            "\r0% [Waiting for headers] [3 InRelease 12.7 kB/129 kB 10%] [Waiting for headers]\r                                                                               \rHit:4 http://archive.ubuntu.com/ubuntu jammy InRelease\n",
            "Hit:5 https://r2u.stat.illinois.edu/ubuntu jammy InRelease\n",
            "Get:6 http://archive.ubuntu.com/ubuntu jammy-updates InRelease [128 kB]\n",
            "Hit:7 https://ppa.launchpadcontent.net/deadsnakes/ppa/ubuntu jammy InRelease\n",
            "Hit:8 https://ppa.launchpadcontent.net/graphics-drivers/ppa/ubuntu jammy InRelease\n",
            "Get:9 http://archive.ubuntu.com/ubuntu jammy-backports InRelease [127 kB]\n",
            "Hit:10 https://ppa.launchpadcontent.net/ubuntugis/ppa/ubuntu jammy InRelease\n",
            "Fetched 384 kB in 2s (163 kB/s)\n",
            "Reading package lists... Done\n",
            "W: Skipping acquire of configured file 'main/source/Sources' as repository 'https://r2u.stat.illinois.edu/ubuntu jammy InRelease' does not seem to provide it (sources.list entry misspelt?)\n"
          ]
        }
      ],
      "source": [
        "import os\n",
        "# Find the latest version of spark 3.x  from http://www.apache.org/dist/spark/ and enter as the spark version. For example: spark_version = 'spark-3.5.6'\n",
        "spark_version = 'spark-3.5.6'\n",
        "os.environ['SPARK_VERSION']=spark_version\n",
        "\n",
        "# Install Spark and Java\n",
        "!apt-get update\n",
        "!apt-get install openjdk-11-jdk-headless -qq > /dev/null\n",
        "!wget -q https://downloads.apache.org/spark/$SPARK_VERSION/$SPARK_VERSION-bin-hadoop3.tgz\n",
        "!tar xf $SPARK_VERSION-bin-hadoop3.tgz\n",
        "!pip install -q findspark\n",
        "\n",
        "# Set Environment Variables\n",
        "os.environ[\"JAVA_HOME\"] = \"/usr/lib/jvm/java-11-openjdk-amd64\"\n",
        "os.environ[\"SPARK_HOME\"] = f\"/content/{spark_version}-bin-hadoop3\"\n",
        "\n",
        "# Start a SparkSession\n",
        "import findspark\n",
        "findspark.init()"
      ]
    },
    {
      "cell_type": "code",
      "source": [
        "# Import packages\n",
        "from pyspark.sql import SparkSession  # entry point for working with Spark DataFrames and executing Spark SQL queries\n",
        "import time                           # time module so we can time our queries.\n",
        "\n",
        "# Create a SparkSession\n",
        "spark = SparkSession.builder.appName(\"SparkSQL\").getOrCreate()"
      ],
      "metadata": {
        "id": "JGxdvxJQz5_8"
      },
      "execution_count": null,
      "outputs": []
    },
    {
      "cell_type": "code",
      "source": [
        "# Read the tic_tac_toe_data.csv into a PySpark DataFrame.\n",
        "from pyspark import SparkFiles   # allows Spark to access files from remote URLs like GitHub\n",
        "url = \"https://raw.githubusercontent.com/kimarlee/Tic-Tac-Toe/refs/heads/main/tic_tac_toe_data.csv\"\n",
        "\n",
        "# Downloads the file - this step makes the file accessible locally within your Spark session — even though it came from a remote URL.\n",
        "spark.sparkContext.addFile(url)\n",
        "\n",
        "# Read the data into the dataframe\n",
        "df = spark.read.csv(SparkFiles.get(\"tic_tac_toe_data.csv\"), sep=\",\", inferSchema=True, header=True)\n",
        "df.show()"
      ],
      "metadata": {
        "id": "GwYElo3L0Xh0",
        "colab": {
          "base_uri": "https://localhost:8080/"
        },
        "outputId": "a06a3507-cdc8-4ea3-e9fa-470279e39799"
      },
      "execution_count": null,
      "outputs": [
        {
          "output_type": "stream",
          "name": "stdout",
          "text": [
            "+------+------------------+------------------+------------------+------------------+------------------+------------------+------------------+------------------+------------------+\n",
            "|Winner|Move 1-X (Row-Col)|Move 2-O (Row-Col)|Move 3-X (Row-Col)|Move 4-O (Row-Col)|Move 5-X (Row-Col)|Move 6-O (Row-Col)|Move 7-X (Row-Col)|Move 8-O (Row-Col)|Move 9-X (Row-Col)|\n",
            "+------+------------------+------------------+------------------+------------------+------------------+------------------+------------------+------------------+------------------+\n",
            "|     X|               0-0|               0-1|               1-0|               0-2|               2-0|               ---|               ---|               ---|               ---|\n",
            "|     X|               0-0|               0-1|               1-0|               1-1|               2-0|               ---|               ---|               ---|               ---|\n",
            "|     X|               0-0|               0-1|               1-0|               1-2|               2-0|               ---|               ---|               ---|               ---|\n",
            "|     X|               0-0|               0-1|               1-0|               2-1|               2-0|               ---|               ---|               ---|               ---|\n",
            "|     X|               0-0|               0-1|               1-0|               2-2|               2-0|               ---|               ---|               ---|               ---|\n",
            "|     X|               0-0|               0-1|               1-1|               0-2|               2-2|               ---|               ---|               ---|               ---|\n",
            "|     X|               0-0|               0-1|               1-1|               1-0|               2-2|               ---|               ---|               ---|               ---|\n",
            "|     X|               0-0|               0-1|               1-1|               1-2|               2-2|               ---|               ---|               ---|               ---|\n",
            "|     X|               0-0|               0-1|               1-1|               2-0|               2-2|               ---|               ---|               ---|               ---|\n",
            "|     X|               0-0|               0-1|               1-1|               2-1|               2-2|               ---|               ---|               ---|               ---|\n",
            "|     X|               0-0|               0-1|               2-0|               0-2|               1-0|               ---|               ---|               ---|               ---|\n",
            "|     X|               0-0|               0-1|               2-0|               1-1|               1-0|               ---|               ---|               ---|               ---|\n",
            "|     X|               0-0|               0-1|               2-0|               1-2|               1-0|               ---|               ---|               ---|               ---|\n",
            "|     X|               0-0|               0-1|               2-0|               2-1|               1-0|               ---|               ---|               ---|               ---|\n",
            "|     X|               0-0|               0-1|               2-0|               2-2|               1-0|               ---|               ---|               ---|               ---|\n",
            "|     X|               0-0|               0-1|               2-2|               0-2|               1-1|               ---|               ---|               ---|               ---|\n",
            "|     X|               0-0|               0-1|               2-2|               1-0|               1-1|               ---|               ---|               ---|               ---|\n",
            "|     X|               0-0|               0-1|               2-2|               1-2|               1-1|               ---|               ---|               ---|               ---|\n",
            "|     X|               0-0|               0-1|               2-2|               2-0|               1-1|               ---|               ---|               ---|               ---|\n",
            "|     X|               0-0|               0-1|               2-2|               2-1|               1-1|               ---|               ---|               ---|               ---|\n",
            "+------+------------------+------------------+------------------+------------------+------------------+------------------+------------------+------------------+------------------+\n",
            "only showing top 20 rows\n",
            "\n"
          ]
        }
      ]
    },
    {
      "cell_type": "code",
      "source": [
        "# Create a temporary view of the DataFrame.\n",
        "df.createOrReplaceTempView('tictactoe_games')"
      ],
      "metadata": {
        "id": "pChFTyvg5Rk0"
      },
      "execution_count": null,
      "outputs": []
    },
    {
      "cell_type": "markdown",
      "source": [
        "Clean and Prepare Move Data"
      ],
      "metadata": {
        "id": "ZKrGeO1R5k92"
      }
    },
    {
      "cell_type": "code",
      "source": [
        "from pyspark.sql.functions import col, when\n",
        "\n",
        "# Get the list of move columns\n",
        "move_columns = [c for c in df.columns if c.startswith('Move')]\n",
        "\n",
        "# Replace NULL values with 9 for all move columns\n",
        "for column_name in move_columns:\n",
        "    df = df.withColumn(\n",
        "        column_name,\n",
        "        when(col(column_name).isNull(), 9).otherwise(col(column_name))\n",
        "    )\n",
        "\n",
        "# Select only the 'Winner' column and the move columns\n",
        "df = df.select('Winner', *move_columns)\n",
        "\n",
        "# Show the result\n",
        "df.show(truncate=False)\n",
        "\n",
        "# Print the schema to confirm the data types\n",
        "df.printSchema()"
      ],
      "metadata": {
        "colab": {
          "base_uri": "https://localhost:8080/"
        },
        "id": "dKNs2psLItL6",
        "outputId": "1c0e552b-9f11-4586-a46c-967c9ceb6f91"
      },
      "execution_count": null,
      "outputs": [
        {
          "output_type": "stream",
          "name": "stdout",
          "text": [
            "+------+------------------+------------------+------------------+------------------+------------------+------------------+------------------+------------------+------------------+\n",
            "|Winner|Move 1-X (Row-Col)|Move 2-O (Row-Col)|Move 3-X (Row-Col)|Move 4-O (Row-Col)|Move 5-X (Row-Col)|Move 6-O (Row-Col)|Move 7-X (Row-Col)|Move 8-O (Row-Col)|Move 9-X (Row-Col)|\n",
            "+------+------------------+------------------+------------------+------------------+------------------+------------------+------------------+------------------+------------------+\n",
            "|X     |0-0               |0-1               |1-0               |0-2               |2-0               |---               |---               |---               |---               |\n",
            "|X     |0-0               |0-1               |1-0               |1-1               |2-0               |---               |---               |---               |---               |\n",
            "|X     |0-0               |0-1               |1-0               |1-2               |2-0               |---               |---               |---               |---               |\n",
            "|X     |0-0               |0-1               |1-0               |2-1               |2-0               |---               |---               |---               |---               |\n",
            "|X     |0-0               |0-1               |1-0               |2-2               |2-0               |---               |---               |---               |---               |\n",
            "|X     |0-0               |0-1               |1-1               |0-2               |2-2               |---               |---               |---               |---               |\n",
            "|X     |0-0               |0-1               |1-1               |1-0               |2-2               |---               |---               |---               |---               |\n",
            "|X     |0-0               |0-1               |1-1               |1-2               |2-2               |---               |---               |---               |---               |\n",
            "|X     |0-0               |0-1               |1-1               |2-0               |2-2               |---               |---               |---               |---               |\n",
            "|X     |0-0               |0-1               |1-1               |2-1               |2-2               |---               |---               |---               |---               |\n",
            "|X     |0-0               |0-1               |2-0               |0-2               |1-0               |---               |---               |---               |---               |\n",
            "|X     |0-0               |0-1               |2-0               |1-1               |1-0               |---               |---               |---               |---               |\n",
            "|X     |0-0               |0-1               |2-0               |1-2               |1-0               |---               |---               |---               |---               |\n",
            "|X     |0-0               |0-1               |2-0               |2-1               |1-0               |---               |---               |---               |---               |\n",
            "|X     |0-0               |0-1               |2-0               |2-2               |1-0               |---               |---               |---               |---               |\n",
            "|X     |0-0               |0-1               |2-2               |0-2               |1-1               |---               |---               |---               |---               |\n",
            "|X     |0-0               |0-1               |2-2               |1-0               |1-1               |---               |---               |---               |---               |\n",
            "|X     |0-0               |0-1               |2-2               |1-2               |1-1               |---               |---               |---               |---               |\n",
            "|X     |0-0               |0-1               |2-2               |2-0               |1-1               |---               |---               |---               |---               |\n",
            "|X     |0-0               |0-1               |2-2               |2-1               |1-1               |---               |---               |---               |---               |\n",
            "+------+------------------+------------------+------------------+------------------+------------------+------------------+------------------+------------------+------------------+\n",
            "only showing top 20 rows\n",
            "\n",
            "root\n",
            " |-- Winner: string (nullable = true)\n",
            " |-- Move 1-X (Row-Col): string (nullable = true)\n",
            " |-- Move 2-O (Row-Col): string (nullable = true)\n",
            " |-- Move 3-X (Row-Col): string (nullable = true)\n",
            " |-- Move 4-O (Row-Col): string (nullable = true)\n",
            " |-- Move 5-X (Row-Col): string (nullable = true)\n",
            " |-- Move 6-O (Row-Col): string (nullable = true)\n",
            " |-- Move 7-X (Row-Col): string (nullable = true)\n",
            " |-- Move 8-O (Row-Col): string (nullable = true)\n",
            " |-- Move 9-X (Row-Col): string (nullable = true)\n",
            "\n"
          ]
        }
      ]
    },
    {
      "cell_type": "markdown",
      "source": [
        "# Model Baseline Implementation (First Attempt)"
      ],
      "metadata": {
        "id": "RIiro1x3AyNs"
      }
    },
    {
      "cell_type": "code",
      "source": [
        "# PySpark ML and core tools\n",
        "from pyspark.ml.feature import VectorAssembler, StringIndexer, OneHotEncoder\n",
        "from pyspark.ml.classification import RandomForestClassifier\n",
        "from pyspark.ml.evaluation import MulticlassClassificationEvaluator\n",
        "from pyspark.ml import Pipeline"
      ],
      "metadata": {
        "id": "SuhyCO53ZOu_"
      },
      "execution_count": null,
      "outputs": []
    },
    {
      "cell_type": "code",
      "source": [
        "# Select all columns that represent moves\n",
        "move_columns = [col for col in df.columns if col.startswith('Move')]\n",
        "\n",
        "# Replace null values with 'Empty' for all move columns\n",
        "for column in move_columns:\n",
        "    df = df.withColumn(column, when(col(column).isNull(), \"Empty\").otherwise(col(column)))"
      ],
      "metadata": {
        "id": "UYAzIyo7Bho5"
      },
      "execution_count": null,
      "outputs": []
    },
    {
      "cell_type": "code",
      "source": [
        "# Initialize an empty list to hold the pipeline stages\n",
        "stages = []\n",
        "\n",
        "# Convert Winner to numeric\n",
        "labelIndexer = StringIndexer(inputCol=\"Winner\", outputCol=\"label\")\n",
        "stages.append(labelIndexer)\n",
        "\n",
        "# Create StringIndexer and OneHotEncoder for each move column\n",
        "encoded_move_columns = []\n",
        "\n",
        "for move_col in move_columns:\n",
        "    # StringIndexer - convert string categories into numerical indices\n",
        "    indexer = StringIndexer(inputCol=move_col, outputCol=f\"{move_col}_indexed\", handleInvalid=\"keep\")\n",
        "    stages.append(indexer)\n",
        "\n",
        "    # OneHotEncoder - convert numerical indices into one-hot encoded vectors\n",
        "    encoder = OneHotEncoder(inputCol=f\"{move_col}_indexed\", outputCol=f\"{move_col}_encoded\", handleInvalid=\"keep\")\n",
        "    stages.append(encoder)\n",
        "\n",
        "    # Track the encoded columns to be used as features later\n",
        "    encoded_move_columns.append(f\"{move_col}_encoded\")\n",
        "\n",
        "# Assemble features\n",
        "assembler = VectorAssembler(inputCols=encoded_move_columns, outputCol=\"features\")\n",
        "stages.append(assembler)\n",
        "\n",
        "# Create and train the model\n",
        "rf = RandomForestClassifier(featuresCol=\"features\", labelCol=\"label\", numTrees=100)\n",
        "stages.append(rf)\n",
        "\n",
        "# Create the pipeline\n",
        "pipeline = Pipeline(stages=stages)"
      ],
      "metadata": {
        "id": "O6-cYcUeBvrR"
      },
      "execution_count": null,
      "outputs": []
    },
    {
      "cell_type": "code",
      "source": [
        "# Split the data into training and test sets\n",
        "(trainingData, testData) = df.randomSplit([0.7, 0.3], seed=42)\n",
        "\n",
        "# Train model\n",
        "model = pipeline.fit(trainingData)"
      ],
      "metadata": {
        "id": "zvkiwxCiCVhn"
      },
      "execution_count": null,
      "outputs": []
    },
    {
      "cell_type": "code",
      "source": [
        "# Make predictions\n",
        "predictions = model.transform(testData)\n",
        "\n",
        "# Evaluate the model\n",
        "evaluator = MulticlassClassificationEvaluator(\n",
        "    labelCol=\"label\", predictionCol=\"prediction\", metricName=\"accuracy\")\n",
        "accuracy = evaluator.evaluate(predictions)\n",
        "print(f\"Accuracy: {accuracy}\")"
      ],
      "metadata": {
        "id": "kVV3Oi9ACjmD",
        "colab": {
          "base_uri": "https://localhost:8080/"
        },
        "outputId": "fc676cc7-033b-4827-ff8c-bef462d21521"
      },
      "execution_count": null,
      "outputs": [
        {
          "output_type": "stream",
          "name": "stdout",
          "text": [
            "Accuracy: 0.8014061131947258\n"
          ]
        }
      ]
    },
    {
      "cell_type": "code",
      "source": [
        "# Get the label mapping\n",
        "label_mapping = {float(idx): category for idx, category in enumerate(model.stages[0].labels)}\n",
        "print(\"Label Mapping:\", label_mapping)"
      ],
      "metadata": {
        "id": "eS-Eje8yCsM7",
        "colab": {
          "base_uri": "https://localhost:8080/"
        },
        "outputId": "0c65bef7-d667-4eaf-e094-f786c4628004"
      },
      "execution_count": null,
      "outputs": [
        {
          "output_type": "stream",
          "name": "stdout",
          "text": [
            "Label Mapping: {0.0: 'X', 1.0: 'O', 2.0: '-'}\n"
          ]
        }
      ]
    },
    {
      "cell_type": "code",
      "source": [
        "# Convert predictions to RDD and initialize MulticlassMetrics\n",
        "from pyspark.mllib.evaluation import MulticlassMetrics\n",
        "predictionAndLabels = predictions.select(\"prediction\", \"label\").rdd\n",
        "metrics = MulticlassMetrics(predictionAndLabels)\n",
        "\n",
        "# Show confusion matrix\n",
        "print(\"Confusion Matrix:\")\n",
        "print(metrics.confusionMatrix())"
      ],
      "metadata": {
        "id": "7-Y4pchcCvx6",
        "colab": {
          "base_uri": "https://localhost:8080/"
        },
        "outputId": "18b1c383-d04e-4c2c-8e64-8f4d311abb5f"
      },
      "execution_count": null,
      "outputs": [
        {
          "output_type": "stream",
          "name": "stdout",
          "text": [
            "Confusion Matrix:\n",
            "DenseMatrix([[39369.,     0.,     0.],\n",
            "             [ 1529., 21957.,     0.],\n",
            "             [13668.,     0.,     0.]])\n"
          ]
        }
      ]
    },
    {
      "cell_type": "code",
      "source": [
        "# Display precision, recall, and F1-score for each class\n",
        "for label in sorted(label_mapping.keys()):\n",
        "    print(f\"\\nClass {label_mapping[label]}:\")\n",
        "    print(f\"Precision = {metrics.precision(label)}\")\n",
        "    print(f\"Recall = {metrics.recall(label)}\")\n",
        "    print(f\"F1 Score = {metrics.fMeasure(label)}\")"
      ],
      "metadata": {
        "colab": {
          "base_uri": "https://localhost:8080/"
        },
        "id": "7TkI0Fxljxm7",
        "outputId": "305ddcb7-de20-491a-b48b-a98da55ae378"
      },
      "execution_count": null,
      "outputs": [
        {
          "output_type": "stream",
          "name": "stdout",
          "text": [
            "\n",
            "Class X:\n",
            "Precision = 0.7214932375471905\n",
            "Recall = 1.0\n",
            "F1 Score = 0.8382179166444882\n",
            "\n",
            "Class O:\n",
            "Precision = 1.0\n",
            "Recall = 0.9348973856765733\n",
            "F1 Score = 0.9663534537772595\n",
            "\n",
            "Class -:\n",
            "Precision = 0.0\n",
            "Recall = 0.0\n",
            "F1 Score = 0.0\n"
          ]
        }
      ]
    },
    {
      "cell_type": "markdown",
      "source": [
        "### 🔧 Optimization Next Steps\n",
        "The initial model performs well in predicting Player X and O wins, achieving high precision and recall for both. However, it completely fails to identify tied games (represented by the \"-\" class), resulting in zero precision and recall for that category. This clear gap in performance guided our team to further investigate how the model processes and represents ties."
      ],
      "metadata": {
        "id": "UfejENf_McUU"
      }
    },
    {
      "cell_type": "markdown",
      "source": [
        "### Clean and Convert Move Columns to Numbers"
      ],
      "metadata": {
        "id": "viUA-ueoJJMc"
      }
    },
    {
      "cell_type": "code",
      "source": [
        "# Corrected version to Integers\n",
        "from pyspark.sql.functions import col, when, split\n",
        "from pyspark.sql.types import IntegerType\n",
        "\n",
        "# Get the list of move columns\n",
        "move_columns = [c for c in df.columns if c.startswith('Move')]\n",
        "\n",
        "# Function to convert move notation to a single integer\n",
        "def convert_move(col_name):\n",
        "    return when(col(col_name) == \"---\", 9)\\\n",
        "           .otherwise(\n",
        "               (split(col(col_name), \"-\")[0].cast(\"int\") * 3 +\n",
        "                split(col(col_name), \"-\")[1].cast(\"int\"))\n",
        "           )\n",
        "\n",
        "# Apply the conversion to all move columns\n",
        "for column_name in move_columns:\n",
        "    df = df.withColumn(\n",
        "        column_name,\n",
        "        convert_move(column_name).cast(IntegerType())\n",
        "    )\n",
        "\n",
        "# Select only the 'Winner' column and the move columns\n",
        "df = df.select('Winner', *move_columns)\n",
        "\n",
        "# Show the result\n",
        "print(\"Transformed Data:\")\n",
        "df.show(truncate=False)\n",
        "\n",
        "# Print the schema to confirm the data types\n",
        "print(\"\\nUpdated DataFrame Schema:\")\n",
        "df.printSchema()"
      ],
      "metadata": {
        "colab": {
          "base_uri": "https://localhost:8080/"
        },
        "id": "yBC6MVzWl2rr",
        "outputId": "bf0282ec-0991-4b41-cd69-71cb290e1142"
      },
      "execution_count": null,
      "outputs": [
        {
          "output_type": "stream",
          "name": "stdout",
          "text": [
            "Transformed Data:\n",
            "+------+------------------+------------------+------------------+------------------+------------------+------------------+------------------+------------------+------------------+\n",
            "|Winner|Move 1-X (Row-Col)|Move 2-O (Row-Col)|Move 3-X (Row-Col)|Move 4-O (Row-Col)|Move 5-X (Row-Col)|Move 6-O (Row-Col)|Move 7-X (Row-Col)|Move 8-O (Row-Col)|Move 9-X (Row-Col)|\n",
            "+------+------------------+------------------+------------------+------------------+------------------+------------------+------------------+------------------+------------------+\n",
            "|X     |0                 |1                 |3                 |2                 |6                 |9                 |9                 |9                 |9                 |\n",
            "|X     |0                 |1                 |3                 |4                 |6                 |9                 |9                 |9                 |9                 |\n",
            "|X     |0                 |1                 |3                 |5                 |6                 |9                 |9                 |9                 |9                 |\n",
            "|X     |0                 |1                 |3                 |7                 |6                 |9                 |9                 |9                 |9                 |\n",
            "|X     |0                 |1                 |3                 |8                 |6                 |9                 |9                 |9                 |9                 |\n",
            "|X     |0                 |1                 |4                 |2                 |8                 |9                 |9                 |9                 |9                 |\n",
            "|X     |0                 |1                 |4                 |3                 |8                 |9                 |9                 |9                 |9                 |\n",
            "|X     |0                 |1                 |4                 |5                 |8                 |9                 |9                 |9                 |9                 |\n",
            "|X     |0                 |1                 |4                 |6                 |8                 |9                 |9                 |9                 |9                 |\n",
            "|X     |0                 |1                 |4                 |7                 |8                 |9                 |9                 |9                 |9                 |\n",
            "|X     |0                 |1                 |6                 |2                 |3                 |9                 |9                 |9                 |9                 |\n",
            "|X     |0                 |1                 |6                 |4                 |3                 |9                 |9                 |9                 |9                 |\n",
            "|X     |0                 |1                 |6                 |5                 |3                 |9                 |9                 |9                 |9                 |\n",
            "|X     |0                 |1                 |6                 |7                 |3                 |9                 |9                 |9                 |9                 |\n",
            "|X     |0                 |1                 |6                 |8                 |3                 |9                 |9                 |9                 |9                 |\n",
            "|X     |0                 |1                 |8                 |2                 |4                 |9                 |9                 |9                 |9                 |\n",
            "|X     |0                 |1                 |8                 |3                 |4                 |9                 |9                 |9                 |9                 |\n",
            "|X     |0                 |1                 |8                 |5                 |4                 |9                 |9                 |9                 |9                 |\n",
            "|X     |0                 |1                 |8                 |6                 |4                 |9                 |9                 |9                 |9                 |\n",
            "|X     |0                 |1                 |8                 |7                 |4                 |9                 |9                 |9                 |9                 |\n",
            "+------+------------------+------------------+------------------+------------------+------------------+------------------+------------------+------------------+------------------+\n",
            "only showing top 20 rows\n",
            "\n",
            "\n",
            "Updated DataFrame Schema:\n",
            "root\n",
            " |-- Winner: string (nullable = true)\n",
            " |-- Move 1-X (Row-Col): integer (nullable = true)\n",
            " |-- Move 2-O (Row-Col): integer (nullable = true)\n",
            " |-- Move 3-X (Row-Col): integer (nullable = true)\n",
            " |-- Move 4-O (Row-Col): integer (nullable = true)\n",
            " |-- Move 5-X (Row-Col): integer (nullable = true)\n",
            " |-- Move 6-O (Row-Col): integer (nullable = true)\n",
            " |-- Move 7-X (Row-Col): integer (nullable = true)\n",
            " |-- Move 8-O (Row-Col): integer (nullable = true)\n",
            " |-- Move 9-X (Row-Col): integer (nullable = true)\n",
            "\n"
          ]
        }
      ]
    },
    {
      "cell_type": "markdown",
      "source": [
        "# Second Attempt"
      ],
      "metadata": {
        "id": "W3dAt4hqmFts"
      }
    },
    {
      "cell_type": "code",
      "source": [
        "# Get the list of move columns\n",
        "move_columns = [col for col in df.columns if col.startswith('Move')]"
      ],
      "metadata": {
        "id": "cHboKMYXJaem"
      },
      "execution_count": null,
      "outputs": []
    },
    {
      "cell_type": "code",
      "source": [
        "# Create stages for the pipeline\n",
        "stages = []\n",
        "\n",
        "# Convert Winner to numeric\n",
        "labelIndexer = StringIndexer(inputCol=\"Winner\", outputCol=\"label\")\n",
        "stages.append(labelIndexer)\n",
        "\n",
        "# Assemble features\n",
        "assembler = VectorAssembler(inputCols=move_columns, outputCol=\"features\")\n",
        "stages.append(assembler)\n",
        "\n",
        "# Create and train the model\n",
        "rf = RandomForestClassifier(featuresCol=\"features\", labelCol=\"label\", numTrees=100)\n",
        "stages.append(rf)\n",
        "\n",
        "# Create the pipeline\n",
        "pipeline = Pipeline(stages=stages)"
      ],
      "metadata": {
        "id": "nImsmSQXKMZJ"
      },
      "execution_count": null,
      "outputs": []
    },
    {
      "cell_type": "code",
      "source": [
        "# Split the data into training and test sets\n",
        "(trainingData, testData) = df.randomSplit([0.7, 0.3], seed=42)\n",
        "\n",
        "# Train model\n",
        "model = pipeline.fit(trainingData)"
      ],
      "metadata": {
        "id": "EwDiiRiQKZSY"
      },
      "execution_count": null,
      "outputs": []
    },
    {
      "cell_type": "code",
      "source": [
        "# Make predictions\n",
        "predictions = model.transform(testData)\n",
        "\n",
        "# Evaluate the model\n",
        "evaluator = MulticlassClassificationEvaluator(\n",
        "    labelCol=\"label\", predictionCol=\"prediction\", metricName=\"accuracy\")\n",
        "accuracy = evaluator.evaluate(predictions)\n",
        "print(f\"Accuracy: {accuracy}\")"
      ],
      "metadata": {
        "colab": {
          "base_uri": "https://localhost:8080/"
        },
        "id": "w6HXrFlLKwn2",
        "outputId": "21b186e1-3033-4194-ca0b-cf3dfd3fc550"
      },
      "execution_count": null,
      "outputs": [
        {
          "output_type": "stream",
          "name": "stdout",
          "text": [
            "Accuracy: 0.8213870339636449\n"
          ]
        }
      ]
    },
    {
      "cell_type": "code",
      "source": [
        "# Retrieve the original label mapping from the model\n",
        "label_mapping = {float(idx): category for idx, category in enumerate(model.stages[0].labels)}\n",
        "print(\"Label Mapping:\", label_mapping)\n",
        "\n",
        "# Generate the confusion matrix\n",
        "predictionAndLabels = predictions.select(\"prediction\", \"label\").rdd\n",
        "metrics = MulticlassMetrics(predictionAndLabels)\n",
        "\n",
        "print(\"Confusion Matrix:\")\n",
        "print(metrics.confusionMatrix())"
      ],
      "metadata": {
        "colab": {
          "base_uri": "https://localhost:8080/"
        },
        "id": "WVKc3vy5K7jx",
        "outputId": "8ed3e805-f3f4-4f67-9791-5ae00fb5b3ca"
      },
      "execution_count": null,
      "outputs": [
        {
          "output_type": "stream",
          "name": "stdout",
          "text": [
            "Label Mapping: {0.0: 'X', 1.0: 'O', 2.0: '-'}\n",
            "Confusion Matrix:\n",
            "DenseMatrix([[39369.,     0.,     0.],\n",
            "             [    0., 23486.,     0.],\n",
            "             [13668.,     0.,     0.]])\n"
          ]
        }
      ]
    },
    {
      "cell_type": "code",
      "source": [
        "# Print out precision, recall, and F1 score for each class\n",
        "for label in sorted(label_mapping.keys()):\n",
        "    print(f\"\\nClass {label_mapping[label]}:\")\n",
        "    print(f\"Precision = {metrics.precision(label)}\")\n",
        "    print(f\"Recall = {metrics.recall(label)}\")\n",
        "    print(f\"F1 Score = {metrics.fMeasure(label)}\")"
      ],
      "metadata": {
        "colab": {
          "base_uri": "https://localhost:8080/"
        },
        "id": "EikkddgwL-fi",
        "outputId": "2fb23b1f-2b23-4b69-98fb-622b93b49e92"
      },
      "execution_count": null,
      "outputs": [
        {
          "output_type": "stream",
          "name": "stdout",
          "text": [
            "\n",
            "Class X:\n",
            "Precision = 0.7422931161264777\n",
            "Recall = 1.0\n",
            "F1 Score = 0.852087526783975\n",
            "\n",
            "Class O:\n",
            "Precision = 1.0\n",
            "Recall = 1.0\n",
            "F1 Score = 1.0\n",
            "\n",
            "Class -:\n",
            "Precision = 0.0\n",
            "Recall = 0.0\n",
            "F1 Score = 0.0\n"
          ]
        }
      ]
    },
    {
      "cell_type": "markdown",
      "source": [
        "### 🔧 Optimization Next Steps\n",
        "This second attempt shows a slight improvement in overall accuracy when predicting game outcomes, especially for Player X and Player O wins. However, the model still struggles to correctly identify tie games, indicating the features or approach may not fully capture the complexity of this class. To address this, our next step will be to experiment with a decision tree classifier, which might better handle the nuances of tie predictions."
      ],
      "metadata": {
        "id": "KE0t5PUppHNB"
      }
    },
    {
      "cell_type": "markdown",
      "source": [
        "# Third Attempt"
      ],
      "metadata": {
        "id": "JHgaDVISpxgA"
      }
    },
    {
      "cell_type": "code",
      "source": [
        "# Import Libraries\n",
        "from pyspark.ml.classification import DecisionTreeClassifier\n",
        "\n",
        "# Get the list of columns representing moves (features)\n",
        "move_columns = [col for col in df.columns if col.startswith('Move')]"
      ],
      "metadata": {
        "id": "SWo8bbLMpj6y"
      },
      "execution_count": null,
      "outputs": []
    },
    {
      "cell_type": "code",
      "source": [
        "# Define Pipeline Stages\n",
        "\n",
        "# Create stages for the pipeline\n",
        "stages = []\n",
        "\n",
        "# Convert Winner to numeric\n",
        "labelIndexer = StringIndexer(inputCol=\"Winner\", outputCol=\"label\")\n",
        "stages.append(labelIndexer)\n",
        "\n",
        "# Assemble features\n",
        "assembler = VectorAssembler(inputCols=move_columns, outputCol=\"features\")\n",
        "stages.append(assembler)\n",
        "\n",
        "# Create and train the model\n",
        "dt = DecisionTreeClassifier(featuresCol=\"features\", labelCol=\"label\", maxDepth=10)\n",
        "stages.append(dt)"
      ],
      "metadata": {
        "id": "ES0-JpBKqAQD"
      },
      "execution_count": null,
      "outputs": []
    },
    {
      "cell_type": "code",
      "source": [
        "# Create the pipeline\n",
        "pipeline = Pipeline(stages=stages)\n",
        "\n",
        "# Split the data into training and test sets\n",
        "(trainingData, testData) = df.randomSplit([0.7, 0.3], seed=42)"
      ],
      "metadata": {
        "id": "0jzs3iOIqUCs"
      },
      "execution_count": null,
      "outputs": []
    },
    {
      "cell_type": "code",
      "source": [
        "# Train model\n",
        "model = pipeline.fit(trainingData)\n",
        "\n",
        "# Make predictions\n",
        "predictions = model.transform(testData)"
      ],
      "metadata": {
        "id": "1MKgWYdSqbI1"
      },
      "execution_count": null,
      "outputs": []
    },
    {
      "cell_type": "code",
      "source": [
        "# Evaluate the model\n",
        "evaluator = MulticlassClassificationEvaluator(\n",
        "    labelCol=\"label\", predictionCol=\"prediction\", metricName=\"accuracy\")\n",
        "\n",
        "# Calculate accuracy on the test data\n",
        "accuracy = evaluator.evaluate(predictions)\n",
        "print(f\"Accuracy: {accuracy}\")"
      ],
      "metadata": {
        "colab": {
          "base_uri": "https://localhost:8080/"
        },
        "id": "MtkL0rqtqe02",
        "outputId": "2a610d61-1a07-4bf4-a879-09d48dddca4e"
      },
      "execution_count": null,
      "outputs": [
        {
          "output_type": "stream",
          "name": "stdout",
          "text": [
            "Accuracy: 0.880362766749866\n"
          ]
        }
      ]
    },
    {
      "cell_type": "code",
      "source": [
        "# Get the label mapping\n",
        "label_mapping = {float(idx): category for idx, category in enumerate(model.stages[0].labels)}\n",
        "print(\"Label Mapping:\", label_mapping)\n",
        "\n",
        "# Print confusion matrix\n",
        "predictionAndLabels = predictions.select(\"prediction\", \"label\").rdd\n",
        "metrics = MulticlassMetrics(predictionAndLabels)\n",
        "\n",
        "print(\"Confusion Matrix:\")\n",
        "print(metrics.confusionMatrix())"
      ],
      "metadata": {
        "colab": {
          "base_uri": "https://localhost:8080/"
        },
        "id": "GYijFlQuqhC6",
        "outputId": "eceea298-bf03-48aa-9793-2d329e7f8ca2"
      },
      "execution_count": null,
      "outputs": [
        {
          "output_type": "stream",
          "name": "stdout",
          "text": [
            "Label Mapping: {0.0: 'X', 1.0: 'O', 2.0: '-'}\n",
            "Confusion Matrix:\n",
            "DenseMatrix([[35339.,     0.,  4030.],\n",
            "             [    0., 23486.,     0.],\n",
            "             [ 5125.,     0.,  8543.]])\n"
          ]
        }
      ]
    },
    {
      "cell_type": "code",
      "source": [
        "# Print classification report\n",
        "for label in sorted(label_mapping.keys()):\n",
        "    print(f\"\\nClass {label_mapping[label]}:\")\n",
        "    print(f\"Precision = {metrics.precision(label)}\")\n",
        "    print(f\"Recall = {metrics.recall(label)}\")\n",
        "    print(f\"F1 Score = {metrics.fMeasure(label)}\")"
      ],
      "metadata": {
        "colab": {
          "base_uri": "https://localhost:8080/"
        },
        "id": "DPDNkS7sqn6U",
        "outputId": "2d5b83f7-266e-489f-ed8d-8d9cd773a7ab"
      },
      "execution_count": null,
      "outputs": [
        {
          "output_type": "stream",
          "name": "stdout",
          "text": [
            "\n",
            "Class X:\n",
            "Precision = 0.8733442071965204\n",
            "Recall = 0.8976351952043486\n",
            "F1 Score = 0.8853231119962922\n",
            "\n",
            "Class O:\n",
            "Precision = 1.0\n",
            "Recall = 1.0\n",
            "F1 Score = 1.0\n",
            "\n",
            "Class -:\n",
            "Precision = 0.6794718841962937\n",
            "Recall = 0.6250365817968979\n",
            "F1 Score = 0.6511184787165123\n"
          ]
        }
      ]
    },
    {
      "cell_type": "code",
      "source": [
        "# Extract the trained Decision Tree model\n",
        "dt_model = model.stages[-1]\n",
        "\n",
        "# Print importance of each move feature\n",
        "print(\"\\nFeature Importances:\")\n",
        "for feature, importance in zip(move_columns, dt_model.featureImportances):\n",
        "    print(f\"{feature}: {importance}\")"
      ],
      "metadata": {
        "colab": {
          "base_uri": "https://localhost:8080/"
        },
        "id": "6DIzr4gnqp0V",
        "outputId": "bbd4582a-2583-4c97-ac2e-7ad472452528"
      },
      "execution_count": null,
      "outputs": [
        {
          "output_type": "stream",
          "name": "stdout",
          "text": [
            "\n",
            "Feature Importances:\n",
            "Move 1-X (Row-Col): 0.01382707668664977\n",
            "Move 2-O (Row-Col): 0.016495663824717694\n",
            "Move 3-X (Row-Col): 0.014594043536041459\n",
            "Move 4-O (Row-Col): 0.008625303580357332\n",
            "Move 5-X (Row-Col): 0.011254574258243395\n",
            "Move 6-O (Row-Col): 0.04539013296737967\n",
            "Move 7-X (Row-Col): 0.07180314877789555\n",
            "Move 8-O (Row-Col): 0.47585735223813824\n",
            "Move 9-X (Row-Col): 0.34215270413057697\n"
          ]
        }
      ]
    },
    {
      "cell_type": "markdown",
      "source": [
        "### 🔧 Optimization Next Steps\n",
        "Great news — our model is now doing way better at predicting ties, with solid precision, recall, and F1 scores around 0.65! That’s a big improvement.\n",
        "\n",
        "Now, we’re curious to see if we can boost performance even more by letting our decision tree get a little deeper — increasing its max depth from 10 to 20 — to better capture the game’s complexity and nuances. Let’s try that next and see what kind of gains we can get!"
      ],
      "metadata": {
        "id": "KNY09p1eq2qy"
      }
    },
    {
      "cell_type": "markdown",
      "source": [
        "# Fourth Attempt"
      ],
      "metadata": {
        "id": "FMudR68erQUT"
      }
    },
    {
      "cell_type": "code",
      "source": [
        "# Get the list of move columns\n",
        "move_columns = [col for col in df.columns if col.startswith('Move')]"
      ],
      "metadata": {
        "id": "SR_yuBCVrSOV"
      },
      "execution_count": null,
      "outputs": []
    },
    {
      "cell_type": "code",
      "source": [
        "# Create stages for the pipeline\n",
        "stages = []\n",
        "\n",
        "# Convert Winner to numeric\n",
        "labelIndexer = StringIndexer(inputCol=\"Winner\", outputCol=\"label\")\n",
        "stages.append(labelIndexer)\n",
        "\n",
        "# Assemble features\n",
        "assembler = VectorAssembler(inputCols=move_columns, outputCol=\"features\")\n",
        "stages.append(assembler)\n",
        "\n",
        "# Create and train the model\n",
        "dt = DecisionTreeClassifier(featuresCol=\"features\", labelCol=\"label\", maxDepth=20)\n",
        "stages.append(dt)"
      ],
      "metadata": {
        "id": "dmAqn3TDrf93"
      },
      "execution_count": null,
      "outputs": []
    },
    {
      "cell_type": "code",
      "source": [
        "# Create the pipeline\n",
        "pipeline = Pipeline(stages=stages)\n",
        "\n",
        "# Split the data into training and test sets\n",
        "(trainingData, testData) = df.randomSplit([0.7, 0.3], seed=42)"
      ],
      "metadata": {
        "id": "z79AVKYorjmy"
      },
      "execution_count": null,
      "outputs": []
    },
    {
      "cell_type": "code",
      "source": [
        "# Train model\n",
        "model = pipeline.fit(trainingData)\n",
        "\n",
        "# Make predictions\n",
        "predictions = model.transform(testData)"
      ],
      "metadata": {
        "id": "wQ4tjDPOrlvr"
      },
      "execution_count": null,
      "outputs": []
    },
    {
      "cell_type": "code",
      "source": [
        "# Evaluate the model\n",
        "evaluator = MulticlassClassificationEvaluator(\n",
        "    labelCol=\"label\", predictionCol=\"prediction\", metricName=\"accuracy\")\n",
        "accuracy = evaluator.evaluate(predictions)\n",
        "print(f\"Accuracy: {accuracy}\")"
      ],
      "metadata": {
        "colab": {
          "base_uri": "https://localhost:8080/"
        },
        "id": "SxbMQL7krn-3",
        "outputId": "d63b5c12-51b0-4644-d79e-c6f048d1a086"
      },
      "execution_count": null,
      "outputs": [
        {
          "output_type": "stream",
          "name": "stdout",
          "text": [
            "Accuracy: 0.9926427348640278\n"
          ]
        }
      ]
    },
    {
      "cell_type": "code",
      "source": [
        "# Get the label mapping\n",
        "label_mapping = {float(idx): category for idx, category in enumerate(model.stages[0].labels)}\n",
        "print(\"Label Mapping:\", label_mapping)"
      ],
      "metadata": {
        "colab": {
          "base_uri": "https://localhost:8080/"
        },
        "id": "MadY6zN_rrNg",
        "outputId": "3c5459d9-1f47-40b5-9f48-f2def6f189ad"
      },
      "execution_count": null,
      "outputs": [
        {
          "output_type": "stream",
          "name": "stdout",
          "text": [
            "Label Mapping: {0.0: 'X', 1.0: 'O', 2.0: '-'}\n"
          ]
        }
      ]
    },
    {
      "cell_type": "code",
      "source": [
        "# Print confusion matrix\n",
        "predictionAndLabels = predictions.select(\"prediction\", \"label\").rdd\n",
        "metrics = MulticlassMetrics(predictionAndLabels)\n",
        "\n",
        "print(\"Confusion Matrix:\")\n",
        "print(metrics.confusionMatrix())\n",
        "\n",
        "# Print classification report\n",
        "for label in sorted(label_mapping.keys()):\n",
        "    print(f\"\\nClass {label_mapping[label]}:\")\n",
        "    print(f\"Precision = {metrics.precision(label)}\")\n",
        "    print(f\"Recall = {metrics.recall(label)}\")\n",
        "    print(f\"F1 Score = {metrics.fMeasure(label)}\")"
      ],
      "metadata": {
        "colab": {
          "base_uri": "https://localhost:8080/"
        },
        "id": "KUZJ71RIrtWG",
        "outputId": "cdd9486b-43f7-4c8d-be82-568e74a3e9b8"
      },
      "execution_count": null,
      "outputs": [
        {
          "output_type": "stream",
          "name": "stdout",
          "text": [
            "Confusion Matrix:\n",
            "DenseMatrix([[39137.,     0.,   232.],\n",
            "             [    0., 23486.,     0.],\n",
            "             [  331.,     0., 13337.]])\n",
            "\n",
            "Class X:\n",
            "Precision = 0.9916134590047634\n",
            "Recall = 0.9941070385328558\n",
            "F1 Score = 0.9928586831056483\n",
            "\n",
            "Class O:\n",
            "Precision = 1.0\n",
            "Recall = 1.0\n",
            "F1 Score = 1.0\n",
            "\n",
            "Class -:\n",
            "Precision = 0.9829022035522146\n",
            "Recall = 0.9757828504536142\n",
            "F1 Score = 0.9793295884275067\n"
          ]
        }
      ]
    },
    {
      "cell_type": "code",
      "source": [
        "# Print feature importances\n",
        "dt_model = model.stages[-1]\n",
        "print(\"\\nFeature Importances:\")\n",
        "for feature, importance in zip(move_columns, dt_model.featureImportances):\n",
        "    print(f\"{feature}: {importance}\")"
      ],
      "metadata": {
        "colab": {
          "base_uri": "https://localhost:8080/"
        },
        "id": "-WfvOBobrzG9",
        "outputId": "0ab747f7-cea9-4a3e-aa92-51778d740d0b"
      },
      "execution_count": null,
      "outputs": [
        {
          "output_type": "stream",
          "name": "stdout",
          "text": [
            "\n",
            "Feature Importances:\n",
            "Move 1-X (Row-Col): 0.03932368747394982\n",
            "Move 2-O (Row-Col): 0.05249921449997855\n",
            "Move 3-X (Row-Col): 0.03130835596740921\n",
            "Move 4-O (Row-Col): 0.04202429717300386\n",
            "Move 5-X (Row-Col): 0.03697436458475791\n",
            "Move 6-O (Row-Col): 0.06765544704979858\n",
            "Move 7-X (Row-Col): 0.07763065507386602\n",
            "Move 8-O (Row-Col): 0.39117996682469797\n",
            "Move 9-X (Row-Col): 0.2614040113525382\n"
          ]
        }
      ]
    },
    {
      "cell_type": "markdown",
      "source": [
        "### ✅ Optimized Model Results & Interpretation\n",
        "After increasing our decision tree depth to 20, we saw a significant boost in performance — especially in identifying tied games, which had previously been a challenge. Our overall accuracy rose to 99.26%, and precision, recall, and F1 scores were excellent across all three classes:\n",
        "\n",
        "- X Wins: F1 Score ≈ 0.99\n",
        "- O Wins: F1 Score = 1.00\n",
        "- Ties (-): F1 Score ≈ 0.98\n",
        "\n",
        "The confusion matrix confirms that the model makes very few mistakes, with just a small number of ties misclassified as X wins. It’s not perfect, but it’s pretty close — and importantly, much better than our earlier attempts!\n",
        "\n",
        "These results make sense in context: we're working with a dataset of complete, valid Tic-Tac-Toe games. Since Tic-Tac-Toe is a solved game with deterministic outcomes, our model is able to learn consistent patterns and predict outcomes with impressive accuracy.\n",
        "\n",
        "This also highlights how powerful decision trees can be, especially when given enough depth to capture more complex patterns in the move sequences. While we’re not at 100%, we’re getting closer to creating a model that really \"understands\" how the game plays out — especially in recognizing those tricky ties."
      ],
      "metadata": {
        "id": "xk2QiayeNtG-"
      }
    },
    {
      "cell_type": "markdown",
      "source": [
        "# Data Exploration with SQL Queries"
      ],
      "metadata": {
        "id": "F57YtGnXMUAj"
      }
    },
    {
      "cell_type": "code",
      "source": [
        "# Number of games X won\n",
        "spark.sql(\"\"\"\n",
        "    SELECT COUNT(*) as X_wins\n",
        "    FROM tic_tac_toe\n",
        "    WHERE Winner = 'X'\n",
        "\"\"\").show()"
      ],
      "metadata": {
        "colab": {
          "base_uri": "https://localhost:8080/"
        },
        "id": "WEJLcONmaROu",
        "outputId": "9abb63d1-14fd-45f5-ffcb-4c68806cf3c9"
      },
      "execution_count": null,
      "outputs": [
        {
          "output_type": "stream",
          "name": "stdout",
          "text": [
            "+------+\n",
            "|X_wins|\n",
            "+------+\n",
            "|131184|\n",
            "+------+\n",
            "\n"
          ]
        }
      ]
    },
    {
      "cell_type": "code",
      "source": [
        "# Most common first move\n",
        "\n",
        "spark.sql(\"\"\"\n",
        "    SELECT `Move 1-X (Row-Col)`, COUNT(*) as count\n",
        "    FROM tic_tac_toe\n",
        "    WHERE Winner = 'X'\n",
        "    GROUP BY `Move 1-X (Row-Col)`\n",
        "    ORDER BY count DESC\n",
        "    LIMIT 1\n",
        "\"\"\").show()"
      ],
      "metadata": {
        "colab": {
          "base_uri": "https://localhost:8080/"
        },
        "id": "qCp6ANw5abvS",
        "outputId": "5f4eebee-bf29-4419-c9c1-86525074ebc3"
      },
      "execution_count": null,
      "outputs": [
        {
          "output_type": "stream",
          "name": "stdout",
          "text": [
            "+------------------+-----+\n",
            "|Move 1-X (Row-Col)|count|\n",
            "+------------------+-----+\n",
            "|               1-1|15648|\n",
            "+------------------+-----+\n",
            "\n"
          ]
        }
      ]
    },
    {
      "cell_type": "code",
      "source": [
        "# X won in 5 moves\n",
        "\n",
        "spark.sql(\"\"\"\n",
        "    SELECT *\n",
        "    FROM tic_tac_toe\n",
        "    WHERE Winner = 'X' AND `Move 6-O (Row-Col)` = '---'\n",
        "\"\"\").show()"
      ],
      "metadata": {
        "colab": {
          "base_uri": "https://localhost:8080/"
        },
        "id": "rb2EWZcjaqJC",
        "outputId": "32e7fecc-eb54-47a7-d674-cac1a9a58dd6"
      },
      "execution_count": null,
      "outputs": [
        {
          "output_type": "stream",
          "name": "stdout",
          "text": [
            "+------+------------------+------------------+------------------+------------------+------------------+------------------+------------------+------------------+------------------+\n",
            "|Winner|Move 1-X (Row-Col)|Move 2-O (Row-Col)|Move 3-X (Row-Col)|Move 4-O (Row-Col)|Move 5-X (Row-Col)|Move 6-O (Row-Col)|Move 7-X (Row-Col)|Move 8-O (Row-Col)|Move 9-X (Row-Col)|\n",
            "+------+------------------+------------------+------------------+------------------+------------------+------------------+------------------+------------------+------------------+\n",
            "|     X|               0-0|               0-1|               1-0|               0-2|               2-0|               ---|               ---|               ---|               ---|\n",
            "|     X|               0-0|               0-1|               1-0|               1-1|               2-0|               ---|               ---|               ---|               ---|\n",
            "|     X|               0-0|               0-1|               1-0|               1-2|               2-0|               ---|               ---|               ---|               ---|\n",
            "|     X|               0-0|               0-1|               1-0|               2-1|               2-0|               ---|               ---|               ---|               ---|\n",
            "|     X|               0-0|               0-1|               1-0|               2-2|               2-0|               ---|               ---|               ---|               ---|\n",
            "|     X|               0-0|               0-1|               1-1|               0-2|               2-2|               ---|               ---|               ---|               ---|\n",
            "|     X|               0-0|               0-1|               1-1|               1-0|               2-2|               ---|               ---|               ---|               ---|\n",
            "|     X|               0-0|               0-1|               1-1|               1-2|               2-2|               ---|               ---|               ---|               ---|\n",
            "|     X|               0-0|               0-1|               1-1|               2-0|               2-2|               ---|               ---|               ---|               ---|\n",
            "|     X|               0-0|               0-1|               1-1|               2-1|               2-2|               ---|               ---|               ---|               ---|\n",
            "|     X|               0-0|               0-1|               2-0|               0-2|               1-0|               ---|               ---|               ---|               ---|\n",
            "|     X|               0-0|               0-1|               2-0|               1-1|               1-0|               ---|               ---|               ---|               ---|\n",
            "|     X|               0-0|               0-1|               2-0|               1-2|               1-0|               ---|               ---|               ---|               ---|\n",
            "|     X|               0-0|               0-1|               2-0|               2-1|               1-0|               ---|               ---|               ---|               ---|\n",
            "|     X|               0-0|               0-1|               2-0|               2-2|               1-0|               ---|               ---|               ---|               ---|\n",
            "|     X|               0-0|               0-1|               2-2|               0-2|               1-1|               ---|               ---|               ---|               ---|\n",
            "|     X|               0-0|               0-1|               2-2|               1-0|               1-1|               ---|               ---|               ---|               ---|\n",
            "|     X|               0-0|               0-1|               2-2|               1-2|               1-1|               ---|               ---|               ---|               ---|\n",
            "|     X|               0-0|               0-1|               2-2|               2-0|               1-1|               ---|               ---|               ---|               ---|\n",
            "|     X|               0-0|               0-1|               2-2|               2-1|               1-1|               ---|               ---|               ---|               ---|\n",
            "+------+------------------+------------------+------------------+------------------+------------------+------------------+------------------+------------------+------------------+\n",
            "only showing top 20 rows\n",
            "\n"
          ]
        }
      ]
    },
    {
      "cell_type": "code",
      "source": [
        "spark.sql(\"\"\"\n",
        "    SELECT\n",
        "        COUNT(*) as games_count,\n",
        "        COLLECT_LIST(\n",
        "            CONCAT(\n",
        "                `Move 1-X (Row-Col)`, ', ',\n",
        "                `Move 2-O (Row-Col)`, ', ',\n",
        "                `Move 3-X (Row-Col)`, ', ',\n",
        "                `Move 4-O (Row-Col)`, ', ',\n",
        "                `Move 5-X (Row-Col)`\n",
        "            )\n",
        "        ) as winning_sequences\n",
        "    FROM tic_tac_toe\n",
        "    WHERE Winner = 'X' AND `Move 6-O (Row-Col)` = '---'\n",
        "\"\"\").show(truncate=False)"
      ],
      "metadata": {
        "colab": {
          "base_uri": "https://localhost:8080/"
        },
        "id": "KGrJ43Ekatgg",
        "outputId": "9b351233-883e-4874-f9ea-1bd8f0f2d5e1"
      },
      "execution_count": null,
      "outputs": [
        {
          "output_type": "stream",
          "name": "stdout",
          "text": [
            "+-----------+------------------------------------------------------------------------------------------------------------------------------------------------------------------------------------------------------------------------------------------------------------------------------------------------------------------------------------------------------------------------------------------------------------------------------------------------------------------------------------------------------------------------------------------------------------------------------------------------------------------------------------------------------------------------------------------------------------------------------------------------------------------------------------------------------------------------------------------------------------------------------------------------------------------------------------------------------------------------------------------------------------------------------------------------------------------------------------------------------------------------------------------------------------------------------------------------------------------------------------------------------------------------------------------------------------------------------------------------------------------------------------------------------------------------------------------------------------------------------------------------------------------------------------------------------------------------------------------------------------------------------------------------------------------------------------------------------------------------------------------------------------------------------------------------------------------------------------------------------------------------------------------------------------------------------------------------------------------------------------------------------------------------------------------------------------------------------------------------------------------------------------------------------------------------------------------------------------------------------------------------------------------------------------------------------------------------------------------------------------------------------------------------------------------------------------------------------------------------------------------------------------------------------------------------------------------------------------------------------------------------------------------------------------------------------------------------------------------------------------------------------------------------------------------------------------------------------------------------------------------------------------------------------------------------------------------------------------------------------------------------------------------------------------------------------------------------------------------------------------------------------------------------------------------------------------------------------------------------------------------------------------------------------------------------------------------------------------------------------------------------------------------------------------------------------------------------------------------------------------------------------------------------------------------------------------------------------------------------------------------------------------------------------------------------------------------------------------------------------------------------------------------------------------------------------------------------------------------------------------------------------------------------------------------------------------------------------------------------------------------------------------------------------------------------------------------------------------------------------------------------------------------------------------------------------------------------------------------------------------------------------------------------------------------------------------------------------------------------------------------------------------------------------------------------------------------------------------------------------------------------------------------------------------------------------------------------------------------------------------------------------------------------------------------------------------------------------------------------------------------------------------------------------------------------------------------------------------------------------------------------------------------------------------------------------------------------------------------------------------------------------------------------------------------------------------------------------------------------------------------------------------------------------------------------------------------------------------------------------------------------------------------------------------------------------------------------------------------------------------------------------------------------------------------------------------------------------------------------------------------------------------------------------------------------------------------------------------------------------------------------------------------------------------------------------------------------------------------------------------------------------------------------------------------------------------------------------------------------------------------------------------------------------------------------------------------------------------------------------------------------------------------------------------------------------------------------------------------------------------------------------------------------------------------------------------------------------------------------------------------------------------------------------------------------------------------------------------------------------------------------------------------------------------------------------------------------------------------------------------------------------------------------------------------------------------------------------------------------------------------------------------------------------------------------------------------------------------------------------------------------------------------------------------------------------------------------------------------------------------------------------------------------------------------------------------------------------------------------------------------------------------------------------------------------------------------------------------------------------------------------------------------------------------------------------------------------------------------------------------------------------------------------------------------------------------------------------------------------------------------------------------------------------------------------------------------------------------------------------------------------------------------------------------------------------------------------------------------------------------------------------------------------------------------------------------------------------------------------------------------------------------------------------------------------------------------------------------------------------------------------------------------------------------------------------------------------------------------------------------------------------------------------------------------------------------------------------------------------------------------------------------------------------------------------------------------------------------------------------------------------------------------------------------------------------------------------------------------------------------------------------------------------------------------------------------------------------------------------------------------------------------------------------------------------------------------------------------------------------------------------------------------------------------------------------------------------------------------------------------------------------------------------------------------------------------------------------------------------------------------------------------------------------------------------------------------------------------------------------------------------------------------------------------------------------------------------------------------------------------------------------------------------------------------------------------------------------------------------------------------------------------------------------------------------------------------------------------------------------------------------------------------------------------------------------------------------------------------------------------------------------------------------------------------------------------------------------------------------------------------------------------------------------------------------------------------------------------------------------------------------------------------------------------------------------------------------------------------------------------------------------------------------------------------------------------------------------------------------------------------------------------------------------------------------------------------------------------------------------------------------------------------------------------------------------------------------------------------------------------------------------------------------------------------------------------------------------------------------------------------------------------------------------------------------------------------------------------------------------------------------------------------------------------------------------------------------------------------------------------------------------------------------------------------------------------------------------------------------------------------------------------------------------------------------------------------------------------------------------------------------------------------------------------------------------------------------------------------------------------------------------------------------------------------------------------------------------------------------------------------------------------------------------------------------------------------------------------------------------------------------------------------------------------------------------------------------------------------------------------------------------------------------------------------------------------------------------------------------------------------------------------------------------------------------------------------------------------------------------------------------------------------------------------------------------------------------------------------------------------------------------------------------------------------------------------------------------------------------------------------------------------------------------------------------------------------------------------------------------------------------------------------------------------------------------------------------------------------------------------------------------------------------------------------------------------------------------------------------------------------------------------------------------------------------------------------------------------------------------------------------------------------------------------------------------------------------------------------------------------------------------------------------------------------------------------------------------------------------------------------------------------------------------------------------------------------------------------------------------------------------------------------------------------------------------------------------------------------------------------------------------------------------------------------------------------------------------------------------------------------------------------------------------------------------------------------------------------------------------------------------------------------------------------------------------------------------------------------------------------------------------------------------------------------------------------------------------------------------------------------------------------------------------------------------------------------------------------------------------------------------------------------------------------------------------------------------------------------------------------------------------------------------------------------------------------------------------------------------------------------------------------------------------------------------------------------------------------------------------------------------------------------------------------------------------------------------------------------------------------------------------------------------------------------------------------------------------------------------------------------------------------------------------------------------------------------------------------------------------------------------------------------------------------------------------------------------------------------------------------------------------------------------------------------------------------------------------------------------------------------------------------------------------------------------------------------------------------------------------------------------------------------------------------------------------------------------------------------------------------------------------------------------------------------------------------------------------------------------------------------------------------------------------------------------------------------------------------------------------------------------------------------------------------------------------------------------------------------------------------------------------------------------------------------------------------------------------------------------------------------------------------------------------------------------------------------------------------------------------------------------------------------------------------------------------------------------------------------------------------------------------------------------------------------------------------------------------------------------------------------------------------------------------------------------------------------------------------------------------------------------------------------------------------------------------------------------------------------------------------------------------------------------------------------------------------------------------------------------------------------------------------------------------------------------------------------------------------------------------------------------------------------------------------------------------------------------------------------------------------------------------------------------------------------------------------------------------------------------------------------------------------------------------------------------------------------------------------------------------------------------------------------------------------------------------------------------------------------------------------------------------------------------------------------------------------------------------------------------------------------------------------------------------------------------------------------------------------------------------------------------------------------------------------------------------------------------------------------------------------------------------------------------------------------------------------------------------------------------------------------------------------------------------------------------------------------------------------------------------------------------------------------------------------------------------------------------------------------------------------------------------------------------------------------------------------------------------------------------------------------------------------------------------------------------------------------------------------------------------------------------------------------------------------------------------------------------------------------------------------------------------------------------------------------------------------------------------------------------------------------------------------------------------------------------------------------------------------------------------------------------------------------------------------------------------------------------------------------------------------------------------------------------------------------------------------------------------------------------------------------------------------------------------------------------------------------------------------------------------------------------------------------------------------------------------------------------------------------------------------------------------------------------------------------------------------------------------------------------------------------------------------------------------------------------------------------------------------------------------------------------------------------------------------------------------------------------------------------------------------------------------------------------------------------------------------------------------------------------------------------------------------------------------------------------------------------------------------------------------------------------------------------------------------------------------------------------------------------------------------------------------------------------------------------------------------------------------------------------------------------------------------------------------------------------------------------------------------------------------------------------------------------------------------------------------------------------------------------------------------------------------------------------------------------------------------------------------------------------------------------------------------------------------------------------------------------------------------------------------------------------------------------------------------------------------------------------------------------------------------------------------------------------------------------------------------------------------------------------------------------------------------------------------------------------------------------------------------------------------------------------------------------------------------------------------------------------------------------------------------------------------------------------------------------------------------------------------------------------------------------------------------------------------------------------------------------------------------------------------------------------------------------------------------------------------------------------------------------------------------------------------------------------------------------------------------------------------------------------------------------------------------------------------------------------------------------------------------------------------------------------------------------------------------------------------------------------------------------------------------------------------------------------------------------------------------------------------------------------------------------------------------------------------------------------------------------------------------------------------------------------------------------------------------------------------------------------------------------------------------------------------------------------------------------------------------------------------------------------------------------------------------------------------------------------------------------------------------------------------------------------------------------------------------------------------------------------------------------------------------------------------------------------------------------------------------------------------------------------------------------------------------------------------------------------------------------------------------------------------------------------------------------------------------------------------------------------------------------------------------------------------------------------------------------------------------------------------------------------------------------------------------------------------------------------------------------------------------------------------------------------------------------------------------------------------------------------------------------------------------------------------------------------------------------------------------------------------------------------------------------------------------------------------------------------------------------------------------------------------------------------------------------------------------------------------------------------------------------------------------------------------------------------------------------------------------------------------------------------------------------------------------------------------------------------------------------------------------------------------------------------------------------------------------------------------------------------------------------------------------------------------------------------------------------------------------------------------------------------------------------------------------------------------------------------------------------------------------------------------------------------------------------------------------------------------------------------------------------------------------------------------------------------------------------------------------------------------------------------------------------------------------------------------------------------------------------------------------------------------------------------------------------------------------------------------------------------------------------------------------------------------------------------------------------------------------------------------------------------------------------------------------------------------------------------------------------------------------------------------------------------------------------------------------------------------------------------------------------------------------------------------------------------------------------------------------------------------------------------------------------------------------------------------------------------------------------------------------------------------------------------------------------------------------------------------------------------------------------------------------------------------------------------------------------------------------------------------------------------------------------------------------------------------------------------------------------------------------------------------------------------------------------------------------------------------------------------------------------------------------------------------------------------------------------------------------------------------------------------------------------------------------------------------------------------------------------------------------------------------------------------------------------------------------------------------------------------------------------------------------------------------------------------------------------------------------------------------------------------------------------------------------------------------------------------------------------------------------------------------------------------------------------------------------------------------------------------------------------------------------------------------------------------------------------------------------------------------------------------------------------------------------------------------------------------------------------------------------------------------------------------------------------------------------------------------------------------------------------------------------------------------------------------------------------------------------------------------------------------------------------------------------------------------------------------------------------------------------------------------------------------------------------------------------------------------------------------------------------------------------------------------------------------------------------------------------------------------------------------------------------------------------------------------------------------------------------------------------------------------------------------------------------------------------------------------------------------------------------------------------------------------------------------------------------------------------------------------------------------------------------------------------------------------------------------------------------------------------------------------------------------------------------------------------------------------------------------------------------------------------------------------------------------------------------------------------------------------------------------------------------------------------------------------------------------------------------------------------------------------------------------------------------------------------------------------------------------------------------------------------------------------------------------------------------------------------------------------------------------------------------------------------------------------------------------------------------------------------------------------------------------------------------------------------------------------------------------------------------------------------------------------------------------------------------------------------------------------------------------------------------------------------------------------------------------------------------------------------------------------------------------------------------------------------------------------------------------------------------------------------------------------------------------------------------------------------------------------------------------------------------------------------------------------------------------------------------------------------------------------------------------------------------------------------------------------------------------------------------------------------------------------------------------------------------------------------------------------------------------------------------------------------------------------------------------------------------------------------------------------------------------------------------------------------------------------------------------------------------------------------------------------------------------------------------------------------------------------------------------------------------------------------------------------------------------------------------------------------------------------------------------------------------------------------------------------------------------------------------------------------------------------------------------------------------------------------------------------------------------------------------------------------------------------------------------------------------------------------------------------------------------------------------------------------------------------------------------------------------------------------------------------------------------------------------------------------------------------------------------------------------------------------------------------------------------------------------------------------------------------------------------------------------------------------------------------------------------------------------------------------------------------------------------------------------------------------------------------------------------------------------------------------------------------------------------------------------------------------------------------------------------------------------------------------------------------------------------------------------------------------------------------------------------------------------------------------------------------------------------------------------------------------------------------------------------------------------------------------------------------------------------------------------------------------------------------------------------------------------------------------------------------------------------------------------------------------------------------------------------------------------------------------------------------------------------------------------------------------------------------------------------------------------------------------------------------------------------------------------------------------------------------------------------------------------------------------------------------------------------------------------------------------------------------------------------------------------------------------------------------------------------------------------------------------------------------------------------------------------------------------------------------------------------------------------------------------------------------------------------------------------------------------------------------------------------------------------------------------------------------------------------------------------------------------------------------------------------------------------------------------------------------------------------------------------------------------------------------------------------------------------------------------------------------------------------------------------------------------------------------------------------------------------------------------------------------------------------------------------------------------------------------------------------------------------------------------------------------------------------------------------------------------------------------------------------------------------------------------------------------------------------------------------------------------------------------------------------------------------------------------------------------------------------------------------------------------------------------------------------------------------------------------------------------------------------------------------------------------------------------------------------------------------------------------------------------------------------------------------------------------------------------------------------------------------------------------------------------------------------------------------------------------------------------------------------------------------------------------------------------------------------------------------------------------------------------------------------------------------------------------------------------------------------------------------------------------------------------------------------------------------------------------------------------------------------------------------------------------------------------------------------------------------------------------------------------------------------------------------------------------------------------------------------------------------------------------------------------------------------------------------------------------------------------------------------------------------------------------------------------------------------------------------------------------------------------------------------------------------------------------------------------------------------------------------------------------------------------------------------------------------------------------------------------------------------------------------------------------------------------------------------------------------------------------------------------------------------------------------------------------------------------------------------------------------------------------------------------------------------------------------------------------------------------------------------------------------------------------------------------------------------------------------------------------------------------------------------------------------------------------------------------------------------------------------------------------------------------------------------------------------------------------------------------------------------------------------------------------------------------------------------------------------------------------------------------------------------------------------------------------------------------------------------------------------------------------------------------------------------------------------------------------------------------------------------------------------------------------------------------------------------------------------------------------------------------------------------------------------------------------------------------------------------------------------------------------------------------------------------------------------------------------------------------------------------------------------------------------------------------------------------------------------------------------------------------------------------------------------------------------------------------------------------------------------------------------------------------------------------------------------------------------------------------------------------------------------------------------------------------------------------------------------------------------------------------------------------------------------------------------------------------------------------------------------------------------------------------------------------------------------------------------------------------------------------------------------------------------------------------------------------------------------------------------------------------------------------------------------------------------------------------------------------------------------------------------------------------------------------------------------------------------------------------------------------------------------------------------------------------------------------+\n",
            "|games_count|winning_sequences                                                                                                                                                                                                                                                                                                                                                                                                                                                                                                                                                                                                                                                                                                                                                                                                                                                                                                                                                                                                                                                                                                                                                                                                                                                                                                                                                                                                                                                                                                                                                                                                                                                                                                                                                                                                                                                                                                                                                                                                                                                                                                                                                                                                                                                                                                                                                                                                                                                                                                                                                                                                                                                                                                                                                                                                                                                                                                                                                                                                                                                                                                                                                                                                                                                                                                                                                                                                                                                                                                                                                                                                                                                                                                                                                                                                                                                                                                                                                                                                                                                                                                                                                                                                                                                                                                                                                                                                                                                                                                                                                                                                                                                                                                                                                                                                                                                                                                                                                                                                                                                                                                                                                                                                                                                                                                                                                                                                                                                                                                                                                                                                                                                                                                                                                                                                                                                                                                                                                                                                                                                                                                                                                                                                                                                                                                                                                                                                                                                                                                                                                                                                                                                                                                                                                                                                                                                                                                                                                                                                                                                                                                                                                                                                                                                                                                                                                                                                                                                                                                                                                                                                                                                                                                                                                                                                                                                                                                                                                                                                                                                                                                                                                                                                                                                                                                                                                                                                                                                                                                                                                                                                                                                                                                                                                                                                                                                                                                                                                                                                                                                                                                                                                                                                                                                                                                                                                                                                                                                                                                                                                                                                                                                                                                                                                                                                                                                                                                                                                                                                                                                                                                                                                                                                                                                                                                                                                                                                                                                                                                                                                                                                                                                                                                                                                                                                                                                                                                                                                                                                                                                                                                                                                                                                                                                                                                                                                                                                                                                                                                                                                                                                                                                                                                                                                                                                                                                                                                                                                                                                                                                                                                                                                                                                                                                                                                                                                                                                                                                                                                                                                                                                                                                                                                                                                                                                                                                                                                                                                                                                                                                                                                                                                                                                                                                                                                                                                                                                                                                                                                                                                                                                                                                                                                                                                                                                                                                                                                                                                                                                                                                                                                                                                                                                                                                                                                                                                                                                                                                                                                                                                                                                                                                                                                                                                                                                                                                                                                                                                                                                                                                                                                                                                                                                                                                                                                                                                                                                                                                                                                                                                                                                                                                                                                                                                                                                                                                                                                                                                                                                                                                                                                                                                                                                                                                                                                                                                                                                                                                                                                                                                                                                                                                                                                                                                                                                                                                                                                                                                                                                                                                                                                                                                                                                                                                                                                                                                                                                                                                                                                                                                                                                                                                                                                                                                                                                                                                                                                                                                                                                                                                                                                                                                                                                                                                                                                                                                                                                                                                                                                                                                                                                                                                                                                                                                                                                                                                                                                                                                                                                                                                                                                                                                                                                                                                                                                                                                                                                                                                                                                                                                                                                                                                                                                                                                                                                                                                                                                                                                                                                                                                                                                                                                                                                                                                                                                                                                                                                                                                                                                                                                                                                                                                                                                                                                                                                                                                                                                                                                                                                                                                                                                                                                                                                                                                                                                                                                                                                                                                                                                                                                                                                                                                                                                                                                                                                                                                                                                                                                                                                                                                                                                                                                                                                                                                                                                                                                                                                                                                                                                                                                                                                                                                                                                                                                                                                                                                                                                                                                                                                                                                                                                                                                                                                                                                                                                                                                                                                                                                                                                                                                                                                                                                                                                                                                                                                                                                                                                                                                                                                                                                                                                                                                                                                                                                                                                                                                                                                                                                                                                                                                                                                                                                                                                                                                                                                                                                                                                                                                                                                                                                                                                                                                                                                                                                                                                                                                                                                                                                                                                                                                                                                                                                                                                                                                                                                                                                                                                                                                                                                                                                                                                                                                                                                                                                                                                                                                                                                                                                                                                                                                                                                                                                                                                                                                                                                                                                                                                                                                                                                                                                                                                                                                                                                                                                                                                                                                                                                                                                                                                                                                                                                                                                                                                                                                                                                                                                                                                                                                                                                                                                                                                                                                                                                                                                                                                                                                                                                                                                                                                                                                                                                                                                                                                                                                                                                                                                                                                                                                                                                                                                                                                                                                                                                                                                                                                                                                                                                                                                                                                                                                                                                                                                                                                                                                                                                                                                                                                                                                                                                                                                                                                                                                                                                                                                                                                                                                                                                                                                                                                                                                                                                                                                                                                                                                                                                                                                                                                                                                                                                                                                                                                                                                                                                                                                                                                                                                                                                                                                                                                                                                                                                                                                                                                                                                                                                                                                                                                                                                                                                                                                                                                                                                                                                                                                                                                                                                                                                                                                                                                                                                                                                                                                                                                                                                                                                                                                                                                                                                                                                                                                                                                                                                                                                                                                                                                                                                                                                                                                                                                                                                                                                                                                                                                                                                                                                                                                                                                                                                                                                                                                                                                                                                                                                                                                                                                                                                                                                                                                                                                                                                                                                                                                                                                                                                                                                                                                                                                                                                                                                                                                                                                                                                                                                                                                                                                                                                                                                                                                                                                                                                                                                                                                                                                                                                                                                                                                                                                                                                                                                                                                                                                                                                                                                                                                                                                                                                                                                                                                                                                                                                                                                                                                                                                                                                                                                                                                                                                                                                                                                                                                                                                                                                                                                                                                                                                                                                                                                                                                                               |\n",
            "+-----------+------------------------------------------------------------------------------------------------------------------------------------------------------------------------------------------------------------------------------------------------------------------------------------------------------------------------------------------------------------------------------------------------------------------------------------------------------------------------------------------------------------------------------------------------------------------------------------------------------------------------------------------------------------------------------------------------------------------------------------------------------------------------------------------------------------------------------------------------------------------------------------------------------------------------------------------------------------------------------------------------------------------------------------------------------------------------------------------------------------------------------------------------------------------------------------------------------------------------------------------------------------------------------------------------------------------------------------------------------------------------------------------------------------------------------------------------------------------------------------------------------------------------------------------------------------------------------------------------------------------------------------------------------------------------------------------------------------------------------------------------------------------------------------------------------------------------------------------------------------------------------------------------------------------------------------------------------------------------------------------------------------------------------------------------------------------------------------------------------------------------------------------------------------------------------------------------------------------------------------------------------------------------------------------------------------------------------------------------------------------------------------------------------------------------------------------------------------------------------------------------------------------------------------------------------------------------------------------------------------------------------------------------------------------------------------------------------------------------------------------------------------------------------------------------------------------------------------------------------------------------------------------------------------------------------------------------------------------------------------------------------------------------------------------------------------------------------------------------------------------------------------------------------------------------------------------------------------------------------------------------------------------------------------------------------------------------------------------------------------------------------------------------------------------------------------------------------------------------------------------------------------------------------------------------------------------------------------------------------------------------------------------------------------------------------------------------------------------------------------------------------------------------------------------------------------------------------------------------------------------------------------------------------------------------------------------------------------------------------------------------------------------------------------------------------------------------------------------------------------------------------------------------------------------------------------------------------------------------------------------------------------------------------------------------------------------------------------------------------------------------------------------------------------------------------------------------------------------------------------------------------------------------------------------------------------------------------------------------------------------------------------------------------------------------------------------------------------------------------------------------------------------------------------------------------------------------------------------------------------------------------------------------------------------------------------------------------------------------------------------------------------------------------------------------------------------------------------------------------------------------------------------------------------------------------------------------------------------------------------------------------------------------------------------------------------------------------------------------------------------------------------------------------------------------------------------------------------------------------------------------------------------------------------------------------------------------------------------------------------------------------------------------------------------------------------------------------------------------------------------------------------------------------------------------------------------------------------------------------------------------------------------------------------------------------------------------------------------------------------------------------------------------------------------------------------------------------------------------------------------------------------------------------------------------------------------------------------------------------------------------------------------------------------------------------------------------------------------------------------------------------------------------------------------------------------------------------------------------------------------------------------------------------------------------------------------------------------------------------------------------------------------------------------------------------------------------------------------------------------------------------------------------------------------------------------------------------------------------------------------------------------------------------------------------------------------------------------------------------------------------------------------------------------------------------------------------------------------------------------------------------------------------------------------------------------------------------------------------------------------------------------------------------------------------------------------------------------------------------------------------------------------------------------------------------------------------------------------------------------------------------------------------------------------------------------------------------------------------------------------------------------------------------------------------------------------------------------------------------------------------------------------------------------------------------------------------------------------------------------------------------------------------------------------------------------------------------------------------------------------------------------------------------------------------------------------------------------------------------------------------------------------------------------------------------------------------------------------------------------------------------------------------------------------------------------------------------------------------------------------------------------------------------------------------------------------------------------------------------------------------------------------------------------------------------------------------------------------------------------------------------------------------------------------------------------------------------------------------------------------------------------------------------------------------------------------------------------------------------------------------------------------------------------------------------------------------------------------------------------------------------------------------------------------------------------------------------------------------------------------------------------------------------------------------------------------------------------------------------------------------------------------------------------------------------------------------------------------------------------------------------------------------------------------------------------------------------------------------------------------------------------------------------------------------------------------------------------------------------------------------------------------------------------------------------------------------------------------------------------------------------------------------------------------------------------------------------------------------------------------------------------------------------------------------------------------------------------------------------------------------------------------------------------------------------------------------------------------------------------------------------------------------------------------------------------------------------------------------------------------------------------------------------------------------------------------------------------------------------------------------------------------------------------------------------------------------------------------------------------------------------------------------------------------------------------------------------------------------------------------------------------------------------------------------------------------------------------------------------------------------------------------------------------------------------------------------------------------------------------------------------------------------------------------------------------------------------------------------------------------------------------------------------------------------------------------------------------------------------------------------------------------------------------------------------------------------------------------------------------------------------------------------------------------------------------------------------------------------------------------------------------------------------------------------------------------------------------------------------------------------------------------------------------------------------------------------------------------------------------------------------------------------------------------------------------------------------------------------------------------------------------------------------------------------------------------------------------------------------------------------------------------------------------------------------------------------------------------------------------------------------------------------------------------------------------------------------------------------------------------------------------------------------------------------------------------------------------------------------------------------------------------------------------------------------------------------------------------------------------------------------------------------------------------------------------------------------------------------------------------------------------------------------------------------------------------------------------------------------------------------------------------------------------------------------------------------------------------------------------------------------------------------------------------------------------------------------------------------------------------------------------------------------------------------------------------------------------------------------------------------------------------------------------------------------------------------------------------------------------------------------------------------------------------------------------------------------------------------------------------------------------------------------------------------------------------------------------------------------------------------------------------------------------------------------------------------------------------------------------------------------------------------------------------------------------------------------------------------------------------------------------------------------------------------------------------------------------------------------------------------------------------------------------------------------------------------------------------------------------------------------------------------------------------------------------------------------------------------------------------------------------------------------------------------------------------------------------------------------------------------------------------------------------------------------------------------------------------------------------------------------------------------------------------------------------------------------------------------------------------------------------------------------------------------------------------------------------------------------------------------------------------------------------------------------------------------------------------------------------------------------------------------------------------------------------------------------------------------------------------------------------------------------------------------------------------------------------------------------------------------------------------------------------------------------------------------------------------------------------------------------------------------------------------------------------------------------------------------------------------------------------------------------------------------------------------------------------------------------------------------------------------------------------------------------------------------------------------------------------------------------------------------------------------------------------------------------------------------------------------------------------------------------------------------------------------------------------------------------------------------------------------------------------------------------------------------------------------------------------------------------------------------------------------------------------------------------------------------------------------------------------------------------------------------------------------------------------------------------------------------------------------------------------------------------------------------------------------------------------------------------------------------------------------------------------------------------------------------------------------------------------------------------------------------------------------------------------------------------------------------------------------------------------------------------------------------------------------------------------------------------------------------------------------------------------------------------------------------------------------------------------------------------------------------------------------------------------------------------------------------------------------------------------------------------------------------------------------------------------------------------------------------------------------------------------------------------------------------------------------------------------------------------------------------------------------------------------------------------------------------------------------------------------------------------------------------------------------------------------------------------------------------------------------------------------------------------------------------------------------------------------------------------------------------------------------------------------------------------------------------------------------------------------------------------------------------------------------------------------------------------------------------------------------------------------------------------------------------------------------------------------------------------------------------------------------------------------------------------------------------------------------------------------------------------------------------------------------------------------------------------------------------------------------------------------------------------------------------------------------------------------------------------------------------------------------------------------------------------------------------------------------------------------------------------------------------------------------------------------------------------------------------------------------------------------------------------------------------------------------------------------------------------------------------------------------------------------------------------------------------------------------------------------------------------------------------------------------------------------------------------------------------------------------------------------------------------------------------------------------------------------------------------------------------------------------------------------------------------------------------------------------------------------------------------------------------------------------------------------------------------------------------------------------------------------------------------------------------------------------------------------------------------------------------------------------------------------------------------------------------------------------------------------------------------------------------------------------------------------------------------------------------------------------------------------------------------------------------------------------------------------------------------------------------------------------------------------------------------------------------------------------------------------------------------------------------------------------------------------------------------------------------------------------------------------------------------------------------------------------------------------------------------------------------------------------------------------------------------------------------------------------------------------------------------------------------------------------------------------------------------------------------------------------------------------------------------------------------------------------------------------------------------------------------------------------------------------------------------------------------------------------------------------------------------------------------------------------------------------------------------------------------------------------------------------------------------------------------------------------------------------------------------------------------------------------------------------------------------------------------------------------------------------------------------------------------------------------------------------------------------------------------------------------------------------------------------------------------------------------------------------------------------------------------------------------------------------------------------------------------------------------------------------------------------------------------------------------------------------------------------------------------------------------------------------------------------------------------------------------------------------------------------------------------------------------------------------------------------------------------------------------------------------------------------------------------------------------------------------------------------------------------------------------------------------------------------------------------------------------------------------------------------------------------------------------------------------------------------------------------------------------------------------------------------------------------------------------------------------------------------------------------------------------------------------------------------------------------------------------------------------------------------------------------------------------------------------------------------------------------------------------------------------------------------------------------------------------------------------------------------------------------------------------------------------------------------------------------------------------------------------------------------------------------------------------------------------------------------------------------------------------------------------------------------------------------------------------------------------------------------------------------------------------------------------------------------------------------------------------------------------------------------------------------------------------------------------------------------------------------------------------------------------------------------------------------------------------------------------------------------------------------------------------------------------------------------------------------------------------------------------------------------------------------------------------------------------------------------------------------------------------------------------------------------------------------------------------------------------------------------------------------------------------------------------------------------------------------------------------------------------------------------------------------------------------------------------------------------------------------------------------------------------------------------------------------------------------------------------------------------------------------------------------------------------------------------------------------------------------------------------------------------------------------------------------------------------------------------------------------------------------------------------------------------------------------------------------------------------------------------------------------------------------------------------------------------------------------------------------------------------------------------------------------------------------------------------------------------------------------------------------------------------------------------------------------------------------------------------------------------------------------------------------------------------------------------------------------------------------------------------------------------------------------------------------------------------------------------------------------------------------------------------------------------------------------------------------------------------------------------------------------------------------------------------------------------------------------------------------------------------------------------------------------------------------------------------------------------------------------------------------------------------------------------------------------------------------------------------------------------------------------------------------------------------------------------------------------------------------------------------------------------------------------------------------------------------------------------------------------------------------------------------------------------------------------------------------------------------------------------------------------------------------------------------------------------------------------------------------------------------------------------------------------------------------------------------------------------------------------------------------------------------------------------------------------------------------------------------------------------------------------------------------------------------------------------------------------------------------------------------------------------------------------------------------------------------------------------------------------------------------------------------------------------------------------------------------------------------------------------------------------------------------------------------------------------------------------------------------------------------------------------------------------------------------------------------------------------------------------------------------------------------------------------------------------------------------------------------------------------------------------------------------------------------------------------------------------------------------------------------------------------------------------------------------------------------------------------------------------------------------------------------------------------------------------------------------------------------------------------------------------------------------------------------------------------------------------------------------------------------------------------------------------------------------------------------------------------------------------------------------------------------------------------------------------------------------------------------------------------------------------------------------------------------------------------------------------------------------------------------------------------------------------------------------------------------------------------------------------------------------------------------------------------------------------------------------------------------------------------------------------------------------------------------------------------------------------------------------------------------------------------------------------------------------------------------------------------------------------------------------------------------------------------------------------------------------------------------------------------------------------------------------------------------------------------------------------------------------------------------------------------------------------------------------------------------------------------------------------------------------------------------------------------------------------------------------------------------------------------------------------------------------------------------------------------------------------------------------------------------------------------------------------------------------------------------------------------------------------------------------------------------------------------------------------------------------------------------------------------------------------------------------------------------------------------------------------------------------------------------------------------------------------------------------------------------------------------------------------------------------------------------------------------------------------------------------------------------------------------------------------------------------------------------------------------------------------------------------------------------------------------------------------------------------------------------------------------------------------------------------------------------------------------------------------------------------------------------------------------------------------------------------------------------------------------------------------------------------------------------------------------------------------------------------------------------------------------------------------------------------------------------------------------------------------------------------------------------------------------------------------------------------------------------------------------------------------------------------------------------------------------------------------------------------------------------------------------------------------------------------------------------------------------------------------------------------------------------------------------------------------------------------------------------------------------------------------------------------------------------------------------------------------------------------------------------------------------------------------------------------------------------------------------------------------------------------------------------------------------------------------------------------------------------------------------------------------------------------------------------------------------------------------------------------------------------------------------------------------------------------------------------------------------------------------------------------------------------------------------------------------------------------------------------------------------------------------------------------------------------------------------------------------------------------------------------------------------------------------------------------------------------------------------------------------------------------------------------------------------------------------------------------------------------------------------------------------------------------------------------------------------------------------------------------------------------------------------------------------------------------------------------------------------------------------------------------------------------------------------------------------------------------------------------------------------------------------------------------------------------------------------------------------------------------------------------------------------------------------------------------------------------------------------------------------------------------------------------------------------------------------------------------------------------------------------------------------------------------------------------------------------------------------------------------------------------------------------------------------------------------------------------------------------------------------------------------------------------------------------------------------------------------------------------------------------------------------------------------------------------------------------------------------------------------------------------------------------------------------------------------------------------------------------------------------------------------------------------------------------------------------------------------------------------------------------------------------------------------------------------------------------------------------------------------------------------------------------------------------------------------------------------------------------------------------------------------------------------------------------------------------------------------------------------------------------------------------------------------------------------------------------------------------------------------------------------------------------------------------------------------------------------------------------------------------------------------------------------------------------------------------------------------------------------------------------------------------------------------------------------------------------------------------------------------------------------------------------------------------------------------------------------------------------------------------------------------------------------------------------------------------------------------------------------------------------------------------------------------------------------------------------------------------------------------------------------------------------------------------------------------------------------------------------------------------------------------------------------------------------------------------------------------------------------------------------------------------------------------------------------------------------------------------------------------------------------------------------------------------------------------------------------------------------------------------------------------------------------------------------------------------------------------------------------------------------------------------------------------------------------------------------------------------------------------------------------------------------------------------------------------------------------------------------------------------------------------------------------------------------------------------------------------------------------------------------------------------------------------------------------------------------------------------------------------------------------------------------------------------------------------------------------------------------------------------------------------------------------------------------------------------------------------------------------------------------------------------------------------------------------------------------------------------------------------------------------------------------------------------------------------------------------------------------------------------------------------------------------------------------------------------------------------------------------------------------------------------------------------------------------------------------------------------------------------------------------------------------------------------------------------------------------------------------------------------------------------------------------------------------------------------------------------------------------------------------------------------------------------------------------------------------------------------------------------------------------------------------------------------------------------------------------------------------------------------------------------------------------------------------------------------------------------------------------------------------------------------------------------------------------------------------------------------------------------------------------------------------------------------------------------------------------------------------------------------------------------------------------------------+\n",
            "|1440       |[0-0, 0-1, 1-0, 0-2, 2-0, 0-0, 0-1, 1-0, 1-1, 2-0, 0-0, 0-1, 1-0, 1-2, 2-0, 0-0, 0-1, 1-0, 2-1, 2-0, 0-0, 0-1, 1-0, 2-2, 2-0, 0-0, 0-1, 1-1, 0-2, 2-2, 0-0, 0-1, 1-1, 1-0, 2-2, 0-0, 0-1, 1-1, 1-2, 2-2, 0-0, 0-1, 1-1, 2-0, 2-2, 0-0, 0-1, 1-1, 2-1, 2-2, 0-0, 0-1, 2-0, 0-2, 1-0, 0-0, 0-1, 2-0, 1-1, 1-0, 0-0, 0-1, 2-0, 1-2, 1-0, 0-0, 0-1, 2-0, 2-1, 1-0, 0-0, 0-1, 2-0, 2-2, 1-0, 0-0, 0-1, 2-2, 0-2, 1-1, 0-0, 0-1, 2-2, 1-0, 1-1, 0-0, 0-1, 2-2, 1-2, 1-1, 0-0, 0-1, 2-2, 2-0, 1-1, 0-0, 0-1, 2-2, 2-1, 1-1, 0-0, 0-2, 1-0, 0-1, 2-0, 0-0, 0-2, 1-0, 1-1, 2-0, 0-0, 0-2, 1-0, 1-2, 2-0, 0-0, 0-2, 1-0, 2-1, 2-0, 0-0, 0-2, 1-0, 2-2, 2-0, 0-0, 0-2, 1-1, 0-1, 2-2, 0-0, 0-2, 1-1, 1-0, 2-2, 0-0, 0-2, 1-1, 1-2, 2-2, 0-0, 0-2, 1-1, 2-0, 2-2, 0-0, 0-2, 1-1, 2-1, 2-2, 0-0, 0-2, 2-0, 0-1, 1-0, 0-0, 0-2, 2-0, 1-1, 1-0, 0-0, 0-2, 2-0, 1-2, 1-0, 0-0, 0-2, 2-0, 2-1, 1-0, 0-0, 0-2, 2-0, 2-2, 1-0, 0-0, 0-2, 2-2, 0-1, 1-1, 0-0, 0-2, 2-2, 1-0, 1-1, 0-0, 0-2, 2-2, 1-2, 1-1, 0-0, 0-2, 2-2, 2-0, 1-1, 0-0, 0-2, 2-2, 2-1, 1-1, 0-0, 1-0, 0-1, 1-1, 0-2, 0-0, 1-0, 0-1, 1-2, 0-2, 0-0, 1-0, 0-1, 2-0, 0-2, 0-0, 1-0, 0-1, 2-1, 0-2, 0-0, 1-0, 0-1, 2-2, 0-2, 0-0, 1-0, 0-2, 1-1, 0-1, 0-0, 1-0, 0-2, 1-2, 0-1, 0-0, 1-0, 0-2, 2-0, 0-1, 0-0, 1-0, 0-2, 2-1, 0-1, 0-0, 1-0, 0-2, 2-2, 0-1, 0-0, 1-0, 1-1, 0-1, 2-2, 0-0, 1-0, 1-1, 0-2, 2-2, 0-0, 1-0, 1-1, 1-2, 2-2, 0-0, 1-0, 1-1, 2-0, 2-2, 0-0, 1-0, 1-1, 2-1, 2-2, 0-0, 1-0, 2-2, 0-1, 1-1, 0-0, 1-0, 2-2, 0-2, 1-1, 0-0, 1-0, 2-2, 1-2, 1-1, 0-0, 1-0, 2-2, 2-0, 1-1, 0-0, 1-0, 2-2, 2-1, 1-1, 0-0, 1-1, 0-1, 1-0, 0-2, 0-0, 1-1, 0-1, 1-2, 0-2, 0-0, 1-1, 0-1, 2-0, 0-2, 0-0, 1-1, 0-1, 2-1, 0-2, 0-0, 1-1, 0-1, 2-2, 0-2, 0-0, 1-1, 0-2, 1-0, 0-1, 0-0, 1-1, 0-2, 1-2, 0-1, 0-0, 1-1, 0-2, 2-0, 0-1, 0-0, 1-1, 0-2, 2-1, 0-1, 0-0, 1-1, 0-2, 2-2, 0-1, 0-0, 1-1, 1-0, 0-1, 2-0, 0-0, 1-1, 1-0, 0-2, 2-0, 0-0, 1-1, 1-0, 1-2, 2-0, 0-0, 1-1, 1-0, 2-1, 2-0, 0-0, 1-1, 1-0, 2-2, 2-0, 0-0, 1-1, 2-0, 0-1, 1-0, 0-0, 1-1, 2-0, 0-2, 1-0, 0-0, 1-1, 2-0, 1-2, 1-0, 0-0, 1-1, 2-0, 2-1, 1-0, 0-0, 1-1, 2-0, 2-2, 1-0, 0-0, 1-2, 0-1, 1-0, 0-2, 0-0, 1-2, 0-1, 1-1, 0-2, 0-0, 1-2, 0-1, 2-0, 0-2, 0-0, 1-2, 0-1, 2-1, 0-2, 0-0, 1-2, 0-1, 2-2, 0-2, 0-0, 1-2, 0-2, 1-0, 0-1, 0-0, 1-2, 0-2, 1-1, 0-1, 0-0, 1-2, 0-2, 2-0, 0-1, 0-0, 1-2, 0-2, 2-1, 0-1, 0-0, 1-2, 0-2, 2-2, 0-1, 0-0, 1-2, 1-0, 0-1, 2-0, 0-0, 1-2, 1-0, 0-2, 2-0, 0-0, 1-2, 1-0, 1-1, 2-0, 0-0, 1-2, 1-0, 2-1, 2-0, 0-0, 1-2, 1-0, 2-2, 2-0, 0-0, 1-2, 1-1, 0-1, 2-2, 0-0, 1-2, 1-1, 0-2, 2-2, 0-0, 1-2, 1-1, 1-0, 2-2, 0-0, 1-2, 1-1, 2-0, 2-2, 0-0, 1-2, 1-1, 2-1, 2-2, 0-0, 1-2, 2-0, 0-1, 1-0, 0-0, 1-2, 2-0, 0-2, 1-0, 0-0, 1-2, 2-0, 1-1, 1-0, 0-0, 1-2, 2-0, 2-1, 1-0, 0-0, 1-2, 2-0, 2-2, 1-0, 0-0, 1-2, 2-2, 0-1, 1-1, 0-0, 1-2, 2-2, 0-2, 1-1, 0-0, 1-2, 2-2, 1-0, 1-1, 0-0, 1-2, 2-2, 2-0, 1-1, 0-0, 1-2, 2-2, 2-1, 1-1, 0-0, 2-0, 0-1, 1-0, 0-2, 0-0, 2-0, 0-1, 1-1, 0-2, 0-0, 2-0, 0-1, 1-2, 0-2, 0-0, 2-0, 0-1, 2-1, 0-2, 0-0, 2-0, 0-1, 2-2, 0-2, 0-0, 2-0, 0-2, 1-0, 0-1, 0-0, 2-0, 0-2, 1-1, 0-1, 0-0, 2-0, 0-2, 1-2, 0-1, 0-0, 2-0, 0-2, 2-1, 0-1, 0-0, 2-0, 0-2, 2-2, 0-1, 0-0, 2-0, 1-1, 0-1, 2-2, 0-0, 2-0, 1-1, 0-2, 2-2, 0-0, 2-0, 1-1, 1-0, 2-2, 0-0, 2-0, 1-1, 1-2, 2-2, 0-0, 2-0, 1-1, 2-1, 2-2, 0-0, 2-0, 2-2, 0-1, 1-1, 0-0, 2-0, 2-2, 0-2, 1-1, 0-0, 2-0, 2-2, 1-0, 1-1, 0-0, 2-0, 2-2, 1-2, 1-1, 0-0, 2-0, 2-2, 2-1, 1-1, 0-0, 2-1, 0-1, 1-0, 0-2, 0-0, 2-1, 0-1, 1-1, 0-2, 0-0, 2-1, 0-1, 1-2, 0-2, 0-0, 2-1, 0-1, 2-0, 0-2, 0-0, 2-1, 0-1, 2-2, 0-2, 0-0, 2-1, 0-2, 1-0, 0-1, 0-0, 2-1, 0-2, 1-1, 0-1, 0-0, 2-1, 0-2, 1-2, 0-1, 0-0, 2-1, 0-2, 2-0, 0-1, 0-0, 2-1, 0-2, 2-2, 0-1, 0-0, 2-1, 1-0, 0-1, 2-0, 0-0, 2-1, 1-0, 0-2, 2-0, 0-0, 2-1, 1-0, 1-1, 2-0, 0-0, 2-1, 1-0, 1-2, 2-0, 0-0, 2-1, 1-0, 2-2, 2-0, 0-0, 2-1, 1-1, 0-1, 2-2, 0-0, 2-1, 1-1, 0-2, 2-2, 0-0, 2-1, 1-1, 1-0, 2-2, 0-0, 2-1, 1-1, 1-2, 2-2, 0-0, 2-1, 1-1, 2-0, 2-2, 0-0, 2-1, 2-0, 0-1, 1-0, 0-0, 2-1, 2-0, 0-2, 1-0, 0-0, 2-1, 2-0, 1-1, 1-0, 0-0, 2-1, 2-0, 1-2, 1-0, 0-0, 2-1, 2-0, 2-2, 1-0, 0-0, 2-1, 2-2, 0-1, 1-1, 0-0, 2-1, 2-2, 0-2, 1-1, 0-0, 2-1, 2-2, 1-0, 1-1, 0-0, 2-1, 2-2, 1-2, 1-1, 0-0, 2-1, 2-2, 2-0, 1-1, 0-0, 2-2, 0-1, 1-0, 0-2, 0-0, 2-2, 0-1, 1-1, 0-2, 0-0, 2-2, 0-1, 1-2, 0-2, 0-0, 2-2, 0-1, 2-0, 0-2, 0-0, 2-2, 0-1, 2-1, 0-2, 0-0, 2-2, 0-2, 1-0, 0-1, 0-0, 2-2, 0-2, 1-1, 0-1, 0-0, 2-2, 0-2, 1-2, 0-1, 0-0, 2-2, 0-2, 2-0, 0-1, 0-0, 2-2, 0-2, 2-1, 0-1, 0-0, 2-2, 1-0, 0-1, 2-0, 0-0, 2-2, 1-0, 0-2, 2-0, 0-0, 2-2, 1-0, 1-1, 2-0, 0-0, 2-2, 1-0, 1-2, 2-0, 0-0, 2-2, 1-0, 2-1, 2-0, 0-0, 2-2, 2-0, 0-1, 1-0, 0-0, 2-2, 2-0, 0-2, 1-0, 0-0, 2-2, 2-0, 1-1, 1-0, 0-0, 2-2, 2-0, 1-2, 1-0, 0-0, 2-2, 2-0, 2-1, 1-0, 0-1, 0-0, 1-1, 0-2, 2-1, 0-1, 0-0, 1-1, 1-0, 2-1, 0-1, 0-0, 1-1, 1-2, 2-1, 0-1, 0-0, 1-1, 2-0, 2-1, 0-1, 0-0, 1-1, 2-2, 2-1, 0-1, 0-0, 2-1, 0-2, 1-1, 0-1, 0-0, 2-1, 1-0, 1-1, 0-1, 0-0, 2-1, 1-2, 1-1, 0-1, 0-0, 2-1, 2-0, 1-1, 0-1, 0-0, 2-1, 2-2, 1-1, 0-1, 0-2, 1-1, 0-0, 2-1, 0-1, 0-2, 1-1, 1-0, 2-1, 0-1, 0-2, 1-1, 1-2, 2-1, 0-1, 0-2, 1-1, 2-0, 2-1, 0-1, 0-2, 1-1, 2-2, 2-1, 0-1, 0-2, 2-1, 0-0, 1-1, 0-1, 0-2, 2-1, 1-0, 1-1, 0-1, 0-2, 2-1, 1-2, 1-1, 0-1, 0-2, 2-1, 2-0, 1-1, 0-1, 0-2, 2-1, 2-2, 1-1, 0-1, 1-0, 0-0, 1-1, 0-2, 0-1, 1-0, 0-0, 1-2, 0-2, 0-1, 1-0, 0-0, 2-0, 0-2, 0-1, 1-0, 0-0, 2-1, 0-2, 0-1, 1-0, 0-0, 2-2, 0-2, 0-1, 1-0, 0-2, 1-1, 0-0, 0-1, 1-0, 0-2, 1-2, 0-0, 0-1, 1-0, 0-2, 2-0, 0-0, 0-1, 1-0, 0-2, 2-1, 0-0, 0-1, 1-0, 0-2, 2-2, 0-0, 0-1, 1-0, 1-1, 0-0, 2-1, 0-1, 1-0, 1-1, 0-2, 2-1, 0-1, 1-0, 1-1, 1-2, 2-1, 0-1, 1-0, 1-1, 2-0, 2-1, 0-1, 1-0, 1-1, 2-2, 2-1, 0-1, 1-0, 2-1, 0-0, 1-1, 0-1, 1-0, 2-1, 0-2, 1-1, 0-1, 1-0, 2-1, 1-2, 1-1, 0-1, 1-0, 2-1, 2-0, 1-1, 0-1, 1-0, 2-1, 2-2, 1-1, 0-1, 1-1, 0-0, 1-0, 0-2, 0-1, 1-1, 0-0, 1-2, 0-2, 0-1, 1-1, 0-0, 2-0, 0-2, 0-1, 1-1, 0-0, 2-1, 0-2, 0-1, 1-1, 0-0, 2-2, 0-2, 0-1, 1-1, 0-2, 1-0, 0-0, 0-1, 1-1, 0-2, 1-2, 0-0, 0-1, 1-1, 0-2, 2-0, 0-0, 0-1, 1-1, 0-2, 2-1, 0-0, 0-1, 1-1, 0-2, 2-2, 0-0, 0-1, 1-2, 0-0, 1-0, 0-2, 0-1, 1-2, 0-0, 1-1, 0-2, 0-1, 1-2, 0-0, 2-0, 0-2, 0-1, 1-2, 0-0, 2-1, 0-2, 0-1, 1-2, 0-0, 2-2, 0-2, 0-1, 1-2, 0-2, 1-0, 0-0, 0-1, 1-2, 0-2, 1-1, 0-0, 0-1, 1-2, 0-2, 2-0, 0-0, 0-1, 1-2, 0-2, 2-1, 0-0, 0-1, 1-2, 0-2, 2-2, 0-0, 0-1, 1-2, 1-1, 0-0, 2-1, 0-1, 1-2, 1-1, 0-2, 2-1, 0-1, 1-2, 1-1, 1-0, 2-1, 0-1, 1-2, 1-1, 2-0, 2-1, 0-1, 1-2, 1-1, 2-2, 2-1, 0-1, 1-2, 2-1, 0-0, 1-1, 0-1, 1-2, 2-1, 0-2, 1-1, 0-1, 1-2, 2-1, 1-0, 1-1, 0-1, 1-2, 2-1, 2-0, 1-1, 0-1, 1-2, 2-1, 2-2, 1-1, 0-1, 2-0, 0-0, 1-0, 0-2, 0-1, 2-0, 0-0, 1-1, 0-2, 0-1, 2-0, 0-0, 1-2, 0-2, 0-1, 2-0, 0-0, 2-1, 0-2, 0-1, 2-0, 0-0, 2-2, 0-2, 0-1, 2-0, 0-2, 1-0, 0-0, 0-1, 2-0, 0-2, 1-1, 0-0, 0-1, 2-0, 0-2, 1-2, 0-0, 0-1, 2-0, 0-2, 2-1, 0-0, 0-1, 2-0, 0-2, 2-2, 0-0, 0-1, 2-0, 1-1, 0-0, 2-1, 0-1, 2-0, 1-1, 0-2, 2-1, 0-1, 2-0, 1-1, 1-0, 2-1, 0-1, 2-0, 1-1, 1-2, 2-1, 0-1, 2-0, 1-1, 2-2, 2-1, 0-1, 2-0, 2-1, 0-0, 1-1, 0-1, 2-0, 2-1, 0-2, 1-1, 0-1, 2-0, 2-1, 1-0, 1-1, 0-1, 2-0, 2-1, 1-2, 1-1, 0-1, 2-0, 2-1, 2-2, 1-1, 0-1, 2-1, 0-0, 1-0, 0-2, 0-1, 2-1, 0-0, 1-1, 0-2, 0-1, 2-1, 0-0, 1-2, 0-2, 0-1, 2-1, 0-0, 2-0, 0-2, 0-1, 2-1, 0-0, 2-2, 0-2, 0-1, 2-1, 0-2, 1-0, 0-0, 0-1, 2-1, 0-2, 1-1, 0-0, 0-1, 2-1, 0-2, 1-2, 0-0, 0-1, 2-1, 0-2, 2-0, 0-0, 0-1, 2-1, 0-2, 2-2, 0-0, 0-1, 2-2, 0-0, 1-0, 0-2, 0-1, 2-2, 0-0, 1-1, 0-2, 0-1, 2-2, 0-0, 1-2, 0-2, 0-1, 2-2, 0-0, 2-0, 0-2, 0-1, 2-2, 0-0, 2-1, 0-2, 0-1, 2-2, 0-2, 1-0, 0-0, 0-1, 2-2, 0-2, 1-1, 0-0, 0-1, 2-2, 0-2, 1-2, 0-0, 0-1, 2-2, 0-2, 2-0, 0-0, 0-1, 2-2, 0-2, 2-1, 0-0, 0-1, 2-2, 1-1, 0-0, 2-1, 0-1, 2-2, 1-1, 0-2, 2-1, 0-1, 2-2, 1-1, 1-0, 2-1, 0-1, 2-2, 1-1, 1-2, 2-1, 0-1, 2-2, 1-1, 2-0, 2-1, 0-1, 2-2, 2-1, 0-0, 1-1, 0-1, 2-2, 2-1, 0-2, 1-1, 0-1, 2-2, 2-1, 1-0, 1-1, 0-1, 2-2, 2-1, 1-2, 1-1, 0-1, 2-2, 2-1, 2-0, 1-1, 0-2, 0-0, 1-1, 0-1, 2-0, 0-2, 0-0, 1-1, 1-0, 2-0, 0-2, 0-0, 1-1, 1-2, 2-0, 0-2, 0-0, 1-1, 2-1, 2-0, 0-2, 0-0, 1-1, 2-2, 2-0, 0-2, 0-0, 1-2, 0-1, 2-2, 0-2, 0-0, 1-2, 1-0, 2-2, 0-2, 0-0, 1-2, 1-1, 2-2, 0-2, 0-0, 1-2, 2-0, 2-2, 0-2, 0-0, 1-2, 2-1, 2-2, 0-2, 0-0, 2-0, 0-1, 1-1, 0-2, 0-0, 2-0, 1-0, 1-1, 0-2, 0-0, 2-0, 1-2, 1-1, 0-2, 0-0, 2-0, 2-1, 1-1, 0-2, 0-0, 2-0, 2-2, 1-1, 0-2, 0-0, 2-2, 0-1, 1-2, 0-2, 0-0, 2-2, 1-0, 1-2, 0-2, 0-0, 2-2, 1-1, 1-2, 0-2, 0-0, 2-2, 2-0, 1-2, 0-2, 0-0, 2-2, 2-1, 1-2, 0-2, 0-1, 1-1, 0-0, 2-0, 0-2, 0-1, 1-1, 1-0, 2-0, 0-2, 0-1, 1-1, 1-2, 2-0, 0-2, 0-1, 1-1, 2-1, 2-0, 0-2, 0-1, 1-1, 2-2, 2-0, 0-2, 0-1, 1-2, 0-0, 2-2, 0-2, 0-1, 1-2, 1-0, 2-2, 0-2, 0-1, 1-2, 1-1, 2-2, 0-2, 0-1, 1-2, 2-0, 2-2, 0-2, 0-1, 1-2, 2-1, 2-2, 0-2, 0-1, 2-0, 0-0, 1-1, 0-2, 0-1, 2-0, 1-0, 1-1, 0-2, 0-1, 2-0, 1-2, 1-1, 0-2, 0-1, 2-0, 2-1, 1-1, 0-2, 0-1, 2-0, 2-2, 1-1, 0-2, 0-1, 2-2, 0-0, 1-2, 0-2, 0-1, 2-2, 1-0, 1-2, 0-2, 0-1, 2-2, 1-1, 1-2, 0-2, 0-1, 2-2, 2-0, 1-2, 0-2, 0-1, 2-2, 2-1, 1-2, 0-2, 1-0, 0-0, 1-1, 0-1, 0-2, 1-0, 0-0, 1-2, 0-1, 0-2, 1-0, 0-0, 2-0, 0-1, 0-2, 1-0, 0-0, 2-1, 0-1, 0-2, 1-0, 0-0, 2-2, 0-1, 0-2, 1-0, 0-1, 1-1, 0-0, 0-2, 1-0, 0-1, 1-2, 0-0, 0-2, 1-0, 0-1, 2-0, 0-0, 0-2, 1-0, 0-1, 2-1, 0-0, 0-2, 1-0, 0-1, 2-2, 0-0, 0-2, 1-0, 1-1, 0-0, 2-0, 0-2, 1-0, 1-1, 0-1, 2-0, 0-2, 1-0, 1-1, 1-2, 2-0, 0-2, 1-0, 1-1, 2-1, 2-0, 0-2, 1-0, 1-1, 2-2, 2-0, 0-2, 1-0, 1-2, 0-0, 2-2, 0-2, 1-0, 1-2, 0-1, 2-2, 0-2, 1-0, 1-2, 1-1, 2-2, 0-2, 1-0, 1-2, 2-0, 2-2, 0-2, 1-0, 1-2, 2-1, 2-2, 0-2, 1-0, 2-0, 0-0, 1-1, 0-2, 1-0, 2-0, 0-1, 1-1, 0-2, 1-0, 2-0, 1-2, 1-1, 0-2, 1-0, 2-0, 2-1, 1-1, 0-2, 1-0, 2-0, 2-2, 1-1, 0-2, 1-0, 2-2, 0-0, 1-2, 0-2, 1-0, 2-2, 0-1, 1-2, 0-2, 1-0, 2-2, 1-1, 1-2, 0-2, 1-0, 2-2, 2-0, 1-2, 0-2, 1-0, 2-2, 2-1, 1-2, 0-2, 1-1, 0-0, 1-0, 0-1, 0-2, 1-1, 0-0, 1-2, 0-1, 0-2, 1-1, 0-0, 2-0, 0-1, 0-2, 1-1, 0-0, 2-1, 0-1, 0-2, 1-1, 0-0, 2-2, 0-1, 0-2, 1-1, 0-1, 1-0, 0-0, 0-2, 1-1, 0-1, 1-2, 0-0, 0-2, 1-1, 0-1, 2-0, 0-0, 0-2, 1-1, 0-1, 2-1, 0-0, 0-2, 1-1, 0-1, 2-2, 0-0, 0-2, 1-1, 1-2, 0-0, 2-2, 0-2, 1-1, 1-2, 0-1, 2-2, 0-2, 1-1, 1-2, 1-0, 2-2, 0-2, 1-1, 1-2, 2-0, 2-2, 0-2, 1-1, 1-2, 2-1, 2-2, 0-2, 1-1, 2-2, 0-0, 1-2, 0-2, 1-1, 2-2, 0-1, 1-2, 0-2, 1-1, 2-2, 1-0, 1-2, 0-2, 1-1, 2-2, 2-0, 1-2, 0-2, 1-1, 2-2, 2-1, 1-2, 0-2, 1-2, 0-0, 1-0, 0-1, 0-2, 1-2, 0-0, 1-1, 0-1, 0-2, 1-2, 0-0, 2-0, 0-1, 0-2, 1-2, 0-0, 2-1, 0-1, 0-2, 1-2, 0-0, 2-2, 0-1, 0-2, 1-2, 0-1, 1-0, 0-0, 0-2, 1-2, 0-1, 1-1, 0-0, 0-2, 1-2, 0-1, 2-0, 0-0, 0-2, 1-2, 0-1, 2-1, 0-0, 0-2, 1-2, 0-1, 2-2, 0-0, 0-2, 1-2, 1-1, 0-0, 2-0, 0-2, 1-2, 1-1, 0-1, 2-0, 0-2, 1-2, 1-1, 1-0, 2-0, 0-2, 1-2, 1-1, 2-1, 2-0, 0-2, 1-2, 1-1, 2-2, 2-0, 0-2, 1-2, 2-0, 0-0, 1-1, 0-2, 1-2, 2-0, 0-1, 1-1, 0-2, 1-2, 2-0, 1-0, 1-1, 0-2, 1-2, 2-0, 2-1, 1-1, 0-2, 1-2, 2-0, 2-2, 1-1, 0-2, 2-0, 0-0, 1-0, 0-1, 0-2, 2-0, 0-0, 1-1, 0-1, 0-2, 2-0, 0-0, 1-2, 0-1, 0-2, 2-0, 0-0, 2-1, 0-1, 0-2, 2-0, 0-0, 2-2, 0-1, 0-2, 2-0, 0-1, 1-0, 0-0, 0-2, 2-0, 0-1, 1-1, 0-0, 0-2, 2-0, 0-1, 1-2, 0-0, 0-2, 2-0, 0-1, 2-1, 0-0, 0-2, 2-0, 0-1, 2-2, 0-0, 0-2, 2-0, 1-2, 0-0, 2-2, 0-2, 2-0, 1-2, 0-1, 2-2, 0-2, 2-0, 1-2, 1-0, 2-2, 0-2, 2-0, 1-2, 1-1, 2-2, 0-2, 2-0, 1-2, 2-1, 2-2, 0-2, 2-0, 2-2, 0-0, 1-2, 0-2, 2-0, 2-2, 0-1, 1-2, 0-2, 2-0, 2-2, 1-0, 1-2, 0-2, 2-0, 2-2, 1-1, 1-2, 0-2, 2-0, 2-2, 2-1, 1-2, 0-2, 2-1, 0-0, 1-0, 0-1, 0-2, 2-1, 0-0, 1-1, 0-1, 0-2, 2-1, 0-0, 1-2, 0-1, 0-2, 2-1, 0-0, 2-0, 0-1, 0-2, 2-1, 0-0, 2-2, 0-1, 0-2, 2-1, 0-1, 1-0, 0-0, 0-2, 2-1, 0-1, 1-1, 0-0, 0-2, 2-1, 0-1, 1-2, 0-0, 0-2, 2-1, 0-1, 2-0, 0-0, 0-2, 2-1, 0-1, 2-2, 0-0, 0-2, 2-1, 1-1, 0-0, 2-0, 0-2, 2-1, 1-1, 0-1, 2-0, 0-2, 2-1, 1-1, 1-0, 2-0, 0-2, 2-1, 1-1, 1-2, 2-0, 0-2, 2-1, 1-1, 2-2, 2-0, 0-2, 2-1, 1-2, 0-0, 2-2, 0-2, 2-1, 1-2, 0-1, 2-2, 0-2, 2-1, 1-2, 1-0, 2-2, 0-2, 2-1, 1-2, 1-1, 2-2, 0-2, 2-1, 1-2, 2-0, 2-2, 0-2, 2-1, 2-0, 0-0, 1-1, 0-2, 2-1, 2-0, 0-1, 1-1, 0-2, 2-1, 2-0, 1-0, 1-1, 0-2, 2-1, 2-0, 1-2, 1-1, 0-2, 2-1, 2-0, 2-2, 1-1, 0-2, 2-1, 2-2, 0-0, 1-2, 0-2, 2-1, 2-2, 0-1, 1-2, 0-2, 2-1, 2-2, 1-0, 1-2, 0-2, 2-1, 2-2, 1-1, 1-2, 0-2, 2-1, 2-2, 2-0, 1-2, 0-2, 2-2, 0-0, 1-0, 0-1, 0-2, 2-2, 0-0, 1-1, 0-1, 0-2, 2-2, 0-0, 1-2, 0-1, 0-2, 2-2, 0-0, 2-0, 0-1, 0-2, 2-2, 0-0, 2-1, 0-1, 0-2, 2-2, 0-1, 1-0, 0-0, 0-2, 2-2, 0-1, 1-1, 0-0, 0-2, 2-2, 0-1, 1-2, 0-0, 0-2, 2-2, 0-1, 2-0, 0-0, 0-2, 2-2, 0-1, 2-1, 0-0, 0-2, 2-2, 1-1, 0-0, 2-0, 0-2, 2-2, 1-1, 0-1, 2-0, 0-2, 2-2, 1-1, 1-0, 2-0, 0-2, 2-2, 1-1, 1-2, 2-0, 0-2, 2-2, 1-1, 2-1, 2-0, 0-2, 2-2, 2-0, 0-0, 1-1, 0-2, 2-2, 2-0, 0-1, 1-1, 0-2, 2-2, 2-0, 1-0, 1-1, 0-2, 2-2, 2-0, 1-2, 1-1, 0-2, 2-2, 2-0, 2-1, 1-1, 1-0, 0-0, 1-1, 0-1, 1-2, 1-0, 0-0, 1-1, 0-2, 1-2, 1-0, 0-0, 1-1, 2-0, 1-2, 1-0, 0-0, 1-1, 2-1, 1-2, 1-0, 0-0, 1-1, 2-2, 1-2, 1-0, 0-0, 1-2, 0-1, 1-1, 1-0, 0-0, 1-2, 0-2, 1-1, 1-0, 0-0, 1-2, 2-0, 1-1, 1-0, 0-0, 1-2, 2-1, 1-1, 1-0, 0-0, 1-2, 2-2, 1-1, 1-0, 0-1, 0-0, 0-2, 2-0, 1-0, 0-1, 0-0, 1-1, 2-0, 1-0, 0-1, 0-0, 1-2, 2-0, 1-0, 0-1, 0-0, 2-1, 2-0, 1-0, 0-1, 0-0, 2-2, 2-0, 1-0, 0-1, 1-1, 0-0, 1-2, 1-0, 0-1, 1-1, 0-2, 1-2, 1-0, 0-1, 1-1, 2-0, 1-2, 1-0, 0-1, 1-1, 2-1, 1-2, 1-0, 0-1, 1-1, 2-2, 1-2, 1-0, 0-1, 1-2, 0-0, 1-1, 1-0, 0-1, 1-2, 0-2, 1-1, 1-0, 0-1, 1-2, 2-0, 1-1, 1-0, 0-1, 1-2, 2-1, 1-1, 1-0, 0-1, 1-2, 2-2, 1-1, 1-0, 0-1, 2-0, 0-2, 0-0, 1-0, 0-1, 2-0, 1-1, 0-0, 1-0, 0-1, 2-0, 1-2, 0-0, 1-0, 0-1, 2-0, 2-1, 0-0, 1-0, 0-1, 2-0, 2-2, 0-0, 1-0, 0-2, 0-0, 0-1, 2-0, 1-0, 0-2, 0-0, 1-1, 2-0, 1-0, 0-2, 0-0, 1-2, 2-0, 1-0, 0-2, 0-0, 2-1, 2-0, 1-0, 0-2, 0-0, 2-2, 2-0, 1-0, 0-2, 1-1, 0-0, 1-2, 1-0, 0-2, 1-1, 0-1, 1-2, 1-0, 0-2, 1-1, 2-0, 1-2, 1-0, 0-2, 1-1, 2-1, 1-2, 1-0, 0-2, 1-1, 2-2, 1-2, 1-0, 0-2, 1-2, 0-0, 1-1, 1-0, 0-2, 1-2, 0-1, 1-1, 1-0, 0-2, 1-2, 2-0, 1-1, 1-0, 0-2, 1-2, 2-1, 1-1, 1-0, 0-2, 1-2, 2-2, 1-1, 1-0, 0-2, 2-0, 0-1, 0-0, 1-0, 0-2, 2-0, 1-1, 0-0, 1-0, 0-2, 2-0, 1-2, 0-0, 1-0, 0-2, 2-0, 2-1, 0-0, 1-0, 0-2, 2-0, 2-2, 0-0, 1-0, 1-1, 0-0, 0-1, 2-0, 1-0, 1-1, 0-0, 0-2, 2-0, 1-0, 1-1, 0-0, 1-2, 2-0, 1-0, 1-1, 0-0, 2-1, 2-0, 1-0, 1-1, 0-0, 2-2, 2-0, 1-0, 1-1, 2-0, 0-1, 0-0, 1-0, 1-1, 2-0, 0-2, 0-0, 1-0, 1-1, 2-0, 1-2, 0-0, 1-0, 1-1, 2-0, 2-1, 0-0, 1-0, 1-1, 2-0, 2-2, 0-0, 1-0, 1-2, 0-0, 0-1, 2-0, 1-0, 1-2, 0-0, 0-2, 2-0, 1-0, 1-2, 0-0, 1-1, 2-0, 1-0, 1-2, 0-0, 2-1, 2-0, 1-0, 1-2, 0-0, 2-2, 2-0, 1-0, 1-2, 2-0, 0-1, 0-0, 1-0, 1-2, 2-0, 0-2, 0-0, 1-0, 1-2, 2-0, 1-1, 0-0, 1-0, 1-2, 2-0, 2-1, 0-0, 1-0, 1-2, 2-0, 2-2, 0-0, 1-0, 2-0, 1-1, 0-0, 1-2, 1-0, 2-0, 1-1, 0-1, 1-2, 1-0, 2-0, 1-1, 0-2, 1-2, 1-0, 2-0, 1-1, 2-1, 1-2, 1-0, 2-0, 1-1, 2-2, 1-2, 1-0, 2-0, 1-2, 0-0, 1-1, 1-0, 2-0, 1-2, 0-1, 1-1, 1-0, 2-0, 1-2, 0-2, 1-1, 1-0, 2-0, 1-2, 2-1, 1-1, 1-0, 2-0, 1-2, 2-2, 1-1, 1-0, 2-1, 0-0, 0-1, 2-0, 1-0, 2-1, 0-0, 0-2, 2-0, 1-0, 2-1, 0-0, 1-1, 2-0, 1-0, 2-1, 0-0, 1-2, 2-0, 1-0, 2-1, 0-0, 2-2, 2-0, 1-0, 2-1, 1-1, 0-0, 1-2, 1-0, 2-1, 1-1, 0-1, 1-2, 1-0, 2-1, 1-1, 0-2, 1-2, 1-0, 2-1, 1-1, 2-0, 1-2, 1-0, 2-1, 1-1, 2-2, 1-2, 1-0, 2-1, 1-2, 0-0, 1-1, 1-0, 2-1, 1-2, 0-1, 1-1, 1-0, 2-1, 1-2, 0-2, 1-1, 1-0, 2-1, 1-2, 2-0, 1-1, 1-0, 2-1, 1-2, 2-2, 1-1, 1-0, 2-1, 2-0, 0-1, 0-0, 1-0, 2-1, 2-0, 0-2, 0-0, 1-0, 2-1, 2-0, 1-1, 0-0, 1-0, 2-1, 2-0, 1-2, 0-0, 1-0, 2-1, 2-0, 2-2, 0-0, 1-0, 2-2, 0-0, 0-1, 2-0, 1-0, 2-2, 0-0, 0-2, 2-0, 1-0, 2-2, 0-0, 1-1, 2-0, 1-0, 2-2, 0-0, 1-2, 2-0, 1-0, 2-2, 0-0, 2-1, 2-0, 1-0, 2-2, 1-1, 0-0, 1-2, 1-0, 2-2, 1-1, 0-1, 1-2, 1-0, 2-2, 1-1, 0-2, 1-2, 1-0, 2-2, 1-1, 2-0, 1-2, 1-0, 2-2, 1-1, 2-1, 1-2, 1-0, 2-2, 1-2, 0-0, 1-1, 1-0, 2-2, 1-2, 0-1, 1-1, 1-0, 2-2, 1-2, 0-2, 1-1, 1-0, 2-2, 1-2, 2-0, 1-1, 1-0, 2-2, 1-2, 2-1, 1-1, 1-0, 2-2, 2-0, 0-1, 0-0, 1-0, 2-2, 2-0, 0-2, 0-0, 1-0, 2-2, 2-0, 1-1, 0-0, 1-0, 2-2, 2-0, 1-2, 0-0, 1-0, 2-2, 2-0, 2-1, 0-0, 1-1, 0-0, 0-1, 0-2, 2-1, 1-1, 0-0, 0-1, 1-0, 2-1, 1-1, 0-0, 0-1, 1-2, 2-1, 1-1, 0-0, 0-1, 2-0, 2-1, 1-1, 0-0, 0-1, 2-2, 2-1, 1-1, 0-0, 0-2, 0-1, 2-0, 1-1, 0-0, 0-2, 1-0, 2-0, 1-1, 0-0, 0-2, 1-2, 2-0, 1-1, 0-0, 0-2, 2-1, 2-0, 1-1, 0-0, 0-2, 2-2, 2-0, 1-1, 0-0, 1-0, 0-1, 1-2, 1-1, 0-0, 1-0, 0-2, 1-2, 1-1, 0-0, 1-0, 2-0, 1-2, 1-1, 0-0, 1-0, 2-1, 1-2, 1-1, 0-0, 1-0, 2-2, 1-2, 1-1, 0-0, 1-2, 0-1, 1-0, 1-1, 0-0, 1-2, 0-2, 1-0, 1-1, 0-0, 1-2, 2-0, 1-0, 1-1, 0-0, 1-2, 2-1, 1-0, 1-1, 0-0, 1-2, 2-2, 1-0, 1-1, 0-0, 2-0, 0-1, 0-2, 1-1, 0-0, 2-0, 1-0, 0-2, 1-1, 0-0, 2-0, 1-2, 0-2, 1-1, 0-0, 2-0, 2-1, 0-2, 1-1, 0-0, 2-0, 2-2, 0-2, 1-1, 0-0, 2-1, 0-2, 0-1, 1-1, 0-0, 2-1, 1-0, 0-1, 1-1, 0-0, 2-1, 1-2, 0-1, 1-1, 0-0, 2-1, 2-0, 0-1, 1-1, 0-0, 2-1, 2-2, 0-1, 1-1, 0-1, 0-0, 0-2, 2-2, 1-1, 0-1, 0-0, 1-0, 2-2, 1-1, 0-1, 0-0, 1-2, 2-2, 1-1, 0-1, 0-0, 2-0, 2-2, 1-1, 0-1, 0-0, 2-1, 2-2, 1-1, 0-1, 0-2, 0-0, 2-0, 1-1, 0-1, 0-2, 1-0, 2-0, 1-1, 0-1, 0-2, 1-2, 2-0, 1-1, 0-1, 0-2, 2-1, 2-0, 1-1, 0-1, 0-2, 2-2, 2-0, 1-1, 0-1, 1-0, 0-0, 1-2, 1-1, 0-1, 1-0, 0-2, 1-2, 1-1, 0-1, 1-0, 2-0, 1-2, 1-1, 0-1, 1-0, 2-1, 1-2, 1-1, 0-1, 1-0, 2-2, 1-2, 1-1, 0-1, 1-2, 0-0, 1-0, 1-1, 0-1, 1-2, 0-2, 1-0, 1-1, 0-1, 1-2, 2-0, 1-0, 1-1, 0-1, 1-2, 2-1, 1-0, 1-1, 0-1, 1-2, 2-2, 1-0, 1-1, 0-1, 2-0, 0-0, 0-2, 1-1, 0-1, 2-0, 1-0, 0-2, 1-1, 0-1, 2-0, 1-2, 0-2, 1-1, 0-1, 2-0, 2-1, 0-2, 1-1, 0-1, 2-0, 2-2, 0-2, 1-1, 0-1, 2-2, 0-2, 0-0, 1-1, 0-1, 2-2, 1-0, 0-0, 1-1, 0-1, 2-2, 1-2, 0-0, 1-1, 0-1, 2-2, 2-0, 0-0, 1-1, 0-1, 2-2, 2-1, 0-0, 1-1, 0-2, 0-0, 0-1, 2-2, 1-1, 0-2, 0-0, 1-0, 2-2, 1-1, 0-2, 0-0, 1-2, 2-2, 1-1, 0-2, 0-0, 2-0, 2-2, 1-1, 0-2, 0-0, 2-1, 2-2, 1-1, 0-2, 0-1, 0-0, 2-1, 1-1, 0-2, 0-1, 1-0, 2-1, 1-1, 0-2, 0-1, 1-2, 2-1, 1-1, 0-2, 0-1, 2-0, 2-1, 1-1, 0-2, 0-1, 2-2, 2-1, 1-1, 0-2, 1-0, 0-0, 1-2, 1-1, 0-2, 1-0, 0-1, 1-2, 1-1, 0-2, 1-0, 2-0, 1-2, 1-1, 0-2, 1-0, 2-1, 1-2, 1-1, 0-2, 1-0, 2-2, 1-2, 1-1, 0-2, 1-2, 0-0, 1-0, 1-1, 0-2, 1-2, 0-1, 1-0, 1-1, 0-2, 1-2, 2-0, 1-0, 1-1, 0-2, 1-2, 2-1, 1-0, 1-1, 0-2, 1-2, 2-2, 1-0, 1-1, 0-2, 2-1, 0-0, 0-1, 1-1, 0-2, 2-1, 1-0, 0-1, 1-1, 0-2, 2-1, 1-2, 0-1, 1-1, 0-2, 2-1, 2-0, 0-1, 1-1, 0-2, 2-1, 2-2, 0-1, 1-1, 0-2, 2-2, 0-1, 0-0, 1-1, 0-2, 2-2, 1-0, 0-0, 1-1, 0-2, 2-2, 1-2, 0-0, 1-1, 0-2, 2-2, 2-0, 0-0, 1-1, 0-2, 2-2, 2-1, 0-0, 1-1, 1-0, 0-0, 0-1, 2-2, 1-1, 1-0, 0-0, 0-2, 2-2, 1-1, 1-0, 0-0, 1-2, 2-2, 1-1, 1-0, 0-0, 2-0, 2-2, 1-1, 1-0, 0-0, 2-1, 2-2, 1-1, 1-0, 0-1, 0-0, 2-1, 1-1, 1-0, 0-1, 0-2, 2-1, 1-1, 1-0, 0-1, 1-2, 2-1, 1-1, 1-0, 0-1, 2-0, 2-1, 1-1, 1-0, 0-1, 2-2, 2-1, 1-1, 1-0, 0-2, 0-0, 2-0, 1-1, 1-0, 0-2, 0-1, 2-0, 1-1, 1-0, 0-2, 1-2, 2-0, 1-1, 1-0, 0-2, 2-1, 2-0, 1-1, 1-0, 0-2, 2-2, 2-0, 1-1, 1-0, 2-0, 0-0, 0-2, 1-1, 1-0, 2-0, 0-1, 0-2, 1-1, 1-0, 2-0, 1-2, 0-2, 1-1, 1-0, 2-0, 2-1, 0-2, 1-1, 1-0, 2-0, 2-2, 0-2, 1-1, 1-0, 2-1, 0-0, 0-1, 1-1, 1-0, 2-1, 0-2, 0-1, 1-1, 1-0, 2-1, 1-2, 0-1, 1-1, 1-0, 2-1, 2-0, 0-1, 1-1, 1-0, 2-1, 2-2, 0-1, 1-1, 1-0, 2-2, 0-1, 0-0, 1-1, 1-0, 2-2, 0-2, 0-0, 1-1, 1-0, 2-2, 1-2, 0-0, 1-1, 1-0, 2-2, 2-0, 0-0, 1-1, 1-0, 2-2, 2-1, 0-0, 1-1, 1-2, 0-0, 0-1, 2-2, 1-1, 1-2, 0-0, 0-2, 2-2, 1-1, 1-2, 0-0, 1-0, 2-2, 1-1, 1-2, 0-0, 2-0, 2-2, 1-1, 1-2, 0-0, 2-1, 2-2, 1-1, 1-2, 0-1, 0-0, 2-1, 1-1, 1-2, 0-1, 0-2, 2-1, 1-1, 1-2, 0-1, 1-0, 2-1, 1-1, 1-2, 0-1, 2-0, 2-1, 1-1, 1-2, 0-1, 2-2, 2-1, 1-1, 1-2, 0-2, 0-0, 2-0, 1-1, 1-2, 0-2, 0-1, 2-0, 1-1, 1-2, 0-2, 1-0, 2-0, 1-1, 1-2, 0-2, 2-1, 2-0, 1-1, 1-2, 0-2, 2-2, 2-0, 1-1, 1-2, 2-0, 0-0, 0-2, 1-1, 1-2, 2-0, 0-1, 0-2, 1-1, 1-2, 2-0, 1-0, 0-2, 1-1, 1-2, 2-0, 2-1, 0-2, 1-1, 1-2, 2-0, 2-2, 0-2, 1-1, 1-2, 2-1, 0-0, 0-1, 1-1, 1-2, 2-1, 0-2, 0-1, 1-1, 1-2, 2-1, 1-0, 0-1, 1-1, 1-2, 2-1, 2-0, 0-1, 1-1, 1-2, 2-1, 2-2, 0-1, 1-1, 1-2, 2-2, 0-1, 0-0, 1-1, 1-2, 2-2, 0-2, 0-0, 1-1, 1-2, 2-2, 1-0, 0-0, 1-1, 1-2, 2-2, 2-0, 0-0, 1-1, 1-2, 2-2, 2-1, 0-0, 1-1, 2-0, 0-0, 0-1, 2-2, 1-1, 2-0, 0-0, 0-2, 2-2, 1-1, 2-0, 0-0, 1-0, 2-2, 1-1, 2-0, 0-0, 1-2, 2-2, 1-1, 2-0, 0-0, 2-1, 2-2, 1-1, 2-0, 0-1, 0-0, 2-1, 1-1, 2-0, 0-1, 0-2, 2-1, 1-1, 2-0, 0-1, 1-0, 2-1, 1-1, 2-0, 0-1, 1-2, 2-1, 1-1, 2-0, 0-1, 2-2, 2-1, 1-1, 2-0, 1-0, 0-0, 1-2, 1-1, 2-0, 1-0, 0-1, 1-2, 1-1, 2-0, 1-0, 0-2, 1-2, 1-1, 2-0, 1-0, 2-1, 1-2, 1-1, 2-0, 1-0, 2-2, 1-2, 1-1, 2-0, 1-2, 0-0, 1-0, 1-1, 2-0, 1-2, 0-1, 1-0, 1-1, 2-0, 1-2, 0-2, 1-0, 1-1, 2-0, 1-2, 2-1, 1-0, 1-1, 2-0, 1-2, 2-2, 1-0, 1-1, 2-0, 2-1, 0-0, 0-1, 1-1, 2-0, 2-1, 0-2, 0-1, 1-1, 2-0, 2-1, 1-0, 0-1, 1-1, 2-0, 2-1, 1-2, 0-1, 1-1, 2-0, 2-1, 2-2, 0-1, 1-1, 2-0, 2-2, 0-1, 0-0, 1-1, 2-0, 2-2, 0-2, 0-0, 1-1, 2-0, 2-2, 1-0, 0-0, 1-1, 2-0, 2-2, 1-2, 0-0, 1-1, 2-0, 2-2, 2-1, 0-0, 1-1, 2-1, 0-0, 0-1, 2-2, 1-1, 2-1, 0-0, 0-2, 2-2, 1-1, 2-1, 0-0, 1-0, 2-2, 1-1, 2-1, 0-0, 1-2, 2-2, 1-1, 2-1, 0-0, 2-0, 2-2, 1-1, 2-1, 0-2, 0-0, 2-0, 1-1, 2-1, 0-2, 0-1, 2-0, 1-1, 2-1, 0-2, 1-0, 2-0, 1-1, 2-1, 0-2, 1-2, 2-0, 1-1, 2-1, 0-2, 2-2, 2-0, 1-1, 2-1, 1-0, 0-0, 1-2, 1-1, 2-1, 1-0, 0-1, 1-2, 1-1, 2-1, 1-0, 0-2, 1-2, 1-1, 2-1, 1-0, 2-0, 1-2, 1-1, 2-1, 1-0, 2-2, 1-2, 1-1, 2-1, 1-2, 0-0, 1-0, 1-1, 2-1, 1-2, 0-1, 1-0, 1-1, 2-1, 1-2, 0-2, 1-0, 1-1, 2-1, 1-2, 2-0, 1-0, 1-1, 2-1, 1-2, 2-2, 1-0, 1-1, 2-1, 2-0, 0-0, 0-2, 1-1, 2-1, 2-0, 0-1, 0-2, 1-1, 2-1, 2-0, 1-0, 0-2, 1-1, 2-1, 2-0, 1-2, 0-2, 1-1, 2-1, 2-0, 2-2, 0-2, 1-1, 2-1, 2-2, 0-1, 0-0, 1-1, 2-1, 2-2, 0-2, 0-0, 1-1, 2-1, 2-2, 1-0, 0-0, 1-1, 2-1, 2-2, 1-2, 0-0, 1-1, 2-1, 2-2, 2-0, 0-0, 1-1, 2-2, 0-1, 0-0, 2-1, 1-1, 2-2, 0-1, 0-2, 2-1, 1-1, 2-2, 0-1, 1-0, 2-1, 1-1, 2-2, 0-1, 1-2, 2-1, 1-1, 2-2, 0-1, 2-0, 2-1, 1-1, 2-2, 0-2, 0-0, 2-0, 1-1, 2-2, 0-2, 0-1, 2-0, 1-1, 2-2, 0-2, 1-0, 2-0, 1-1, 2-2, 0-2, 1-2, 2-0, 1-1, 2-2, 0-2, 2-1, 2-0, 1-1, 2-2, 1-0, 0-0, 1-2, 1-1, 2-2, 1-0, 0-1, 1-2, 1-1, 2-2, 1-0, 0-2, 1-2, 1-1, 2-2, 1-0, 2-0, 1-2, 1-1, 2-2, 1-0, 2-1, 1-2, 1-1, 2-2, 1-2, 0-0, 1-0, 1-1, 2-2, 1-2, 0-1, 1-0, 1-1, 2-2, 1-2, 0-2, 1-0, 1-1, 2-2, 1-2, 2-0, 1-0, 1-1, 2-2, 1-2, 2-1, 1-0, 1-1, 2-2, 2-0, 0-0, 0-2, 1-1, 2-2, 2-0, 0-1, 0-2, 1-1, 2-2, 2-0, 1-0, 0-2, 1-1, 2-2, 2-0, 1-2, 0-2, 1-1, 2-2, 2-0, 2-1, 0-2, 1-1, 2-2, 2-1, 0-0, 0-1, 1-1, 2-2, 2-1, 0-2, 0-1, 1-1, 2-2, 2-1, 1-0, 0-1, 1-1, 2-2, 2-1, 1-2, 0-1, 1-1, 2-2, 2-1, 2-0, 0-1, 1-2, 0-0, 0-2, 0-1, 2-2, 1-2, 0-0, 0-2, 1-0, 2-2, 1-2, 0-0, 0-2, 1-1, 2-2, 1-2, 0-0, 0-2, 2-0, 2-2, 1-2, 0-0, 0-2, 2-1, 2-2, 1-2, 0-0, 1-0, 0-1, 1-1, 1-2, 0-0, 1-0, 0-2, 1-1, 1-2, 0-0, 1-0, 2-0, 1-1, 1-2, 0-0, 1-0, 2-1, 1-1, 1-2, 0-0, 1-0, 2-2, 1-1, 1-2, 0-0, 1-1, 0-1, 1-0, 1-2, 0-0, 1-1, 0-2, 1-0, 1-2, 0-0, 1-1, 2-0, 1-0, 1-2, 0-0, 1-1, 2-1, 1-0, 1-2, 0-0, 1-1, 2-2, 1-0, 1-2, 0-0, 2-2, 0-1, 0-2, 1-2, 0-0, 2-2, 1-0, 0-2, 1-2, 0-0, 2-2, 1-1, 0-2, 1-2, 0-0, 2-2, 2-0, 0-2, 1-2, 0-0, 2-2, 2-1, 0-2, 1-2, 0-1, 0-2, 0-0, 2-2, 1-2, 0-1, 0-2, 1-0, 2-2, 1-2, 0-1, 0-2, 1-1, 2-2, 1-2, 0-1, 0-2, 2-0, 2-2, 1-2, 0-1, 0-2, 2-1, 2-2, 1-2, 0-1, 1-0, 0-0, 1-1, 1-2, 0-1, 1-0, 0-2, 1-1, 1-2, 0-1, 1-0, 2-0, 1-1, 1-2, 0-1, 1-0, 2-1, 1-1, 1-2, 0-1, 1-0, 2-2, 1-1, 1-2, 0-1, 1-1, 0-0, 1-0, 1-2, 0-1, 1-1, 0-2, 1-0, 1-2, 0-1, 1-1, 2-0, 1-0, 1-2, 0-1, 1-1, 2-1, 1-0, 1-2, 0-1, 1-1, 2-2, 1-0, 1-2, 0-1, 2-2, 0-0, 0-2, 1-2, 0-1, 2-2, 1-0, 0-2, 1-2, 0-1, 2-2, 1-1, 0-2, 1-2, 0-1, 2-2, 2-0, 0-2, 1-2, 0-1, 2-2, 2-1, 0-2, 1-2, 0-2, 1-0, 0-0, 1-1, 1-2, 0-2, 1-0, 0-1, 1-1, 1-2, 0-2, 1-0, 2-0, 1-1, 1-2, 0-2, 1-0, 2-1, 1-1, 1-2, 0-2, 1-0, 2-2, 1-1, 1-2, 0-2, 1-1, 0-0, 1-0, 1-2, 0-2, 1-1, 0-1, 1-0, 1-2, 0-2, 1-1, 2-0, 1-0, 1-2, 0-2, 1-1, 2-1, 1-0, 1-2, 0-2, 1-1, 2-2, 1-0, 1-2, 1-0, 0-2, 0-0, 2-2, 1-2, 1-0, 0-2, 0-1, 2-2, 1-2, 1-0, 0-2, 1-1, 2-2, 1-2, 1-0, 0-2, 2-0, 2-2, 1-2, 1-0, 0-2, 2-1, 2-2, 1-2, 1-0, 2-2, 0-0, 0-2, 1-2, 1-0, 2-2, 0-1, 0-2, 1-2, 1-0, 2-2, 1-1, 0-2, 1-2, 1-0, 2-2, 2-0, 0-2, 1-2, 1-0, 2-2, 2-1, 0-2, 1-2, 1-1, 0-2, 0-0, 2-2, 1-2, 1-1, 0-2, 0-1, 2-2, 1-2, 1-1, 0-2, 1-0, 2-2, 1-2, 1-1, 0-2, 2-0, 2-2, 1-2, 1-1, 0-2, 2-1, 2-2, 1-2, 1-1, 2-2, 0-0, 0-2, 1-2, 1-1, 2-2, 0-1, 0-2, 1-2, 1-1, 2-2, 1-0, 0-2, 1-2, 1-1, 2-2, 2-0, 0-2, 1-2, 1-1, 2-2, 2-1, 0-2, 1-2, 2-0, 0-2, 0-0, 2-2, 1-2, 2-0, 0-2, 0-1, 2-2, 1-2, 2-0, 0-2, 1-0, 2-2, 1-2, 2-0, 0-2, 1-1, 2-2, 1-2, 2-0, 0-2, 2-1, 2-2, 1-2, 2-0, 1-0, 0-0, 1-1, 1-2, 2-0, 1-0, 0-1, 1-1, 1-2, 2-0, 1-0, 0-2, 1-1, 1-2, 2-0, 1-0, 2-1, 1-1, 1-2, 2-0, 1-0, 2-2, 1-1, 1-2, 2-0, 1-1, 0-0, 1-0, 1-2, 2-0, 1-1, 0-1, 1-0, 1-2, 2-0, 1-1, 0-2, 1-0, 1-2, 2-0, 1-1, 2-1, 1-0, 1-2, 2-0, 1-1, 2-2, 1-0, 1-2, 2-0, 2-2, 0-0, 0-2, 1-2, 2-0, 2-2, 0-1, 0-2, 1-2, 2-0, 2-2, 1-0, 0-2, 1-2, 2-0, 2-2, 1-1, 0-2, 1-2, 2-0, 2-2, 2-1, 0-2, 1-2, 2-1, 0-2, 0-0, 2-2, 1-2, 2-1, 0-2, 0-1, 2-2, 1-2, 2-1, 0-2, 1-0, 2-2, 1-2, 2-1, 0-2, 1-1, 2-2, 1-2, 2-1, 0-2, 2-0, 2-2, 1-2, 2-1, 1-0, 0-0, 1-1, 1-2, 2-1, 1-0, 0-1, 1-1, 1-2, 2-1, 1-0, 0-2, 1-1, 1-2, 2-1, 1-0, 2-0, 1-1, 1-2, 2-1, 1-0, 2-2, 1-1, 1-2, 2-1, 1-1, 0-0, 1-0, 1-2, 2-1, 1-1, 0-1, 1-0, 1-2, 2-1, 1-1, 0-2, 1-0, 1-2, 2-1, 1-1, 2-0, 1-0, 1-2, 2-1, 1-1, 2-2, 1-0, 1-2, 2-1, 2-2, 0-0, 0-2, 1-2, 2-1, 2-2, 0-1, 0-2, 1-2, 2-1, 2-2, 1-0, 0-2, 1-2, 2-1, 2-2, 1-1, 0-2, 1-2, 2-1, 2-2, 2-0, 0-2, 1-2, 2-2, 1-0, 0-0, 1-1, 1-2, 2-2, 1-0, 0-1, 1-1, 1-2, 2-2, 1-0, 0-2, 1-1, 1-2, 2-2, 1-0, 2-0, 1-1, 1-2, 2-2, 1-0, 2-1, 1-1, 1-2, 2-2, 1-1, 0-0, 1-0, 1-2, 2-2, 1-1, 0-1, 1-0, 1-2, 2-2, 1-1, 0-2, 1-0, 1-2, 2-2, 1-1, 2-0, 1-0, 1-2, 2-2, 1-1, 2-1, 1-0, 2-0, 0-0, 0-2, 0-1, 1-1, 2-0, 0-0, 0-2, 1-0, 1-1, 2-0, 0-0, 0-2, 1-2, 1-1, 2-0, 0-0, 0-2, 2-1, 1-1, 2-0, 0-0, 0-2, 2-2, 1-1, 2-0, 0-0, 1-1, 0-1, 0-2, 2-0, 0-0, 1-1, 1-0, 0-2, 2-0, 0-0, 1-1, 1-2, 0-2, 2-0, 0-0, 1-1, 2-1, 0-2, 2-0, 0-0, 1-1, 2-2, 0-2, 2-0, 0-0, 2-1, 0-1, 2-2, 2-0, 0-0, 2-1, 0-2, 2-2, 2-0, 0-0, 2-1, 1-0, 2-2, 2-0, 0-0, 2-1, 1-1, 2-2, 2-0, 0-0, 2-1, 1-2, 2-2, 2-0, 0-0, 2-2, 0-1, 2-1, 2-0, 0-0, 2-2, 0-2, 2-1, 2-0, 0-0, 2-2, 1-0, 2-1, 2-0, 0-0, 2-2, 1-1, 2-1, 2-0, 0-0, 2-2, 1-2, 2-1, 2-0, 0-1, 0-0, 0-2, 1-0, 2-0, 0-1, 0-0, 1-1, 1-0, 2-0, 0-1, 0-0, 1-2, 1-0, 2-0, 0-1, 0-0, 2-1, 1-0, 2-0, 0-1, 0-0, 2-2, 1-0, 2-0, 0-1, 0-2, 0-0, 1-1, 2-0, 0-1, 0-2, 1-0, 1-1, 2-0, 0-1, 0-2, 1-2, 1-1, 2-0, 0-1, 0-2, 2-1, 1-1, 2-0, 0-1, 0-2, 2-2, 1-1, 2-0, 0-1, 1-0, 0-2, 0-0, 2-0, 0-1, 1-0, 1-1, 0-0, 2-0, 0-1, 1-0, 1-2, 0-0, 2-0, 0-1, 1-0, 2-1, 0-0, 2-0, 0-1, 1-0, 2-2, 0-0, 2-0, 0-1, 1-1, 0-0, 0-2, 2-0, 0-1, 1-1, 1-0, 0-2, 2-0, 0-1, 1-1, 1-2, 0-2, 2-0, 0-1, 1-1, 2-1, 0-2, 2-0, 0-1, 1-1, 2-2, 0-2, 2-0, 0-1, 2-1, 0-0, 2-2, 2-0, 0-1, 2-1, 0-2, 2-2, 2-0, 0-1, 2-1, 1-0, 2-2, 2-0, 0-1, 2-1, 1-1, 2-2, 2-0, 0-1, 2-1, 1-2, 2-2, 2-0, 0-1, 2-2, 0-0, 2-1, 2-0, 0-1, 2-2, 0-2, 2-1, 2-0, 0-1, 2-2, 1-0, 2-1, 2-0, 0-1, 2-2, 1-1, 2-1, 2-0, 0-1, 2-2, 1-2, 2-1, 2-0, 0-2, 0-0, 0-1, 1-0, 2-0, 0-2, 0-0, 1-1, 1-0, 2-0, 0-2, 0-0, 1-2, 1-0, 2-0, 0-2, 0-0, 2-1, 1-0, 2-0, 0-2, 0-0, 2-2, 1-0, 2-0, 0-2, 1-0, 0-1, 0-0, 2-0, 0-2, 1-0, 1-1, 0-0, 2-0, 0-2, 1-0, 1-2, 0-0, 2-0, 0-2, 1-0, 2-1, 0-0, 2-0, 0-2, 1-0, 2-2, 0-0, 2-0, 0-2, 2-1, 0-0, 2-2, 2-0, 0-2, 2-1, 0-1, 2-2, 2-0, 0-2, 2-1, 1-0, 2-2, 2-0, 0-2, 2-1, 1-1, 2-2, 2-0, 0-2, 2-1, 1-2, 2-2, 2-0, 0-2, 2-2, 0-0, 2-1, 2-0, 0-2, 2-2, 0-1, 2-1, 2-0, 0-2, 2-2, 1-0, 2-1, 2-0, 0-2, 2-2, 1-1, 2-1, 2-0, 0-2, 2-2, 1-2, 2-1, 2-0, 1-0, 0-2, 0-0, 1-1, 2-0, 1-0, 0-2, 0-1, 1-1, 2-0, 1-0, 0-2, 1-2, 1-1, 2-0, 1-0, 0-2, 2-1, 1-1, 2-0, 1-0, 0-2, 2-2, 1-1, 2-0, 1-0, 1-1, 0-0, 0-2, 2-0, 1-0, 1-1, 0-1, 0-2, 2-0, 1-0, 1-1, 1-2, 0-2, 2-0, 1-0, 1-1, 2-1, 0-2, 2-0, 1-0, 1-1, 2-2, 0-2, 2-0, 1-0, 2-1, 0-0, 2-2, 2-0, 1-0, 2-1, 0-1, 2-2, 2-0, 1-0, 2-1, 0-2, 2-2, 2-0, 1-0, 2-1, 1-1, 2-2, 2-0, 1-0, 2-1, 1-2, 2-2, 2-0, 1-0, 2-2, 0-0, 2-1, 2-0, 1-0, 2-2, 0-1, 2-1, 2-0, 1-0, 2-2, 0-2, 2-1, 2-0, 1-0, 2-2, 1-1, 2-1, 2-0, 1-0, 2-2, 1-2, 2-1, 2-0, 1-1, 0-0, 0-1, 1-0, 2-0, 1-1, 0-0, 0-2, 1-0, 2-0, 1-1, 0-0, 1-2, 1-0, 2-0, 1-1, 0-0, 2-1, 1-0, 2-0, 1-1, 0-0, 2-2, 1-0, 2-0, 1-1, 1-0, 0-1, 0-0, 2-0, 1-1, 1-0, 0-2, 0-0, 2-0, 1-1, 1-0, 1-2, 0-0, 2-0, 1-1, 1-0, 2-1, 0-0, 2-0, 1-1, 1-0, 2-2, 0-0, 2-0, 1-1, 2-1, 0-0, 2-2, 2-0, 1-1, 2-1, 0-1, 2-2, 2-0, 1-1, 2-1, 0-2, 2-2, 2-0, 1-1, 2-1, 1-0, 2-2, 2-0, 1-1, 2-1, 1-2, 2-2, 2-0, 1-1, 2-2, 0-0, 2-1, 2-0, 1-1, 2-2, 0-1, 2-1, 2-0, 1-1, 2-2, 0-2, 2-1, 2-0, 1-1, 2-2, 1-0, 2-1, 2-0, 1-1, 2-2, 1-2, 2-1, 2-0, 1-2, 0-0, 0-1, 1-0, 2-0, 1-2, 0-0, 0-2, 1-0, 2-0, 1-2, 0-0, 1-1, 1-0, 2-0, 1-2, 0-0, 2-1, 1-0, 2-0, 1-2, 0-0, 2-2, 1-0, 2-0, 1-2, 0-2, 0-0, 1-1, 2-0, 1-2, 0-2, 0-1, 1-1, 2-0, 1-2, 0-2, 1-0, 1-1, 2-0, 1-2, 0-2, 2-1, 1-1, 2-0, 1-2, 0-2, 2-2, 1-1, 2-0, 1-2, 1-0, 0-1, 0-0, 2-0, 1-2, 1-0, 0-2, 0-0, 2-0, 1-2, 1-0, 1-1, 0-0, 2-0, 1-2, 1-0, 2-1, 0-0, 2-0, 1-2, 1-0, 2-2, 0-0, 2-0, 1-2, 1-1, 0-0, 0-2, 2-0, 1-2, 1-1, 0-1, 0-2, 2-0, 1-2, 1-1, 1-0, 0-2, 2-0, 1-2, 1-1, 2-1, 0-2, 2-0, 1-2, 1-1, 2-2, 0-2, 2-0, 1-2, 2-1, 0-0, 2-2, 2-0, 1-2, 2-1, 0-1, 2-2, 2-0, 1-2, 2-1, 0-2, 2-2, 2-0, 1-2, 2-1, 1-0, 2-2, 2-0, 1-2, 2-1, 1-1, 2-2, 2-0, 1-2, 2-2, 0-0, 2-1, 2-0, 1-2, 2-2, 0-1, 2-1, 2-0, 1-2, 2-2, 0-2, 2-1, 2-0, 1-2, 2-2, 1-0, 2-1, 2-0, 1-2, 2-2, 1-1, 2-1, 2-0, 2-1, 0-0, 0-1, 1-0, 2-0, 2-1, 0-0, 0-2, 1-0, 2-0, 2-1, 0-0, 1-1, 1-0, 2-0, 2-1, 0-0, 1-2, 1-0, 2-0, 2-1, 0-0, 2-2, 1-0, 2-0, 2-1, 0-2, 0-0, 1-1, 2-0, 2-1, 0-2, 0-1, 1-1, 2-0, 2-1, 0-2, 1-0, 1-1, 2-0, 2-1, 0-2, 1-2, 1-1, 2-0, 2-1, 0-2, 2-2, 1-1, 2-0, 2-1, 1-0, 0-1, 0-0, 2-0, 2-1, 1-0, 0-2, 0-0, 2-0, 2-1, 1-0, 1-1, 0-0, 2-0, 2-1, 1-0, 1-2, 0-0, 2-0, 2-1, 1-0, 2-2, 0-0, 2-0, 2-1, 1-1, 0-0, 0-2, 2-0, 2-1, 1-1, 0-1, 0-2, 2-0, 2-1, 1-1, 1-0, 0-2, 2-0, 2-1, 1-1, 1-2, 0-2, 2-0, 2-1, 1-1, 2-2, 0-2, 2-0, 2-2, 0-0, 0-1, 1-0, 2-0, 2-2, 0-0, 0-2, 1-0, 2-0, 2-2, 0-0, 1-1, 1-0, 2-0, 2-2, 0-0, 1-2, 1-0, 2-0, 2-2, 0-0, 2-1, 1-0, 2-0, 2-2, 0-2, 0-0, 1-1, 2-0, 2-2, 0-2, 0-1, 1-1, 2-0, 2-2, 0-2, 1-0, 1-1, 2-0, 2-2, 0-2, 1-2, 1-1, 2-0, 2-2, 0-2, 2-1, 1-1, 2-0, 2-2, 1-0, 0-1, 0-0, 2-0, 2-2, 1-0, 0-2, 0-0, 2-0, 2-2, 1-0, 1-1, 0-0, 2-0, 2-2, 1-0, 1-2, 0-0, 2-0, 2-2, 1-0, 2-1, 0-0, 2-0, 2-2, 1-1, 0-0, 0-2, 2-0, 2-2, 1-1, 0-1, 0-2, 2-0, 2-2, 1-1, 1-0, 0-2, 2-0, 2-2, 1-1, 1-2, 0-2, 2-0, 2-2, 1-1, 2-1, 0-2, 2-1, 0-0, 0-1, 0-2, 1-1, 2-1, 0-0, 0-1, 1-0, 1-1, 2-1, 0-0, 0-1, 1-2, 1-1, 2-1, 0-0, 0-1, 2-0, 1-1, 2-1, 0-0, 0-1, 2-2, 1-1, 2-1, 0-0, 1-1, 0-2, 0-1, 2-1, 0-0, 1-1, 1-0, 0-1, 2-1, 0-0, 1-1, 1-2, 0-1, 2-1, 0-0, 1-1, 2-0, 0-1, 2-1, 0-0, 1-1, 2-2, 0-1, 2-1, 0-0, 2-0, 0-1, 2-2, 2-1, 0-0, 2-0, 0-2, 2-2, 2-1, 0-0, 2-0, 1-0, 2-2, 2-1, 0-0, 2-0, 1-1, 2-2, 2-1, 0-0, 2-0, 1-2, 2-2, 2-1, 0-0, 2-2, 0-1, 2-0, 2-1, 0-0, 2-2, 0-2, 2-0, 2-1, 0-0, 2-2, 1-0, 2-0, 2-1, 0-0, 2-2, 1-1, 2-0, 2-1, 0-0, 2-2, 1-2, 2-0, 2-1, 0-1, 2-0, 0-0, 2-2, 2-1, 0-1, 2-0, 0-2, 2-2, 2-1, 0-1, 2-0, 1-0, 2-2, 2-1, 0-1, 2-0, 1-1, 2-2, 2-1, 0-1, 2-0, 1-2, 2-2, 2-1, 0-1, 2-2, 0-0, 2-0, 2-1, 0-1, 2-2, 0-2, 2-0, 2-1, 0-1, 2-2, 1-0, 2-0, 2-1, 0-1, 2-2, 1-1, 2-0, 2-1, 0-1, 2-2, 1-2, 2-0, 2-1, 0-2, 0-1, 0-0, 1-1, 2-1, 0-2, 0-1, 1-0, 1-1, 2-1, 0-2, 0-1, 1-2, 1-1, 2-1, 0-2, 0-1, 2-0, 1-1, 2-1, 0-2, 0-1, 2-2, 1-1, 2-1, 0-2, 1-1, 0-0, 0-1, 2-1, 0-2, 1-1, 1-0, 0-1, 2-1, 0-2, 1-1, 1-2, 0-1, 2-1, 0-2, 1-1, 2-0, 0-1, 2-1, 0-2, 1-1, 2-2, 0-1, 2-1, 0-2, 2-0, 0-0, 2-2, 2-1, 0-2, 2-0, 0-1, 2-2, 2-1, 0-2, 2-0, 1-0, 2-2, 2-1, 0-2, 2-0, 1-1, 2-2, 2-1, 0-2, 2-0, 1-2, 2-2, 2-1, 0-2, 2-2, 0-0, 2-0, 2-1, 0-2, 2-2, 0-1, 2-0, 2-1, 0-2, 2-2, 1-0, 2-0, 2-1, 0-2, 2-2, 1-1, 2-0, 2-1, 0-2, 2-2, 1-2, 2-0, 2-1, 1-0, 0-1, 0-0, 1-1, 2-1, 1-0, 0-1, 0-2, 1-1, 2-1, 1-0, 0-1, 1-2, 1-1, 2-1, 1-0, 0-1, 2-0, 1-1, 2-1, 1-0, 0-1, 2-2, 1-1, 2-1, 1-0, 1-1, 0-0, 0-1, 2-1, 1-0, 1-1, 0-2, 0-1, 2-1, 1-0, 1-1, 1-2, 0-1, 2-1, 1-0, 1-1, 2-0, 0-1, 2-1, 1-0, 1-1, 2-2, 0-1, 2-1, 1-0, 2-0, 0-0, 2-2, 2-1, 1-0, 2-0, 0-1, 2-2, 2-1, 1-0, 2-0, 0-2, 2-2, 2-1, 1-0, 2-0, 1-1, 2-2, 2-1, 1-0, 2-0, 1-2, 2-2, 2-1, 1-0, 2-2, 0-0, 2-0, 2-1, 1-0, 2-2, 0-1, 2-0, 2-1, 1-0, 2-2, 0-2, 2-0, 2-1, 1-0, 2-2, 1-1, 2-0, 2-1, 1-0, 2-2, 1-2, 2-0, 2-1, 1-1, 2-0, 0-0, 2-2, 2-1, 1-1, 2-0, 0-1, 2-2, 2-1, 1-1, 2-0, 0-2, 2-2, 2-1, 1-1, 2-0, 1-0, 2-2, 2-1, 1-1, 2-0, 1-2, 2-2, 2-1, 1-1, 2-2, 0-0, 2-0, 2-1, 1-1, 2-2, 0-1, 2-0, 2-1, 1-1, 2-2, 0-2, 2-0, 2-1, 1-1, 2-2, 1-0, 2-0, 2-1, 1-1, 2-2, 1-2, 2-0, 2-1, 1-2, 0-1, 0-0, 1-1, 2-1, 1-2, 0-1, 0-2, 1-1, 2-1, 1-2, 0-1, 1-0, 1-1, 2-1, 1-2, 0-1, 2-0, 1-1, 2-1, 1-2, 0-1, 2-2, 1-1, 2-1, 1-2, 1-1, 0-0, 0-1, 2-1, 1-2, 1-1, 0-2, 0-1, 2-1, 1-2, 1-1, 1-0, 0-1, 2-1, 1-2, 1-1, 2-0, 0-1, 2-1, 1-2, 1-1, 2-2, 0-1, 2-1, 1-2, 2-0, 0-0, 2-2, 2-1, 1-2, 2-0, 0-1, 2-2, 2-1, 1-2, 2-0, 0-2, 2-2, 2-1, 1-2, 2-0, 1-0, 2-2, 2-1, 1-2, 2-0, 1-1, 2-2, 2-1, 1-2, 2-2, 0-0, 2-0, 2-1, 1-2, 2-2, 0-1, 2-0, 2-1, 1-2, 2-2, 0-2, 2-0, 2-1, 1-2, 2-2, 1-0, 2-0, 2-1, 1-2, 2-2, 1-1, 2-0, 2-1, 2-0, 0-1, 0-0, 1-1, 2-1, 2-0, 0-1, 0-2, 1-1, 2-1, 2-0, 0-1, 1-0, 1-1, 2-1, 2-0, 0-1, 1-2, 1-1, 2-1, 2-0, 0-1, 2-2, 1-1, 2-1, 2-0, 1-1, 0-0, 0-1, 2-1, 2-0, 1-1, 0-2, 0-1, 2-1, 2-0, 1-1, 1-0, 0-1, 2-1, 2-0, 1-1, 1-2, 0-1, 2-1, 2-0, 1-1, 2-2, 0-1, 2-1, 2-2, 0-1, 0-0, 1-1, 2-1, 2-2, 0-1, 0-2, 1-1, 2-1, 2-2, 0-1, 1-0, 1-1, 2-1, 2-2, 0-1, 1-2, 1-1, 2-1, 2-2, 0-1, 2-0, 1-1, 2-1, 2-2, 1-1, 0-0, 0-1, 2-1, 2-2, 1-1, 0-2, 0-1, 2-1, 2-2, 1-1, 1-0, 0-1, 2-1, 2-2, 1-1, 1-2, 0-1, 2-1, 2-2, 1-1, 2-0, 0-1, 2-2, 0-0, 0-2, 0-1, 1-2, 2-2, 0-0, 0-2, 1-0, 1-2, 2-2, 0-0, 0-2, 1-1, 1-2, 2-2, 0-0, 0-2, 2-0, 1-2, 2-2, 0-0, 0-2, 2-1, 1-2, 2-2, 0-0, 1-2, 0-1, 0-2, 2-2, 0-0, 1-2, 1-0, 0-2, 2-2, 0-0, 1-2, 1-1, 0-2, 2-2, 0-0, 1-2, 2-0, 0-2, 2-2, 0-0, 1-2, 2-1, 0-2, 2-2, 0-0, 2-0, 0-1, 2-1, 2-2, 0-0, 2-0, 0-2, 2-1, 2-2, 0-0, 2-0, 1-0, 2-1, 2-2, 0-0, 2-0, 1-1, 2-1, 2-2, 0-0, 2-0, 1-2, 2-1, 2-2, 0-0, 2-1, 0-1, 2-0, 2-2, 0-0, 2-1, 0-2, 2-0, 2-2, 0-0, 2-1, 1-0, 2-0, 2-2, 0-0, 2-1, 1-1, 2-0, 2-2, 0-0, 2-1, 1-2, 2-0, 2-2, 0-1, 0-0, 0-2, 1-1, 2-2, 0-1, 0-0, 1-0, 1-1, 2-2, 0-1, 0-0, 1-2, 1-1, 2-2, 0-1, 0-0, 2-0, 1-1, 2-2, 0-1, 0-0, 2-1, 1-1, 2-2, 0-1, 0-2, 0-0, 1-2, 2-2, 0-1, 0-2, 1-0, 1-2, 2-2, 0-1, 0-2, 1-1, 1-2, 2-2, 0-1, 0-2, 2-0, 1-2, 2-2, 0-1, 0-2, 2-1, 1-2, 2-2, 0-1, 1-1, 0-2, 0-0, 2-2, 0-1, 1-1, 1-0, 0-0, 2-2, 0-1, 1-1, 1-2, 0-0, 2-2, 0-1, 1-1, 2-0, 0-0, 2-2, 0-1, 1-1, 2-1, 0-0, 2-2, 0-1, 1-2, 0-0, 0-2, 2-2, 0-1, 1-2, 1-0, 0-2, 2-2, 0-1, 1-2, 1-1, 0-2, 2-2, 0-1, 1-2, 2-0, 0-2, 2-2, 0-1, 1-2, 2-1, 0-2, 2-2, 0-1, 2-0, 0-0, 2-1, 2-2, 0-1, 2-0, 0-2, 2-1, 2-2, 0-1, 2-0, 1-0, 2-1, 2-2, 0-1, 2-0, 1-1, 2-1, 2-2, 0-1, 2-0, 1-2, 2-1, 2-2, 0-1, 2-1, 0-0, 2-0, 2-2, 0-1, 2-1, 0-2, 2-0, 2-2, 0-1, 2-1, 1-0, 2-0, 2-2, 0-1, 2-1, 1-1, 2-0, 2-2, 0-1, 2-1, 1-2, 2-0, 2-2, 0-2, 0-0, 0-1, 1-1, 2-2, 0-2, 0-0, 1-0, 1-1, 2-2, 0-2, 0-0, 1-2, 1-1, 2-2, 0-2, 0-0, 2-0, 1-1, 2-2, 0-2, 0-0, 2-1, 1-1, 2-2, 0-2, 1-1, 0-1, 0-0, 2-2, 0-2, 1-1, 1-0, 0-0, 2-2, 0-2, 1-1, 1-2, 0-0, 2-2, 0-2, 1-1, 2-0, 0-0, 2-2, 0-2, 1-1, 2-1, 0-0, 2-2, 0-2, 2-0, 0-0, 2-1, 2-2, 0-2, 2-0, 0-1, 2-1, 2-2, 0-2, 2-0, 1-0, 2-1, 2-2, 0-2, 2-0, 1-1, 2-1, 2-2, 0-2, 2-0, 1-2, 2-1, 2-2, 0-2, 2-1, 0-0, 2-0, 2-2, 0-2, 2-1, 0-1, 2-0, 2-2, 0-2, 2-1, 1-0, 2-0, 2-2, 0-2, 2-1, 1-1, 2-0, 2-2, 0-2, 2-1, 1-2, 2-0, 2-2, 1-0, 0-0, 0-1, 1-1, 2-2, 1-0, 0-0, 0-2, 1-1, 2-2, 1-0, 0-0, 1-2, 1-1, 2-2, 1-0, 0-0, 2-0, 1-1, 2-2, 1-0, 0-0, 2-1, 1-1, 2-2, 1-0, 0-2, 0-0, 1-2, 2-2, 1-0, 0-2, 0-1, 1-2, 2-2, 1-0, 0-2, 1-1, 1-2, 2-2, 1-0, 0-2, 2-0, 1-2, 2-2, 1-0, 0-2, 2-1, 1-2, 2-2, 1-0, 1-1, 0-1, 0-0, 2-2, 1-0, 1-1, 0-2, 0-0, 2-2, 1-0, 1-1, 1-2, 0-0, 2-2, 1-0, 1-1, 2-0, 0-0, 2-2, 1-0, 1-1, 2-1, 0-0, 2-2, 1-0, 1-2, 0-0, 0-2, 2-2, 1-0, 1-2, 0-1, 0-2, 2-2, 1-0, 1-2, 1-1, 0-2, 2-2, 1-0, 1-2, 2-0, 0-2, 2-2, 1-0, 1-2, 2-1, 0-2, 2-2, 1-0, 2-0, 0-0, 2-1, 2-2, 1-0, 2-0, 0-1, 2-1, 2-2, 1-0, 2-0, 0-2, 2-1, 2-2, 1-0, 2-0, 1-1, 2-1, 2-2, 1-0, 2-0, 1-2, 2-1, 2-2, 1-0, 2-1, 0-0, 2-0, 2-2, 1-0, 2-1, 0-1, 2-0, 2-2, 1-0, 2-1, 0-2, 2-0, 2-2, 1-0, 2-1, 1-1, 2-0, 2-2, 1-0, 2-1, 1-2, 2-0, 2-2, 1-1, 0-2, 0-0, 1-2, 2-2, 1-1, 0-2, 0-1, 1-2, 2-2, 1-1, 0-2, 1-0, 1-2, 2-2, 1-1, 0-2, 2-0, 1-2, 2-2, 1-1, 0-2, 2-1, 1-2, 2-2, 1-1, 1-2, 0-0, 0-2, 2-2, 1-1, 1-2, 0-1, 0-2, 2-2, 1-1, 1-2, 1-0, 0-2, 2-2, 1-1, 1-2, 2-0, 0-2, 2-2, 1-1, 1-2, 2-1, 0-2, 2-2, 1-1, 2-0, 0-0, 2-1, 2-2, 1-1, 2-0, 0-1, 2-1, 2-2, 1-1, 2-0, 0-2, 2-1, 2-2, 1-1, 2-0, 1-0, 2-1, 2-2, 1-1, 2-0, 1-2, 2-1, 2-2, 1-1, 2-1, 0-0, 2-0, 2-2, 1-1, 2-1, 0-1, 2-0, 2-2, 1-1, 2-1, 0-2, 2-0, 2-2, 1-1, 2-1, 1-0, 2-0, 2-2, 1-1, 2-1, 1-2, 2-0, 2-2, 1-2, 0-0, 0-1, 1-1, 2-2, 1-2, 0-0, 0-2, 1-1, 2-2, 1-2, 0-0, 1-0, 1-1, 2-2, 1-2, 0-0, 2-0, 1-1, 2-2, 1-2, 0-0, 2-1, 1-1, 2-2, 1-2, 1-1, 0-1, 0-0, 2-2, 1-2, 1-1, 0-2, 0-0, 2-2, 1-2, 1-1, 1-0, 0-0, 2-2, 1-2, 1-1, 2-0, 0-0, 2-2, 1-2, 1-1, 2-1, 0-0, 2-2, 1-2, 2-0, 0-0, 2-1, 2-2, 1-2, 2-0, 0-1, 2-1, 2-2, 1-2, 2-0, 0-2, 2-1, 2-2, 1-2, 2-0, 1-0, 2-1, 2-2, 1-2, 2-0, 1-1, 2-1, 2-2, 1-2, 2-1, 0-0, 2-0, 2-2, 1-2, 2-1, 0-1, 2-0, 2-2, 1-2, 2-1, 0-2, 2-0, 2-2, 1-2, 2-1, 1-0, 2-0, 2-2, 1-2, 2-1, 1-1, 2-0, 2-2, 2-0, 0-0, 0-1, 1-1, 2-2, 2-0, 0-0, 0-2, 1-1, 2-2, 2-0, 0-0, 1-0, 1-1, 2-2, 2-0, 0-0, 1-2, 1-1, 2-2, 2-0, 0-0, 2-1, 1-1, 2-2, 2-0, 0-2, 0-0, 1-2, 2-2, 2-0, 0-2, 0-1, 1-2, 2-2, 2-0, 0-2, 1-0, 1-2, 2-2, 2-0, 0-2, 1-1, 1-2, 2-2, 2-0, 0-2, 2-1, 1-2, 2-2, 2-0, 1-1, 0-1, 0-0, 2-2, 2-0, 1-1, 0-2, 0-0, 2-2, 2-0, 1-1, 1-0, 0-0, 2-2, 2-0, 1-1, 1-2, 0-0, 2-2, 2-0, 1-1, 2-1, 0-0, 2-2, 2-0, 1-2, 0-0, 0-2, 2-2, 2-0, 1-2, 0-1, 0-2, 2-2, 2-0, 1-2, 1-0, 0-2, 2-2, 2-0, 1-2, 1-1, 0-2, 2-2, 2-0, 1-2, 2-1, 0-2, 2-2, 2-1, 0-0, 0-1, 1-1, 2-2, 2-1, 0-0, 0-2, 1-1, 2-2, 2-1, 0-0, 1-0, 1-1, 2-2, 2-1, 0-0, 1-2, 1-1, 2-2, 2-1, 0-0, 2-0, 1-1, 2-2, 2-1, 0-2, 0-0, 1-2, 2-2, 2-1, 0-2, 0-1, 1-2, 2-2, 2-1, 0-2, 1-0, 1-2, 2-2, 2-1, 0-2, 1-1, 1-2, 2-2, 2-1, 0-2, 2-0, 1-2, 2-2, 2-1, 1-1, 0-1, 0-0, 2-2, 2-1, 1-1, 0-2, 0-0, 2-2, 2-1, 1-1, 1-0, 0-0, 2-2, 2-1, 1-1, 1-2, 0-0, 2-2, 2-1, 1-1, 2-0, 0-0, 2-2, 2-1, 1-2, 0-0, 0-2, 2-2, 2-1, 1-2, 0-1, 0-2, 2-2, 2-1, 1-2, 1-0, 0-2, 2-2, 2-1, 1-2, 1-1, 0-2, 2-2, 2-1, 1-2, 2-0, 0-2]|\n",
            "+-----------+------------------------------------------------------------------------------------------------------------------------------------------------------------------------------------------------------------------------------------------------------------------------------------------------------------------------------------------------------------------------------------------------------------------------------------------------------------------------------------------------------------------------------------------------------------------------------------------------------------------------------------------------------------------------------------------------------------------------------------------------------------------------------------------------------------------------------------------------------------------------------------------------------------------------------------------------------------------------------------------------------------------------------------------------------------------------------------------------------------------------------------------------------------------------------------------------------------------------------------------------------------------------------------------------------------------------------------------------------------------------------------------------------------------------------------------------------------------------------------------------------------------------------------------------------------------------------------------------------------------------------------------------------------------------------------------------------------------------------------------------------------------------------------------------------------------------------------------------------------------------------------------------------------------------------------------------------------------------------------------------------------------------------------------------------------------------------------------------------------------------------------------------------------------------------------------------------------------------------------------------------------------------------------------------------------------------------------------------------------------------------------------------------------------------------------------------------------------------------------------------------------------------------------------------------------------------------------------------------------------------------------------------------------------------------------------------------------------------------------------------------------------------------------------------------------------------------------------------------------------------------------------------------------------------------------------------------------------------------------------------------------------------------------------------------------------------------------------------------------------------------------------------------------------------------------------------------------------------------------------------------------------------------------------------------------------------------------------------------------------------------------------------------------------------------------------------------------------------------------------------------------------------------------------------------------------------------------------------------------------------------------------------------------------------------------------------------------------------------------------------------------------------------------------------------------------------------------------------------------------------------------------------------------------------------------------------------------------------------------------------------------------------------------------------------------------------------------------------------------------------------------------------------------------------------------------------------------------------------------------------------------------------------------------------------------------------------------------------------------------------------------------------------------------------------------------------------------------------------------------------------------------------------------------------------------------------------------------------------------------------------------------------------------------------------------------------------------------------------------------------------------------------------------------------------------------------------------------------------------------------------------------------------------------------------------------------------------------------------------------------------------------------------------------------------------------------------------------------------------------------------------------------------------------------------------------------------------------------------------------------------------------------------------------------------------------------------------------------------------------------------------------------------------------------------------------------------------------------------------------------------------------------------------------------------------------------------------------------------------------------------------------------------------------------------------------------------------------------------------------------------------------------------------------------------------------------------------------------------------------------------------------------------------------------------------------------------------------------------------------------------------------------------------------------------------------------------------------------------------------------------------------------------------------------------------------------------------------------------------------------------------------------------------------------------------------------------------------------------------------------------------------------------------------------------------------------------------------------------------------------------------------------------------------------------------------------------------------------------------------------------------------------------------------------------------------------------------------------------------------------------------------------------------------------------------------------------------------------------------------------------------------------------------------------------------------------------------------------------------------------------------------------------------------------------------------------------------------------------------------------------------------------------------------------------------------------------------------------------------------------------------------------------------------------------------------------------------------------------------------------------------------------------------------------------------------------------------------------------------------------------------------------------------------------------------------------------------------------------------------------------------------------------------------------------------------------------------------------------------------------------------------------------------------------------------------------------------------------------------------------------------------------------------------------------------------------------------------------------------------------------------------------------------------------------------------------------------------------------------------------------------------------------------------------------------------------------------------------------------------------------------------------------------------------------------------------------------------------------------------------------------------------------------------------------------------------------------------------------------------------------------------------------------------------------------------------------------------------------------------------------------------------------------------------------------------------------------------------------------------------------------------------------------------------------------------------------------------------------------------------------------------------------------------------------------------------------------------------------------------------------------------------------------------------------------------------------------------------------------------------------------------------------------------------------------------------------------------------------------------------------------------------------------------------------------------------------------------------------------------------------------------------------------------------------------------------------------------------------------------------------------------------------------------------------------------------------------------------------------------------------------------------------------------------------------------------------------------------------------------------------------------------------------------------------------------------------------------------------------------------------------------------------------------------------------------------------------------------------------------------------------------------------------------------------------------------------------------------------------------------------------------------------------------------------------------------------------------------------------------------------------------------------------------------------------------------------------------------------------------------------------------------------------------------------------------------------------------------------------------------------------------------------------------------------------------------------------------------------------------------------------------------------------------------------------------------------------------------------------------------------------------------------------------------------------------------------------------------------------------------------------------------------------------------------------------------------------------------------------------------------------------------------------------------------------------------------------------------------------------------------------------------------------------------------------------------------------------------------------------------------------------------------------------------------------------------------------------------------------------------------------------------------------------------------------------------------------------------------------------------------------------------------------------------------------------------------------------------------------------------------------------------------------------------------------------------------------------------------------------------------------------------------------------------------------------------------------------------------------------------------------------------------------------------------------------------------------------------------------------------------------------------------------------------------------------------------------------------------------------------------------------------------------------------------------------------------------------------------------------------------------------------------------------------------------------------------------------------------------------------------------------------------------------------------------------------------------------------------------------------------------------------------------------------------------------------------------------------------------------------------------------------------------------------------------------------------------------------------------------------------------------------------------------------------------------------------------------------------------------------------------------------------------------------------------------------------------------------------------------------------------------------------------------------------------------------------------------------------------------------------------------------------------------------------------------------------------------------------------------------------------------------------------------------------------------------------------------------------------------------------------------------------------------------------------------------------------------------------------------------------------------------------------------------------------------------------------------------------------------------------------------------------------------------------------------------------------------------------------------------------------------------------------------------------------------------------------------------------------------------------------------------------------------------------------------------------------------------------------------------------------------------------------------------------------------------------------------------------------------------------------------------------------------------------------------------------------------------------------------------------------------------------------------------------------------------------------------------------------------------------------------------------------------------------------------------------------------------------------------------------------------------------------------------------------------------------------------------------------------------------------------------------------------------------------------------------------------------------------------------------------------------------------------------------------------------------------------------------------------------------------------------------------------------------------------------------------------------------------------------------------------------------------------------------------------------------------------------------------------------------------------------------------------------------------------------------------------------------------------------------------------------------------------------------------------------------------------------------------------------------------------------------------------------------------------------------------------------------------------------------------------------------------------------------------------------------------------------------------------------------------------------------------------------------------------------------------------------------------------------------------------------------------------------------------------------------------------------------------------------------------------------------------------------------------------------------------------------------------------------------------------------------------------------------------------------------------------------------------------------------------------------------------------------------------------------------------------------------------------------------------------------------------------------------------------------------------------------------------------------------------------------------------------------------------------------------------------------------------------------------------------------------------------------------------------------------------------------------------------------------------------------------------------------------------------------------------------------------------------------------------------------------------------------------------------------------------------------------------------------------------------------------------------------------------------------------------------------------------------------------------------------------------------------------------------------------------------------------------------------------------------------------------------------------------------------------------------------------------------------------------------------------------------------------------------------------------------------------------------------------------------------------------------------------------------------------------------------------------------------------------------------------------------------------------------------------------------------------------------------------------------------------------------------------------------------------------------------------------------------------------------------------------------------------------------------------------------------------------------------------------------------------------------------------------------------------------------------------------------------------------------------------------------------------------------------------------------------------------------------------------------------------------------------------------------------------------------------------------------------------------------------------------------------------------------------------------------------------------------------------------------------------------------------------------------------------------------------------------------------------------------------------------------------------------------------------------------------------------------------------------------------------------------------------------------------------------------------------------------------------------------------------------------------------------------------------------------------------------------------------------------------------------------------------------------------------------------------------------------------------------------------------------------------------------------------------------------------------------------------------------------------------------------------------------------------------------------------------------------------------------------------------------------------------------------------------------------------------------------------------------------------------------------------------------------------------------------------------------------------------------------------------------------------------------------------------------------------------------------------------------------------------------------------------------------------------------------------------------------------------------------------------------------------------------------------------------------------------------------------------------------------------------------------------------------------------------------------------------------------------------------------------------------------------------------------------------------------------------------------------------------------------------------------------------------------------------------------------------------------------------------------------------------------------------------------------------------------------------------------------------------------------------------------------------------------------------------------------------------------------------------------------------------------------------------------------------------------------------------------------------------------------------------------------------------------------------------------------------------------------------------------------------------------------------------------------------------------------------------------------------------------------------------------------------------------------------------------------------------------------------------------------------------------------------------------------------------------------------------------------------------------------------------------------------------------------------------------------------------------------------------------------------------------------------------------------------------------------------------------------------------------------------------------------------------------------------------------------------------------------------------------------------------------------------------------------------------------------------------------------------------------------------------------------------------------------------------------------------------------------------------------------------------------------------------------------------------------------------------------------------------------------------------------------------------------------------------------------------------------------------------------------------------------------------------------------------------------------------------------------------------------------------------------------------------------------------------------------------------------------------------------------------------------------------------------------------------------------------------------------------------------------------------------------------------------------------------------------------------------------------------------------------------------------------------------------------------------------------------------------------------------------------------------------------------------------------------------------------------------------------------------------------------------------------------------------------------------------------------------------------------------------------------------------------------------------------------------------------------------------------------------------------------------------------------------------------------------------------------------------------------------------------------------------------------------------------------------------------------------------------------------------------------------------------------------------------------------------------------------------------------------------------------------------------------------------------------------------------------------------------------------------------------------------------------------------------------------------------------------------------------------------------------------------------------------------------------------------------------------------------------------------------------------------------------------------------------------------------------------------------------------------------------------------------------------------------------------------------------------------------------------------------------------------------------------------------------------------------------------------------------------------------------------------------------------------------------------------------------------------------------------------------------------------------------------------------------------------------------------------------------------------------------------------------------------------------------------------------------------------------------------------------------------------------------------------------------------------------------------------------------------------------------------------------------------------------------------------------------------------------------------------------------------------------------------------------------------------------------------------------------------------------------------------------------------------------------------------------------------------------------------------------------------------------------------------------------------------------------------------------------------------------------------------------------------------------------------------------------------------------------------------------------------------------------------------------------------------------------------------------------------------------------------------------------------------------------------------------------------------------------------------------------------------------------------------------------------------------------------------------------------------------------------------------------------------------------------------------------------------------------------------------------------------------------------------------------------------------------------------------------------------------------------------------------------------------------------------------------------------------------------------------------------------------------------------------------------------------------------------------------------------------------------------------------------------------------------------------------------------------------------------------------------------------------------------------------------------------------------------------------------------------------------------------------------------------------------------------------------------------------------------------------------------------------------------------------------------------------------------------------------------------------------------------------------------------------------------------------------------------------------------------------------------------------------------------------------------------------------------------------------------------------------------------------------------------------------------------------------------------------------------------------------------------------------------------------------------------------------------------------------------------------------------------------------------------------------------------------------------------------------------------------------------------------------------------------------------------------------------------------------------------------------------------------------------------------------------------------------------------------------------------------------------------------------------------------------------------------------------------------------------------------------------------------------------------------------------------------------------------------------------------------------------------------------------------------------------------------------------------------------------------------------------------------------------------------------------------------------------------------------------------------------------------------------------------------------------------------------------------------------------------------------------------------------------------------------------------------------------------------------------------------------------------------------------------------------------------------------------------------------------------------------------------------------------------------------------------------------------------------------------------------------------------------------------------------------------------------------------------------------------------------------------------------------------------------------------------------------------------------------------------------------------------------------------------------------------------------------------------------------------------------------------------------------------------------------------------------------------------------------------------------------------------------------------------------------------------------------------------------------------------------------------------------------------------------------------------------------------------------------------------------------------------------------------------------------------------------------------------------------------------------------------------------------------------------------------------------------------------------------------------------------------------------------------------------------------------------------------------------------------------------------------------------------------------------------------------------------------------------------------------------------------------------------------------------------------------------------------------------------------------------------------------------------------------------------------------------------------------------------------------------------------------------------------------------------------------------------------------------------------------------------------------------------------------------------------------------------------------------------------------------------------------------------------------------------------------------------------------------------------------------------------------------------------------------------------------------------------------------------------------------------------------------------------------------------------------------------------------------------------------------------------------------------------------------------------------------------------------------------------------------------------------------------------------------------------------------------------------------------------------------------------------------------------------------------------------------------------------------------------------------------------------------------------------------------------------------------------------------------------------------------------------------------------------------------------------------------------------------------------------------------------------------------------------------------------------------------------------------------------------------------------------------------------------------------------------------------------------------------------------------------------------------------------------------------------------------------------------------------------------------------------------------------------------------------------------------------------------------------------------------------------------------------------------------------------------------------------------------------------------------------------------------------------------------------------------------------------------------------------------------------------------------------------------------------------------------------------------------------------------------------------------------------------------------------------------------------------------------------------------------------------------------------------------------------------------------------------------------------------------------------------------------------------------------------------------------------------------------------------------------------------------------------------------------------------------------------------------------------------------------------------------------------------------------------------------------------------------------------------------------------------------------------------------------------------------------------------------------------------------------------------------------------------------------------------------------------------------------------------------------------------------------------------------------------------------------------------------------------------------------------------------------------------------------------------------------------------------------------------------------------------------------------------------------------------------------------------------------------------------------------------------------------------------------------------------------------------------------------------------------------------------------------------------------------------------------------------------------------------------------------------------------------------------------------------------------------------------------------------------------------------------------------------------------------------------------------------------------------------------------------------------------------------------------------------------------------------------------------------------------------------------------------------------------------------------------------------------------------------------------------------------------------------------------------------------------------------------------------------------------------------------------------------------------------------------------------------------------------------------------------------------------------------------------------------------------------------------------------------------------------------------------------------------------------------------------------------------------------------------------------------------------------------------------------------------------------------------------------------------------------------------------------------------------------------------------------------------------------------------------------------------------------------------------------------------------------------------------------------------------------------------------------------------------------------------------------------------------------------------------------------------------------------------------------------------------------------------------------------------------------------------------------------------------------------------------------------------------------------------------------------------------------------------------------------------------------------------------------------------------------------------------------------------------------------------------------------------------------------------------------------------------------------------------------------------------------------------------------------------------------------------------------------------------------------------------------------------------------------------------------------------------------------------------------------------------------------------------------------------------------------------------------------------------------------------------------------------------------------------------------------------------------------------------------------------------------------------------------------------------------------------------------------------------------------------------------------------------------------------------------------------------------------------------------------------------------------------------------------------------------------------------------------------------------------------------------------------------------------------------------------------------------------------------------------------------------------------------------------------------------------------------------------------------------------------------------------------------------------------------------------------------------------------------------------------------------------------------------------------------------------------------------------------------------------------------------------------------------------------------------------------------------------------------------------------------------------------------------------------------------------------------------------------------------------------------------------------------------------------------------------------------------------------------------------------------------+\n",
            "\n"
          ]
        }
      ]
    },
    {
      "cell_type": "code",
      "source": [
        "# Games won by X\n",
        "spark.sql(\"\"\"\n",
        "    SELECT\n",
        "        CASE\n",
        "            WHEN `Move 6-O (Row-Col)` = '---' THEN '5 moves'\n",
        "            WHEN `Move 8-O (Row-Col)` = '---' THEN '7 moves'\n",
        "            WHEN `Move 9-X (Row-Col)` != '---' THEN '9 moves'\n",
        "        END AS moves_to_win,\n",
        "        COUNT(*) as games_count\n",
        "    FROM tic_tac_toe\n",
        "    WHERE Winner = 'X'\n",
        "    GROUP BY moves_to_win\n",
        "    ORDER BY\n",
        "        CASE moves_to_win\n",
        "            WHEN '5 moves' THEN 1\n",
        "            WHEN '7 moves' THEN 2\n",
        "            WHEN '9 moves' THEN 3\n",
        "        END\n",
        "\"\"\").show()"
      ],
      "metadata": {
        "colab": {
          "base_uri": "https://localhost:8080/"
        },
        "id": "w2PzWtU8ayfI",
        "outputId": "5cc24661-7ab2-42dd-a840-8ef0aa102f44"
      },
      "execution_count": null,
      "outputs": [
        {
          "output_type": "stream",
          "name": "stdout",
          "text": [
            "+------------+-----------+\n",
            "|moves_to_win|games_count|\n",
            "+------------+-----------+\n",
            "|     5 moves|       1440|\n",
            "|     7 moves|      47952|\n",
            "|     9 moves|      81792|\n",
            "+------------+-----------+\n",
            "\n"
          ]
        }
      ]
    },
    {
      "cell_type": "code",
      "source": [
        "# Games won by each\n",
        "spark.sql(\"\"\"\n",
        "    SELECT\n",
        "        Winner,\n",
        "        CASE\n",
        "            WHEN `Move 2-O (Row-Col)` = '---' THEN 1\n",
        "            WHEN `Move 3-X (Row-Col)` = '---' THEN 2\n",
        "            WHEN `Move 4-O (Row-Col)` = '---' THEN 3\n",
        "            WHEN `Move 5-X (Row-Col)` = '---' THEN 4\n",
        "            WHEN `Move 6-O (Row-Col)` = '---' THEN 5\n",
        "            WHEN `Move 7-X (Row-Col)` = '---' THEN 6\n",
        "            WHEN `Move 8-O (Row-Col)` = '---' THEN 7\n",
        "            WHEN `Move 9-X (Row-Col)` = '---' THEN 8\n",
        "            ELSE 9\n",
        "        END AS number_of_moves,\n",
        "        COUNT(*) as games_count\n",
        "    FROM tic_tac_toe\n",
        "    GROUP BY Winner, number_of_moves\n",
        "    ORDER BY Winner, number_of_moves\n",
        "\"\"\").show(20)"
      ],
      "metadata": {
        "colab": {
          "base_uri": "https://localhost:8080/"
        },
        "id": "UdOwLT3KbGWu",
        "outputId": "31359bbd-bf87-4696-a313-fed71e6f6252"
      },
      "execution_count": null,
      "outputs": [
        {
          "output_type": "stream",
          "name": "stdout",
          "text": [
            "+------+---------------+-----------+\n",
            "|Winner|number_of_moves|games_count|\n",
            "+------+---------------+-----------+\n",
            "|     -|              9|      46080|\n",
            "|     O|              6|       5328|\n",
            "|     O|              8|      72576|\n",
            "|     X|              5|       1440|\n",
            "|     X|              7|      47952|\n",
            "|     X|              9|      81792|\n",
            "+------+---------------+-----------+\n",
            "\n"
          ]
        }
      ]
    }
  ]
}